{
 "cells": [
  {
   "cell_type": "markdown",
   "metadata": {
    "colab_type": "text",
    "id": "3ctjQBseh0Cw"
   },
   "source": [
    "## Example solution to the Cross-Validation assignment — plus Feature Selection!\n",
    "\n",
    "See also Sebastian Raschka's example, [Basic Pipeline and Grid Search Setup](https://github.com/rasbt/python-machine-learning-book/blob/master/code/bonus/svm_iris_pipeline_and_gridsearch.ipynb)."
   ]
  },
  {
   "cell_type": "code",
   "execution_count": 0,
   "metadata": {
    "colab": {},
    "colab_type": "code",
    "id": "aHUVU_AMBKs0"
   },
   "outputs": [],
   "source": [
    "# We'll modify a project from Python Data Science Handbook by Jake VanderPlas\n",
    "# https://jakevdp.github.io/PythonDataScienceHandbook/05.06-linear-regression.html#Example:-Predicting-Bicycle-Traffic\n",
    "    \n",
    "# Predicting Bicycle Traffic\n",
    "\n",
    "# As an example, let's take a look at whether we can predict the number of \n",
    "# bicycle trips across Seattle's Fremont Bridge based on weather, season, \n",
    "# and other factors.\n",
    "\n",
    "# We will join the bike data with another dataset, and try to determine the \n",
    "# extent to which weather and seasonal factors—temperature, precipitation, \n",
    "# and daylight hours—affect the volume of bicycle traffic through this corridor. \n",
    "# Fortunately, the NOAA makes available their daily weather station data \n",
    "# (I used station ID USW00024233) and we can easily use Pandas to join \n",
    "# the two data sources.\n",
    "\n",
    "\n",
    "import numpy as np\n",
    "import pandas as pd\n",
    "from sklearn.feature_selection import f_regression, SelectKBest\n",
    "from sklearn.linear_model import Ridge\n",
    "from sklearn.metrics import mean_absolute_error\n",
    "from sklearn.model_selection import GridSearchCV\n",
    "from sklearn.pipeline import make_pipeline\n",
    "from sklearn.preprocessing import RobustScaler\n",
    "\n",
    "\n",
    "def load(): \n",
    "    fremont_bridge = 'https://data.seattle.gov/api/views/65db-xm6k/rows.csv?accessType=DOWNLOAD'\n",
    "    \n",
    "    bicycle_weather = 'https://raw.githubusercontent.com/jakevdp/PythonDataScienceHandbook/master/notebooks/data/BicycleWeather.csv'\n",
    "\n",
    "    counts = pd.read_csv(fremont_bridge, index_col='Date', parse_dates=True, \n",
    "                         infer_datetime_format=True)\n",
    "\n",
    "    weather = pd.read_csv(bicycle_weather, index_col='DATE', parse_dates=True, \n",
    "                          infer_datetime_format=True)\n",
    "\n",
    "    daily = counts.resample('d').sum()\n",
    "    daily['Total'] = daily.sum(axis=1)\n",
    "    daily = daily[['Total']] # remove other columns\n",
    "\n",
    "    weather_columns = ['PRCP', 'SNOW', 'SNWD', 'TMAX', 'TMIN', 'AWND']\n",
    "    daily = daily.join(weather[weather_columns], how='inner')\n",
    "    \n",
    "    # Make a feature for yesterday's total\n",
    "    daily['Total_yesterday'] = daily.Total.shift(1)\n",
    "    daily = daily.drop(index=daily.index[0])\n",
    "    \n",
    "    return daily\n",
    "\n",
    "    \n",
    "def split(daily):\n",
    "    # Hold out an \"out-of-time\" test set, from the last 100 days of data\n",
    "    \n",
    "    train = daily[:-100]\n",
    "    test = daily[-100:]\n",
    "    \n",
    "    X_train = train.drop(columns='Total')\n",
    "    y_train = train.Total\n",
    "\n",
    "    X_test  = test.drop(columns='Total')\n",
    "    y_test  = test.Total\n",
    "    \n",
    "    return X_train, X_test, y_train, y_test\n",
    "\n",
    "\n",
    "def jake_wrangle(X):  \n",
    "    X = X.copy()\n",
    "\n",
    "    # patterns of use generally vary from day to day; \n",
    "    # let's add binary columns that indicate the day of the week:\n",
    "    days = ['Mon', 'Tue', 'Wed', 'Thu', 'Fri', 'Sat', 'Sun']\n",
    "    for i, day in enumerate(days):\n",
    "        X[day] = (X.index.dayofweek == i).astype(float)\n",
    "\n",
    "\n",
    "    # we might expect riders to behave differently on holidays; \n",
    "    # let's add an indicator of this as well:\n",
    "    from pandas.tseries.holiday import USFederalHolidayCalendar\n",
    "    cal = USFederalHolidayCalendar()\n",
    "    holidays = cal.holidays('2012', '2016')\n",
    "    X = X.join(pd.Series(1, index=holidays, name='holiday'))\n",
    "    X['holiday'].fillna(0, inplace=True)\n",
    "\n",
    "\n",
    "    # We also might suspect that the hours of daylight would affect \n",
    "    # how many people ride; let's use the standard astronomical calculation \n",
    "    # to add this information:\n",
    "    def hours_of_daylight(date, axis=23.44, latitude=47.61):\n",
    "        \"\"\"Compute the hours of daylight for the given date\"\"\"\n",
    "        days = (date - pd.datetime(2000, 12, 21)).days\n",
    "        m = (1. - np.tan(np.radians(latitude))\n",
    "             * np.tan(np.radians(axis) * np.cos(days * 2 * np.pi / 365.25)))\n",
    "        return 24. * np.degrees(np.arccos(1 - np.clip(m, 0, 2))) / 180.\n",
    "\n",
    "    X['daylight_hrs'] = list(map(hours_of_daylight, X.index))\n",
    "\n",
    "\n",
    "    # temperatures are in 1/10 deg C; convert to C\n",
    "    X['TMIN'] /= 10\n",
    "    X['TMAX'] /= 10\n",
    "\n",
    "    # We can also calcuate the average temperature.\n",
    "    X['Temp (C)'] = 0.5 * (X['TMIN'] + X['TMAX'])\n",
    "\n",
    "\n",
    "    # precip is in 1/10 mm; convert to inches\n",
    "    X['PRCP'] /= 254\n",
    "\n",
    "    # In addition to the inches of precipitation, let's add a flag that \n",
    "    # indicates whether a day is dry (has zero precipitation):\n",
    "    X['dry day'] = (X['PRCP'] == 0).astype(int)\n",
    "\n",
    "\n",
    "    # Let's add a counter that increases from day 1, and measures how many \n",
    "    # years have passed. This will let us measure any observed annual increase \n",
    "    # or decrease in daily crossings:\n",
    "    X['annual'] = (X.index - X.index[0]).days / 365.\n",
    "\n",
    "    return X\n",
    "\n",
    "\n",
    "def wrangle(X):\n",
    "    # From DS1 friends!\n",
    "    X = X.copy()\n",
    "    X = X.replace(-9999, 0)\n",
    "    X = jake_wrangle(X)\n",
    "    \n",
    "    X['PRCP_yest'] = X.PRCP.shift(1).fillna(X.PRCP.mean())\n",
    "    X['Windchill'] = (((X['Temp (C)'] * (9/5) + 32) * .6215) + 34.74) - (35.75 * (X['AWND']** .16)) + (.4275 * (X['Temp (C)'])) * (X['AWND'] ** .16)\n",
    "    X['Rl_Cold'] = (((X['Temp (C)'] * (9/5) + 32) - X['Windchill']) -32) * (5/9)\n",
    "    X['TMIN_ln'] = X['TMIN'] **2\n",
    "    \n",
    "    months = ['Jan', 'Feb', 'Mar', 'Apr', 'May', 'Jun', 'Jul', 'Aug', 'Sep', 'Oct', 'Nov', 'Dec']\n",
    "    for i, month in enumerate(months):\n",
    "        X[month] = (X.index.month == i+1).astype(float)\n",
    "    \n",
    "    return X"
   ]
  },
  {
   "cell_type": "code",
   "execution_count": 0,
   "metadata": {
    "colab": {},
    "colab_type": "code",
    "id": "vQN2O9PCAkBn"
   },
   "outputs": [],
   "source": [
    "# Download and join data into a dataframe\n",
    "data = load()"
   ]
  },
  {
   "cell_type": "code",
   "execution_count": 0,
   "metadata": {
    "colab": {
     "base_uri": "https://localhost:8080/",
     "height": 245
    },
    "colab_type": "code",
    "id": "NJrNph8IFyOM",
    "outputId": "f08d4903-d2ad-4179-be49-e8d2de724bb4"
   },
   "outputs": [
    {
     "name": "stdout",
     "output_type": "stream",
     "text": [
      "Fitting 3 folds for each of 105 candidates, totalling 315 fits\n"
     ]
    },
    {
     "name": "stderr",
     "output_type": "stream",
     "text": [
      "[Parallel(n_jobs=1)]: Using backend SequentialBackend with 1 concurrent workers.\n"
     ]
    },
    {
     "name": "stdout",
     "output_type": "stream",
     "text": [
      "Best estimator: Pipeline(memory=None,\n",
      "     steps=[('robustscaler', RobustScaler(copy=True, quantile_range=(25.0, 75.0), with_centering=True,\n",
      "       with_scaling=True)), ('selectkbest', SelectKBest(k=30, score_func=<function f_regression at 0x7f45f6de87b8>)), ('ridge', Ridge(alpha=1.0, copy_X=True, fit_intercept=True, max_iter=None,\n",
      "   normalize=False, random_state=None, solver='auto', tol=0.001))]) \n",
      "\n",
      "Cross-Validation Score: 297.14146030845217 \n",
      "\n",
      "CPU times: user 7.41 s, sys: 4.59 s, total: 12 s\n",
      "Wall time: 6.12 s\n"
     ]
    },
    {
     "name": "stderr",
     "output_type": "stream",
     "text": [
      "[Parallel(n_jobs=1)]: Done 315 out of 315 | elapsed:    5.9s finished\n"
     ]
    }
   ],
   "source": [
    "%%time\n",
    "\n",
    "# Split data into train and test\n",
    "X_train, X_test, y_train, y_test = split(data)\n",
    "\n",
    "# Do the same wrangling to X_train and X_test\n",
    "X_train = wrangle(X_train)\n",
    "X_test  = wrangle(X_test)\n",
    "\n",
    "# Define an estimator and param_grid\n",
    "pipe = make_pipeline(\n",
    "    RobustScaler(), \n",
    "    SelectKBest(f_regression), \n",
    "    Ridge())\n",
    "\n",
    "param_grid = {\n",
    "    'selectkbest__k': range(1, len(X_train.columns)+1), \n",
    "    'ridge__alpha': [0.1, 1.0, 10.]\n",
    "}\n",
    "\n",
    "# Fit on the train set, with grid search cross-validation\n",
    "gs = GridSearchCV(pipe, param_grid=param_grid, cv=3, \n",
    "                  scoring='neg_mean_absolute_error', \n",
    "                  verbose=1)\n",
    "\n",
    "gs.fit(X_train, y_train)\n",
    "validation_score = gs.best_score_\n",
    "print('Best estimator:', gs.best_estimator_, '\\n')\n",
    "print('Cross-Validation Score:', -validation_score, '\\n')"
   ]
  },
  {
   "cell_type": "code",
   "execution_count": 0,
   "metadata": {
    "colab": {
     "base_uri": "https://localhost:8080/",
     "height": 35
    },
    "colab_type": "code",
    "id": "AR4bo95ZJFwj",
    "outputId": "8b9e3a4e-6b9c-45a5-e82c-0794cd4f9ed9"
   },
   "outputs": [
    {
     "name": "stdout",
     "output_type": "stream",
     "text": [
      "Test Score: 321.98359011482916\n"
     ]
    }
   ],
   "source": [
    "# Predict with X_test features\n",
    "y_pred = gs.predict(X_test)\n",
    "\n",
    "# Compare predictions to y_test labels\n",
    "test_score = mean_absolute_error(y_test, y_pred)\n",
    "print('Test Score:', test_score)"
   ]
  },
  {
   "cell_type": "code",
   "execution_count": 0,
   "metadata": {
    "colab": {
     "base_uri": "https://localhost:8080/",
     "height": 35
    },
    "colab_type": "code",
    "id": "7MQYtnmxV159",
    "outputId": "bb24bf26-ec03-4b91-ab8f-eae2df081968"
   },
   "outputs": [
    {
     "name": "stdout",
     "output_type": "stream",
     "text": [
      "Test Score: 321.98359011482916\n"
     ]
    }
   ],
   "source": [
    "# Or use the grid search's score method, \n",
    "# which combines these steps\n",
    "test_score = gs.score(X_test, y_test)\n",
    "print('Test Score:', -test_score)"
   ]
  },
  {
   "cell_type": "code",
   "execution_count": 0,
   "metadata": {
    "colab": {
     "base_uri": "https://localhost:8080/",
     "height": 674
    },
    "colab_type": "code",
    "id": "7qeb9ed8bIAE",
    "outputId": "c9468d46-b501-41e8-a353-7057255638a8"
   },
   "outputs": [
    {
     "name": "stdout",
     "output_type": "stream",
     "text": [
      "Features selected:\n",
      "PRCP\n",
      "TMAX\n",
      "TMIN\n",
      "AWND\n",
      "Total_yesterday\n",
      "Mon\n",
      "Tue\n",
      "Wed\n",
      "Thu\n",
      "Sat\n",
      "Sun\n",
      "holiday\n",
      "daylight_hrs\n",
      "Temp (C)\n",
      "dry day\n",
      "annual\n",
      "PRCP_yest\n",
      "Windchill\n",
      "Rl_Cold\n",
      "TMIN_ln\n",
      "Jan\n",
      "Feb\n",
      "Mar\n",
      "May\n",
      "Jun\n",
      "Jul\n",
      "Aug\n",
      "Sep\n",
      "Nov\n",
      "Dec\n",
      "\n",
      "Features not selected:\n",
      "SNOW\n",
      "SNWD\n",
      "Fri\n",
      "Apr\n",
      "Oct\n"
     ]
    }
   ],
   "source": [
    "# Which features were selected?\n",
    "selector = gs.best_estimator_.named_steps['selectkbest']\n",
    "all_names = X_train.columns\n",
    "selected_mask = selector.get_support()\n",
    "selected_names = all_names[selected_mask]\n",
    "unselected_names = all_names[~selected_mask]\n",
    "\n",
    "print('Features selected:')\n",
    "for name in selected_names:\n",
    "    print(name)\n",
    "\n",
    "print()\n",
    "print('Features not selected:')\n",
    "for name in unselected_names:\n",
    "    print(name)"
   ]
  },
  {
   "cell_type": "markdown",
   "metadata": {
    "colab_type": "text",
    "id": "urdgBk_Vp6ZN"
   },
   "source": [
    "## BONUS: Recursive Feature Elimination!\n",
    "\n",
    "https://scikit-learn.org/stable/modules/generated/sklearn.feature_selection.RFECV.html"
   ]
  },
  {
   "cell_type": "code",
   "execution_count": 0,
   "metadata": {
    "colab": {
     "base_uri": "https://localhost:8080/",
     "height": 674
    },
    "colab_type": "code",
    "id": "EEvISfuimpQV",
    "outputId": "4cea73a4-9879-405d-dc61-ec4263c8bacd"
   },
   "outputs": [
    {
     "name": "stdout",
     "output_type": "stream",
     "text": [
      "Features selected:\n",
      "PRCP\n",
      "TMAX\n",
      "TMIN\n",
      "AWND\n",
      "Total_yesterday\n",
      "Mon\n",
      "Tue\n",
      "Wed\n",
      "Thu\n",
      "Fri\n",
      "Sat\n",
      "Sun\n",
      "holiday\n",
      "daylight_hrs\n",
      "Temp (C)\n",
      "dry day\n",
      "Windchill\n",
      "Rl_Cold\n",
      "TMIN_ln\n",
      "Mar\n",
      "May\n",
      "Jun\n",
      "Oct\n",
      "Dec\n",
      "\n",
      "Features not selected:\n",
      "SNOW\n",
      "SNWD\n",
      "annual\n",
      "PRCP_yest\n",
      "Jan\n",
      "Feb\n",
      "Apr\n",
      "Jul\n",
      "Aug\n",
      "Sep\n",
      "Nov\n"
     ]
    }
   ],
   "source": [
    "from sklearn.feature_selection import RFECV\n",
    "\n",
    "X_train_scaled = RobustScaler().fit_transform(X_train)\n",
    "rfe = RFECV(Ridge(alpha=1.0), scoring='neg_mean_absolute_error', cv=3)\n",
    "X_train_subset = rfe.fit_transform(X_train_scaled, y_train)\n",
    "\n",
    "all_names = X_train.columns\n",
    "selected_mask = rfe.support_\n",
    "selected_names = all_names[selected_mask]\n",
    "unselected_names = all_names[~selected_mask]\n",
    "\n",
    "print('Features selected:')\n",
    "for name in selected_names:\n",
    "    print(name)\n",
    "\n",
    "print()\n",
    "print('Features not selected:')\n",
    "for name in unselected_names:\n",
    "    print(name)"
   ]
  },
  {
   "cell_type": "code",
   "execution_count": 0,
   "metadata": {
    "colab": {},
    "colab_type": "code",
    "id": "hoCUHkuGpjvX"
   },
   "outputs": [],
   "source": [
    "X_train_subset = pd.DataFrame(X_train_subset, columns=selected_names)"
   ]
  },
  {
   "cell_type": "code",
   "execution_count": 0,
   "metadata": {
    "colab": {
     "base_uri": "https://localhost:8080/",
     "height": 35
    },
    "colab_type": "code",
    "id": "nynEtZrYS0Kn",
    "outputId": "6813ff60-f823-4eca-8f7d-735ee4f50adb"
   },
   "outputs": [
    {
     "name": "stdout",
     "output_type": "stream",
     "text": [
      "(963, 35) (963, 24)\n"
     ]
    }
   ],
   "source": [
    "print(X_train.shape, X_train_subset.shape)"
   ]
  },
  {
   "cell_type": "code",
   "execution_count": 0,
   "metadata": {
    "colab": {},
    "colab_type": "code",
    "id": "zZKoH475ppag"
   },
   "outputs": [],
   "source": [
    "X_test_subset = rfe.transform(X_test)\n",
    "X_test_subset = pd.DataFrame(X_test_subset, columns=selected_names)"
   ]
  },
  {
   "cell_type": "code",
   "execution_count": 0,
   "metadata": {
    "colab": {
     "base_uri": "https://localhost:8080/",
     "height": 35
    },
    "colab_type": "code",
    "id": "cV0S0VscTG2L",
    "outputId": "345ec2f3-01a9-4af1-b9c7-311abfcd609c"
   },
   "outputs": [
    {
     "name": "stdout",
     "output_type": "stream",
     "text": [
      "(100, 35) (100, 24)\n"
     ]
    }
   ],
   "source": [
    "print(X_test.shape, X_test_subset.shape)"
   ]
  },
  {
   "cell_type": "code",
   "execution_count": 0,
   "metadata": {
    "colab": {
     "base_uri": "https://localhost:8080/",
     "height": 265
    },
    "colab_type": "code",
    "id": "yjRHb7DRTRxV",
    "outputId": "09298a85-b467-420f-c9a0-f211ab38f200"
   },
   "outputs": [
    {
     "data": {
      "text/html": [
       "<div>\n",
       "<style scoped>\n",
       "    .dataframe tbody tr th:only-of-type {\n",
       "        vertical-align: middle;\n",
       "    }\n",
       "\n",
       "    .dataframe tbody tr th {\n",
       "        vertical-align: top;\n",
       "    }\n",
       "\n",
       "    .dataframe thead th {\n",
       "        text-align: right;\n",
       "    }\n",
       "</style>\n",
       "<table border=\"1\" class=\"dataframe\">\n",
       "  <thead>\n",
       "    <tr style=\"text-align: right;\">\n",
       "      <th></th>\n",
       "      <th>PRCP</th>\n",
       "      <th>TMAX</th>\n",
       "      <th>TMIN</th>\n",
       "      <th>AWND</th>\n",
       "      <th>Total_yesterday</th>\n",
       "      <th>Mon</th>\n",
       "      <th>Tue</th>\n",
       "      <th>Wed</th>\n",
       "      <th>Thu</th>\n",
       "      <th>Fri</th>\n",
       "      <th>...</th>\n",
       "      <th>Temp (C)</th>\n",
       "      <th>dry day</th>\n",
       "      <th>Windchill</th>\n",
       "      <th>Rl_Cold</th>\n",
       "      <th>TMIN_ln</th>\n",
       "      <th>Mar</th>\n",
       "      <th>May</th>\n",
       "      <th>Jun</th>\n",
       "      <th>Oct</th>\n",
       "      <th>Dec</th>\n",
       "    </tr>\n",
       "  </thead>\n",
       "  <tbody>\n",
       "    <tr>\n",
       "      <th>0</th>\n",
       "      <td>0.0</td>\n",
       "      <td>0.45</td>\n",
       "      <td>0.068493</td>\n",
       "      <td>1.894737</td>\n",
       "      <td>0.726115</td>\n",
       "      <td>0.0</td>\n",
       "      <td>0.0</td>\n",
       "      <td>0.0</td>\n",
       "      <td>1.0</td>\n",
       "      <td>0.0</td>\n",
       "      <td>...</td>\n",
       "      <td>0.318841</td>\n",
       "      <td>0.0</td>\n",
       "      <td>-0.111571</td>\n",
       "      <td>1.351748</td>\n",
       "      <td>0.068493</td>\n",
       "      <td>0.0</td>\n",
       "      <td>0.0</td>\n",
       "      <td>0.0</td>\n",
       "      <td>1.0</td>\n",
       "      <td>0.0</td>\n",
       "    </tr>\n",
       "    <tr>\n",
       "      <th>1</th>\n",
       "      <td>0.0</td>\n",
       "      <td>0.73</td>\n",
       "      <td>0.150685</td>\n",
       "      <td>1.473684</td>\n",
       "      <td>0.696815</td>\n",
       "      <td>0.0</td>\n",
       "      <td>0.0</td>\n",
       "      <td>0.0</td>\n",
       "      <td>0.0</td>\n",
       "      <td>1.0</td>\n",
       "      <td>...</td>\n",
       "      <td>0.515942</td>\n",
       "      <td>0.0</td>\n",
       "      <td>0.151782</td>\n",
       "      <td>1.078217</td>\n",
       "      <td>0.156301</td>\n",
       "      <td>0.0</td>\n",
       "      <td>0.0</td>\n",
       "      <td>0.0</td>\n",
       "      <td>1.0</td>\n",
       "      <td>0.0</td>\n",
       "    </tr>\n",
       "    <tr>\n",
       "      <th>2</th>\n",
       "      <td>0.0</td>\n",
       "      <td>0.95</td>\n",
       "      <td>0.000000</td>\n",
       "      <td>1.157895</td>\n",
       "      <td>0.488535</td>\n",
       "      <td>0.0</td>\n",
       "      <td>0.0</td>\n",
       "      <td>0.0</td>\n",
       "      <td>0.0</td>\n",
       "      <td>0.0</td>\n",
       "      <td>...</td>\n",
       "      <td>0.579710</td>\n",
       "      <td>0.0</td>\n",
       "      <td>0.271086</td>\n",
       "      <td>0.879220</td>\n",
       "      <td>0.000000</td>\n",
       "      <td>0.0</td>\n",
       "      <td>0.0</td>\n",
       "      <td>0.0</td>\n",
       "      <td>1.0</td>\n",
       "      <td>0.0</td>\n",
       "    </tr>\n",
       "    <tr>\n",
       "      <th>3</th>\n",
       "      <td>0.0</td>\n",
       "      <td>0.95</td>\n",
       "      <td>0.000000</td>\n",
       "      <td>-0.842105</td>\n",
       "      <td>-0.238854</td>\n",
       "      <td>0.0</td>\n",
       "      <td>0.0</td>\n",
       "      <td>0.0</td>\n",
       "      <td>0.0</td>\n",
       "      <td>0.0</td>\n",
       "      <td>...</td>\n",
       "      <td>0.579710</td>\n",
       "      <td>0.0</td>\n",
       "      <td>0.895435</td>\n",
       "      <td>-1.143885</td>\n",
       "      <td>0.000000</td>\n",
       "      <td>0.0</td>\n",
       "      <td>0.0</td>\n",
       "      <td>0.0</td>\n",
       "      <td>1.0</td>\n",
       "      <td>0.0</td>\n",
       "    </tr>\n",
       "    <tr>\n",
       "      <th>4</th>\n",
       "      <td>0.0</td>\n",
       "      <td>0.67</td>\n",
       "      <td>0.000000</td>\n",
       "      <td>-0.526316</td>\n",
       "      <td>-0.152229</td>\n",
       "      <td>1.0</td>\n",
       "      <td>0.0</td>\n",
       "      <td>0.0</td>\n",
       "      <td>0.0</td>\n",
       "      <td>0.0</td>\n",
       "      <td>...</td>\n",
       "      <td>0.417391</td>\n",
       "      <td>0.0</td>\n",
       "      <td>0.587911</td>\n",
       "      <td>-0.624901</td>\n",
       "      <td>0.000000</td>\n",
       "      <td>0.0</td>\n",
       "      <td>0.0</td>\n",
       "      <td>0.0</td>\n",
       "      <td>1.0</td>\n",
       "      <td>0.0</td>\n",
       "    </tr>\n",
       "  </tbody>\n",
       "</table>\n",
       "<p>5 rows × 24 columns</p>\n",
       "</div>"
      ],
      "text/plain": [
       "   PRCP  TMAX      TMIN      AWND  Total_yesterday  Mon  Tue  Wed  Thu  Fri  \\\n",
       "0   0.0  0.45  0.068493  1.894737         0.726115  0.0  0.0  0.0  1.0  0.0   \n",
       "1   0.0  0.73  0.150685  1.473684         0.696815  0.0  0.0  0.0  0.0  1.0   \n",
       "2   0.0  0.95  0.000000  1.157895         0.488535  0.0  0.0  0.0  0.0  0.0   \n",
       "3   0.0  0.95  0.000000 -0.842105        -0.238854  0.0  0.0  0.0  0.0  0.0   \n",
       "4   0.0  0.67  0.000000 -0.526316        -0.152229  1.0  0.0  0.0  0.0  0.0   \n",
       "\n",
       "  ...   Temp (C)  dry day  Windchill   Rl_Cold   TMIN_ln  Mar  May  Jun  Oct  \\\n",
       "0 ...   0.318841      0.0  -0.111571  1.351748  0.068493  0.0  0.0  0.0  1.0   \n",
       "1 ...   0.515942      0.0   0.151782  1.078217  0.156301  0.0  0.0  0.0  1.0   \n",
       "2 ...   0.579710      0.0   0.271086  0.879220  0.000000  0.0  0.0  0.0  1.0   \n",
       "3 ...   0.579710      0.0   0.895435 -1.143885  0.000000  0.0  0.0  0.0  1.0   \n",
       "4 ...   0.417391      0.0   0.587911 -0.624901  0.000000  0.0  0.0  0.0  1.0   \n",
       "\n",
       "   Dec  \n",
       "0  0.0  \n",
       "1  0.0  \n",
       "2  0.0  \n",
       "3  0.0  \n",
       "4  0.0  \n",
       "\n",
       "[5 rows x 24 columns]"
      ]
     },
     "execution_count": 37,
     "metadata": {
      "tags": []
     },
     "output_type": "execute_result"
    }
   ],
   "source": [
    "X_train_subset.head()"
   ]
  },
  {
   "cell_type": "code",
   "execution_count": 0,
   "metadata": {
    "colab": {
     "base_uri": "https://localhost:8080/",
     "height": 265
    },
    "colab_type": "code",
    "id": "orR687z1TOQ3",
    "outputId": "8047cc10-d0f7-4a46-b682-b1064945f8eb"
   },
   "outputs": [
    {
     "data": {
      "text/html": [
       "<div>\n",
       "<style scoped>\n",
       "    .dataframe tbody tr th:only-of-type {\n",
       "        vertical-align: middle;\n",
       "    }\n",
       "\n",
       "    .dataframe tbody tr th {\n",
       "        vertical-align: top;\n",
       "    }\n",
       "\n",
       "    .dataframe thead th {\n",
       "        text-align: right;\n",
       "    }\n",
       "</style>\n",
       "<table border=\"1\" class=\"dataframe\">\n",
       "  <thead>\n",
       "    <tr style=\"text-align: right;\">\n",
       "      <th></th>\n",
       "      <th>PRCP</th>\n",
       "      <th>TMAX</th>\n",
       "      <th>TMIN</th>\n",
       "      <th>AWND</th>\n",
       "      <th>Total_yesterday</th>\n",
       "      <th>Mon</th>\n",
       "      <th>Tue</th>\n",
       "      <th>Wed</th>\n",
       "      <th>Thu</th>\n",
       "      <th>Fri</th>\n",
       "      <th>...</th>\n",
       "      <th>Temp (C)</th>\n",
       "      <th>dry day</th>\n",
       "      <th>Windchill</th>\n",
       "      <th>Rl_Cold</th>\n",
       "      <th>TMIN_ln</th>\n",
       "      <th>Mar</th>\n",
       "      <th>May</th>\n",
       "      <th>Jun</th>\n",
       "      <th>Oct</th>\n",
       "      <th>Dec</th>\n",
       "    </tr>\n",
       "  </thead>\n",
       "  <tbody>\n",
       "    <tr>\n",
       "      <th>0</th>\n",
       "      <td>0.0</td>\n",
       "      <td>15.6</td>\n",
       "      <td>11.1</td>\n",
       "      <td>27.0</td>\n",
       "      <td>1776.0</td>\n",
       "      <td>1.0</td>\n",
       "      <td>0.0</td>\n",
       "      <td>0.0</td>\n",
       "      <td>0.0</td>\n",
       "      <td>0.0</td>\n",
       "      <td>...</td>\n",
       "      <td>13.35</td>\n",
       "      <td>1.0</td>\n",
       "      <td>18.657733</td>\n",
       "      <td>2.984593</td>\n",
       "      <td>123.21</td>\n",
       "      <td>0.0</td>\n",
       "      <td>1.0</td>\n",
       "      <td>0.0</td>\n",
       "      <td>0.0</td>\n",
       "      <td>0.0</td>\n",
       "    </tr>\n",
       "    <tr>\n",
       "      <th>1</th>\n",
       "      <td>0.0</td>\n",
       "      <td>21.7</td>\n",
       "      <td>11.7</td>\n",
       "      <td>21.0</td>\n",
       "      <td>1737.0</td>\n",
       "      <td>0.0</td>\n",
       "      <td>1.0</td>\n",
       "      <td>0.0</td>\n",
       "      <td>0.0</td>\n",
       "      <td>0.0</td>\n",
       "      <td>...</td>\n",
       "      <td>16.70</td>\n",
       "      <td>1.0</td>\n",
       "      <td>26.742639</td>\n",
       "      <td>1.842978</td>\n",
       "      <td>136.89</td>\n",
       "      <td>0.0</td>\n",
       "      <td>1.0</td>\n",
       "      <td>0.0</td>\n",
       "      <td>0.0</td>\n",
       "      <td>0.0</td>\n",
       "    </tr>\n",
       "    <tr>\n",
       "      <th>2</th>\n",
       "      <td>0.0</td>\n",
       "      <td>24.4</td>\n",
       "      <td>11.7</td>\n",
       "      <td>18.0</td>\n",
       "      <td>4254.0</td>\n",
       "      <td>0.0</td>\n",
       "      <td>0.0</td>\n",
       "      <td>1.0</td>\n",
       "      <td>0.0</td>\n",
       "      <td>0.0</td>\n",
       "      <td>...</td>\n",
       "      <td>18.05</td>\n",
       "      <td>1.0</td>\n",
       "      <td>30.303846</td>\n",
       "      <td>1.214530</td>\n",
       "      <td>136.89</td>\n",
       "      <td>0.0</td>\n",
       "      <td>1.0</td>\n",
       "      <td>0.0</td>\n",
       "      <td>0.0</td>\n",
       "      <td>0.0</td>\n",
       "    </tr>\n",
       "    <tr>\n",
       "      <th>3</th>\n",
       "      <td>0.0</td>\n",
       "      <td>27.8</td>\n",
       "      <td>12.2</td>\n",
       "      <td>21.0</td>\n",
       "      <td>4771.0</td>\n",
       "      <td>0.0</td>\n",
       "      <td>0.0</td>\n",
       "      <td>0.0</td>\n",
       "      <td>1.0</td>\n",
       "      <td>0.0</td>\n",
       "      <td>...</td>\n",
       "      <td>20.00</td>\n",
       "      <td>1.0</td>\n",
       "      <td>32.730525</td>\n",
       "      <td>1.816375</td>\n",
       "      <td>148.84</td>\n",
       "      <td>0.0</td>\n",
       "      <td>1.0</td>\n",
       "      <td>0.0</td>\n",
       "      <td>0.0</td>\n",
       "      <td>0.0</td>\n",
       "    </tr>\n",
       "    <tr>\n",
       "      <th>4</th>\n",
       "      <td>0.0</td>\n",
       "      <td>26.1</td>\n",
       "      <td>12.8</td>\n",
       "      <td>25.0</td>\n",
       "      <td>5142.0</td>\n",
       "      <td>0.0</td>\n",
       "      <td>0.0</td>\n",
       "      <td>0.0</td>\n",
       "      <td>0.0</td>\n",
       "      <td>1.0</td>\n",
       "      <td>...</td>\n",
       "      <td>19.45</td>\n",
       "      <td>1.0</td>\n",
       "      <td>30.469309</td>\n",
       "      <td>2.522606</td>\n",
       "      <td>163.84</td>\n",
       "      <td>0.0</td>\n",
       "      <td>1.0</td>\n",
       "      <td>0.0</td>\n",
       "      <td>0.0</td>\n",
       "      <td>0.0</td>\n",
       "    </tr>\n",
       "  </tbody>\n",
       "</table>\n",
       "<p>5 rows × 24 columns</p>\n",
       "</div>"
      ],
      "text/plain": [
       "   PRCP  TMAX  TMIN  AWND  Total_yesterday  Mon  Tue  Wed  Thu  Fri ...   \\\n",
       "0   0.0  15.6  11.1  27.0           1776.0  1.0  0.0  0.0  0.0  0.0 ...    \n",
       "1   0.0  21.7  11.7  21.0           1737.0  0.0  1.0  0.0  0.0  0.0 ...    \n",
       "2   0.0  24.4  11.7  18.0           4254.0  0.0  0.0  1.0  0.0  0.0 ...    \n",
       "3   0.0  27.8  12.2  21.0           4771.0  0.0  0.0  0.0  1.0  0.0 ...    \n",
       "4   0.0  26.1  12.8  25.0           5142.0  0.0  0.0  0.0  0.0  1.0 ...    \n",
       "\n",
       "   Temp (C)  dry day  Windchill   Rl_Cold  TMIN_ln  Mar  May  Jun  Oct  Dec  \n",
       "0     13.35      1.0  18.657733  2.984593   123.21  0.0  1.0  0.0  0.0  0.0  \n",
       "1     16.70      1.0  26.742639  1.842978   136.89  0.0  1.0  0.0  0.0  0.0  \n",
       "2     18.05      1.0  30.303846  1.214530   136.89  0.0  1.0  0.0  0.0  0.0  \n",
       "3     20.00      1.0  32.730525  1.816375   148.84  0.0  1.0  0.0  0.0  0.0  \n",
       "4     19.45      1.0  30.469309  2.522606   163.84  0.0  1.0  0.0  0.0  0.0  \n",
       "\n",
       "[5 rows x 24 columns]"
      ]
     },
     "execution_count": 38,
     "metadata": {
      "tags": []
     },
     "output_type": "execute_result"
    }
   ],
   "source": [
    "X_test_subset.head()"
   ]
  },
  {
   "cell_type": "code",
   "execution_count": 0,
   "metadata": {
    "colab": {
     "base_uri": "https://localhost:8080/",
     "height": 35
    },
    "colab_type": "code",
    "id": "gv2g1RbmTXNQ",
    "outputId": "ddb4a4ad-178d-4d49-81ae-f1dc9f42a2d4"
   },
   "outputs": [
    {
     "data": {
      "text/plain": [
       "True"
      ]
     },
     "execution_count": 39,
     "metadata": {
      "tags": []
     },
     "output_type": "execute_result"
    }
   ],
   "source": [
    "all(X_train.columns == X_test.columns)"
   ]
  },
  {
   "cell_type": "code",
   "execution_count": 0,
   "metadata": {
    "colab": {
     "base_uri": "https://localhost:8080/",
     "height": 35
    },
    "colab_type": "code",
    "id": "mhcS0n8ApuUx",
    "outputId": "40a73831-6472-4b99-ee25-6f2d271f876b"
   },
   "outputs": [
    {
     "name": "stdout",
     "output_type": "stream",
     "text": [
      "(963, 35) (963, 24) (100, 35) (100, 24)\n"
     ]
    }
   ],
   "source": [
    "print(X_train.shape, X_train_subset.shape, X_test.shape, X_test_subset.shape)"
   ]
  },
  {
   "cell_type": "markdown",
   "metadata": {
    "colab_type": "text",
    "id": "_OpHu92Yto88"
   },
   "source": [
    "# RFE again, but with polynomial features and interaction terms!"
   ]
  },
  {
   "cell_type": "code",
   "execution_count": 0,
   "metadata": {
    "colab": {
     "base_uri": "https://localhost:8080/",
     "height": 35
    },
    "colab_type": "code",
    "id": "ArgRECEUtyH4",
    "outputId": "5ae7d70b-094f-4cd6-b197-fdae2b55771a"
   },
   "outputs": [
    {
     "name": "stdout",
     "output_type": "stream",
     "text": [
      "(963, 35) (963, 666)\n"
     ]
    }
   ],
   "source": [
    "from sklearn.preprocessing import PolynomialFeatures\n",
    "\n",
    "poly = PolynomialFeatures(degree=2)\n",
    "X_train_polynomial = poly.fit_transform(X_train)\n",
    "\n",
    "print(X_train.shape, X_train_polynomial.shape)"
   ]
  },
  {
   "cell_type": "code",
   "execution_count": 0,
   "metadata": {
    "colab": {},
    "colab_type": "code",
    "id": "TWVHh35wsdE7"
   },
   "outputs": [],
   "source": [
    "from sklearn.feature_selection import RFECV\n",
    "\n",
    "scaler = RobustScaler()\n",
    "X_train_scaled = scaler.fit_transform(X_train_polynomial)\n",
    "\n",
    "rfe = RFECV(Ridge(alpha=1.0), scoring='neg_mean_absolute_error', \n",
    "            step=10, cv=3, verbose=1)\n",
    "\n",
    "X_train_subset = rfe.fit_transform(X_train_scaled, y_train)"
   ]
  },
  {
   "cell_type": "code",
   "execution_count": 0,
   "metadata": {
    "colab": {
     "base_uri": "https://localhost:8080/",
     "height": 2729
    },
    "colab_type": "code",
    "id": "TrMRGvezuDD7",
    "outputId": "fe17c04b-f3dc-4788-8eb4-76f238ce6fbd"
   },
   "outputs": [
    {
     "name": "stdout",
     "output_type": "stream",
     "text": [
      "156 Features selected:\n",
      "PRCP\n",
      "TMAX\n",
      "Sun\n",
      "holiday\n",
      "daylight_hrs\n",
      "Temp (C)\n",
      "annual\n",
      "Mar\n",
      "May\n",
      "Nov\n",
      "PRCP Tue\n",
      "PRCP Fri\n",
      "PRCP Sat\n",
      "PRCP Sun\n",
      "PRCP holiday\n",
      "PRCP daylight_hrs\n",
      "PRCP Jan\n",
      "PRCP Feb\n",
      "PRCP Mar\n",
      "PRCP Apr\n",
      "PRCP May\n",
      "PRCP Jun\n",
      "PRCP Jul\n",
      "PRCP Aug\n",
      "PRCP Sep\n",
      "PRCP Nov\n",
      "PRCP Dec\n",
      "TMAX^2\n",
      "TMAX TMIN\n",
      "TMAX Rl_Cold\n",
      "TMIN AWND\n",
      "TMIN Total_yesterday\n",
      "TMIN Windchill\n",
      "AWND^2\n",
      "AWND Total_yesterday\n",
      "AWND daylight_hrs\n",
      "AWND Temp (C)\n",
      "AWND dry day\n",
      "AWND annual\n",
      "AWND Windchill\n",
      "AWND Rl_Cold\n",
      "AWND TMIN_ln\n",
      "Total_yesterday^2\n",
      "Total_yesterday daylight_hrs\n",
      "Total_yesterday dry day\n",
      "Total_yesterday annual\n",
      "Total_yesterday Rl_Cold\n",
      "Mon holiday\n",
      "Mon daylight_hrs\n",
      "Mon annual\n",
      "Mon Jan\n",
      "Mon Feb\n",
      "Mon Mar\n",
      "Mon May\n",
      "Mon Jun\n",
      "Mon Oct\n",
      "Mon Nov\n",
      "Tue daylight_hrs\n",
      "Tue dry day\n",
      "Tue annual\n",
      "Tue Mar\n",
      "Tue Apr\n",
      "Tue May\n",
      "Tue Aug\n",
      "Tue Sep\n",
      "Tue Dec\n",
      "Wed holiday\n",
      "Wed daylight_hrs\n",
      "Wed PRCP_yest\n",
      "Wed Jan\n",
      "Wed Mar\n",
      "Wed Apr\n",
      "Wed Sep\n",
      "Wed Oct\n",
      "Thu holiday\n",
      "Thu daylight_hrs\n",
      "Thu dry day\n",
      "Thu annual\n",
      "Thu PRCP_yest\n",
      "Thu Jan\n",
      "Thu Feb\n",
      "Thu Mar\n",
      "Thu Apr\n",
      "Thu May\n",
      "Thu Jun\n",
      "Thu Sep\n",
      "Thu Oct\n",
      "Thu Nov\n",
      "Thu Dec\n",
      "Fri daylight_hrs\n",
      "Fri Jan\n",
      "Fri Mar\n",
      "Fri Apr\n",
      "Fri May\n",
      "Fri Jun\n",
      "Fri Jul\n",
      "Fri Aug\n",
      "Sat dry day\n",
      "Sat PRCP_yest\n",
      "Sat Jan\n",
      "Sat Mar\n",
      "Sat Apr\n",
      "Sat May\n",
      "Sat Jun\n",
      "Sat Jul\n",
      "Sat Oct\n",
      "Sat Nov\n",
      "Sun^2\n",
      "Sun annual\n",
      "Sun PRCP_yest\n",
      "Sun Mar\n",
      "Sun Apr\n",
      "Sun May\n",
      "Sun Jun\n",
      "Sun Jul\n",
      "Sun Sep\n",
      "Sun Oct\n",
      "Sun Nov\n",
      "holiday^2\n",
      "holiday daylight_hrs\n",
      "holiday May\n",
      "holiday Jul\n",
      "holiday Sep\n",
      "holiday Oct\n",
      "holiday Nov\n",
      "holiday Dec\n",
      "daylight_hrs^2\n",
      "daylight_hrs Rl_Cold\n",
      "daylight_hrs TMIN_ln\n",
      "daylight_hrs Nov\n",
      "Temp (C) annual\n",
      "Temp (C) Rl_Cold\n",
      "dry day annual\n",
      "dry day Rl_Cold\n",
      "dry day Apr\n",
      "dry day May\n",
      "dry day Dec\n",
      "annual^2\n",
      "annual Windchill\n",
      "annual Rl_Cold\n",
      "annual Jan\n",
      "annual May\n",
      "annual Jun\n",
      "annual Dec\n",
      "PRCP_yest Jan\n",
      "PRCP_yest Feb\n",
      "PRCP_yest Mar\n",
      "PRCP_yest May\n",
      "PRCP_yest Jun\n",
      "PRCP_yest Jul\n",
      "PRCP_yest Aug\n",
      "PRCP_yest Dec\n",
      "Windchill Rl_Cold\n",
      "Mar^2\n",
      "May^2\n",
      "Nov^2\n"
     ]
    }
   ],
   "source": [
    "all_names = poly.get_feature_names(X_train.columns)\n",
    "selected_mask = rfe.support_\n",
    "selected_names = [name for name, selected in zip(all_names, selected_mask) if selected]\n",
    "\n",
    "print(f'{rfe.n_features_} Features selected:')\n",
    "for name in selected_names:\n",
    "    print(name)"
   ]
  },
  {
   "cell_type": "code",
   "execution_count": 0,
   "metadata": {
    "colab": {
     "base_uri": "https://localhost:8080/",
     "height": 175
    },
    "colab_type": "code",
    "id": "Pku8KixHv3CF",
    "outputId": "f858f2a5-d6de-4549-91a1-8405c6df226f"
   },
   "outputs": [
    {
     "name": "stdout",
     "output_type": "stream",
     "text": [
      "Fitting 3 folds for each of 3 candidates, totalling 9 fits\n",
      "Best estimator: Ridge(alpha=1.0, copy_X=True, fit_intercept=True, max_iter=None,\n",
      "   normalize=False, random_state=None, solver='auto', tol=0.001) \n",
      "\n",
      "Cross-Validation Score: 247.80985367683917 \n",
      "\n"
     ]
    },
    {
     "name": "stderr",
     "output_type": "stream",
     "text": [
      "[Parallel(n_jobs=1)]: Using backend SequentialBackend with 1 concurrent workers.\n",
      "[Parallel(n_jobs=1)]: Done   9 out of   9 | elapsed:    0.1s finished\n"
     ]
    }
   ],
   "source": [
    "# Define an estimator and param_grid\n",
    "\n",
    "ridge = Ridge()\n",
    "\n",
    "param_grid = {\n",
    "    'alpha': [0.1, 1.0, 10.]\n",
    "}\n",
    "\n",
    "# Fit on the train set, with grid search cross-validation\n",
    "gs = GridSearchCV(ridge, param_grid=param_grid, cv=3, \n",
    "                  scoring='neg_mean_absolute_error', \n",
    "                  verbose=1)\n",
    "\n",
    "gs.fit(X_train_subset, y_train)\n",
    "validation_score = gs.best_score_\n",
    "print('Best estimator:', gs.best_estimator_, '\\n')\n",
    "print('Cross-Validation Score:', -validation_score, '\\n')"
   ]
  },
  {
   "cell_type": "code",
   "execution_count": 0,
   "metadata": {
    "colab": {
     "base_uri": "https://localhost:8080/",
     "height": 35
    },
    "colab_type": "code",
    "id": "NnpbyDLSwPIH",
    "outputId": "80fbe9ab-c45a-46f2-dd57-36cc1c4cc192"
   },
   "outputs": [
    {
     "name": "stdout",
     "output_type": "stream",
     "text": [
      "Test Score: 328.57066776770154\n"
     ]
    }
   ],
   "source": [
    "# Do the same transformations to X_test\n",
    "X_test_polynomial = poly.transform(X_test)\n",
    "X_test_scaled = scaler.transform(X_test_polynomial)\n",
    "X_test_subset = rfe.transform(X_test_scaled)\n",
    "\n",
    "# Use the grid search's score method with X_test_subset\n",
    "test_score = gs.score(X_test_subset, y_test)\n",
    "print('Test Score:', -test_score)"
   ]
  }
 ],
 "metadata": {
  "colab": {
   "collapsed_sections": [],
   "name": "LS_DS2_24_Cross-Validation-AND-Feature-Selection-LIVE-LESSON.ipynb",
   "provenance": [],
   "version": "0.3.2"
  },
  "kernelspec": {
   "display_name": "Python 3",
   "language": "python",
   "name": "python3"
  },
  "language_info": {
   "codemirror_mode": {
    "name": "ipython",
    "version": 3
   },
   "file_extension": ".py",
   "mimetype": "text/x-python",
   "name": "python",
   "nbconvert_exporter": "python",
   "pygments_lexer": "ipython3",
   "version": "3.6.4"
  }
 },
 "nbformat": 4,
 "nbformat_minor": 1
}
