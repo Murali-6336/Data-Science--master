{
 "cells": [
  {
   "cell_type": "markdown",
   "metadata": {
    "colab_type": "text",
    "id": "-wQxiT7yC4_v"
   },
   "source": [
    "# Linear Algebra"
   ]
  },
  {
   "cell_type": "markdown",
   "metadata": {
    "colab_type": "text",
    "id": "aiUlaNJkECCL"
   },
   "source": [
    "## 1.1 Graph vector $\\vec{a}$ \n",
    "\n",
    "\\begin{align}\n",
    "\\vec{a} = \\begin{bmatrix} 3 \\\\ 2 \\end{bmatrix}\n",
    "\\end{align}"
   ]
  },
  {
   "cell_type": "code",
   "execution_count": 18,
   "metadata": {
    "colab": {},
    "colab_type": "code",
    "id": "QpCKt0n5IeiY"
   },
   "outputs": [
    {
     "data": {
      "image/png": "[encoded data removed]",
      "text/plain": [
       "<Figure size 432x288 with 1 Axes>"
      ]
     },
     "metadata": {},
     "output_type": "display_data"
    }
   ],
   "source": [
    "import matplotlib.pyplot as plt\n",
    "\n",
    "plt.arrow(0, 0, 3, 2, width=0.04)\n",
    "plt.xlim(0,4)\n",
    "plt.ylim(0,4);"
   ]
  },
  {
   "cell_type": "markdown",
   "metadata": {
    "colab_type": "text",
    "id": "BDLB08NXEiUN"
   },
   "source": [
    "## 1.2 Find $||\\vec{b}||$. What does the norm of a vector represent?\n",
    "\\begin{align}\n",
    "\\vec{b} = \\begin{bmatrix} 17 & -4 & -2 & 1\\end{bmatrix}\n",
    "\\end{align}\n"
   ]
  },
  {
   "cell_type": "code",
   "execution_count": 2,
   "metadata": {
    "colab": {},
    "colab_type": "code",
    "id": "Fp3mocAKIfGD",
    "scrolled": true
   },
   "outputs": [
    {
     "name": "stdout",
     "output_type": "stream",
     "text": [
      "17.60681686165901\n"
     ]
    }
   ],
   "source": [
    "import numpy as np\n",
    "\n",
    "norm = np.linalg.norm(np.array([17, -4, -2, 1]))\n",
    "print(norm)"
   ]
  },
  {
   "cell_type": "markdown",
   "metadata": {},
   "source": [
    "Norm represents the magnitude/factor/distance of a vector."
   ]
  },
  {
   "cell_type": "markdown",
   "metadata": {
    "colab_type": "text",
    "id": "vBbJ0ZyPD6RG"
   },
   "source": [
    "## 1.3 Find $\\vec{c} \\cdot \\vec{d}$\n",
    "\n",
    "\\begin{align}\n",
    "\\vec{c} = \\begin{bmatrix}3 & 7 & -2 & 12\\end{bmatrix}\n",
    "\\qquad\n",
    "\\vec{d} = \\begin{bmatrix}9 & -7 & 4 & 6\\end{bmatrix}\n",
    "\\end{align}"
   ]
  },
  {
   "cell_type": "code",
   "execution_count": 3,
   "metadata": {
    "colab": {},
    "colab_type": "code",
    "id": "NYb8BalmIfgY"
   },
   "outputs": [
    {
     "name": "stdout",
     "output_type": "stream",
     "text": [
      "42\n"
     ]
    }
   ],
   "source": [
    "c = np.array([3,  7, -2, 12])\n",
    "d = np.array([9, -7,  4,  6])\n",
    "\n",
    "print(np.dot(c, d))"
   ]
  },
  {
   "cell_type": "markdown",
   "metadata": {
    "colab_type": "text",
    "id": "gS85sJHWG7iU"
   },
   "source": [
    "## 1.4 Find $E^{-1}$ and $E^{T}$\n",
    "\n",
    "\\begin{align}\n",
    "E = \n",
    "\\begin{bmatrix}\n",
    "    7 & 4 & 2 \\\\\n",
    "    1 & 3 & -1 \\\\\n",
    "    2 & 6 & -4\n",
    "\\end{bmatrix}\n",
    "\\end{align}"
   ]
  },
  {
   "cell_type": "code",
   "execution_count": 4,
   "metadata": {
    "colab": {},
    "colab_type": "code",
    "id": "QiISq5egIgSS"
   },
   "outputs": [
    {
     "name": "stdout",
     "output_type": "stream",
     "text": [
      "[[ 0.17647059 -0.82352941  0.29411765]\n",
      " [-0.05882353  0.94117647 -0.26470588]\n",
      " [ 0.          1.         -0.5       ]]\n",
      "[[ 7  1  2]\n",
      " [ 4  3  6]\n",
      " [ 2 -1 -4]]\n"
     ]
    }
   ],
   "source": [
    "E = np.array([[7, 4,  2],\n",
    "              [1, 3, -1],\n",
    "              [2, 6, -4]])\n",
    "\n",
    "print(np.linalg.inv(E))\n",
    "print(E.T)"
   ]
  },
  {
   "cell_type": "markdown",
   "metadata": {
    "colab_type": "text",
    "id": "TPzrKzEvC5YU"
   },
   "source": [
    "# Intermediate Linear Algebra"
   ]
  },
  {
   "cell_type": "markdown",
   "metadata": {
    "colab_type": "text",
    "id": "ap-us2lBGQyi"
   },
   "source": [
    "## 2.1 Suppose that the number of customers at a ski resort as well as the number of inches of fresh powder (snow)  was recorded for 7 days. \n",
    "\n",
    "### Customers: [820, 760, 1250, 990, 1080, 1450, 1600]\n",
    "\n",
    "### Inches of new snow: [0, 1, 7, 1, 0, 6, 4 ]\n",
    "\n",
    "## Find the mean, variance, and standard deviation for both the number of customers and inches of new snow for the week. You may use library functions, dataframes, .describe(), etc. \n",
    "\n"
   ]
  },
  {
   "cell_type": "code",
   "execution_count": 5,
   "metadata": {
    "colab": {
     "base_uri": "https://localhost:8080/",
     "height": 202
    },
    "colab_type": "code",
    "id": "xS-JuHl9JiiP",
    "outputId": "69ba702f-56fd-4978-b4b0-91fc0d1af632"
   },
   "outputs": [
    {
     "data": {
      "text/html": [
       "<div>\n",
       "<style scoped>\n",
       "    .dataframe tbody tr th:only-of-type {\n",
       "        vertical-align: middle;\n",
       "    }\n",
       "\n",
       "    .dataframe tbody tr th {\n",
       "        vertical-align: top;\n",
       "    }\n",
       "\n",
       "    .dataframe thead th {\n",
       "        text-align: right;\n",
       "    }\n",
       "</style>\n",
       "<table border=\"1\" class=\"dataframe\">\n",
       "  <thead>\n",
       "    <tr style=\"text-align: right;\">\n",
       "      <th></th>\n",
       "      <th>customers</th>\n",
       "      <th>snow</th>\n",
       "    </tr>\n",
       "  </thead>\n",
       "  <tbody>\n",
       "    <tr>\n",
       "      <th>0</th>\n",
       "      <td>820</td>\n",
       "      <td>0</td>\n",
       "    </tr>\n",
       "    <tr>\n",
       "      <th>1</th>\n",
       "      <td>760</td>\n",
       "      <td>1</td>\n",
       "    </tr>\n",
       "    <tr>\n",
       "      <th>2</th>\n",
       "      <td>1250</td>\n",
       "      <td>7</td>\n",
       "    </tr>\n",
       "    <tr>\n",
       "      <th>3</th>\n",
       "      <td>990</td>\n",
       "      <td>1</td>\n",
       "    </tr>\n",
       "    <tr>\n",
       "      <th>4</th>\n",
       "      <td>1080</td>\n",
       "      <td>0</td>\n",
       "    </tr>\n",
       "  </tbody>\n",
       "</table>\n",
       "</div>"
      ],
      "text/plain": [
       "   customers  snow\n",
       "0        820     0\n",
       "1        760     1\n",
       "2       1250     7\n",
       "3        990     1\n",
       "4       1080     0"
      ]
     },
     "execution_count": 5,
     "metadata": {},
     "output_type": "execute_result"
    }
   ],
   "source": [
    "import pandas as pd\n",
    "\n",
    "customers = [820, 760, 1250, 990, 1080, 1450, 1600]\n",
    "snow = [0, 1, 7, 1, 0, 6, 4]\n",
    "\n",
    "df = pd.DataFrame({'customers': customers, 'snow': snow})\n",
    "\n",
    "df.head()"
   ]
  },
  {
   "cell_type": "code",
   "execution_count": 6,
   "metadata": {},
   "outputs": [
    {
     "data": {
      "text/plain": [
       "customers    1135.714286\n",
       "snow            2.714286\n",
       "dtype: float64"
      ]
     },
     "execution_count": 6,
     "metadata": {},
     "output_type": "execute_result"
    }
   ],
   "source": [
    "df.mean()"
   ]
  },
  {
   "cell_type": "code",
   "execution_count": 7,
   "metadata": {},
   "outputs": [
    {
     "data": {
      "text/plain": [
       "customers    290.951991\n",
       "snow           2.710524\n",
       "dtype: float64"
      ]
     },
     "execution_count": 7,
     "metadata": {},
     "output_type": "execute_result"
    }
   ],
   "source": [
    "df.std(ddof=0)"
   ]
  },
  {
   "cell_type": "code",
   "execution_count": 8,
   "metadata": {
    "colab": {},
    "colab_type": "code",
    "id": "cNxeVa0cg40d"
   },
   "outputs": [
    {
     "data": {
      "text/plain": [
       "customers    84653.061224\n",
       "snow             7.346939\n",
       "dtype: float64"
      ]
     },
     "execution_count": 8,
     "metadata": {},
     "output_type": "execute_result"
    }
   ],
   "source": [
    "df.var(ddof=0)"
   ]
  },
  {
   "cell_type": "markdown",
   "metadata": {
    "colab_type": "text",
    "id": "3ePJtK4VLTLH"
   },
   "source": [
    "## 2.2 Are the variances of the number of customers and inches of snow comparable? \n",
    "## Why or why not? "
   ]
  },
  {
   "cell_type": "markdown",
   "metadata": {
    "colab": {},
    "colab_type": "code",
    "id": "LvTtgZ-5Ndw_"
   },
   "source": [
    "No, customers has a much greater variance."
   ]
  },
  {
   "cell_type": "markdown",
   "metadata": {
    "colab_type": "text",
    "id": "ixhZVGxfGVFh"
   },
   "source": [
    "## 2.3 Find the variance-covariance matrix for the number of customers and inches of snow at the ski resort. "
   ]
  },
  {
   "cell_type": "code",
   "execution_count": 9,
   "metadata": {
    "colab": {},
    "colab_type": "code",
    "id": "IbglmVaxJjO7"
   },
   "outputs": [
    {
     "data": {
      "text/html": [
       "<div>\n",
       "<style scoped>\n",
       "    .dataframe tbody tr th:only-of-type {\n",
       "        vertical-align: middle;\n",
       "    }\n",
       "\n",
       "    .dataframe tbody tr th {\n",
       "        vertical-align: top;\n",
       "    }\n",
       "\n",
       "    .dataframe thead th {\n",
       "        text-align: right;\n",
       "    }\n",
       "</style>\n",
       "<table border=\"1\" class=\"dataframe\">\n",
       "  <thead>\n",
       "    <tr style=\"text-align: right;\">\n",
       "      <th></th>\n",
       "      <th>customers</th>\n",
       "      <th>snow</th>\n",
       "    </tr>\n",
       "  </thead>\n",
       "  <tbody>\n",
       "    <tr>\n",
       "      <th>customers</th>\n",
       "      <td>98761.904762</td>\n",
       "      <td>670.238095</td>\n",
       "    </tr>\n",
       "    <tr>\n",
       "      <th>snow</th>\n",
       "      <td>670.238095</td>\n",
       "      <td>8.571429</td>\n",
       "    </tr>\n",
       "  </tbody>\n",
       "</table>\n",
       "</div>"
      ],
      "text/plain": [
       "              customers        snow\n",
       "customers  98761.904762  670.238095\n",
       "snow         670.238095    8.571429"
      ]
     },
     "execution_count": 9,
     "metadata": {},
     "output_type": "execute_result"
    }
   ],
   "source": [
    "df.cov()"
   ]
  },
  {
   "cell_type": "markdown",
   "metadata": {
    "colab_type": "text",
    "id": "6Ks3_TbNC5yJ"
   },
   "source": [
    "# PCA"
   ]
  },
  {
   "cell_type": "markdown",
   "metadata": {
    "colab_type": "text",
    "id": "f6qJAPaaOdzD"
   },
   "source": [
    "## 3.1 Standardize the data so that it has a mean of 0 and a standard deviation of 1. (You may use library functions)\n",
    "\n",
    "We have included some code to get you started so that you don't get stuck on something that isn't standardizing the data or PCA.\n",
    "\n",
    "This might be helpful:\n",
    "\n",
    "<https://scikit-learn.org/stable/modules/generated/sklearn.preprocessing.StandardScaler.html>"
   ]
  },
  {
   "cell_type": "code",
   "execution_count": 10,
   "metadata": {
    "colab": {
     "base_uri": "https://localhost:8080/",
     "height": 226
    },
    "colab_type": "code",
    "id": "bogsxfNyJlAw",
    "outputId": "1ae56f4f-7ad4-4406-e44d-87994466e5af"
   },
   "outputs": [
    {
     "data": {
      "text/html": [
       "<div>\n",
       "<style scoped>\n",
       "    .dataframe tbody tr th:only-of-type {\n",
       "        vertical-align: middle;\n",
       "    }\n",
       "\n",
       "    .dataframe tbody tr th {\n",
       "        vertical-align: top;\n",
       "    }\n",
       "\n",
       "    .dataframe thead th {\n",
       "        text-align: right;\n",
       "    }\n",
       "</style>\n",
       "<table border=\"1\" class=\"dataframe\">\n",
       "  <thead>\n",
       "    <tr style=\"text-align: right;\">\n",
       "      <th></th>\n",
       "      <th>Country</th>\n",
       "      <th>Cheese</th>\n",
       "      <th>Carcass_Meat</th>\n",
       "      <th>Other_Meat</th>\n",
       "      <th>Fish</th>\n",
       "      <th>Fats_and_Oils</th>\n",
       "      <th>Sugars</th>\n",
       "      <th>Fresh_Potatoes</th>\n",
       "      <th>Fresh_Veg</th>\n",
       "      <th>Other_Veg</th>\n",
       "      <th>Processed_Potatoes</th>\n",
       "      <th>Processed_Veg</th>\n",
       "      <th>Fresh_Fruit</th>\n",
       "      <th>Cereals</th>\n",
       "      <th>Beverages</th>\n",
       "      <th>Soft_Drinks</th>\n",
       "      <th>Alcoholic Drinks</th>\n",
       "      <th>Confectionery</th>\n",
       "    </tr>\n",
       "  </thead>\n",
       "  <tbody>\n",
       "    <tr>\n",
       "      <th>0</th>\n",
       "      <td>England</td>\n",
       "      <td>105</td>\n",
       "      <td>245</td>\n",
       "      <td>685</td>\n",
       "      <td>147</td>\n",
       "      <td>193</td>\n",
       "      <td>156</td>\n",
       "      <td>720</td>\n",
       "      <td>253</td>\n",
       "      <td>488</td>\n",
       "      <td>198</td>\n",
       "      <td>360</td>\n",
       "      <td>1102</td>\n",
       "      <td>1472</td>\n",
       "      <td>57</td>\n",
       "      <td>1374</td>\n",
       "      <td>375</td>\n",
       "      <td>54</td>\n",
       "    </tr>\n",
       "    <tr>\n",
       "      <th>1</th>\n",
       "      <td>Wales</td>\n",
       "      <td>103</td>\n",
       "      <td>227</td>\n",
       "      <td>803</td>\n",
       "      <td>160</td>\n",
       "      <td>235</td>\n",
       "      <td>175</td>\n",
       "      <td>874</td>\n",
       "      <td>265</td>\n",
       "      <td>570</td>\n",
       "      <td>203</td>\n",
       "      <td>365</td>\n",
       "      <td>1137</td>\n",
       "      <td>1582</td>\n",
       "      <td>73</td>\n",
       "      <td>1256</td>\n",
       "      <td>475</td>\n",
       "      <td>64</td>\n",
       "    </tr>\n",
       "    <tr>\n",
       "      <th>2</th>\n",
       "      <td>Scotland</td>\n",
       "      <td>103</td>\n",
       "      <td>242</td>\n",
       "      <td>750</td>\n",
       "      <td>122</td>\n",
       "      <td>184</td>\n",
       "      <td>147</td>\n",
       "      <td>566</td>\n",
       "      <td>171</td>\n",
       "      <td>418</td>\n",
       "      <td>220</td>\n",
       "      <td>337</td>\n",
       "      <td>957</td>\n",
       "      <td>1462</td>\n",
       "      <td>53</td>\n",
       "      <td>1572</td>\n",
       "      <td>458</td>\n",
       "      <td>62</td>\n",
       "    </tr>\n",
       "    <tr>\n",
       "      <th>3</th>\n",
       "      <td>North Ireland</td>\n",
       "      <td>66</td>\n",
       "      <td>267</td>\n",
       "      <td>586</td>\n",
       "      <td>93</td>\n",
       "      <td>209</td>\n",
       "      <td>139</td>\n",
       "      <td>1033</td>\n",
       "      <td>143</td>\n",
       "      <td>355</td>\n",
       "      <td>187</td>\n",
       "      <td>334</td>\n",
       "      <td>674</td>\n",
       "      <td>1494</td>\n",
       "      <td>47</td>\n",
       "      <td>1506</td>\n",
       "      <td>135</td>\n",
       "      <td>41</td>\n",
       "    </tr>\n",
       "  </tbody>\n",
       "</table>\n",
       "</div>"
      ],
      "text/plain": [
       "         Country  Cheese  Carcass_Meat  Other_Meat  Fish  Fats_and_Oils  \\\n",
       "0        England     105           245         685   147            193   \n",
       "1          Wales     103           227         803   160            235   \n",
       "2       Scotland     103           242         750   122            184   \n",
       "3  North Ireland      66           267         586    93            209   \n",
       "\n",
       "   Sugars  Fresh_Potatoes  Fresh_Veg  Other_Veg  Processed_Potatoes  \\\n",
       "0     156             720        253        488                 198   \n",
       "1     175             874        265        570                 203   \n",
       "2     147             566        171        418                 220   \n",
       "3     139            1033        143        355                 187   \n",
       "\n",
       "   Processed_Veg  Fresh_Fruit  Cereals  Beverages  Soft_Drinks  \\\n",
       "0            360         1102     1472         57         1374   \n",
       "1            365         1137     1582         73         1256   \n",
       "2            337          957     1462         53         1572   \n",
       "3            334          674     1494         47         1506   \n",
       "\n",
       "   Alcoholic Drinks  Confectionery  \n",
       "0               375             54  \n",
       "1               475             64  \n",
       "2               458             62  \n",
       "3               135             41  "
      ]
     },
     "execution_count": 10,
     "metadata": {},
     "output_type": "execute_result"
    }
   ],
   "source": [
    "# Let me get you some data to start you off.\n",
    "import pandas as pd\n",
    "\n",
    "data = {\"Country\": [\"England\",\"Wales\",\"Scotland\",\"North Ireland\"], \n",
    "        \"Cheese\": [105,103,103,66], \n",
    "        \"Carcass_Meat\": [245,227,242,267], \n",
    "        \"Other_Meat\": [685, 803, 750, 586], \n",
    "        \"Fish\": [147, 160, 122, 93], \n",
    "        \"Fats_and_Oils\": [193, 235, 184, 209], \n",
    "        \"Sugars\": [156, 175, 147, 139], \n",
    "        \"Fresh_Potatoes\": [720, 874, 566, 1033], \n",
    "        \"Fresh_Veg\": [253, 265, 171, 143], \n",
    "        \"Other_Veg\": [488, 570, 418, 355], \n",
    "        \"Processed_Potatoes\": [198, 203, 220, 187], \n",
    "        \"Processed_Veg\": [360, 365, 337, 334], \n",
    "        \"Fresh_Fruit\": [1102, 1137, 957, 674], \n",
    "        \"Cereals\": [1472, 1582, 1462, 1494], \n",
    "        \"Beverages\": [57,73,53,47], \n",
    "        \"Soft_Drinks\": [1374, 1256, 1572, 1506], \n",
    "        \"Alcoholic Drinks\": [375, 475, 458, 135], \n",
    "        \"Confectionery\": [54, 64, 62, 41]}\n",
    "\n",
    "df = pd.DataFrame(data)\n",
    "\n",
    "# Look at the data\n",
    "df.head()"
   ]
  },
  {
   "cell_type": "code",
   "execution_count": 11,
   "metadata": {
    "colab": {},
    "colab_type": "code",
    "id": "2HY91nOpaTTZ"
   },
   "outputs": [],
   "source": [
    "from sklearn.preprocessing import StandardScaler\n",
    "\n",
    "df_zstand = StandardScaler().fit_transform(df.select_dtypes('number'))"
   ]
  },
  {
   "cell_type": "markdown",
   "metadata": {
    "colab_type": "text",
    "id": "5U50KZkdJb_s"
   },
   "source": [
    "## 3.2 Perform PCA on the data and graph Principal Component 1 against Principal Component 2. (You may use library functions)\n",
    "\n",
    "This might be helpful:\n",
    "\n",
    "<https://scikit-learn.org/stable/modules/generated/sklearn.decomposition.PCA.html>"
   ]
  },
  {
   "cell_type": "code",
   "execution_count": 12,
   "metadata": {
    "colab": {},
    "colab_type": "code",
    "id": "RqjwVokgP1fL"
   },
   "outputs": [
    {
     "name": "stdout",
     "output_type": "stream",
     "text": [
      "[[-0.95448984  0.32831832]\n",
      " [-4.52095094 -1.73537967]\n",
      " [ 0.48797835  3.23367195]\n",
      " [ 4.98746242 -1.8266106 ]]\n"
     ]
    },
    {
     "data": {
      "image/png": "[encoded data removed]",
      "text/plain": [
       "<Figure size 432x288 with 1 Axes>"
      ]
     },
     "metadata": {},
     "output_type": "display_data"
    }
   ],
   "source": [
    "from sklearn.decomposition import PCA\n",
    "\n",
    "pca = PCA(2).fit_transform(df_zstand)\n",
    "\n",
    "print(pca)\n",
    "\n",
    "plt.scatter(x=[_[0] for _ in pca], y=[_[1] for _ in pca]);"
   ]
  },
  {
   "cell_type": "markdown",
   "metadata": {
    "colab_type": "text",
    "id": "z-RzYKR0C6Wg"
   },
   "source": [
    "# Clustering"
   ]
  },
  {
   "cell_type": "markdown",
   "metadata": {
    "colab_type": "text",
    "id": "62efk4plJe54"
   },
   "source": [
    "## 4.1 Use K-Means to cluster the following data and then graph your results. (You may use library functions)\n",
    "\n",
    "We have included some code to get you started so that you don't get stuck on something that isn't standardizing clustering.\n",
    "\n",
    "Prioritize calculating the clusters over graphing them. \n",
    "\n",
    "Scikit-Learn K-Means Documentation:\n",
    "\n",
    "<https://scikit-learn.org/stable/modules/generated/sklearn.cluster.KMeans.html>"
   ]
  },
  {
   "cell_type": "code",
   "execution_count": 13,
   "metadata": {
    "colab": {
     "base_uri": "https://localhost:8080/",
     "height": 202
    },
    "colab_type": "code",
    "id": "miK5Aeg-JlzJ",
    "outputId": "298a1e78-03d8-4ff8-d06a-a5bcbda93a89"
   },
   "outputs": [
    {
     "data": {
      "text/html": [
       "<div>\n",
       "<style scoped>\n",
       "    .dataframe tbody tr th:only-of-type {\n",
       "        vertical-align: middle;\n",
       "    }\n",
       "\n",
       "    .dataframe tbody tr th {\n",
       "        vertical-align: top;\n",
       "    }\n",
       "\n",
       "    .dataframe thead th {\n",
       "        text-align: right;\n",
       "    }\n",
       "</style>\n",
       "<table border=\"1\" class=\"dataframe\">\n",
       "  <thead>\n",
       "    <tr style=\"text-align: right;\">\n",
       "      <th></th>\n",
       "      <th>x</th>\n",
       "      <th>y</th>\n",
       "    </tr>\n",
       "  </thead>\n",
       "  <tbody>\n",
       "    <tr>\n",
       "      <th>0</th>\n",
       "      <td>-7.846803</td>\n",
       "      <td>-3.421277</td>\n",
       "    </tr>\n",
       "    <tr>\n",
       "      <th>1</th>\n",
       "      <td>-3.554323</td>\n",
       "      <td>-6.884729</td>\n",
       "    </tr>\n",
       "    <tr>\n",
       "      <th>2</th>\n",
       "      <td>-0.192822</td>\n",
       "      <td>-9.671030</td>\n",
       "    </tr>\n",
       "    <tr>\n",
       "      <th>3</th>\n",
       "      <td>-6.401456</td>\n",
       "      <td>-5.223972</td>\n",
       "    </tr>\n",
       "    <tr>\n",
       "      <th>4</th>\n",
       "      <td>-0.804026</td>\n",
       "      <td>-9.704457</td>\n",
       "    </tr>\n",
       "  </tbody>\n",
       "</table>\n",
       "</div>"
      ],
      "text/plain": [
       "          x         y\n",
       "0 -7.846803 -3.421277\n",
       "1 -3.554323 -6.884729\n",
       "2 -0.192822 -9.671030\n",
       "3 -6.401456 -5.223972\n",
       "4 -0.804026 -9.704457"
      ]
     },
     "execution_count": 13,
     "metadata": {},
     "output_type": "execute_result"
    }
   ],
   "source": [
    "points = pd.read_csv('https://raw.githubusercontent.com/ryanleeallred/datasets/master/points.csv')\n",
    "points.head()"
   ]
  },
  {
   "cell_type": "code",
   "execution_count": 14,
   "metadata": {
    "colab": {},
    "colab_type": "code",
    "id": "qX0zKKznTzcI"
   },
   "outputs": [],
   "source": [
    "from sklearn.cluster import KMeans\n",
    "\n",
    "sum_of_squared_distances = []\n",
    "xs = range(1,15)\n",
    "for x in xs:\n",
    "    km = KMeans(n_clusters=x)\n",
    "    km = km.fit(points)\n",
    "    sum_of_squared_distances.append(km.inertia_)"
   ]
  },
  {
   "cell_type": "code",
   "execution_count": 15,
   "metadata": {},
   "outputs": [
    {
     "data": {
      "image/png": "[encoded data removed]",
      "text/plain": [
       "<Figure size 432x288 with 1 Axes>"
      ]
     },
     "metadata": {},
     "output_type": "display_data"
    }
   ],
   "source": [
    "plt.plot(list(range(1,15)), sum_of_squared_distances);"
   ]
  },
  {
   "cell_type": "code",
   "execution_count": 16,
   "metadata": {},
   "outputs": [],
   "source": [
    "labels = KMeans(4).fit(points).labels_"
   ]
  },
  {
   "cell_type": "code",
   "execution_count": 17,
   "metadata": {},
   "outputs": [
    {
     "data": {
      "image/png": "[encoded data removed]",
      "text/plain": [
       "<Figure size 432x288 with 1 Axes>"
      ]
     },
     "metadata": {},
     "output_type": "display_data"
    }
   ],
   "source": [
    "fig, ax = plt.subplots()\n",
    "ax.scatter(x='x', y='y', data=points, c=labels)\n",
    "ax.set_aspect('equal');"
   ]
  }
 ],
 "metadata": {
  "colab": {
   "name": "Linear Algebra Sprint Challenge.ipynb",
   "provenance": [],
   "version": "0.3.2"
  },
  "kernelspec": {
   "display_name": "Python 3",
   "language": "python",
   "name": "python3"
  },
  "language_info": {
   "codemirror_mode": {
    "name": "ipython",
    "version": 3
   },
   "file_extension": ".py",
   "mimetype": "text/x-python",
   "name": "python",
   "nbconvert_exporter": "python",
   "pygments_lexer": "ipython3",
   "version": "3.6.4"
  }
 },
 "nbformat": 4,
 "nbformat_minor": 1
}
