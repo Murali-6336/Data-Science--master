{
 "cells": [
  {
   "cell_type": "markdown",
   "metadata": {
    "colab_type": "text",
    "id": "NGGrt9EYlCqY"
   },
   "source": [
    "# Backpropagation Practice\n",
    "\n",
    "Implement a 3 input, 4 node hidden-layer, 1 output node Multilayer Perceptron on the following dataset:\n",
    "\n",
    "| x1 | x2 | x3 | y |\n",
    "|----|----|----|---|\n",
    "| 0  | 0  | 1  | 0 |\n",
    "| 0  | 1  | 1  | 1 |\n",
    "| 1  | 0  | 1  | 1 |\n",
    "| 0  | 1  | 0  | 1 |\n",
    "| 1  | 0  | 0  | 1 |\n",
    "| 1  | 1  | 1  | 0 |\n",
    "| 0  | 0  | 0  | 0 |\n",
    "\n",
    "If you look at the data you'll notice that the first two columns behave like an XOR gate while the last column is mostly just noise. Remember that creating an XOR gate was what the perceptron was criticized for not being able to learn. "
   ]
  },
  {
   "cell_type": "code",
   "execution_count": 89,
   "metadata": {
    "colab": {},
    "colab_type": "code",
    "id": "nEREYT-3wI1f"
   },
   "outputs": [],
   "source": [
    "import pandas as pd\n",
    "import numpy as np\n",
    "\n",
    "\n",
    "class Neural_Network(object):\n",
    "    def __init__(self, inputs=3, hiddenNodes=3, outputNodes=1):\n",
    "        self.inputs = inputs\n",
    "        self.hiddenNodes = hiddenNodes\n",
    "        self.outputNodes = outputNodes\n",
    "\n",
    "        # Initialize Weights\n",
    "        self.L1_weights = np.random.randn(self.inputs, self.hiddenNodes)\n",
    "        self.L2_weights = np.random.randn(self.hiddenNodes, self.outputNodes)\n",
    "\n",
    "    def feed_forward(self, X):\n",
    "        # Weighted sum between inputs and hidden layer\n",
    "        self.hidden_sum = np.dot(X, self.L1_weights)\n",
    "        # Activations of weighted sum\n",
    "        self.activated_hidden = self.sigmoid(self.hidden_sum)\n",
    "        # Weighted sum between hidden and output\n",
    "        self.output_sum = np.dot(self.activated_hidden, self.L2_weights)\n",
    "        # final activation of output\n",
    "        self.activated_output = self.sigmoid(self.output_sum)\n",
    "        return self.activated_output\n",
    "\n",
    "    def sigmoid(self, s):\n",
    "        return 1/(1+np.exp(-s))\n",
    "\n",
    "    def sigmoidPrime(self, s):\n",
    "        \"\"\"derivative of sigmoid\"\"\"\n",
    "        return s * (1 - s)\n",
    "\n",
    "    def backward(self, X, y, o):\n",
    "        \"\"\"backward propgate through the network\"\"\"\n",
    "        self.o_error = y - o\n",
    "        self.o_delta = self.o_error * self.sigmoidPrime(o)\n",
    "  \n",
    "        self.z2_error = self.o_delta.dot(self.L2_weights.T)\n",
    "        self.z2_delta = self.z2_error * self.sigmoidPrime(self.activated_hidden)\n",
    "  \n",
    "        self.L1_weights += X.T.dot(self.z2_delta)\n",
    "        self.L2_weights += self.activated_hidden.T.dot(self.o_delta)\n",
    "\n",
    "    def train(self, X, y):\n",
    "        o = self.feed_forward(X)\n",
    "        self.backward(X, y, o)"
   ]
  },
  {
   "cell_type": "code",
   "execution_count": 90,
   "metadata": {},
   "outputs": [],
   "source": [
    "df = pd.DataFrame({\n",
    "    'x1':[0, 0, 1, 0, 1, 1, 0],\n",
    "    'x2':[0, 1, 0, 1, 0, 1, 0],\n",
    "    'x3':[1, 1, 1, 0, 0, 1, 0],\n",
    "    'y': [0, 1, 1, 1, 1, 0, 0]\n",
    "})\n",
    "X = df.drop(columns='y').values\n",
    "y = df[['y']].values\n",
    "\n",
    "nn = Neural_Network(inputs=3, hiddenNodes=4, outputNodes=1)"
   ]
  },
  {
   "cell_type": "code",
   "execution_count": 91,
   "metadata": {},
   "outputs": [
    {
     "data": {
      "text/plain": [
       "array([0.34908627])"
      ]
     },
     "execution_count": 91,
     "metadata": {},
     "output_type": "execute_result"
    }
   ],
   "source": [
    "nn.feed_forward(X[0])"
   ]
  },
  {
   "cell_type": "code",
   "execution_count": 92,
   "metadata": {
    "scrolled": true
   },
   "outputs": [
    {
     "name": "stdout",
     "output_type": "stream",
     "text": [
      "EPOCH 1 Loss: \n",
      " 0.33210718765303043\n",
      "EPOCH 2 Loss: \n",
      " 0.2972578227046813\n",
      "EPOCH 3 Loss: \n",
      " 0.2743965742500592\n",
      "EPOCH 4 Loss: \n",
      " 0.2613579279961759\n",
      "EPOCH 5 Loss: \n",
      " 0.25415929213607635\n",
      "EPOCH 50 Loss: \n",
      " 0.17206640127689538\n",
      "EPOCH 100 Loss: \n",
      " 0.1285208959123444\n",
      "EPOCH 150 Loss: \n",
      " 0.11415431657670912\n",
      "EPOCH 200 Loss: \n",
      " 0.103597071428868\n",
      "EPOCH 250 Loss: \n",
      " 0.08778125824048862\n",
      "EPOCH 300 Loss: \n",
      " 0.05548944803905013\n",
      "EPOCH 350 Loss: \n",
      " 0.031165162786199876\n",
      "EPOCH 400 Loss: \n",
      " 0.020140001247423482\n",
      "EPOCH 450 Loss: \n",
      " 0.014412658523868012\n",
      "EPOCH 500 Loss: \n",
      " 0.01100179121029593\n",
      "EPOCH 550 Loss: \n",
      " 0.00880999599284309\n",
      "EPOCH 600 Loss: \n",
      " 0.007321449683109214\n",
      "EPOCH 650 Loss: \n",
      " 0.006257303259174124\n",
      "EPOCH 700 Loss: \n",
      " 0.005461525164289533\n",
      "EPOCH 750 Loss: \n",
      " 0.004844371244385743\n",
      "EPOCH 800 Loss: \n",
      " 0.0043517653165920265\n",
      "EPOCH 850 Loss: \n",
      " 0.003949412101563925\n",
      "EPOCH 900 Loss: \n",
      " 0.003614544715006361\n",
      "EPOCH 950 Loss: \n",
      " 0.003331460922222088\n",
      "EPOCH 1000 Loss: \n",
      " 0.003088981723433024\n"
     ]
    }
   ],
   "source": [
    "for i in range(1000):\n",
    "    if i+1 in [1,2,3,4,5] or (i+1) % 50 == 0:\n",
    "        print('EPOCH', i+1, \"Loss: \\n\", \n",
    "              str(np.mean(np.square(y - nn.feed_forward(X)))))\n",
    "    nn.train(X, y)"
   ]
  },
  {
   "cell_type": "markdown",
   "metadata": {
    "colab_type": "text",
    "id": "8b-r70o8p2Dm"
   },
   "source": [
    "## Try building/training a more complex Multilayer Perceptron on a bigger dataset.\n",
    "\n",
    "Use the [MNIST dataset](http://yann.lecun.com/exdb/mnist/) to build the cannonical handwriting digit recognizer and see what kind of accuracy you can achieve. \n",
    "\n",
    "If you need inspiration, the internet is chalk-full of tutorials, but I want you to see how far you can get on your own first. I've linked to the original MNIST dataset above but it will probably be easier to download data through a neural network library. If you reference outside resources make sure you understand every line of code that you're using from other sources, and share with your fellow students helpful resources that you find.\n"
   ]
  },
  {
   "cell_type": "code",
   "execution_count": 93,
   "metadata": {
    "colab": {},
    "colab_type": "code",
    "id": "5MOPtYdk1HgA"
   },
   "outputs": [],
   "source": [
    "import gzip\n",
    "import numpy as np\n",
    "import pandas as pd\n",
    "\n",
    "\n",
    "def load_images(num_images):\n",
    "    # training images\n",
    "    f = gzip.open('datasets/train-images-idx3-ubyte.gz','r')\n",
    "\n",
    "    image_size = 28\n",
    "\n",
    "    f.read(16)\n",
    "    buf = f.read(image_size * image_size * num_images)\n",
    "    data = np.frombuffer(buf, dtype=np.uint8).astype(np.float32)\n",
    "    data = data.reshape(num_images, image_size, image_size, 1)\n",
    "    \n",
    "    return data\n",
    "\n",
    "\n",
    "def load_labels(n_labels):\n",
    "    f = gzip.open('datasets/train-labels-idx1-ubyte.gz','r')\n",
    "    f.read(8)\n",
    "    l = []\n",
    "    for i in range(0,n_labels):   \n",
    "        buf = f.read(1)\n",
    "        labels = np.frombuffer(buf, dtype=np.uint8).astype(np.int64)\n",
    "        l.append(labels[0])\n",
    "        \n",
    "    return l"
   ]
  },
  {
   "cell_type": "code",
   "execution_count": 108,
   "metadata": {
    "colab": {},
    "colab_type": "code",
    "id": "5MOPtYdk1HgA"
   },
   "outputs": [],
   "source": [
    "X = load_images(num_images=1000)\n",
    "X = X.reshape(X.shape[0], 28*28)\n",
    "y = np.array(load_labels(n_labels=1000)).reshape(1000, 1)\n",
    "# TODO target encoding"
   ]
  },
  {
   "cell_type": "code",
   "execution_count": null,
   "metadata": {
    "scrolled": true
   },
   "outputs": [],
   "source": [
    "nn = Neural_Network(inputs=X.shape[1], hiddenNodes=4, outputNodes=1)\n",
    "\n",
    "for i in range(1000):\n",
    "    if i+1 in [1,2,3,4,5] or (i+1) % 50 == 0:\n",
    "        print('EPOCH', i+1, \"Loss: \\n\", \n",
    "              str(np.mean(np.square(y - nn.feed_forward(X)))))\n",
    "    nn.train(X, y)"
   ]
  },
  {
   "cell_type": "markdown",
   "metadata": {
    "colab_type": "text",
    "id": "FwlRJSfBlCvy"
   },
   "source": [
    "## Stretch Goals: \n",
    "\n",
    "- Implement Cross Validation model evaluation on your MNIST implementation \n",
    "- Research different [Gradient Descent Based Optimizers](https://keras.io/optimizers/)\n",
    " - [Siraj Raval the evolution of gradient descent](https://www.youtube.com/watch?v=nhqo0u1a6fw)\n",
    "- Build a housing price estimation model using a neural network. How does its accuracy compare with the regression models that we fit earlier on in class?"
   ]
  }
 ],
 "metadata": {
  "colab": {
   "name": "LS_DS_432_Backprop_Assignment.ipynb",
   "provenance": [],
   "version": "0.3.2"
  },
  "kernelspec": {
   "display_name": "Python 3",
   "language": "python",
   "name": "python3"
  },
  "language_info": {
   "codemirror_mode": {
    "name": "ipython",
    "version": 3
   },
   "file_extension": ".py",
   "mimetype": "text/x-python",
   "name": "python",
   "nbconvert_exporter": "python",
   "pygments_lexer": "ipython3",
   "version": "3.6.4"
  }
 },
 "nbformat": 4,
 "nbformat_minor": 1
}
