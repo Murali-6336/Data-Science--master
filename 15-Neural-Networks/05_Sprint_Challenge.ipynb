{
 "cells": [
  {
   "cell_type": "markdown",
   "metadata": {
    "colab_type": "text",
    "id": "Y6SKlgYrpcym"
   },
   "source": [
    "# Neural Networks Sprint Challenge"
   ]
  },
  {
   "cell_type": "markdown",
   "metadata": {
    "colab_type": "text",
    "id": "BrEbRrjVphPM"
   },
   "source": [
    "## 1) Define the following terms:\n",
    "\n",
    "- Neuron\n",
    "  - The base unit of a neural network. Accepts input data, applies a vector of weights, adds a bias, and applies an acitvation function\n",
    "- Input Layer\n",
    "  - The input data, one node per feature/attribute\n",
    "- Hidden Layer\n",
    "  - A layer of nodes that is neither the input nor the output layer. We cannot directly observe data in these layers.\n",
    "- Output Layer\n",
    "  - The final layer that returns our output, typically a prediction along a continuous number line or a class probability.\n",
    "- Activation\n",
    "  - A function that applies a transformaion to the data. Popular choices are sigmoid and tanh, which both 'squishify' our data to the 0:1 or -1:1 range.\n",
    "- Backpropagation\n",
    "  - The method by which neural networks update weight vectors for each node, in one epoch. Using the derivative of the node's activation function, backpropagation can re-scale weights to minimize a global loss function."
   ]
  },
  {
   "cell_type": "markdown",
   "metadata": {
    "colab_type": "text",
    "id": "Ri_gRA2Jp728"
   },
   "source": [
    "## 2) Create a perceptron class that can model the behavior of an AND gate. You can use the following table as your training data:\n",
    "\n",
    "| x1 | x2 | x3 | y |\n",
    "|----|----|----|---|\n",
    "| 1  | 1  | 1  | 1 |\n",
    "| 1  | 0  | 1  | 0 |\n",
    "| 0  | 1  | 1  | 0 |\n",
    "| 0  | 0  | 1  | 0 |"
   ]
  },
  {
   "cell_type": "code",
   "execution_count": null,
   "metadata": {
    "colab": {},
    "colab_type": "code",
    "id": "Ig6ZTH8tpQ19"
   },
   "outputs": [],
   "source": [
    "import numpy as np \n",
    "import pandas as pd\n",
    "import matplotlib.pyplot as plt"
   ]
  },
  {
   "cell_type": "code",
   "execution_count": 1,
   "metadata": {
    "colab": {},
    "colab_type": "code",
    "id": "Ig6ZTH8tpQ19"
   },
   "outputs": [],
   "source": [
    "class Perceptron(object):\n",
    "    def __init__(self, rate = 0.1, n_iter = 10):\n",
    "        self.rate = rate\n",
    "        self.n_iter = n_iter\n",
    "        \n",
    "    def fit(self, X, y):\n",
    "        self.weights = np.zeros(X.shape[1] + 1)\n",
    "        self.errors = []\n",
    "        \n",
    "        for i in range(self.n_iter):\n",
    "            err = 0\n",
    "            for x_i, y_i in zip(X, y):\n",
    "                delta_w = self.rate * (y_i - self.predict(x_i))\n",
    "                self.weights[0] += delta_w\n",
    "                self.weights[1:] += delta_w * x_i\n",
    "                err += int(delta_w != 0.0)\n",
    "            self.errors.append(err)\n",
    "            \n",
    "        return self\n",
    "    \n",
    "    def predict(self, X):\n",
    "        net_input = np.dot(X, self.weights[1:]) + self.weights[0]\n",
    "        return np.where(net_input >= 0.0, 1, -1)"
   ]
  },
  {
   "cell_type": "code",
   "execution_count": 4,
   "metadata": {},
   "outputs": [
    {
     "data": {
      "image/png": "[encoded data removed]",
      "text/plain": [
       "<Figure size 432x288 with 1 Axes>"
      ]
     },
     "metadata": {},
     "output_type": "display_data"
    }
   ],
   "source": [
    "df = pd.DataFrame({\n",
    "    'x1':[1, 1, 0, 0],\n",
    "    'x2':[1, 0, 1, 0],\n",
    "    'x3':[1, 1, 1, 1],\n",
    "    'y': [1, 0, 0, 0]\n",
    "})\n",
    "\n",
    "X = df.drop(columns=['y']).values\n",
    "y = df['y'] * 2 - 1\n",
    "\n",
    "pn = Perceptron(rate = 0.1, n_iter = 10)\n",
    "pn.fit(X, y)\n",
    "\n",
    "plt.plot(range(1, len(pn.errors) + 1), pn.errors, marker='o')\n",
    "plt.xlabel('Epochs')\n",
    "plt.ylabel('Number of misclassifications')\n",
    "plt.show()"
   ]
  },
  {
   "cell_type": "markdown",
   "metadata": {
    "colab_type": "text",
    "id": "86HyRi8Osr3U"
   },
   "source": [
    "## 3) Implement a Neural Network Multilayer Perceptron class that uses backpropagation to update the network's weights. \n",
    "- Your network must have one hidden layer. \n",
    "- You do not have to update weights via gradient descent. You can use something like the derivative of the sigmoid function to update weights.\n",
    "- Train your model on the Heart Disease dataset from UCI:\n",
    "\n",
    "[Github Dataset](https://github.com/ryanleeallred/datasets/blob/master/heart.csv)\n",
    "\n",
    "[Raw File on Github](https://raw.githubusercontent.com/ryanleeallred/datasets/master/heart.csv)\n"
   ]
  },
  {
   "cell_type": "code",
   "execution_count": 97,
   "metadata": {},
   "outputs": [],
   "source": [
    "class MultiLayerPerceptron(object):\n",
    "    \"\"\"MLP with one hidden layer and one output layer\"\"\"\n",
    "    def __init__(self, n_input_nodes, n_hidden_nodes, n_output_nodes):\n",
    "        self.n_input_nodes = n_input_nodes\n",
    "        self.n_hidden_nodes = n_hidden_nodes\n",
    "        self.n_output_nodes = n_output_nodes\n",
    "        \n",
    "        self.L1_weights = np.random.randn(self.n_input_nodes,  self.n_hidden_nodes)\n",
    "        self.L2_weights = np.random.randn(self.n_hidden_nodes, self.n_output_nodes)\n",
    "    \n",
    "    def predict(self, X):\n",
    "        # hidden layer\n",
    "        self.L1_sum = np.dot(X, self.L1_weights)\n",
    "        self.L1_activated = self.sigmoid(self.L1_sum)\n",
    "        # output layer\n",
    "        self.L2_sum = np.dot(self.L1_activated, self.L2_weights)\n",
    "        self.L2_activated = self.sigmoid(self.L2_sum)\n",
    "        return self.L2_activated\n",
    "    \n",
    "    def sigmoid(self, s):\n",
    "        return 1 / (1 + np.exp(-s))\n",
    "    \n",
    "    def sigmoid_prime(self, s):\n",
    "        return s * (1 - s)\n",
    "    \n",
    "    def backpropagate(self, X, y, output):\n",
    "        self.output_error = y - output\n",
    "        self.output_delta = self.output_error * self.sigmoid_prime(output)\n",
    "        \n",
    "        self.z2_error = self.output_delta.dot(self.L2_weights.T)\n",
    "        self.z2_delta = self.z2_error * self.sigmoid_prime(self.L1_activated)\n",
    "        \n",
    "        self.L1_weights += X.T.dot(self.z2_delta)\n",
    "        self.L2_weights += self.L1_activated.T.dot(self.output_delta)\n",
    "\n",
    "    def fit(self, X, y, n_iter, silent=False):\n",
    "        history = []\n",
    "        for i in range(n_iter):\n",
    "            y_pred = self.predict(X)\n",
    "            loss = np.mean(np.square(y - y_pred))\n",
    "            history.append(loss)\n",
    "            if not silent:\n",
    "                print(f'EPOCH {i+1} Loss: {loss}')\n",
    "            self.backpropagate(X, y, y_pred)\n",
    "            \n",
    "        return history"
   ]
  },
  {
   "cell_type": "markdown",
   "metadata": {},
   "source": [
    "### Testing from lecture example"
   ]
  },
  {
   "cell_type": "code",
   "execution_count": 99,
   "metadata": {},
   "outputs": [
    {
     "data": {
      "text/plain": [
       "array([[0.00273434],\n",
       "       [0.9667386 ],\n",
       "       [0.95659645],\n",
       "       [0.9650304 ],\n",
       "       [0.95864119],\n",
       "       [0.05171516],\n",
       "       [0.03167865]])"
      ]
     },
     "execution_count": 99,
     "metadata": {},
     "output_type": "execute_result"
    },
    {
     "data": {
      "image/png": "[encoded data removed]",
      "text/plain": [
       "<Figure size 432x288 with 1 Axes>"
      ]
     },
     "metadata": {},
     "output_type": "display_data"
    }
   ],
   "source": [
    "df = pd.DataFrame({\n",
    "    'x1':[0, 0, 1, 0, 1, 1, 0],\n",
    "    'x2':[0, 1, 0, 1, 0, 1, 0],\n",
    "    'x3':[1, 1, 1, 0, 0, 1, 0],\n",
    "    'y': [0, 1, 1, 1, 1, 0, 0]\n",
    "})\n",
    "X = df.drop(columns='y').values\n",
    "y = df[['y']].values\n",
    "\n",
    "nn = MultiLayerPerceptron(\n",
    "    n_input_nodes=X.shape[1], \n",
    "    n_hidden_nodes=3, \n",
    "    n_output_nodes=1\n",
    ")\n",
    "\n",
    "history = nn.fit(X, y, 4000, silent=True)\n",
    "plt.plot(history)\n",
    "nn.predict(X)"
   ]
  },
  {
   "cell_type": "markdown",
   "metadata": {},
   "source": [
    "### Sprint Example"
   ]
  },
  {
   "cell_type": "code",
   "execution_count": 168,
   "metadata": {
    "colab": {},
    "colab_type": "code",
    "id": "CNfiajv3v4Ed",
    "scrolled": false
   },
   "outputs": [
    {
     "data": {
      "image/png": "[encoded data removed]",
      "text/plain": [
       "<Figure size 432x288 with 1 Axes>"
      ]
     },
     "metadata": {},
     "output_type": "display_data"
    }
   ],
   "source": [
    "from sklearn.preprocessing import StandardScaler\n",
    "\n",
    "df = pd.read_csv('https://raw.githubusercontent.com/'\n",
    "                 'ryanleeallred/datasets/master/heart.csv')\n",
    "\n",
    "X = StandardScaler().fit_transform(df.drop(columns=['target']).values)\n",
    "y = df[['target']].values\n",
    "\n",
    "nn = MultiLayerPerceptron(\n",
    "    n_input_nodes=X.shape[1], \n",
    "    n_hidden_nodes=8, \n",
    "    n_output_nodes=1\n",
    ")\n",
    "\n",
    "history = nn.fit(X, y, 1000, silent=True)\n",
    "plt.plot(history);"
   ]
  },
  {
   "cell_type": "markdown",
   "metadata": {
    "colab_type": "text",
    "id": "GGT1oRzXw3H9"
   },
   "source": [
    "## 4) Implement a Multilayer Perceptron architecture of your choosing using the Keras library. Train your model and report its baseline accuracy. Then hyperparameter tune at least two parameters and report your model's accuracy. \n",
    "\n",
    "- Use the Heart Disease Dataset (binary classification)\n",
    "- Use an appropriate loss function for a binary classification task\n",
    "- Use an appropriate activation function on the final layer of your network. \n",
    "- Train your model using verbose output for ease of grading.\n",
    "- Use GridSearchCV to hyperparameter tune your model. (for at least two hyperparameters)\n",
    "- When hyperparameter tuning, show you work by adding code cells for each new experiment. \n",
    "- Report the accuracy for each combination of hyperparameters as you test them so that we can easily see which resulted in the highest accuracy.\n",
    "- You must hyperparameter tune at least 5 parameters in order to get a 3 on this section."
   ]
  },
  {
   "cell_type": "code",
   "execution_count": 181,
   "metadata": {
    "colab": {},
    "colab_type": "code",
    "id": "XWw4IYxLxKwH"
   },
   "outputs": [],
   "source": [
    "from keras.models import Sequential\n",
    "from keras.layers import Dense\n",
    "from keras.wrappers.scikit_learn import KerasClassifier\n",
    "from sklearn.model_selection import GridSearchCV\n",
    "from sklearn.preprocessing import StandardScaler\n",
    "\n",
    "df = pd.read_csv('https://raw.githubusercontent.com/'\n",
    "                 'ryanleeallred/datasets/master/heart.csv')\n",
    "\n",
    "X = StandardScaler().fit_transform(df.drop(columns=['target']).values)\n",
    "y = df['target'].values"
   ]
  },
  {
   "cell_type": "code",
   "execution_count": 193,
   "metadata": {
    "scrolled": true
   },
   "outputs": [
    {
     "name": "stdout",
     "output_type": "stream",
     "text": [
      "Epoch 1/40\n",
      "303/303 [==============================] - 0s 2ms/step - loss: 0.8672 - acc: 0.5479\n",
      "Epoch 2/40\n",
      "303/303 [==============================] - 0s 165us/step - loss: 0.7509 - acc: 0.5545\n",
      "Epoch 3/40\n",
      "303/303 [==============================] - 0s 162us/step - loss: 0.6576 - acc: 0.5875\n",
      "Epoch 4/40\n",
      "303/303 [==============================] - 0s 152us/step - loss: 0.5923 - acc: 0.6502\n",
      "Epoch 5/40\n",
      "303/303 [==============================] - 0s 145us/step - loss: 0.5406 - acc: 0.7195\n",
      "Epoch 6/40\n",
      "303/303 [==============================] - 0s 201us/step - loss: 0.5036 - acc: 0.7426\n",
      "Epoch 7/40\n",
      "303/303 [==============================] - 0s 162us/step - loss: 0.4744 - acc: 0.7624\n",
      "Epoch 8/40\n",
      "303/303 [==============================] - 0s 155us/step - loss: 0.4514 - acc: 0.7822\n",
      "Epoch 9/40\n",
      "303/303 [==============================] - 0s 178us/step - loss: 0.4324 - acc: 0.7921\n",
      "Epoch 10/40\n",
      "303/303 [==============================] - 0s 165us/step - loss: 0.4169 - acc: 0.8020\n",
      "Epoch 11/40\n",
      "303/303 [==============================] - 0s 165us/step - loss: 0.4036 - acc: 0.8119\n",
      "Epoch 12/40\n",
      "303/303 [==============================] - 0s 155us/step - loss: 0.3928 - acc: 0.8185\n",
      "Epoch 13/40\n",
      "303/303 [==============================] - 0s 211us/step - loss: 0.3826 - acc: 0.8350\n",
      "Epoch 14/40\n",
      "303/303 [==============================] - 0s 224us/step - loss: 0.3747 - acc: 0.8350\n",
      "Epoch 15/40\n",
      "303/303 [==============================] - 0s 162us/step - loss: 0.3670 - acc: 0.8416\n",
      "Epoch 16/40\n",
      "303/303 [==============================] - 0s 228us/step - loss: 0.3603 - acc: 0.8416\n",
      "Epoch 17/40\n",
      "303/303 [==============================] - 0s 172us/step - loss: 0.3545 - acc: 0.8449\n",
      "Epoch 18/40\n",
      "303/303 [==============================] - 0s 218us/step - loss: 0.3494 - acc: 0.8449\n",
      "Epoch 19/40\n",
      "303/303 [==============================] - 0s 172us/step - loss: 0.3451 - acc: 0.8482\n",
      "Epoch 20/40\n",
      "303/303 [==============================] - 0s 182us/step - loss: 0.3412 - acc: 0.8449\n",
      "Epoch 21/40\n",
      "303/303 [==============================] - 0s 162us/step - loss: 0.3380 - acc: 0.8449\n",
      "Epoch 22/40\n",
      "303/303 [==============================] - 0s 155us/step - loss: 0.3344 - acc: 0.8482\n",
      "Epoch 23/40\n",
      "303/303 [==============================] - 0s 152us/step - loss: 0.3319 - acc: 0.8581\n",
      "Epoch 24/40\n",
      "303/303 [==============================] - 0s 191us/step - loss: 0.3289 - acc: 0.8515\n",
      "Epoch 25/40\n",
      "303/303 [==============================] - 0s 165us/step - loss: 0.3262 - acc: 0.8515\n",
      "Epoch 26/40\n",
      "303/303 [==============================] - 0s 158us/step - loss: 0.3243 - acc: 0.8548\n",
      "Epoch 27/40\n",
      "303/303 [==============================] - 0s 165us/step - loss: 0.3216 - acc: 0.8548\n",
      "Epoch 28/40\n",
      "303/303 [==============================] - 0s 168us/step - loss: 0.3197 - acc: 0.8581\n",
      "Epoch 29/40\n",
      "303/303 [==============================] - 0s 185us/step - loss: 0.3174 - acc: 0.8581\n",
      "Epoch 30/40\n",
      "303/303 [==============================] - 0s 182us/step - loss: 0.3157 - acc: 0.8581\n",
      "Epoch 31/40\n",
      "303/303 [==============================] - 0s 172us/step - loss: 0.3137 - acc: 0.8614\n",
      "Epoch 32/40\n",
      "303/303 [==============================] - 0s 158us/step - loss: 0.3123 - acc: 0.8614\n",
      "Epoch 33/40\n",
      "303/303 [==============================] - 0s 165us/step - loss: 0.3103 - acc: 0.8647\n",
      "Epoch 34/40\n",
      "303/303 [==============================] - 0s 198us/step - loss: 0.3090 - acc: 0.8647\n",
      "Epoch 35/40\n",
      "303/303 [==============================] - 0s 185us/step - loss: 0.3081 - acc: 0.8647\n",
      "Epoch 36/40\n",
      "303/303 [==============================] - 0s 168us/step - loss: 0.3064 - acc: 0.8647\n",
      "Epoch 37/40\n",
      "303/303 [==============================] - 0s 162us/step - loss: 0.3051 - acc: 0.8647\n",
      "Epoch 38/40\n",
      "303/303 [==============================] - 0s 182us/step - loss: 0.3040 - acc: 0.8647\n",
      "Epoch 39/40\n",
      "303/303 [==============================] - 0s 195us/step - loss: 0.3029 - acc: 0.8647\n",
      "Epoch 40/40\n",
      "303/303 [==============================] - 0s 168us/step - loss: 0.3016 - acc: 0.8647\n"
     ]
    }
   ],
   "source": [
    "def create_model():\n",
    "    model = Sequential()\n",
    "    model.add(Dense(12, input_dim=13, activation='relu'))\n",
    "    model.add(Dense(1, activation='sigmoid'))\n",
    "    model.compile(loss='binary_crossentropy', optimizer='adam',\n",
    "                metrics=['accuracy'])\n",
    "    return model\n",
    "\n",
    "model = KerasClassifier(build_fn=create_model, verbose=1)\n",
    "param_grid = {\n",
    "    'batch_size': [10, 20, 40, 50],\n",
    "    'epochs': [20, 40]\n",
    "}\n",
    "grid = GridSearchCV(\n",
    "    estimator=model, \n",
    "    param_grid=param_grid, \n",
    "    cv=3,\n",
    "    n_jobs=-1,\n",
    ")\n",
    "grid_result = grid.fit(X, y)"
   ]
  },
  {
   "cell_type": "code",
   "execution_count": 194,
   "metadata": {},
   "outputs": [
    {
     "data": {
      "text/html": [
       "<div>\n",
       "<style scoped>\n",
       "    .dataframe tbody tr th:only-of-type {\n",
       "        vertical-align: middle;\n",
       "    }\n",
       "\n",
       "    .dataframe tbody tr th {\n",
       "        vertical-align: top;\n",
       "    }\n",
       "\n",
       "    .dataframe thead th {\n",
       "        text-align: right;\n",
       "    }\n",
       "</style>\n",
       "<table border=\"1\" class=\"dataframe\">\n",
       "  <thead>\n",
       "    <tr style=\"text-align: right;\">\n",
       "      <th></th>\n",
       "      <th>mean</th>\n",
       "      <th>Stdev</th>\n",
       "      <th>params</th>\n",
       "    </tr>\n",
       "  </thead>\n",
       "  <tbody>\n",
       "    <tr>\n",
       "      <th>1</th>\n",
       "      <td>0.683168</td>\n",
       "      <td>0.105094</td>\n",
       "      <td>{'batch_size': 10, 'epochs': 40}</td>\n",
       "    </tr>\n",
       "    <tr>\n",
       "      <th>7</th>\n",
       "      <td>0.669967</td>\n",
       "      <td>0.082969</td>\n",
       "      <td>{'batch_size': 50, 'epochs': 40}</td>\n",
       "    </tr>\n",
       "    <tr>\n",
       "      <th>3</th>\n",
       "      <td>0.646865</td>\n",
       "      <td>0.109758</td>\n",
       "      <td>{'batch_size': 20, 'epochs': 40}</td>\n",
       "    </tr>\n",
       "    <tr>\n",
       "      <th>4</th>\n",
       "      <td>0.636964</td>\n",
       "      <td>0.089048</td>\n",
       "      <td>{'batch_size': 40, 'epochs': 20}</td>\n",
       "    </tr>\n",
       "    <tr>\n",
       "      <th>0</th>\n",
       "      <td>0.610561</td>\n",
       "      <td>0.163358</td>\n",
       "      <td>{'batch_size': 10, 'epochs': 20}</td>\n",
       "    </tr>\n",
       "    <tr>\n",
       "      <th>2</th>\n",
       "      <td>0.587459</td>\n",
       "      <td>0.153030</td>\n",
       "      <td>{'batch_size': 20, 'epochs': 20}</td>\n",
       "    </tr>\n",
       "    <tr>\n",
       "      <th>6</th>\n",
       "      <td>0.570957</td>\n",
       "      <td>0.128924</td>\n",
       "      <td>{'batch_size': 50, 'epochs': 20}</td>\n",
       "    </tr>\n",
       "    <tr>\n",
       "      <th>5</th>\n",
       "      <td>0.561056</td>\n",
       "      <td>0.128924</td>\n",
       "      <td>{'batch_size': 40, 'epochs': 40}</td>\n",
       "    </tr>\n",
       "  </tbody>\n",
       "</table>\n",
       "</div>"
      ],
      "text/plain": [
       "       mean     Stdev                            params\n",
       "1  0.683168  0.105094  {'batch_size': 10, 'epochs': 40}\n",
       "7  0.669967  0.082969  {'batch_size': 50, 'epochs': 40}\n",
       "3  0.646865  0.109758  {'batch_size': 20, 'epochs': 40}\n",
       "4  0.636964  0.089048  {'batch_size': 40, 'epochs': 20}\n",
       "0  0.610561  0.163358  {'batch_size': 10, 'epochs': 20}\n",
       "2  0.587459  0.153030  {'batch_size': 20, 'epochs': 20}\n",
       "6  0.570957  0.128924  {'batch_size': 50, 'epochs': 20}\n",
       "5  0.561056  0.128924  {'batch_size': 40, 'epochs': 40}"
      ]
     },
     "execution_count": 194,
     "metadata": {},
     "output_type": "execute_result"
    }
   ],
   "source": [
    "retults = pd.DataFrame({\n",
    "    'mean': grid_result.cv_results_['mean_test_score'], \n",
    "    'Stdev': grid_result.cv_results_['std_test_score'], \n",
    "    'params': grid_result.cv_results_['params']}\n",
    ")\n",
    "\n",
    "retults.sort_values('mean', ascending=False)"
   ]
  }
 ],
 "metadata": {
  "colab": {
   "name": "DS43SC.ipynb",
   "provenance": [],
   "version": "0.3.2"
  },
  "kernelspec": {
   "display_name": "Python 3",
   "language": "python",
   "name": "python3"
  },
  "language_info": {
   "codemirror_mode": {
    "name": "ipython",
    "version": 3
   },
   "file_extension": ".py",
   "mimetype": "text/x-python",
   "name": "python",
   "nbconvert_exporter": "python",
   "pygments_lexer": "ipython3",
   "version": "3.6.4"
  }
 },
 "nbformat": 4,
 "nbformat_minor": 1
}
