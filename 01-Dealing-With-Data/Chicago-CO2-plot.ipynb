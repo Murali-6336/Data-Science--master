{
  "nbformat": 4,
  "nbformat_minor": 0,
  "metadata": {
    "colab": {
      "name": "WalkieTalkie ",
      "version": "0.3.2",
      "provenance": [],
      "include_colab_link": true
    },
    "kernelspec": {
      "name": "python3",
      "display_name": "Python 3"
    }
  },
  "cells": [
    {
      "cell_type": "markdown",
      "metadata": {
        "id": "view-in-github",
        "colab_type": "text"
      },
      "source": [
        "<a href=\"https://colab.research.google.com/github/chrisluedtke/DS-Sprint-01-Dealing-With-Data/blob/master/WalkieTalkie-Chicago-CO2-plot.ipynb\" target=\"_parent\"><img src=\"https://colab.research.google.com/assets/colab-badge.svg\" alt=\"Open In Colab\"/></a>"
      ]
    },
    {
      "metadata": {
        "id": "u49ilJEtOxsj",
        "colab_type": "code",
        "colab": {}
      },
      "cell_type": "code",
      "source": [
        "import pandas as pd\n",
        "import numpy as np\n",
        "\n",
        "url = \"https://s3.amazonaws.com/aot-tarballs/chicago-complete.daily.2018-12-30.tar\"\n",
        "root = 'chicago-complete.daily.2018-12-30/'\n",
        "\n",
        "nodes = pd.read_csv(root+'nodes.csv', h)\n",
        "sensors = pd.read_csv(root+'sensors.csv')"
      ],
      "execution_count": 0,
      "outputs": []
    },
    {
      "metadata": {
        "id": "9TtiBCJiRfEM",
        "colab_type": "text"
      },
      "cell_type": "markdown",
      "source": [
        "!ls chicago-complete.daily.2018-12-30\n"
      ]
    },
    {
      "metadata": {
        "id": "S16gkFBvRQ2c",
        "colab_type": "code",
        "colab": {}
      },
      "cell_type": "code",
      "source": [
        "data = pd.read_csv(root+'data.csv.gz', compression='gzip')"
      ],
      "execution_count": 0,
      "outputs": []
    },
    {
      "metadata": {
        "id": "Vp0qUBTjS5Sv",
        "colab_type": "code",
        "outputId": "472de802-4948-4d2a-c425-b3c595ebc713",
        "colab": {
          "base_uri": "https://localhost:8080/",
          "height": 677
        }
      },
      "cell_type": "code",
      "source": [
        "data.head(1)"
      ],
      "execution_count": 0,
      "outputs": [
        {
          "output_type": "execute_result",
          "data": {
            "text/html": [
              "<div>\n",
              "<style scoped>\n",
              "    .dataframe tbody tr th:only-of-type {\n",
              "        vertical-align: middle;\n",
              "    }\n",
              "\n",
              "    .dataframe tbody tr th {\n",
              "        vertical-align: top;\n",
              "    }\n",
              "\n",
              "    .dataframe thead th {\n",
              "        text-align: right;\n",
              "    }\n",
              "</style>\n",
              "<table border=\"1\" class=\"dataframe\">\n",
              "  <thead>\n",
              "    <tr style=\"text-align: right;\">\n",
              "      <th></th>\n",
              "      <th>timestamp</th>\n",
              "      <th>node_id</th>\n",
              "      <th>subsystem</th>\n",
              "      <th>sensor</th>\n",
              "      <th>parameter</th>\n",
              "      <th>value_raw</th>\n",
              "      <th>value_hrf</th>\n",
              "    </tr>\n",
              "  </thead>\n",
              "  <tbody>\n",
              "    <tr>\n",
              "      <th>0</th>\n",
              "      <td>2018/12/30 00:00:00</td>\n",
              "      <td>001e06113cf1</td>\n",
              "      <td>chemsense</td>\n",
              "      <td>at0</td>\n",
              "      <td>temperature</td>\n",
              "      <td>-19.0</td>\n",
              "      <td>-0.19</td>\n",
              "    </tr>\n",
              "    <tr>\n",
              "      <th>1</th>\n",
              "      <td>2018/12/30 00:00:00</td>\n",
              "      <td>001e06113cf1</td>\n",
              "      <td>chemsense</td>\n",
              "      <td>at1</td>\n",
              "      <td>temperature</td>\n",
              "      <td>16.0</td>\n",
              "      <td>0.16</td>\n",
              "    </tr>\n",
              "    <tr>\n",
              "      <th>2</th>\n",
              "      <td>2018/12/30 00:00:00</td>\n",
              "      <td>001e06113cf1</td>\n",
              "      <td>chemsense</td>\n",
              "      <td>at2</td>\n",
              "      <td>temperature</td>\n",
              "      <td>90.0</td>\n",
              "      <td>0.9</td>\n",
              "    </tr>\n",
              "    <tr>\n",
              "      <th>3</th>\n",
              "      <td>2018/12/30 00:00:00</td>\n",
              "      <td>001e06113cf1</td>\n",
              "      <td>chemsense</td>\n",
              "      <td>at3</td>\n",
              "      <td>temperature</td>\n",
              "      <td>139.0</td>\n",
              "      <td>1.39</td>\n",
              "    </tr>\n",
              "    <tr>\n",
              "      <th>4</th>\n",
              "      <td>2018/12/30 00:00:00</td>\n",
              "      <td>001e06113cf1</td>\n",
              "      <td>chemsense</td>\n",
              "      <td>chemsense</td>\n",
              "      <td>id</td>\n",
              "      <td>NaN</td>\n",
              "      <td>5410ec38b824</td>\n",
              "    </tr>\n",
              "    <tr>\n",
              "      <th>5</th>\n",
              "      <td>2018/12/30 00:00:00</td>\n",
              "      <td>001e06113cf1</td>\n",
              "      <td>chemsense</td>\n",
              "      <td>co</td>\n",
              "      <td>concentration</td>\n",
              "      <td>1120.0</td>\n",
              "      <td>-0.11275</td>\n",
              "    </tr>\n",
              "    <tr>\n",
              "      <th>6</th>\n",
              "      <td>2018/12/30 00:00:00</td>\n",
              "      <td>001e06113cf1</td>\n",
              "      <td>chemsense</td>\n",
              "      <td>h2s</td>\n",
              "      <td>concentration</td>\n",
              "      <td>863.0</td>\n",
              "      <td>0.01587</td>\n",
              "    </tr>\n",
              "    <tr>\n",
              "      <th>7</th>\n",
              "      <td>2018/12/30 00:00:00</td>\n",
              "      <td>001e06113cf1</td>\n",
              "      <td>chemsense</td>\n",
              "      <td>lps25h</td>\n",
              "      <td>pressure</td>\n",
              "      <td>100318.0</td>\n",
              "      <td>1003.18</td>\n",
              "    </tr>\n",
              "    <tr>\n",
              "      <th>8</th>\n",
              "      <td>2018/12/30 00:00:00</td>\n",
              "      <td>001e06113cf1</td>\n",
              "      <td>chemsense</td>\n",
              "      <td>lps25h</td>\n",
              "      <td>temperature</td>\n",
              "      <td>330.0</td>\n",
              "      <td>3.3</td>\n",
              "    </tr>\n",
              "    <tr>\n",
              "      <th>9</th>\n",
              "      <td>2018/12/30 00:00:00</td>\n",
              "      <td>001e06113cf1</td>\n",
              "      <td>chemsense</td>\n",
              "      <td>no2</td>\n",
              "      <td>concentration</td>\n",
              "      <td>877.0</td>\n",
              "      <td>0.02526</td>\n",
              "    </tr>\n",
              "    <tr>\n",
              "      <th>10</th>\n",
              "      <td>2018/12/30 00:00:00</td>\n",
              "      <td>001e06113cf1</td>\n",
              "      <td>chemsense</td>\n",
              "      <td>o3</td>\n",
              "      <td>concentration</td>\n",
              "      <td>2863.0</td>\n",
              "      <td>0.0</td>\n",
              "    </tr>\n",
              "    <tr>\n",
              "      <th>11</th>\n",
              "      <td>2018/12/30 00:00:00</td>\n",
              "      <td>001e06113cf1</td>\n",
              "      <td>chemsense</td>\n",
              "      <td>oxidizing_gases</td>\n",
              "      <td>concentration</td>\n",
              "      <td>6201.0</td>\n",
              "      <td>0.23049</td>\n",
              "    </tr>\n",
              "    <tr>\n",
              "      <th>12</th>\n",
              "      <td>2018/12/30 00:00:00</td>\n",
              "      <td>001e06113cf1</td>\n",
              "      <td>chemsense</td>\n",
              "      <td>reducing_gases</td>\n",
              "      <td>concentration</td>\n",
              "      <td>2151.0</td>\n",
              "      <td>-0.00353</td>\n",
              "    </tr>\n",
              "    <tr>\n",
              "      <th>13</th>\n",
              "      <td>2018/12/30 00:00:00</td>\n",
              "      <td>001e06113cf1</td>\n",
              "      <td>chemsense</td>\n",
              "      <td>si1145</td>\n",
              "      <td>ir_intensity</td>\n",
              "      <td>262</td>\n",
              "      <td>NaN</td>\n",
              "    </tr>\n",
              "    <tr>\n",
              "      <th>14</th>\n",
              "      <td>2018/12/30 00:00:00</td>\n",
              "      <td>001e06113cf1</td>\n",
              "      <td>chemsense</td>\n",
              "      <td>si1145</td>\n",
              "      <td>uv_intensity</td>\n",
              "      <td>4</td>\n",
              "      <td>NaN</td>\n",
              "    </tr>\n",
              "    <tr>\n",
              "      <th>15</th>\n",
              "      <td>2018/12/30 00:00:00</td>\n",
              "      <td>001e06113cf1</td>\n",
              "      <td>chemsense</td>\n",
              "      <td>si1145</td>\n",
              "      <td>visible_light_intensity</td>\n",
              "      <td>267</td>\n",
              "      <td>NaN</td>\n",
              "    </tr>\n",
              "    <tr>\n",
              "      <th>16</th>\n",
              "      <td>2018/12/30 00:00:00</td>\n",
              "      <td>001e06113cf1</td>\n",
              "      <td>chemsense</td>\n",
              "      <td>so2</td>\n",
              "      <td>concentration</td>\n",
              "      <td>-612.0</td>\n",
              "      <td>-0.09439</td>\n",
              "    </tr>\n",
              "    <tr>\n",
              "      <th>17</th>\n",
              "      <td>2018/12/30 00:00:00</td>\n",
              "      <td>001e06113cf1</td>\n",
              "      <td>lightsense</td>\n",
              "      <td>apds_9006_020</td>\n",
              "      <td>intensity</td>\n",
              "      <td>38</td>\n",
              "      <td>3.054</td>\n",
              "    </tr>\n",
              "    <tr>\n",
              "      <th>18</th>\n",
              "      <td>2018/12/30 00:00:00</td>\n",
              "      <td>001e06113cf1</td>\n",
              "      <td>lightsense</td>\n",
              "      <td>hih6130</td>\n",
              "      <td>humidity</td>\n",
              "      <td>32196</td>\n",
              "      <td>96.51</td>\n",
              "    </tr>\n",
              "    <tr>\n",
              "      <th>19</th>\n",
              "      <td>2018/12/30 00:00:00</td>\n",
              "      <td>001e06113cf1</td>\n",
              "      <td>lightsense</td>\n",
              "      <td>hih6130</td>\n",
              "      <td>temperature</td>\n",
              "      <td>21097</td>\n",
              "      <td>13.12</td>\n",
              "    </tr>\n",
              "  </tbody>\n",
              "</table>\n",
              "</div>"
            ],
            "text/plain": [
              "              timestamp       node_id   subsystem           sensor  \\\n",
              "0   2018/12/30 00:00:00  001e06113cf1   chemsense              at0   \n",
              "1   2018/12/30 00:00:00  001e06113cf1   chemsense              at1   \n",
              "2   2018/12/30 00:00:00  001e06113cf1   chemsense              at2   \n",
              "3   2018/12/30 00:00:00  001e06113cf1   chemsense              at3   \n",
              "4   2018/12/30 00:00:00  001e06113cf1   chemsense        chemsense   \n",
              "5   2018/12/30 00:00:00  001e06113cf1   chemsense               co   \n",
              "6   2018/12/30 00:00:00  001e06113cf1   chemsense              h2s   \n",
              "7   2018/12/30 00:00:00  001e06113cf1   chemsense           lps25h   \n",
              "8   2018/12/30 00:00:00  001e06113cf1   chemsense           lps25h   \n",
              "9   2018/12/30 00:00:00  001e06113cf1   chemsense              no2   \n",
              "10  2018/12/30 00:00:00  001e06113cf1   chemsense               o3   \n",
              "11  2018/12/30 00:00:00  001e06113cf1   chemsense  oxidizing_gases   \n",
              "12  2018/12/30 00:00:00  001e06113cf1   chemsense   reducing_gases   \n",
              "13  2018/12/30 00:00:00  001e06113cf1   chemsense           si1145   \n",
              "14  2018/12/30 00:00:00  001e06113cf1   chemsense           si1145   \n",
              "15  2018/12/30 00:00:00  001e06113cf1   chemsense           si1145   \n",
              "16  2018/12/30 00:00:00  001e06113cf1   chemsense              so2   \n",
              "17  2018/12/30 00:00:00  001e06113cf1  lightsense    apds_9006_020   \n",
              "18  2018/12/30 00:00:00  001e06113cf1  lightsense          hih6130   \n",
              "19  2018/12/30 00:00:00  001e06113cf1  lightsense          hih6130   \n",
              "\n",
              "                  parameter value_raw     value_hrf  \n",
              "0               temperature     -19.0         -0.19  \n",
              "1               temperature      16.0          0.16  \n",
              "2               temperature      90.0           0.9  \n",
              "3               temperature     139.0          1.39  \n",
              "4                        id       NaN  5410ec38b824  \n",
              "5             concentration    1120.0      -0.11275  \n",
              "6             concentration     863.0       0.01587  \n",
              "7                  pressure  100318.0       1003.18  \n",
              "8               temperature     330.0           3.3  \n",
              "9             concentration     877.0       0.02526  \n",
              "10            concentration    2863.0           0.0  \n",
              "11            concentration    6201.0       0.23049  \n",
              "12            concentration    2151.0      -0.00353  \n",
              "13             ir_intensity       262           NaN  \n",
              "14             uv_intensity         4           NaN  \n",
              "15  visible_light_intensity       267           NaN  \n",
              "16            concentration    -612.0      -0.09439  \n",
              "17                intensity        38         3.054  \n",
              "18                 humidity     32196         96.51  \n",
              "19              temperature     21097         13.12  "
            ]
          },
          "metadata": {
            "tags": []
          },
          "execution_count": 33
        }
      ]
    },
    {
      "metadata": {
        "id": "sPeg0lDqTl_V",
        "colab_type": "code",
        "outputId": "94b93dc4-9bda-4a65-cbaf-c8674631eb7a",
        "colab": {
          "base_uri": "https://localhost:8080/",
          "height": 207
        }
      },
      "cell_type": "code",
      "source": [
        "nodes.head()"
      ],
      "execution_count": 0,
      "outputs": [
        {
          "output_type": "execute_result",
          "data": {
            "text/html": [
              "<div>\n",
              "<style scoped>\n",
              "    .dataframe tbody tr th:only-of-type {\n",
              "        vertical-align: middle;\n",
              "    }\n",
              "\n",
              "    .dataframe tbody tr th {\n",
              "        vertical-align: top;\n",
              "    }\n",
              "\n",
              "    .dataframe thead th {\n",
              "        text-align: right;\n",
              "    }\n",
              "</style>\n",
              "<table border=\"1\" class=\"dataframe\">\n",
              "  <thead>\n",
              "    <tr style=\"text-align: right;\">\n",
              "      <th></th>\n",
              "      <th>node_id</th>\n",
              "      <th>project_id</th>\n",
              "      <th>vsn</th>\n",
              "      <th>address</th>\n",
              "      <th>lat</th>\n",
              "      <th>lon</th>\n",
              "      <th>description</th>\n",
              "      <th>start_timestamp</th>\n",
              "      <th>end_timestamp</th>\n",
              "    </tr>\n",
              "  </thead>\n",
              "  <tbody>\n",
              "    <tr>\n",
              "      <th>0</th>\n",
              "      <td>001e0610ba46</td>\n",
              "      <td>AoT_Chicago</td>\n",
              "      <td>004</td>\n",
              "      <td>State St &amp; Jackson Blvd Chicago IL</td>\n",
              "      <td>41.878377</td>\n",
              "      <td>-87.627678</td>\n",
              "      <td>AoT Chicago (S) [C]</td>\n",
              "      <td>2017/10/09 00:00:00</td>\n",
              "      <td>NaN</td>\n",
              "    </tr>\n",
              "    <tr>\n",
              "      <th>1</th>\n",
              "      <td>001e0610ba3b</td>\n",
              "      <td>AoT_Chicago</td>\n",
              "      <td>006</td>\n",
              "      <td>18th St &amp; Lake Shore Dr Chicago IL</td>\n",
              "      <td>41.858136</td>\n",
              "      <td>-87.616055</td>\n",
              "      <td>AoT Chicago (S)</td>\n",
              "      <td>2017/08/08 00:00:00</td>\n",
              "      <td>NaN</td>\n",
              "    </tr>\n",
              "    <tr>\n",
              "      <th>2</th>\n",
              "      <td>001e0610ba8f</td>\n",
              "      <td>AoT_Chicago</td>\n",
              "      <td>00D</td>\n",
              "      <td>Cornell &amp; 47th St Chicago IL</td>\n",
              "      <td>41.810342</td>\n",
              "      <td>-87.590228</td>\n",
              "      <td>AoT Chicago (S)</td>\n",
              "      <td>2017/08/08 00:00:00</td>\n",
              "      <td>NaN</td>\n",
              "    </tr>\n",
              "    <tr>\n",
              "      <th>3</th>\n",
              "      <td>001e0610ba16</td>\n",
              "      <td>AoT_Chicago</td>\n",
              "      <td>010</td>\n",
              "      <td>Ohio St &amp; Grand Ave Chicago IL</td>\n",
              "      <td>41.891964</td>\n",
              "      <td>-87.611603</td>\n",
              "      <td>AoT Chicago (S) [C]</td>\n",
              "      <td>2017/12/01 00:00:00</td>\n",
              "      <td>2018/06/04 00:00:00</td>\n",
              "    </tr>\n",
              "    <tr>\n",
              "      <th>4</th>\n",
              "      <td>001e0610ba8b</td>\n",
              "      <td>AoT_Chicago</td>\n",
              "      <td>018</td>\n",
              "      <td>Stony Island Ave &amp; 63rd St Chicago IL</td>\n",
              "      <td>41.780600</td>\n",
              "      <td>-87.586456</td>\n",
              "      <td>AoT Chicago (S) [C]</td>\n",
              "      <td>2018/02/26 00:00:00</td>\n",
              "      <td>NaN</td>\n",
              "    </tr>\n",
              "  </tbody>\n",
              "</table>\n",
              "</div>"
            ],
            "text/plain": [
              "        node_id   project_id  vsn                                address  \\\n",
              "0  001e0610ba46  AoT_Chicago  004     State St & Jackson Blvd Chicago IL   \n",
              "1  001e0610ba3b  AoT_Chicago  006     18th St & Lake Shore Dr Chicago IL   \n",
              "2  001e0610ba8f  AoT_Chicago  00D           Cornell & 47th St Chicago IL   \n",
              "3  001e0610ba16  AoT_Chicago  010         Ohio St & Grand Ave Chicago IL   \n",
              "4  001e0610ba8b  AoT_Chicago  018  Stony Island Ave & 63rd St Chicago IL   \n",
              "\n",
              "         lat        lon          description      start_timestamp  \\\n",
              "0  41.878377 -87.627678  AoT Chicago (S) [C]  2017/10/09 00:00:00   \n",
              "1  41.858136 -87.616055      AoT Chicago (S)  2017/08/08 00:00:00   \n",
              "2  41.810342 -87.590228      AoT Chicago (S)  2017/08/08 00:00:00   \n",
              "3  41.891964 -87.611603  AoT Chicago (S) [C]  2017/12/01 00:00:00   \n",
              "4  41.780600 -87.586456  AoT Chicago (S) [C]  2018/02/26 00:00:00   \n",
              "\n",
              "         end_timestamp  \n",
              "0                  NaN  \n",
              "1                  NaN  \n",
              "2                  NaN  \n",
              "3  2018/06/04 00:00:00  \n",
              "4                  NaN  "
            ]
          },
          "metadata": {
            "tags": []
          },
          "execution_count": 41
        }
      ]
    },
    {
      "metadata": {
        "id": "ZBDojVBPR-tS",
        "colab_type": "code",
        "colab": {}
      },
      "cell_type": "code",
      "source": [
        "data = data.merge(nodes, how='left')"
      ],
      "execution_count": 0,
      "outputs": []
    },
    {
      "metadata": {
        "id": "xYx3ypAKSPIC",
        "colab_type": "code",
        "outputId": "21b598fa-fb78-4482-fb3e-4ee6dcdfc320",
        "colab": {
          "base_uri": "https://localhost:8080/",
          "height": 364
        }
      },
      "cell_type": "code",
      "source": [
        "import matplotlib.pyplot as plt\n",
        "\n",
        "plt.scatter(data['lon'], data['lat'])\n",
        "plt.show()"
      ],
      "execution_count": 0,
      "outputs": [
        {
          "output_type": "execute_result",
          "data": {
            "text/plain": [
              "<matplotlib.collections.PathCollection at 0x7f0ccf46a5f8>"
            ]
          },
          "metadata": {
            "tags": []
          },
          "execution_count": 59
        },
        {
          "output_type": "display_data",
          "data": {
            "image/png": "[encoded data removed]",
            "text/plain": [
              "<matplotlib.figure.Figure at 0x7f0cc8e9b4a8>"
            ]
          },
          "metadata": {
            "tags": []
          }
        }
      ]
    },
    {
      "metadata": {
        "id": "KtRrm7WXUUsr",
        "colab_type": "code",
        "outputId": "ff9e0d37-a188-45f3-81ac-5b4c9b02f364",
        "colab": {
          "base_uri": "https://localhost:8080/",
          "height": 364
        }
      },
      "cell_type": "code",
      "source": [
        "\n",
        "co2_data = data[['sensor', 'lon', 'lat', 'value_raw']]\n",
        "parsed_data = co2_data.loc[co2_data['sensor'] == 'co'].dropna()\n",
        "\n",
        "plt.scatter(parsed_data['lon'], parsed_data['lat'])"
      ],
      "execution_count": 0,
      "outputs": [
        {
          "output_type": "execute_result",
          "data": {
            "text/plain": [
              "<matplotlib.collections.PathCollection at 0x7f0ccde0cc88>"
            ]
          },
          "metadata": {
            "tags": []
          },
          "execution_count": 72
        },
        {
          "output_type": "display_data",
          "data": {
            "image/png": "[encoded data removed]",
            "text/plain": [
              "<matplotlib.figure.Figure at 0x7f0ccdc47048>"
            ]
          },
          "metadata": {
            "tags": []
          }
        }
      ]
    },
    {
      "metadata": {
        "id": "fVUKcwzuX01N",
        "colab_type": "code",
        "outputId": "b673cbb8-2306-40cc-fc03-34911bbe40be",
        "colab": {
          "base_uri": "https://localhost:8080/",
          "height": 403
        }
      },
      "cell_type": "code",
      "source": [
        "plt.scatter(parsed_data['lon'], parsed_data['lat'], s=pd.to_numeric(parsed_data['value_raw'])*0.01)"
      ],
      "execution_count": 0,
      "outputs": [
        {
          "output_type": "stream",
          "text": [
            "/usr/local/lib/python3.6/dist-packages/matplotlib/collections.py:853: RuntimeWarning: invalid value encountered in sqrt\n",
            "  scale = np.sqrt(self._sizes) * dpi / 72.0 * self._factor\n"
          ],
          "name": "stderr"
        },
        {
          "output_type": "execute_result",
          "data": {
            "text/plain": [
              "<matplotlib.collections.PathCollection at 0x7f0ccdd88fd0>"
            ]
          },
          "metadata": {
            "tags": []
          },
          "execution_count": 79
        },
        {
          "output_type": "display_data",
          "data": {
            "image/png": "[encoded data removed]",
            "text/plain": [
              "<matplotlib.figure.Figure at 0x7f0ccddedd30>"
            ]
          },
          "metadata": {
            "tags": []
          }
        }
      ]
    },
    {
      "metadata": {
        "id": "cNexc0EUYCZu",
        "colab_type": "code",
        "colab": {}
      },
      "cell_type": "code",
      "source": [
        ""
      ],
      "execution_count": 0,
      "outputs": []
    }
  ]
}