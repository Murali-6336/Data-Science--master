{
 "cells": [
  {
   "cell_type": "markdown",
   "metadata": {
    "colab_type": "text",
    "id": "ayDccRP01GJD"
   },
   "source": [
    "# Sprint Challenge"
   ]
  },
  {
   "cell_type": "code",
   "execution_count": 3,
   "metadata": {},
   "outputs": [],
   "source": [
    "import matplotlib.pyplot as plt\n",
    "import pandas as pd\n",
    "from sklearn.metrics import mean_squared_error\n",
    "from sklearn.model_selection import train_test_split\n",
    "from sklearn.linear_model import LogisticRegression\n",
    "from sklearn.preprocessing import scale, minmax_scale\n",
    "# personal library\n",
    "# !pip install --upgrade git+https://github.com/chrisluedtke/clued.git\n",
    "from clued.get_data import get_uci_data_urls\n",
    "\n",
    "plt.style.use('seaborn')"
   ]
  },
  {
   "cell_type": "markdown",
   "metadata": {
    "colab_type": "text",
    "id": "ayDccRP01GJD"
   },
   "source": [
    "## Logistic Regression and Beyond\n",
    "\n",
    "In this sprint challenge you will fit a logistic regression modeling the probability of an adult having an income above 50K. The dataset is available at UCI:\n",
    "\n",
    "https://archive.ics.uci.edu/ml/datasets/adult\n",
    "\n",
    "It has a variety of features - some are continuous, but many are categorical.\n",
    "\n",
    "The features have dramatically different ranges. You may find [sklearn.preprocessing.minmax_scale](https://scikit-learn.org/stable/modules/generated/sklearn.preprocessing.minmax_scale.html#sklearn.preprocessing.minmax_scale) helpful!"
   ]
  },
  {
   "cell_type": "markdown",
   "metadata": {
    "colab_type": "text",
    "id": "U22R1Ud51hxb"
   },
   "source": [
    "## Part 1 - Load, validate, and prepare data\n",
    "\n",
    "The data is available at: https://archive.ics.uci.edu/ml/datasets/adult\n",
    "\n",
    "Load it, name the columns, and make sure that you've loaded the data successfully. Note that missing values for categorical variables can essentially be considered another category (\"unknown\"), and may not need to be dropped.\n",
    "\n",
    "You should also prepare the data for logistic regression - one-hot encode categorical features as appropriate."
   ]
  },
  {
   "cell_type": "code",
   "execution_count": 4,
   "metadata": {},
   "outputs": [
    {
     "name": "stdout",
     "output_type": "stream",
     "text": [
      "https://archive.ics.uci.edu/ml/machine-learning-databases/adult/adult.data\n",
      "https://archive.ics.uci.edu/ml/machine-learning-databases/adult/adult.names\n"
     ]
    }
   ],
   "source": [
    "data_urls = get_uci_data_urls('https://archive.ics.uci.edu/ml/datasets/adult')"
   ]
  },
  {
   "cell_type": "code",
   "execution_count": 5,
   "metadata": {},
   "outputs": [],
   "source": [
    "data_dict = {\n",
    "    'age': 'continuous',\n",
    "    'workclass': ('Private, Self-emp-not-inc, Self-emp-inc, Federal-gov, '\n",
    "                  'Local-gov, State-gov, Without-pay, Never-worked'),\n",
    "    'fnlwgt': 'continuous',\n",
    "    'education': ('Bachelors, Some-college, 11th, HS-grad, Prof-school, '\n",
    "                  'Assoc-acdm, Assoc-voc, 9th, 7th-8th, 12th, Masters, '\n",
    "                  '1st-4th, 10th, Doctorate, 5th-6th, Preschool'),\n",
    "    'education-num': 'continuous',\n",
    "    'marital-status': ('Married-civ-spouse, Divorced, Never-married, '\n",
    "                       'Separated, Widowed, Married-spouse-absent, '\n",
    "                       'Married-AF-spouse'),\n",
    "    'occupation': ('Tech-support, Craft-repair, Other-service, Sales, '\n",
    "                   'Exec-managerial, Prof-specialty, Handlers-cleaners, '\n",
    "                   'Machine-op-inspct, Adm-clerical, Farming-fishing, '\n",
    "                   'Transport-moving, Priv-house-serv, Protective-serv, '\n",
    "                   'Armed-Forces'),\n",
    "    'relationship': ('Wife, Own-child, Husband, Not-in-family, '\n",
    "                     'Other-relative, Unmarried'),\n",
    "    'race': 'White, Asian-Pac-Islander, Amer-Indian-Eskimo, Other, Black',\n",
    "    'sex': 'Female, Male',\n",
    "    'capital-gain': 'continuous',\n",
    "    'capital-loss': 'continuous',\n",
    "    'hours-per-week': 'continuous',\n",
    "    'native-country': ('United-States, Cambodia, England, Puerto-Rico, '\n",
    "                       'Canada, Germany, Outlying-US(Guam-USVI-etc), India, '\n",
    "                       'Japan, Greece, South, China, Cuba, Iran, Honduras, '\n",
    "                       'Philippines, Italy, Poland, Jamaica, Vietnam, Mexico, '\n",
    "                       'Portugal, Ireland, France, Dominican-Republic, Laos, '\n",
    "                       'Ecuador, Taiwan, Haiti, Columbia, Hungary, Guatemala, '\n",
    "                       'Nicaragua, Scotland, Thailand, Yugoslavia, El-Salvador, '\n",
    "                       'Trinadad&Tobago, Peru, Hong, Holand-Netherlands'),\n",
    "    'income': '>50K, <=50K',\n",
    "}"
   ]
  },
  {
   "cell_type": "code",
   "execution_count": 6,
   "metadata": {},
   "outputs": [],
   "source": [
    "df = pd.read_csv(data_urls[0], header=None, names=data_dict.keys())"
   ]
  },
  {
   "cell_type": "code",
   "execution_count": 7,
   "metadata": {},
   "outputs": [
    {
     "data": {
      "text/html": [
       "<div>\n",
       "<style scoped>\n",
       "    .dataframe tbody tr th:only-of-type {\n",
       "        vertical-align: middle;\n",
       "    }\n",
       "\n",
       "    .dataframe tbody tr th {\n",
       "        vertical-align: top;\n",
       "    }\n",
       "\n",
       "    .dataframe thead th {\n",
       "        text-align: right;\n",
       "    }\n",
       "</style>\n",
       "<table border=\"1\" class=\"dataframe\">\n",
       "  <thead>\n",
       "    <tr style=\"text-align: right;\">\n",
       "      <th></th>\n",
       "      <th>age</th>\n",
       "      <th>workclass</th>\n",
       "      <th>fnlwgt</th>\n",
       "      <th>education</th>\n",
       "      <th>education-num</th>\n",
       "      <th>marital-status</th>\n",
       "      <th>occupation</th>\n",
       "      <th>relationship</th>\n",
       "      <th>race</th>\n",
       "      <th>sex</th>\n",
       "      <th>capital-gain</th>\n",
       "      <th>capital-loss</th>\n",
       "      <th>hours-per-week</th>\n",
       "      <th>native-country</th>\n",
       "      <th>income</th>\n",
       "    </tr>\n",
       "  </thead>\n",
       "  <tbody>\n",
       "    <tr>\n",
       "      <th>0</th>\n",
       "      <td>39</td>\n",
       "      <td>State-gov</td>\n",
       "      <td>77516</td>\n",
       "      <td>Bachelors</td>\n",
       "      <td>13</td>\n",
       "      <td>Never-married</td>\n",
       "      <td>Adm-clerical</td>\n",
       "      <td>Not-in-family</td>\n",
       "      <td>White</td>\n",
       "      <td>Male</td>\n",
       "      <td>2174</td>\n",
       "      <td>0</td>\n",
       "      <td>40</td>\n",
       "      <td>United-States</td>\n",
       "      <td>&lt;=50K</td>\n",
       "    </tr>\n",
       "    <tr>\n",
       "      <th>1</th>\n",
       "      <td>50</td>\n",
       "      <td>Self-emp-not-inc</td>\n",
       "      <td>83311</td>\n",
       "      <td>Bachelors</td>\n",
       "      <td>13</td>\n",
       "      <td>Married-civ-spouse</td>\n",
       "      <td>Exec-managerial</td>\n",
       "      <td>Husband</td>\n",
       "      <td>White</td>\n",
       "      <td>Male</td>\n",
       "      <td>0</td>\n",
       "      <td>0</td>\n",
       "      <td>13</td>\n",
       "      <td>United-States</td>\n",
       "      <td>&lt;=50K</td>\n",
       "    </tr>\n",
       "    <tr>\n",
       "      <th>2</th>\n",
       "      <td>38</td>\n",
       "      <td>Private</td>\n",
       "      <td>215646</td>\n",
       "      <td>HS-grad</td>\n",
       "      <td>9</td>\n",
       "      <td>Divorced</td>\n",
       "      <td>Handlers-cleaners</td>\n",
       "      <td>Not-in-family</td>\n",
       "      <td>White</td>\n",
       "      <td>Male</td>\n",
       "      <td>0</td>\n",
       "      <td>0</td>\n",
       "      <td>40</td>\n",
       "      <td>United-States</td>\n",
       "      <td>&lt;=50K</td>\n",
       "    </tr>\n",
       "    <tr>\n",
       "      <th>3</th>\n",
       "      <td>53</td>\n",
       "      <td>Private</td>\n",
       "      <td>234721</td>\n",
       "      <td>11th</td>\n",
       "      <td>7</td>\n",
       "      <td>Married-civ-spouse</td>\n",
       "      <td>Handlers-cleaners</td>\n",
       "      <td>Husband</td>\n",
       "      <td>Black</td>\n",
       "      <td>Male</td>\n",
       "      <td>0</td>\n",
       "      <td>0</td>\n",
       "      <td>40</td>\n",
       "      <td>United-States</td>\n",
       "      <td>&lt;=50K</td>\n",
       "    </tr>\n",
       "    <tr>\n",
       "      <th>4</th>\n",
       "      <td>28</td>\n",
       "      <td>Private</td>\n",
       "      <td>338409</td>\n",
       "      <td>Bachelors</td>\n",
       "      <td>13</td>\n",
       "      <td>Married-civ-spouse</td>\n",
       "      <td>Prof-specialty</td>\n",
       "      <td>Wife</td>\n",
       "      <td>Black</td>\n",
       "      <td>Female</td>\n",
       "      <td>0</td>\n",
       "      <td>0</td>\n",
       "      <td>40</td>\n",
       "      <td>Cuba</td>\n",
       "      <td>&lt;=50K</td>\n",
       "    </tr>\n",
       "  </tbody>\n",
       "</table>\n",
       "</div>"
      ],
      "text/plain": [
       "   age          workclass  fnlwgt   education  education-num  \\\n",
       "0   39          State-gov   77516   Bachelors             13   \n",
       "1   50   Self-emp-not-inc   83311   Bachelors             13   \n",
       "2   38            Private  215646     HS-grad              9   \n",
       "3   53            Private  234721        11th              7   \n",
       "4   28            Private  338409   Bachelors             13   \n",
       "\n",
       "        marital-status          occupation    relationship    race      sex  \\\n",
       "0        Never-married        Adm-clerical   Not-in-family   White     Male   \n",
       "1   Married-civ-spouse     Exec-managerial         Husband   White     Male   \n",
       "2             Divorced   Handlers-cleaners   Not-in-family   White     Male   \n",
       "3   Married-civ-spouse   Handlers-cleaners         Husband   Black     Male   \n",
       "4   Married-civ-spouse      Prof-specialty            Wife   Black   Female   \n",
       "\n",
       "   capital-gain  capital-loss  hours-per-week  native-country  income  \n",
       "0          2174             0              40   United-States   <=50K  \n",
       "1             0             0              13   United-States   <=50K  \n",
       "2             0             0              40   United-States   <=50K  \n",
       "3             0             0              40   United-States   <=50K  \n",
       "4             0             0              40            Cuba   <=50K  "
      ]
     },
     "execution_count": 7,
     "metadata": {},
     "output_type": "execute_result"
    }
   ],
   "source": [
    "df.head()"
   ]
  },
  {
   "cell_type": "code",
   "execution_count": 8,
   "metadata": {},
   "outputs": [
    {
     "data": {
      "text/plain": [
       "age                int64\n",
       "workclass         object\n",
       "fnlwgt             int64\n",
       "education         object\n",
       "education-num      int64\n",
       "marital-status    object\n",
       "occupation        object\n",
       "relationship      object\n",
       "race              object\n",
       "sex               object\n",
       "capital-gain       int64\n",
       "capital-loss       int64\n",
       "hours-per-week     int64\n",
       "native-country    object\n",
       "income            object\n",
       "dtype: object"
      ]
     },
     "execution_count": 8,
     "metadata": {},
     "output_type": "execute_result"
    }
   ],
   "source": [
    "df.dtypes"
   ]
  },
  {
   "cell_type": "code",
   "execution_count": 10,
   "metadata": {},
   "outputs": [
    {
     "name": "stdout",
     "output_type": "stream",
     "text": [
      "workclass {'?'}\n",
      "education set()\n",
      "marital-status set()\n",
      "occupation {'?'}\n",
      "relationship set()\n",
      "race set()\n",
      "sex set()\n",
      "native-country {'?'}\n",
      "income set()\n"
     ]
    }
   ],
   "source": [
    "for col in df.select_dtypes('object'):\n",
    "    df[col] = df[col].str.strip()\n",
    "\n",
    "for col in df.select_dtypes('object'):\n",
    "    print(col, set(df[col].unique()) - set(data_dict[col].split(', ')))"
   ]
  },
  {
   "cell_type": "code",
   "execution_count": 11,
   "metadata": {},
   "outputs": [],
   "source": [
    "df = df.replace({'?':'unknown'})"
   ]
  },
  {
   "cell_type": "code",
   "execution_count": 12,
   "metadata": {},
   "outputs": [],
   "source": [
    "df[df.select_dtypes('number').columns] = \\\n",
    "    pd.DataFrame(minmax_scale(df.select_dtypes('number')))"
   ]
  },
  {
   "cell_type": "code",
   "execution_count": 13,
   "metadata": {},
   "outputs": [],
   "source": [
    "target = 'income'\n",
    "df[target] = df[target].map({'<=50K':0, '>50K':1})"
   ]
  },
  {
   "cell_type": "code",
   "execution_count": 14,
   "metadata": {},
   "outputs": [],
   "source": [
    "df = pd.get_dummies(df, drop_first=True)"
   ]
  },
  {
   "cell_type": "markdown",
   "metadata": {
    "colab_type": "text",
    "id": "RT1LFnFO1lo6"
   },
   "source": [
    "## Part 2 - Fit and present a Logistic Regression\n",
    "\n",
    "Your data should now be in a state to fit a logistic regression. Use scikit-learn, define your `X` (independent variable) and `y`, and fit a model.\n",
    "\n",
    "Then, present results - display coefficients in as interpretible a way as you can (hint - scaling the numeric features will help, as it will at least make coefficients more comparable to each other). If you find it helpful for interpretation, you can also generate predictions for cases (like our 5 year old rich kid on the Titanic) or make visualizations - but the goal is your exploration to be able to answer the question, not any particular plot (i.e. don't worry about polishing it).\n",
    "\n",
    "It is *optional* to use `train_test_split` or validate your model more generally - that is not the core focus for this week. So, it is suggested you focus on fitting a model first, and if you have time at the end you can do further validation."
   ]
  },
  {
   "cell_type": "code",
   "execution_count": 15,
   "metadata": {
    "colab": {},
    "colab_type": "code",
    "id": "s7fTRDXguD7N"
   },
   "outputs": [
    {
     "name": "stdout",
     "output_type": "stream",
     "text": [
      "0.8530616043178857\n"
     ]
    }
   ],
   "source": [
    "predictors = set(df.columns) - set([target])\n",
    "\n",
    "X = df[predictors].values\n",
    "y = df[target].values\n",
    "\n",
    "X_train, X_test, y_train, y_test = train_test_split(\n",
    "    X, y, test_size=0.33, random_state=42)\n",
    "\n",
    "model = LogisticRegression()\n",
    "model.fit(X_train, y_train)\n",
    "print(model.score(X_test, y_test))"
   ]
  },
  {
   "cell_type": "code",
   "execution_count": 16,
   "metadata": {
    "scrolled": false
   },
   "outputs": [
    {
     "data": {
      "text/plain": [
       "native-country_Columbia                      -1.565022\n",
       "occupation_Priv-house-serv                   -1.291779\n",
       "workclass_Without-pay                        -1.137950\n",
       "relationship_Own-child                       -1.126971\n",
       "native-country_Vietnam                       -1.056270\n",
       "workclass_Self-emp-not-inc                   -1.010868\n",
       "native-country_China                         -0.998063\n",
       "occupation_Farming-fishing                   -0.975103\n",
       "native-country_Dominican-Republic            -0.853772\n",
       "native-country_Puerto-Rico                   -0.844399\n",
       "workclass_State-gov                          -0.837062\n",
       "native-country_Greece                        -0.804934\n",
       "native-country_South                         -0.796763\n",
       "native-country_Outlying-US(Guam-USVI-etc)    -0.793093\n",
       "occupation_Other-service                     -0.783761\n",
       "education_5th-6th                            -0.774621\n",
       "occupation_unknown                           -0.755651\n",
       "workclass_Local-gov                          -0.734488\n",
       "occupation_Handlers-cleaners                 -0.716501\n",
       "native-country_Ecuador                       -0.685886\n",
       "education_Preschool                          -0.659784\n",
       "native-country_Peru                          -0.648917\n",
       "native-country_Laos                          -0.639028\n",
       "relationship_Other-relative                  -0.625650\n",
       "workclass_unknown                            -0.532512\n",
       "workclass_Private                            -0.530062\n",
       "education_7th-8th                            -0.493959\n",
       "marital-status_Never-married                 -0.471458\n",
       "native-country_Mexico                        -0.456720\n",
       "native-country_Hungary                       -0.446270\n",
       "                                               ...    \n",
       "native-country_Philippines                    0.266638\n",
       "occupation_Sales                              0.271684\n",
       "native-country_Taiwan                         0.276004\n",
       "native-country_Yugoslavia                     0.282683\n",
       "education_Some-college                        0.287833\n",
       "education_Assoc-acdm                          0.308831\n",
       "native-country_Japan                          0.339085\n",
       "native-country_England                        0.368341\n",
       "education_Assoc-voc                           0.395829\n",
       "occupation_Prof-specialty                     0.458630\n",
       "native-country_Ireland                        0.464573\n",
       "native-country_France                         0.528574\n",
       "occupation_Protective-serv                    0.562038\n",
       "occupation_Tech-support                       0.670579\n",
       "occupation_Exec-managerial                    0.748128\n",
       "education_Bachelors                           0.759120\n",
       "sex_Male                                      0.779909\n",
       "fnlwgt                                        0.860812\n",
       "native-country_Italy                          0.902313\n",
       "education_Masters                             1.040028\n",
       "relationship_Wife                             1.309814\n",
       "education_Doctorate                           1.385030\n",
       "education_Prof-school                         1.439931\n",
       "marital-status_Married-AF-spouse              1.476403\n",
       "marital-status_Married-civ-spouse             1.591255\n",
       "education-num                                 1.591764\n",
       "age                                           1.778623\n",
       "capital-loss                                  2.237756\n",
       "hours-per-week                                2.656385\n",
       "capital-gain                                 15.435053\n",
       "Name: Coefficients, Length: 100, dtype: float64"
      ]
     },
     "execution_count": 16,
     "metadata": {},
     "output_type": "execute_result"
    }
   ],
   "source": [
    "coef_dict = {attr: coef for attr, coef in zip(predictors, model.coef_[0])}\n",
    "coefs = pd.Series(coef_dict, name='Coefficients').sort_values()\n",
    "coefs"
   ]
  },
  {
   "cell_type": "markdown",
   "metadata": {},
   "source": [
    "We should also check the residual plots, but that's beyond the scope of this sprint."
   ]
  },
  {
   "cell_type": "markdown",
   "metadata": {
    "colab_type": "text",
    "id": "BkIa-Sa21qdC"
   },
   "source": [
    "## Part 3 - Analysis, Interpretation, and Questions\n",
    "\n",
    "### Based on your above model, answer the following questions\n",
    "\n",
    "**3 features positively correlated with income above 50k?**"
   ]
  },
  {
   "cell_type": "code",
   "execution_count": 17,
   "metadata": {
    "scrolled": true
   },
   "outputs": [
    {
     "data": {
      "text/plain": [
       "capital-loss       2.237756\n",
       "hours-per-week     2.656385\n",
       "capital-gain      15.435053\n",
       "Name: Coefficients, dtype: float64"
      ]
     },
     "execution_count": 17,
     "metadata": {},
     "output_type": "execute_result"
    }
   ],
   "source": [
    "coefs[-3:]"
   ]
  },
  {
   "cell_type": "markdown",
   "metadata": {
    "colab_type": "text",
    "id": "BkIa-Sa21qdC"
   },
   "source": [
    "**3 features negatively correlated with income above 50k?**"
   ]
  },
  {
   "cell_type": "code",
   "execution_count": 18,
   "metadata": {},
   "outputs": [
    {
     "data": {
      "text/plain": [
       "native-country_Columbia      -1.565022\n",
       "occupation_Priv-house-serv   -1.291779\n",
       "workclass_Without-pay        -1.137950\n",
       "Name: Coefficients, dtype: float64"
      ]
     },
     "execution_count": 18,
     "metadata": {},
     "output_type": "execute_result"
    }
   ],
   "source": [
    "coefs[:3]"
   ]
  },
  {
   "cell_type": "markdown",
   "metadata": {
    "colab_type": "text",
    "id": "BkIa-Sa21qdC"
   },
   "source": [
    "**How well does the model explain the data and what insights do you derive from it?**"
   ]
  },
  {
   "cell_type": "code",
   "execution_count": 19,
   "metadata": {
    "scrolled": true
   },
   "outputs": [
    {
     "name": "stdout",
     "output_type": "stream",
     "text": [
      "0.8530616043178857\n"
     ]
    }
   ],
   "source": [
    "print(model.score(X_test, y_test))"
   ]
  },
  {
   "cell_type": "markdown",
   "metadata": {},
   "source": [
    "My model is 85% accurate. While some coefficients were obvious (`capital-gain`), it was interesting to see how different countries' coefficients compared. Of course, in analyses like this, we should be mindful not to draw causal inferences. However, these insights might inform more rigorous scientific study and experimentation."
   ]
  },
  {
   "cell_type": "code",
   "execution_count": 20,
   "metadata": {},
   "outputs": [],
   "source": [
    "# help(model.score) # this is simply sklearn.metrics.accuracy_score"
   ]
  },
  {
   "cell_type": "markdown",
   "metadata": {
    "colab_type": "text",
    "id": "BkIa-Sa21qdC"
   },
   "source": [
    "### Match the following situation descriptions with the model most appropriate to addressing them\n",
    "\n",
    "Pair the apppropriate regression model with the situations they are most appropriate for, and briefly explain why.\n",
    "\n",
    "1. You are given data on academic performance of primary school students, and asked to fit a model to help predict \"at-risk\" students who are likely to receive the bottom tier of grades.\n",
    "  * **Quantile Regression**. We want to assess a model that is fit for a given quantile of our response/target variable.\n",
    "2. You are studying tech companies and their patterns in releasing new products, and would like to be able to model and predict when a new product is likely to be launched.\n",
    "  * **Survival Analysis**. In this situation we have censored data (we don't know when products will be released that are not yet released).\n",
    "3. You are working on modeling expected plant size and yield with a laboratory that is able to capture fantastically detailed physical data about plants, but only of a few dozen plants at a time.\n",
    "  * **Ridge Regression**. This situation litely involves more features than observations. A ridge regression model helps tune the bias of our regression, which will help mitigate the chacen of overfitting."
   ]
  }
 ],
 "metadata": {
  "colab": {
   "name": "DS_Unit_2_Sprint_Challenge_3.ipynb",
   "provenance": [],
   "version": "0.3.2"
  },
  "kernelspec": {
   "display_name": "Python 3",
   "language": "python",
   "name": "python3"
  },
  "language_info": {
   "codemirror_mode": {
    "name": "ipython",
    "version": 3
   },
   "file_extension": ".py",
   "mimetype": "text/x-python",
   "name": "python",
   "nbconvert_exporter": "python",
   "pygments_lexer": "ipython3",
   "version": "3.6.4"
  }
 },
 "nbformat": 4,
 "nbformat_minor": 2
}
