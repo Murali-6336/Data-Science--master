{
 "cells": [
  {
   "cell_type": "markdown",
   "metadata": {
    "colab_type": "text",
    "id": "-eFju4_DDKeX"
   },
   "source": [
    "# Ridge Regression and Regularization\n",
    "\n",
    "Regularize your way to a better tomorrow."
   ]
  },
  {
   "cell_type": "code",
   "execution_count": 1,
   "metadata": {},
   "outputs": [],
   "source": [
    "import matplotlib.pyplot as plt\n",
    "import numpy as np\n",
    "import pandas as pd\n",
    "from sklearn.linear_model import LinearRegression\n",
    "from sklearn.linear_model import Ridge # NEW!\n",
    "from sklearn.linear_model import RidgeCV # NEW!\n",
    "from sklearn.metrics import mean_squared_error\n",
    "from sklearn.model_selection import train_test_split\n",
    "from sklearn.preprocessing import scale # NEW!\n",
    "\n",
    "plt.style.use('seaborn')"
   ]
  },
  {
   "cell_type": "markdown",
   "metadata": {},
   "source": [
    "**Resources**\n",
    "- [What is regularization in machine learning](https://www.quora.com/What-is-regularization-in-machine-learning) - quora\n",
    "- [how to use regularization to prevent model overfitting](https://blogs.sas.com/content/subconsciousmusings/2017/07/06/how-to-use-regularization-to-prevent-model-overfitting/) - The SAS Data Science Blog\n",
    "- [introduction to regularization to reduce overfitting and improve generalization error](https://machinelearningmastery.com/introduction-to-regularization-to-reduce-overfitting-and-improve-generalization-error/) - machinelearningmastery\n",
    "- [ridge and lasso regression a complete guide with-python scikit-learn](https://towardsdatascience.com/ridge-and-lasso-regression-a-complete-guide-with-python-scikit-learn-e20e34bcbf0b) - towardsdatascience\n",
    "- [Question about Standardizing in Ridge Regression](https://stats.stackexchange.com/questions/111017/question-about-standardizing-in-ridge-regression#111022) - stackexchange\n",
    "- [StatQuest: Regularization Part 1: Ridge](https://www.youtube.com/watch?v=Q81RR3yKn30) - YouTube\n",
    "- [StatQuest: Regularization Part 2: Lasso](https://www.youtube.com/watch?v=NGf0voTMlcs) - YouTube"
   ]
  },
  {
   "cell_type": "markdown",
   "metadata": {
    "colab_type": "text",
    "id": "5v5cBm19JxOj"
   },
   "source": [
    "## Well-Posed Problems\n",
    "\n",
    "Data science depends on math, and math is generally focused on situations where:\n",
    "\n",
    "1. a solution exists,\n",
    "2. the solution is unique,\n",
    "3. the solution's behavior changes continuously with the initial conditions.\n",
    "\n",
    "These are known as [well-posed problems](https://en.wikipedia.org/wiki/Well-posed_problem), and are the sorts of assumptions so core in traditional techniques that it is easy to forget about them. But they do matter, as there can be exceptions:\n",
    "\n",
    "1. no solution - e.g. no $x$ such that $Ax = b$\n",
    "2. multiple solutions - e.g. several $x_1, x_2, ...$ such that $Ax = b$\n",
    "3. \"chaotic\" systems - situations where small changes in initial conditions interact and reverberate in essentially unpredictable ways - for instance, the difficulty in longterm predictions of weather (N.B. not the same thing as longterm predictions of *climate*) - you can think of this as models that fail to generalize well, because they overfit on the training data (the initial conditions)\n",
    "\n",
    "Problems suffering from the above are called ill-posed problems. Relating to linear algebra and systems of equations, the only truly well-posed problems are those with a single unique solution.\n",
    "\n",
    "<img src=\"https://upload.wikimedia.org/wikipedia/commons/c/c0/Intersecting_Lines.svg\" width=200>\n",
    "\n",
    "Think for a moment - what would the above plot look like if there was no solution? If there were multiple solutions? And how would that generalize to higher dimensions?\n",
    "\n",
    "A lot of what we covered with linear regression was about getting matrices into the right shape for them to be solvable in this sense. But some matrices just won't submit to this, and other problems may technically \"fit\" linear regression but still be violating the above assumptions in subtle ways.\n",
    "\n",
    "[Overfitting](https://en.wikipedia.org/wiki/Overfitting) is in some ways a special case of this - an overfit model uses more features/parameters than is \"justified\" by the data (essentially by the *dimensionality* of the data, as measured by $n$ the number of observations). As the number of features approaches the number of observations, linear regression still \"works\", but it starts giving fairly perverse results. In particular, it results in a model that fails to *generalize* - and so the core goal of prediction and explanatory power is undermined.\n",
    "\n",
    "How is this related to well and ill-posed problems? It's not clearly a no solution or multiple solution case, but it does fall in the third category - overfitting results in fitting to the \"noise\" in the data, which means the particulars of one random sample or another (different initial conditions) will result in dramatically different models."
   ]
  },
  {
   "cell_type": "markdown",
   "metadata": {
    "colab_type": "text",
    "id": "HeWRlRQVe6xm"
   },
   "source": [
    "**Two Equations with Two Unknowns (well-posed)**"
   ]
  },
  {
   "cell_type": "code",
   "execution_count": 2,
   "metadata": {
    "colab": {
     "base_uri": "https://localhost:8080/",
     "height": 118
    },
    "colab_type": "code",
    "id": "EwmhM_qJcPju",
    "outputId": "2d9ff42e-7873-46f8-88e4-89ec9a0cff3e"
   },
   "outputs": [
    {
     "name": "stdout",
     "output_type": "stream",
     "text": [
      "[[2.]\n",
      " [3.]]\n",
      "x: 2.0\n",
      "y: 3.0\n"
     ]
    }
   ],
   "source": [
    "#  x - y = -1\n",
    "# 3x + y =  9\n",
    "\n",
    "A = np.array([[1, -1], \n",
    "              [3,  1]])\n",
    "b = np.array([[-1],\n",
    "              [ 9]])\n",
    "\n",
    "solution = np.linalg.solve(A, b)\n",
    "print(solution)\n",
    "print(\"x:\", solution[0][0])\n",
    "print(\"y:\", solution[1][0])"
   ]
  },
  {
   "cell_type": "markdown",
   "metadata": {
    "colab_type": "text",
    "id": "yfCiMDdYdJaF"
   },
   "source": [
    "**Two Equations with Three Unknowns (not well-posed)**"
   ]
  },
  {
   "cell_type": "code",
   "execution_count": 3,
   "metadata": {
    "colab": {
     "base_uri": "https://localhost:8080/",
     "height": 448
    },
    "colab_type": "code",
    "id": "X_gt9UZ6dbPn",
    "outputId": "cdaabf40-39eb-4e65-c2a9-09232bee2342"
   },
   "outputs": [
    {
     "name": "stdout",
     "output_type": "stream",
     "text": [
      "LinAlgError: Last 2 dimensions of the array must be square\n"
     ]
    }
   ],
   "source": [
    "#  x - y +  z = -1\n",
    "# 3x + y - 2z =  9\n",
    "\n",
    "A = np.array([[ 1, -1,  1], \n",
    "              [ 3,  1, -2]])\n",
    "b = np.array([[-1],\n",
    "              [ 9]])\n",
    "\n",
    "try:\n",
    "    print(np.linalg.solve(A, b))\n",
    "except np.linalg.LinAlgError as e:\n",
    "    print('LinAlgError:', e)"
   ]
  },
  {
   "cell_type": "markdown",
   "metadata": {
    "colab_type": "text",
    "id": "oJjbQ6SqesXE"
   },
   "source": [
    "You can reduce these formulas, but there is no single solution, there are infinitely many solutions where the solution to at least one of these variables must be a function of the other variables.\n",
    "\n",
    "Example: [Solving a System of 2 Equations with 3 Unknowns - Infinitely Many Solutions - YouTube](https://www.youtube.com/watch?v=tGPSEXVYw_o)"
   ]
  },
  {
   "cell_type": "markdown",
   "metadata": {
    "colab_type": "text",
    "id": "B4aMQTidku3F"
   },
   "source": [
    "# Generalization in Machine Learning\n",
    "\n",
    "The goal of machine learning is to end up with a model that can predict well on new data that it has never seen before. This is sometimes called \"out of sample accuracy\". This is what we are simulating when we do a train-test-split. We fit our model to the training dataset and then test its ability to generalize by evaluating its accuracy on a test dataset. We want models that will be usable on new data indefinitely. We can train them once and reap the rewards of accurate predictions for a long time to come. \n",
    "\n",
    "### Underfitting\n",
    "An underfit model will not perform well on the test data and will also not generalize to new data. Because of this, we can usually detect it easily (it just performs poorly in all situations - be it train or test). Because it's easy to identify we either remedy it quickly or move onto new methods. "
   ]
  },
  {
   "cell_type": "code",
   "execution_count": 4,
   "metadata": {
    "colab": {
     "base_uri": "https://localhost:8080/",
     "height": 347
    },
    "colab_type": "code",
    "id": "tnRwvUN-lPeZ",
    "outputId": "f1bac215-43bf-4a86-9c96-b9578c1f63e5"
   },
   "outputs": [
    {
     "data": {
      "image/png": "[encoded data removed]",
      "text/plain": [
       "<Figure size 432x288 with 1 Axes>"
      ]
     },
     "metadata": {},
     "output_type": "display_data"
    }
   ],
   "source": [
    "X = np.array(list(range(1,21)))\n",
    "y = np.array(list(range(10, 0,-1)) + \n",
    "             list(range( 1,11, 1)))\n",
    "\n",
    "plt.scatter(X,y)\n",
    "plt.show()"
   ]
  },
  {
   "cell_type": "code",
   "execution_count": 5,
   "metadata": {
    "colab": {
     "base_uri": "https://localhost:8080/",
     "height": 414
    },
    "colab_type": "code",
    "id": "eV3fdqYbmQAm",
    "outputId": "c1902ea1-0101-4b28-8b36-0a72ce21c0e9"
   },
   "outputs": [
    {
     "name": "stdout",
     "output_type": "stream",
     "text": [
      "Score: 0.022905834115949375\n",
      "Slope: 0.08532423208191127\n",
      "Intrc: 3.5955631399317407\n",
      "Train\n"
     ]
    },
    {
     "data": {
      "image/png": "[encoded data removed]",
      "text/plain": [
       "<Figure size 432x288 with 1 Axes>"
      ]
     },
     "metadata": {},
     "output_type": "display_data"
    },
    {
     "name": "stdout",
     "output_type": "stream",
     "text": [
      "Test\n"
     ]
    },
    {
     "data": {
      "image/png": "[encoded data removed]",
      "text/plain": [
       "<Figure size 432x288 with 1 Axes>"
      ]
     },
     "metadata": {},
     "output_type": "display_data"
    }
   ],
   "source": [
    "X_train, X_test, y_train, y_test = \\\n",
    "    train_test_split(X, y, test_size=0.5, random_state=42)\n",
    "\n",
    "X_train = X_train.reshape(-1, 1)\n",
    "\n",
    "model = LinearRegression().fit(X_train, y_train)\n",
    "\n",
    "score = model.score(X_train, y_train)\n",
    "beta_0 = model.intercept_\n",
    "beta_1 = model.coef_[0]\n",
    "\n",
    "print(\"Score:\", score)\n",
    "print(\"Slope:\", beta_1)\n",
    "print(\"Intrc:\", beta_0)\n",
    "print('Train')\n",
    "plt.scatter(X_train, y_train)\n",
    "plt.plot([beta_1*x + beta_0 for x in range(25)])\n",
    "plt.xlim(2, 21); plt.ylim(1, 10)\n",
    "plt.show()\n",
    "print('Test')\n",
    "plt.scatter(X_test, y_test)\n",
    "plt.plot([beta_1*x + beta_0 for x in range(25)])\n",
    "plt.xlim(2, 21); plt.ylim(1, 10)\n",
    "plt.show()"
   ]
  },
  {
   "cell_type": "markdown",
   "metadata": {
    "colab_type": "text",
    "id": "jtbVuLfCka7n"
   },
   "source": [
    "### Overfitting\n",
    "\n",
    "Lets explore the problem of overfitting (and possible remedy - Ridge Regression) in the context of some housing data."
   ]
  },
  {
   "cell_type": "code",
   "execution_count": 6,
   "metadata": {
    "colab": {
     "base_uri": "https://localhost:8080/",
     "height": 215
    },
    "colab_type": "code",
    "id": "TDh_Oz9HDHeR",
    "outputId": "c2f10a7f-27b1-4d8f-fb55-d2aba2488fed"
   },
   "outputs": [
    {
     "data": {
      "text/html": [
       "<div>\n",
       "<style scoped>\n",
       "    .dataframe tbody tr th:only-of-type {\n",
       "        vertical-align: middle;\n",
       "    }\n",
       "\n",
       "    .dataframe tbody tr th {\n",
       "        vertical-align: top;\n",
       "    }\n",
       "\n",
       "    .dataframe thead th {\n",
       "        text-align: right;\n",
       "    }\n",
       "</style>\n",
       "<table border=\"1\" class=\"dataframe\">\n",
       "  <thead>\n",
       "    <tr style=\"text-align: right;\">\n",
       "      <th></th>\n",
       "      <th>CRIM</th>\n",
       "      <th>ZN</th>\n",
       "      <th>INDUS</th>\n",
       "      <th>CHAS</th>\n",
       "      <th>NOX</th>\n",
       "      <th>RM</th>\n",
       "      <th>AGE</th>\n",
       "      <th>DIS</th>\n",
       "      <th>RAD</th>\n",
       "      <th>TAX</th>\n",
       "      <th>PTRATIO</th>\n",
       "      <th>B</th>\n",
       "      <th>LSTAT</th>\n",
       "      <th>Price</th>\n",
       "    </tr>\n",
       "  </thead>\n",
       "  <tbody>\n",
       "    <tr>\n",
       "      <th>0</th>\n",
       "      <td>-0.417713</td>\n",
       "      <td>0.284830</td>\n",
       "      <td>-1.287909</td>\n",
       "      <td>-0.272599</td>\n",
       "      <td>-0.144217</td>\n",
       "      <td>0.413672</td>\n",
       "      <td>-0.120013</td>\n",
       "      <td>0.140214</td>\n",
       "      <td>-0.982843</td>\n",
       "      <td>-0.666608</td>\n",
       "      <td>-1.459000</td>\n",
       "      <td>0.441052</td>\n",
       "      <td>-1.075562</td>\n",
       "      <td>24.0</td>\n",
       "    </tr>\n",
       "    <tr>\n",
       "      <th>1</th>\n",
       "      <td>-0.415269</td>\n",
       "      <td>-0.487722</td>\n",
       "      <td>-0.593381</td>\n",
       "      <td>-0.272599</td>\n",
       "      <td>-0.740262</td>\n",
       "      <td>0.194274</td>\n",
       "      <td>0.367166</td>\n",
       "      <td>0.557160</td>\n",
       "      <td>-0.867883</td>\n",
       "      <td>-0.987329</td>\n",
       "      <td>-0.303094</td>\n",
       "      <td>0.441052</td>\n",
       "      <td>-0.492439</td>\n",
       "      <td>21.6</td>\n",
       "    </tr>\n",
       "    <tr>\n",
       "      <th>2</th>\n",
       "      <td>-0.415272</td>\n",
       "      <td>-0.487722</td>\n",
       "      <td>-0.593381</td>\n",
       "      <td>-0.272599</td>\n",
       "      <td>-0.740262</td>\n",
       "      <td>1.282714</td>\n",
       "      <td>-0.265812</td>\n",
       "      <td>0.557160</td>\n",
       "      <td>-0.867883</td>\n",
       "      <td>-0.987329</td>\n",
       "      <td>-0.303094</td>\n",
       "      <td>0.396427</td>\n",
       "      <td>-1.208727</td>\n",
       "      <td>34.7</td>\n",
       "    </tr>\n",
       "    <tr>\n",
       "      <th>3</th>\n",
       "      <td>-0.414680</td>\n",
       "      <td>-0.487722</td>\n",
       "      <td>-1.306878</td>\n",
       "      <td>-0.272599</td>\n",
       "      <td>-0.835284</td>\n",
       "      <td>1.016303</td>\n",
       "      <td>-0.809889</td>\n",
       "      <td>1.077737</td>\n",
       "      <td>-0.752922</td>\n",
       "      <td>-1.106115</td>\n",
       "      <td>0.113032</td>\n",
       "      <td>0.416163</td>\n",
       "      <td>-1.361517</td>\n",
       "      <td>33.4</td>\n",
       "    </tr>\n",
       "    <tr>\n",
       "      <th>4</th>\n",
       "      <td>-0.410409</td>\n",
       "      <td>-0.487722</td>\n",
       "      <td>-1.306878</td>\n",
       "      <td>-0.272599</td>\n",
       "      <td>-0.835284</td>\n",
       "      <td>1.228577</td>\n",
       "      <td>-0.511180</td>\n",
       "      <td>1.077737</td>\n",
       "      <td>-0.752922</td>\n",
       "      <td>-1.106115</td>\n",
       "      <td>0.113032</td>\n",
       "      <td>0.441052</td>\n",
       "      <td>-1.026501</td>\n",
       "      <td>36.2</td>\n",
       "    </tr>\n",
       "  </tbody>\n",
       "</table>\n",
       "</div>"
      ],
      "text/plain": [
       "       CRIM        ZN     INDUS      CHAS       NOX        RM       AGE  \\\n",
       "0 -0.417713  0.284830 -1.287909 -0.272599 -0.144217  0.413672 -0.120013   \n",
       "1 -0.415269 -0.487722 -0.593381 -0.272599 -0.740262  0.194274  0.367166   \n",
       "2 -0.415272 -0.487722 -0.593381 -0.272599 -0.740262  1.282714 -0.265812   \n",
       "3 -0.414680 -0.487722 -1.306878 -0.272599 -0.835284  1.016303 -0.809889   \n",
       "4 -0.410409 -0.487722 -1.306878 -0.272599 -0.835284  1.228577 -0.511180   \n",
       "\n",
       "        DIS       RAD       TAX   PTRATIO         B     LSTAT  Price  \n",
       "0  0.140214 -0.982843 -0.666608 -1.459000  0.441052 -1.075562   24.0  \n",
       "1  0.557160 -0.867883 -0.987329 -0.303094  0.441052 -0.492439   21.6  \n",
       "2  0.557160 -0.867883 -0.987329 -0.303094  0.396427 -1.208727   34.7  \n",
       "3  1.077737 -0.752922 -1.106115  0.113032  0.416163 -1.361517   33.4  \n",
       "4  1.077737 -0.752922 -1.106115  0.113032  0.441052 -1.026501   36.2  "
      ]
     },
     "execution_count": 6,
     "metadata": {},
     "output_type": "execute_result"
    }
   ],
   "source": [
    "from sklearn.datasets import load_boston\n",
    "\n",
    "boston = load_boston()\n",
    "boston.data = scale(boston.data)  # Very helpful for regularization!\n",
    "\n",
    "df = pd.DataFrame(boston.data, columns=boston.feature_names)\n",
    "df['Price'] = boston.target\n",
    "df.head()"
   ]
  },
  {
   "cell_type": "markdown",
   "metadata": {
    "colab_type": "text",
    "id": "KKQeT4-HhIZz"
   },
   "source": [
    "**`preprocessing.scale(x)` does the same thing as `preprocessing.StandardScaler()`**\n",
    "\n",
    "* `.scale(x)` is a function (lowercase naming convention)\n",
    "* `StandardScaler()` is a class (uppercase naming convention) with some extra functionality\n",
    "* they will both scale our data equally well. "
   ]
  },
  {
   "cell_type": "code",
   "execution_count": 7,
   "metadata": {
    "colab": {
     "base_uri": "https://localhost:8080/",
     "height": 34
    },
    "colab_type": "code",
    "id": "3u24Yr-SkIhb",
    "outputId": "17c60be8-b4c9-4cfc-e9f0-3f428b0921ec"
   },
   "outputs": [
    {
     "data": {
      "text/plain": [
       "(506, 14)"
      ]
     },
     "execution_count": 7,
     "metadata": {},
     "output_type": "execute_result"
    }
   ],
   "source": [
    "df.shape"
   ]
  },
  {
   "cell_type": "code",
   "execution_count": 8,
   "metadata": {
    "colab": {
     "base_uri": "https://localhost:8080/",
     "height": 34
    },
    "colab_type": "code",
    "id": "0vlZShpFkll2",
    "outputId": "0e6d62d9-8ce7-49f1-fdb9-877068ea1c2d"
   },
   "outputs": [
    {
     "name": "stdout",
     "output_type": "stream",
     "text": [
      "lin_reg_mse: 21.897779217687496\n"
     ]
    }
   ],
   "source": [
    "# ordinary least squares regression\n",
    "X = df.drop('Price', axis='columns')\n",
    "y = df.Price\n",
    "\n",
    "lin_reg = LinearRegression().fit(X, y)\n",
    "lin_reg_mse = mean_squared_error(y, lin_reg.predict(X))\n",
    "print('lin_reg_mse:', lin_reg_mse)"
   ]
  },
  {
   "cell_type": "markdown",
   "metadata": {
    "colab_type": "text",
    "id": "erOFuJKWlTad"
   },
   "source": [
    "That seems like a pretty good score, but **chances are this doesn't generalize very well**."
   ]
  },
  {
   "cell_type": "code",
   "execution_count": 10,
   "metadata": {
    "colab": {
     "base_uri": "https://localhost:8080/",
     "height": 50
    },
    "colab_type": "code",
    "id": "CG6DZ1UcqbEx",
    "outputId": "72249417-706c-40f0-d5e3-631119439692"
   },
   "outputs": [
    {
     "name": "stdout",
     "output_type": "stream",
     "text": [
      "lin_reg_train_mse: 21.029681497804216\n",
      "lin_reg_test_mse: 26.289329463402495\n"
     ]
    }
   ],
   "source": [
    "X_train, X_test, y_train, y_test = train_test_split(X, y, random_state=43)\n",
    "\n",
    "lin_reg_split = LinearRegression().fit(X_train, y_train)\n",
    "lin_reg_train_mse = mean_squared_error(y_train, lin_reg_split.predict(X_train))\n",
    "lin_reg_test_mse = mean_squared_error(y_test, lin_reg_split.predict(X_test))\n",
    "print('lin_reg_train_mse:', lin_reg_train_mse)\n",
    "print('lin_reg_test_mse:', lin_reg_test_mse)"
   ]
  },
  {
   "cell_type": "markdown",
   "metadata": {
    "colab_type": "text",
    "id": "ILHGe53Iqehg"
   },
   "source": [
    "When split into train and test, we see evidence of overfitting. We fitting well to training data, but did not generalize well to test data. What can we do?\n",
    "\n",
    "- **Use fewer features.** But it can be a lot of work to figure out *which* features, and (in cases like this) there may not be any good reason to really favor some features over another.\n",
    "- **Get more data.** This is actually a pretty good approach in tech, since apps generate lots of data all the time (and we made this situation by artificially constraining our data). But for case studies, existing data, etc. it won't work.\n",
    "- **Regularize!**"
   ]
  },
  {
   "cell_type": "markdown",
   "metadata": {
    "colab_type": "text",
    "id": "ILHGe53Iqehg"
   },
   "source": [
    "# Regularization\n",
    "\n",
    "**Intuition:** Regularization just means \"add bias\". There's more to it than that, but that's the core intuition.\n",
    "\n",
    "Our model is working \"too well\", so we fix it by making it harder for the model! A technique that is purposefully \"worse\" can actually get better results.\n",
    "\n",
    "In the context of statistics and machine learning, **bias** is when a predictive model fails to identify relationships between features and the output. In a word, bias is *underfitting*.\n",
    "\n",
    "We want to add bias to the model because of the [bias-variance tradeoff](https://en.wikipedia.org/wiki/Bias%E2%80%93variance_tradeoff) - variance is the sensitivity of a model to the random noise in its training data (i.e. *overfitting*), and bias and variance are naturally (inversely) related. Increasing one will always decrease the other, with regards to the overall generalization error (predictive accuracy on unseen data).\n",
    "\n",
    "Visually, the result looks like this:\n",
    "\n",
    "<img src=\"https://upload.wikimedia.org/wikipedia/commons/0/02/Regularization.svg\" width=200>\n",
    "\n",
    "* Both lines are \"overfit\" - they both include all data points.\n",
    "* The **blue line** uses more extreme coefficients than are needed (we assume both lines have the same polynomial terms). We can intuit that much of the movement is based on noise and it won't generalize well.\n",
    "* The **green line** is less susceptible to the noise - depending on how exactly we parameterize \"noise\" we may throw out actual correlation, but if we balance it right we keep that signal and greatly improve generalizability."
   ]
  },
  {
   "cell_type": "markdown",
   "metadata": {},
   "source": [
    "## Regularization via ridge regression in `sklearn`"
   ]
  },
  {
   "cell_type": "code",
   "execution_count": 11,
   "metadata": {},
   "outputs": [
    {
     "name": "stdout",
     "output_type": "stream",
     "text": [
      "lin_reg_mse      : 21.897779217687496\n",
      "lin_reg_train_mse: 21.029681497804216\n",
      "lin_reg_test_mse : 26.289329463402495\n"
     ]
    }
   ],
   "source": [
    "print('lin_reg_mse      :', lin_reg_mse)\n",
    "print('lin_reg_train_mse:', lin_reg_train_mse)\n",
    "print('lin_reg_test_mse :', lin_reg_test_mse)"
   ]
  },
  {
   "cell_type": "code",
   "execution_count": 12,
   "metadata": {
    "colab": {
     "base_uri": "https://localhost:8080/",
     "height": 34
    },
    "colab_type": "code",
    "id": "7aQlX9e9lQLr",
    "outputId": "8d9ac11c-6ba9-4056-bf8e-6a4f6c6eef3f",
    "scrolled": true
   },
   "outputs": [
    {
     "name": "stdout",
     "output_type": "stream",
     "text": [
      "21.898810371392408\n"
     ]
    }
   ],
   "source": [
    "# Now with regularization via ridge regression\n",
    "ridge_reg = Ridge().fit(X, y)\n",
    "ridge_reg_mse = mean_squared_error(y, ridge_reg.predict(X))\n",
    "print(ridge_reg_mse)"
   ]
  },
  {
   "cell_type": "markdown",
   "metadata": {},
   "source": [
    "Without train-test split, the score is a bit worse than OLS - but that's expected since we've added bias."
   ]
  },
  {
   "cell_type": "code",
   "execution_count": 13,
   "metadata": {
    "colab": {
     "base_uri": "https://localhost:8080/",
     "height": 34
    },
    "colab_type": "code",
    "id": "qiMXYAWGomcB",
    "outputId": "9c650108-e1c2-4651-9f78-005bd9d23b24"
   },
   "outputs": [
    {
     "name": "stdout",
     "output_type": "stream",
     "text": [
      "ridge_reg_train_mse: 21.031679586531656\n",
      "ridge_reg_test_mse : 26.2071348196642\n"
     ]
    }
   ],
   "source": [
    "ridge_reg_split = Ridge().fit(X_train, y_train)\n",
    "print('ridge_reg_train_mse:', mean_squared_error(y_train, ridge_reg_split.predict(X_train)))\n",
    "print('ridge_reg_test_mse :', mean_squared_error(y_test, ridge_reg_split.predict(X_test)))"
   ]
  },
  {
   "cell_type": "markdown",
   "metadata": {},
   "source": [
    "A little better! Can we improve it further? We used default arguments to `Ridge()`, but as always there are plenty of parameters."
   ]
  },
  {
   "cell_type": "code",
   "execution_count": 14,
   "metadata": {
    "colab": {
     "base_uri": "https://localhost:8080/",
     "height": 4522
    },
    "colab_type": "code",
    "id": "PJhjFFeF2uoA",
    "outputId": "803900e0-051a-4391-b177-4e0eee896f1e",
    "scrolled": true
   },
   "outputs": [
    {
     "name": "stdout",
     "output_type": "stream",
     "text": [
      "Help on class Ridge in module sklearn.linear_model.ridge:\n",
      "\n",
      "class Ridge(_BaseRidge, sklearn.base.RegressorMixin)\n",
      " |  Linear least squares with l2 regularization.\n",
      " |  \n",
      " |  This model solves a regression model where the loss function is\n",
      " |  the linear least squares function and regularization is given by\n",
      " |  the l2-norm. Also known as Ridge Regression or Tikhonov regularization.\n",
      " |  This estimator has built-in support for multi-variate regression\n",
      " |  (i.e., when y is a 2d-array of shape [n_samples, n_targets]).\n",
      " |  \n",
      " |  Read more in the :ref:`User Guide <ridge_regression>`.\n",
      " |  \n",
      " |  Parameters\n",
      " |  ----------\n",
      " |  alpha : {float, array-like}, shape (n_targets)\n",
      " |      Regularization strength; must be a positive float. Regularization\n",
      " |      improves the conditioning of the problem and reduces the variance of\n",
      " |      the estimates. Larger values specify stronger regularization.\n",
      " |      Alpha corresponds to ``C^-1`` in other linear models such as\n",
      " |      LogisticRegression or LinearSVC. If an array is passed, penalties are\n",
      " |      assumed to be specific to the targets. Hence they must correspond in\n",
      " |      number.\n",
      " |  \n",
      " |  fit_intercept : boolean\n",
      " |      Whether to calculate the intercept for this model. If set\n",
      " |      to false, no intercept will be used in calculations\n",
      " |      (e.g. data is expected to be already centered).\n",
      " |  \n",
      " |  normalize : boolean, optional, default False\n",
      " |      This parameter is ignored when ``fit_intercept`` is set to False.\n",
      " |      If True, the regressors X will be normalized before regression by\n",
      " |      subtracting the mean and dividing by the l2-norm.\n",
      " |      If you wish to standardize, please use\n",
      " |      :class:`sklearn.preprocessing.StandardScaler` before calling ``fit``\n",
      " |      on an estimator with ``normalize=False``.\n",
      " |  \n",
      " |  copy_X : boolean, optional, default True\n",
      " |      If True, X will be copied; else, it may be overwritten.\n",
      " |  \n",
      " |  max_iter : int, optional\n",
      " |      Maximum number of iterations for conjugate gradient solver.\n",
      " |      For 'sparse_cg' and 'lsqr' solvers, the default value is determined\n",
      " |      by scipy.sparse.linalg. For 'sag' solver, the default value is 1000.\n",
      " |  \n",
      " |  tol : float\n",
      " |      Precision of the solution.\n",
      " |  \n",
      " |  solver : {'auto', 'svd', 'cholesky', 'lsqr', 'sparse_cg', 'sag', 'saga'}\n",
      " |      Solver to use in the computational routines:\n",
      " |  \n",
      " |      - 'auto' chooses the solver automatically based on the type of data.\n",
      " |  \n",
      " |      - 'svd' uses a Singular Value Decomposition of X to compute the Ridge\n",
      " |        coefficients. More stable for singular matrices than\n",
      " |        'cholesky'.\n",
      " |  \n",
      " |      - 'cholesky' uses the standard scipy.linalg.solve function to\n",
      " |        obtain a closed-form solution.\n",
      " |  \n",
      " |      - 'sparse_cg' uses the conjugate gradient solver as found in\n",
      " |        scipy.sparse.linalg.cg. As an iterative algorithm, this solver is\n",
      " |        more appropriate than 'cholesky' for large-scale data\n",
      " |        (possibility to set `tol` and `max_iter`).\n",
      " |  \n",
      " |      - 'lsqr' uses the dedicated regularized least-squares routine\n",
      " |        scipy.sparse.linalg.lsqr. It is the fastest but may not be available\n",
      " |        in old scipy versions. It also uses an iterative procedure.\n",
      " |  \n",
      " |      - 'sag' uses a Stochastic Average Gradient descent, and 'saga' uses\n",
      " |        its improved, unbiased version named SAGA. Both methods also use an\n",
      " |        iterative procedure, and are often faster than other solvers when\n",
      " |        both n_samples and n_features are large. Note that 'sag' and\n",
      " |        'saga' fast convergence is only guaranteed on features with\n",
      " |        approximately the same scale. You can preprocess the data with a\n",
      " |        scaler from sklearn.preprocessing.\n",
      " |  \n",
      " |      All last five solvers support both dense and sparse data. However,\n",
      " |      only 'sag' and 'saga' supports sparse input when `fit_intercept` is\n",
      " |      True.\n",
      " |  \n",
      " |      .. versionadded:: 0.17\n",
      " |         Stochastic Average Gradient descent solver.\n",
      " |      .. versionadded:: 0.19\n",
      " |         SAGA solver.\n",
      " |  \n",
      " |  random_state : int, RandomState instance or None, optional, default None\n",
      " |      The seed of the pseudo random number generator to use when shuffling\n",
      " |      the data.  If int, random_state is the seed used by the random number\n",
      " |      generator; If RandomState instance, random_state is the random number\n",
      " |      generator; If None, the random number generator is the RandomState\n",
      " |      instance used by `np.random`. Used when ``solver`` == 'sag'.\n",
      " |  \n",
      " |      .. versionadded:: 0.17\n",
      " |         *random_state* to support Stochastic Average Gradient.\n",
      " |  \n",
      " |  Attributes\n",
      " |  ----------\n",
      " |  coef_ : array, shape (n_features,) or (n_targets, n_features)\n",
      " |      Weight vector(s).\n",
      " |  \n",
      " |  intercept_ : float | array, shape = (n_targets,)\n",
      " |      Independent term in decision function. Set to 0.0 if\n",
      " |      ``fit_intercept = False``.\n",
      " |  \n",
      " |  n_iter_ : array or None, shape (n_targets,)\n",
      " |      Actual number of iterations for each target. Available only for\n",
      " |      sag and lsqr solvers. Other solvers will return None.\n",
      " |  \n",
      " |      .. versionadded:: 0.17\n",
      " |  \n",
      " |  See also\n",
      " |  --------\n",
      " |  RidgeClassifier, RidgeCV, :class:`sklearn.kernel_ridge.KernelRidge`\n",
      " |  \n",
      " |  Examples\n",
      " |  --------\n",
      " |  >>> from sklearn.linear_model import Ridge\n",
      " |  >>> import numpy as np\n",
      " |  >>> n_samples, n_features = 10, 5\n",
      " |  >>> np.random.seed(0)\n",
      " |  >>> y = np.random.randn(n_samples)\n",
      " |  >>> X = np.random.randn(n_samples, n_features)\n",
      " |  >>> clf = Ridge(alpha=1.0)\n",
      " |  >>> clf.fit(X, y) # doctest: +NORMALIZE_WHITESPACE\n",
      " |  Ridge(alpha=1.0, copy_X=True, fit_intercept=True, max_iter=None,\n",
      " |        normalize=False, random_state=None, solver='auto', tol=0.001)\n",
      " |  \n",
      " |  Method resolution order:\n",
      " |      Ridge\n",
      " |      _BaseRidge\n",
      " |      abc.NewBase\n",
      " |      sklearn.linear_model.base.LinearModel\n",
      " |      abc.NewBase\n",
      " |      sklearn.base.BaseEstimator\n",
      " |      sklearn.base.RegressorMixin\n",
      " |      builtins.object\n",
      " |  \n",
      " |  Methods defined here:\n",
      " |  \n",
      " |  __init__(self, alpha=1.0, fit_intercept=True, normalize=False, copy_X=True, max_iter=None, tol=0.001, solver='auto', random_state=None)\n",
      " |      Initialize self.  See help(type(self)) for accurate signature.\n",
      " |  \n",
      " |  fit(self, X, y, sample_weight=None)\n",
      " |      Fit Ridge regression model\n",
      " |      \n",
      " |      Parameters\n",
      " |      ----------\n",
      " |      X : {array-like, sparse matrix}, shape = [n_samples, n_features]\n",
      " |          Training data\n",
      " |      \n",
      " |      y : array-like, shape = [n_samples] or [n_samples, n_targets]\n",
      " |          Target values\n",
      " |      \n",
      " |      sample_weight : float or numpy array of shape [n_samples]\n",
      " |          Individual weights for each sample\n",
      " |      \n",
      " |      Returns\n",
      " |      -------\n",
      " |      self : returns an instance of self.\n",
      " |  \n",
      " |  ----------------------------------------------------------------------\n",
      " |  Data and other attributes defined here:\n",
      " |  \n",
      " |  __abstractmethods__ = frozenset()\n",
      " |  \n",
      " |  ----------------------------------------------------------------------\n",
      " |  Methods inherited from sklearn.linear_model.base.LinearModel:\n",
      " |  \n",
      " |  predict(self, X)\n",
      " |      Predict using the linear model\n",
      " |      \n",
      " |      Parameters\n",
      " |      ----------\n",
      " |      X : {array-like, sparse matrix}, shape = (n_samples, n_features)\n",
      " |          Samples.\n",
      " |      \n",
      " |      Returns\n",
      " |      -------\n",
      " |      C : array, shape = (n_samples,)\n",
      " |          Returns predicted values.\n",
      " |  \n",
      " |  ----------------------------------------------------------------------\n",
      " |  Methods inherited from sklearn.base.BaseEstimator:\n",
      " |  \n",
      " |  __getstate__(self)\n",
      " |  \n",
      " |  __repr__(self)\n",
      " |      Return repr(self).\n",
      " |  \n",
      " |  __setstate__(self, state)\n",
      " |  \n",
      " |  get_params(self, deep=True)\n",
      " |      Get parameters for this estimator.\n",
      " |      \n",
      " |      Parameters\n",
      " |      ----------\n",
      " |      deep : boolean, optional\n",
      " |          If True, will return the parameters for this estimator and\n",
      " |          contained subobjects that are estimators.\n",
      " |      \n",
      " |      Returns\n",
      " |      -------\n",
      " |      params : mapping of string to any\n",
      " |          Parameter names mapped to their values.\n",
      " |  \n",
      " |  set_params(self, **params)\n",
      " |      Set the parameters of this estimator.\n",
      " |      \n",
      " |      The method works on simple estimators as well as on nested objects\n",
      " |      (such as pipelines). The latter have parameters of the form\n",
      " |      ``<component>__<parameter>`` so that it's possible to update each\n",
      " |      component of a nested object.\n",
      " |      \n",
      " |      Returns\n",
      " |      -------\n",
      " |      self\n",
      " |  \n",
      " |  ----------------------------------------------------------------------\n",
      " |  Data descriptors inherited from sklearn.base.BaseEstimator:\n",
      " |  \n",
      " |  __dict__\n",
      " |      dictionary for instance variables (if defined)\n",
      " |  \n",
      " |  __weakref__\n",
      " |      list of weak references to the object (if defined)\n",
      " |  \n",
      " |  ----------------------------------------------------------------------\n",
      " |  Methods inherited from sklearn.base.RegressorMixin:\n",
      " |  \n",
      " |  score(self, X, y, sample_weight=None)\n",
      " |      Returns the coefficient of determination R^2 of the prediction.\n",
      " |      \n",
      " |      The coefficient R^2 is defined as (1 - u/v), where u is the residual\n",
      " |      sum of squares ((y_true - y_pred) ** 2).sum() and v is the total\n",
      " |      sum of squares ((y_true - y_true.mean()) ** 2).sum().\n",
      " |      The best possible score is 1.0 and it can be negative (because the\n",
      " |      model can be arbitrarily worse). A constant model that always\n",
      " |      predicts the expected value of y, disregarding the input features,\n",
      " |      would get a R^2 score of 0.0.\n",
      " |      \n",
      " |      Parameters\n",
      " |      ----------\n",
      " |      X : array-like, shape = (n_samples, n_features)\n",
      " |          Test samples.\n",
      " |      \n",
      " |      y : array-like, shape = (n_samples) or (n_samples, n_outputs)\n",
      " |          True values for X.\n",
      " |      \n",
      " |      sample_weight : array-like, shape = [n_samples], optional\n",
      " |          Sample weights.\n",
      " |      \n",
      " |      Returns\n",
      " |      -------\n",
      " |      score : float\n",
      " |          R^2 of self.predict(X) wrt. y.\n",
      "\n"
     ]
    }
   ],
   "source": [
    "help(Ridge)"
   ]
  },
  {
   "cell_type": "markdown",
   "metadata": {
    "colab_type": "text",
    "id": "F4eY9TKw4S4F"
   },
   "source": [
    "How to tune alpha? For now, let's loop and try values. (For longterm/stretch/next week, check out [cross-validation](https://scikit-learn.org/stable/modules/generated/sklearn.linear_model.RidgeCV.html#sklearn.linear_model.RidgeCV).)"
   ]
  },
  {
   "cell_type": "code",
   "execution_count": 15,
   "metadata": {
    "colab": {
     "base_uri": "https://localhost:8080/",
     "height": 3574
    },
    "colab_type": "code",
    "id": "DISx148Z4Sqi",
    "outputId": "cf20b3dd-9827-4fc4-b0c0-6b4948ef604c"
   },
   "outputs": [],
   "source": [
    "mses = {}\n",
    "for a in range(0, 150, 1):\n",
    "    ridge_reg_split = Ridge(alpha=a).fit(X_train, y_train)\n",
    "    mses[a] = mean_squared_error(y_test, ridge_reg_split.predict(X_test))"
   ]
  },
  {
   "cell_type": "code",
   "execution_count": 16,
   "metadata": {
    "colab": {
     "base_uri": "https://localhost:8080/",
     "height": 347
    },
    "colab_type": "code",
    "id": "iRB3KHyWiO4y",
    "outputId": "fc962a0c-c9ca-48c6-c491-a25f57cec656"
   },
   "outputs": [
    {
     "data": {
      "image/png": "[encoded data removed]",
      "text/plain": [
       "<Figure size 432x288 with 1 Axes>"
      ]
     },
     "metadata": {},
     "output_type": "display_data"
    }
   ],
   "source": [
    "plt.scatter(mses.keys(), mses.values());"
   ]
  },
  {
   "cell_type": "markdown",
   "metadata": {
    "colab_type": "text",
    "id": "WzgTBd-FcctM"
   },
   "source": [
    "## The Inuition\n",
    "\n",
    "The `alpha` parameter corresponds to the weight being given to the extra penalty being calculated by [Tikhonov regularization](https://en.wikipedia.org/wiki/Tikhonov_regularization) (this parameter is sometimes referred to as $\\lambda$ in the context of ridge regression).\n",
    "\n",
    "Normal linear regression (OLS) minimizes the **sum of square error of the residuals**.\n",
    "\n",
    "Ridge regression minimizes the **sum of square error of the residuals** *AND* **the squared slope of the fit model, times the alpha parameter**.\n",
    "\n",
    "Therfore a Ridge model with `alpha=0` is the same as that found via linear regression!\n",
    "\n",
    "As `alpha` is increased, we give more and more penalty to a steep slope. In two or three dimensions this is fairly easy to visualize - beyond, think of it as penalizing coefficient size. Each coefficient represents the slope of an individual dimension (feature) of the model, so ridge regression is just squaring and summing those.\n",
    "\n",
    "So while `alpha=0` reduces to OLS, as `alpha` approaches infinity eventually the penalty gets so extreme that the model will always output every coefficient as 0 (any non-zero coefficient resulting in a penalty that outweighs whatever improvement in the residuals), and just fit a flat model with intercept at the mean of the dependent variable.\n",
    "\n",
    "Of course, what we want is somewhere in-between these extremes. Intuitively, we want to apply an appropriate cost/penalty to the model for fitting parameters, much like adjusted $R^2$ takes into account the cost of adding complexity to a model. The \"appropriate\" penalty will vary.\n",
    "\n",
    "**Note:** scaling the data helps. Then our cost is consistent and can be added uniformly across features, and it is simpler to search for the `alpha` parameter.\n",
    "\n",
    "### Bonus - magic! ✨\n",
    "\n",
    "Ridge regression doesn't just reduce overfitting and help with the third aspect of well-posed problems (poor generalizability). It can also fix the first two (no unique solution)!"
   ]
  },
  {
   "cell_type": "code",
   "execution_count": 17,
   "metadata": {
    "colab": {
     "base_uri": "https://localhost:8080/",
     "height": 50
    },
    "colab_type": "code",
    "id": "rdogs9EMX6Vd",
    "outputId": "d5cf4ca9-8dba-4031-b106-fcae6015cd97"
   },
   "outputs": [
    {
     "name": "stdout",
     "output_type": "stream",
     "text": [
      "(10, 14)\n",
      "1.0\n"
     ]
    }
   ],
   "source": [
    "df_tiny = df.sample(10, random_state=27)\n",
    "print(df_tiny.shape)\n",
    "X = df_tiny.drop('Price', axis='columns')\n",
    "y = df_tiny.Price\n",
    "\n",
    "lin_reg = LinearRegression().fit(X, y)\n",
    "print(lin_reg.score(X, y))"
   ]
  },
  {
   "cell_type": "markdown",
   "metadata": {},
   "source": [
    "Perfect multi-collinearity! True OLS would 💥 here. `sklearn` protects us from actual error, but still gives a poor model"
   ]
  },
  {
   "cell_type": "code",
   "execution_count": 18,
   "metadata": {
    "colab": {
     "base_uri": "https://localhost:8080/",
     "height": 34
    },
    "colab_type": "code",
    "id": "zesVR59NhA7A",
    "outputId": "fed3b781-60fa-4810-f898-aa3567e6eaad"
   },
   "outputs": [
    {
     "data": {
      "text/plain": [
       "0.9760117162191433"
      ]
     },
     "execution_count": 18,
     "metadata": {},
     "output_type": "execute_result"
    }
   ],
   "source": [
    "ridge_reg = Ridge().fit(X, y)\n",
    "ridge_reg.score(X, y)  # More plausible (not \"perfect\")"
   ]
  },
  {
   "cell_type": "code",
   "execution_count": 19,
   "metadata": {
    "colab": {
     "base_uri": "https://localhost:8080/",
     "height": 34
    },
    "colab_type": "code",
    "id": "WP6zwLtshaVR",
    "outputId": "382c851e-1c73-4413-a73d-e58d6cffa4a5"
   },
   "outputs": [
    {
     "data": {
      "text/plain": [
       "103.04382934850027"
      ]
     },
     "execution_count": 19,
     "metadata": {},
     "output_type": "execute_result"
    }
   ],
   "source": [
    "# Using our earlier test split\n",
    "mean_squared_error(y_test, lin_reg.predict(X_test))"
   ]
  },
  {
   "cell_type": "code",
   "execution_count": 20,
   "metadata": {
    "colab": {
     "base_uri": "https://localhost:8080/",
     "height": 34
    },
    "colab_type": "code",
    "id": "QeL_O8vNhSqj",
    "outputId": "07edce43-61e2-4edf-8094-bd522cb3c647"
   },
   "outputs": [
    {
     "data": {
      "text/plain": [
       "41.79815954870069"
      ]
     },
     "execution_count": 20,
     "metadata": {},
     "output_type": "execute_result"
    }
   ],
   "source": [
    "# Ridge generalizes *way* better, even wihtout tuning our alpha\n",
    "mean_squared_error(y_test, ridge_reg.predict(X_test))"
   ]
  },
  {
   "cell_type": "code",
   "execution_count": 21,
   "metadata": {
    "colab": {
     "base_uri": "https://localhost:8080/",
     "height": 34
    },
    "colab_type": "code",
    "id": "WetquM-DVgu5",
    "outputId": "3237aa3f-acbb-404e-b69c-ac4134b83aa3"
   },
   "outputs": [
    {
     "name": "stdout",
     "output_type": "stream",
     "text": [
      "Best alpha: 5\n",
      "34.93410392845076\n"
     ]
    }
   ],
   "source": [
    "# from sklearn.linear_model import RidgeCV\n",
    "ridgecv = RidgeCV(alphas=list(range(0,20))).fit(X, y)\n",
    "ridgecv.score(X, y)\n",
    "print('Best alpha:', ridgecv.alpha_)\n",
    "print(mean_squared_error(y_test, ridgecv.predict(X_test)))"
   ]
  },
  {
   "cell_type": "markdown",
   "metadata": {
    "colab_type": "text",
    "id": "x2N5WDV6nd3S"
   },
   "source": [
    "## And a bit more math\n",
    "\n",
    "The regularization used by Ridge Regression is also known as **$L^2$ regularization**, due to the squaring of the slopes being summed. This corresponds to [$L^2$ space](https://en.wikipedia.org/wiki/Square-integrable_function), a metric space of square-integrable functions that generally measure what we intuitively think of as \"distance\" (at least, on a plane) - what is referred to as Euclidean distance.\n",
    "\n",
    "The other famous norm is $L^1$, also known as [taxicab geometry](https://en.wikipedia.org/wiki/Taxicab_geometry), because it follows the \"grid\" to measure distance like a car driving around city blocks (rather than going directly like $L^2$). When referred to as a distance this is called \"Manhattan distance\", and can be used for regularization (see [LASSO](https://en.wikipedia.org/wiki/Lasso_(statistics%29), which [uses the $L^1$ norm](https://www.quora.com/What-is-the-difference-between-L1-and-L2-regularization-How-does-it-solve-the-problem-of-overfitting-Which-regularizer-to-use-and-when)).\n",
    "\n",
    "All this comes down to - regularization means increasing model bias by \"watering down\" coefficients with a penalty typically based on some sort of distance metric, and thus reducing variance (overfitting the model to the noise in the data). It gives us another lever to try and another tool for our toolchest!\n",
    "\n",
    "# Example 2: Putting it all together\n",
    "\n",
    "The official scikit-learn documentation has many excellent examples - [this one](https://scikit-learn.org/stable/auto_examples/linear_model/plot_ols_ridge_variance.html#sphx-glr-auto-examples-linear-model-plot-ols-ridge-variance-py) illustrates how ridge regression effectively reduces the variance, again by increasing the bias, penalizing coefficients to reduce the effectiveness of features (but also the impact of noise).\n",
    "\n",
    "```\n",
    "Due to the few points in each dimension and the straight line that linear regression uses to follow these points as well as it can, noise on the observations will cause great variance as shown in the first plot. Every line’s slope can vary quite a bit for each prediction due to the noise induced in the observations.\n",
    "\n",
    "Ridge regression is basically minimizing a penalised version of the least-squared function. The penalising shrinks the value of the regression coefficients. Despite the few data points in each dimension, the slope of the prediction is much more stable and the variance in the line itself is greatly reduced, in comparison to that of the standard linear regression\n",
    "```"
   ]
  },
  {
   "cell_type": "code",
   "execution_count": 22,
   "metadata": {
    "colab": {
     "base_uri": "https://localhost:8080/",
     "height": 425
    },
    "colab_type": "code",
    "id": "LaOYdswIB6Bo",
    "outputId": "684be10d-7fbb-40d2-815b-f1ecf10ec877"
   },
   "outputs": [
    {
     "data": {
      "image/png": "[encoded data removed]",
      "text/plain": [
       "<Figure size 288x216 with 1 Axes>"
      ]
     },
     "metadata": {},
     "output_type": "display_data"
    },
    {
     "data": {
      "image/png": "[encoded data removed]",
      "text/plain": [
       "<Figure size 288x216 with 1 Axes>"
      ]
     },
     "metadata": {},
     "output_type": "display_data"
    }
   ],
   "source": [
    "# Code source: Gaël Varoquaux\n",
    "# Modified for documentation by Jaques Grobler\n",
    "# License: BSD 3 clause\n",
    "\n",
    "X_train = np.c_[.5, 1].T\n",
    "y_train = [.5, 1]\n",
    "X_test = np.c_[0, 2].T\n",
    "\n",
    "np.random.seed(0)\n",
    "\n",
    "classifiers = dict(ols=LinearRegression(),\n",
    "                   ridge=Ridge(alpha=.1))\n",
    "\n",
    "for name, clf in classifiers.items():\n",
    "    fig, ax = plt.subplots(figsize=(4, 3))\n",
    "\n",
    "    for _ in range(6):\n",
    "        this_X = .1 * np.random.normal(size=(2, 1)) + X_train\n",
    "        clf.fit(this_X, y_train)\n",
    "\n",
    "        ax.plot(X_test, clf.predict(X_test), color='gray')\n",
    "        ax.scatter(this_X, y_train, s=3, c='gray', marker='o', zorder=10)\n",
    "\n",
    "    clf.fit(X_train, y_train)\n",
    "    ax.plot(X_test, clf.predict(X_test), linewidth=2, color='blue')\n",
    "    ax.scatter(X_train, y_train, s=30, c='red', marker='+', zorder=10)\n",
    "\n",
    "    ax.set_title(name)\n",
    "    ax.set_xlim(0, 2)\n",
    "    ax.set_ylim((0, 1.6))\n",
    "    ax.set_xlabel('X')\n",
    "    ax.set_ylabel('y')\n",
    "\n",
    "    fig.tight_layout()\n",
    "\n",
    "plt.show()"
   ]
  },
  {
   "cell_type": "markdown",
   "metadata": {
    "colab_type": "text",
    "id": "g7brAGOnx81n"
   },
   "source": [
    "Between the first and the second graph, we have decreased the slope (penalized or watered-down coefficients), but we have less variance between our lines)"
   ]
  },
  {
   "cell_type": "markdown",
   "metadata": {
    "colab_type": "text",
    "id": "k0AhsAmuJzT9"
   },
   "source": [
    "# Example 3\n",
    "\n",
    "Following is data describing characteristics of blog posts, with a target feature of how many comments will be posted in the following 24 hours.\n",
    "\n",
    "https://archive.ics.uci.edu/ml/datasets/BlogFeedback\n",
    "\n",
    "```\n",
    "Attribute Information:\n",
    "\n",
    "1...50: Average, standard deviation, min, max and median of the Attributes\n",
    "51...60 for the source of the current blog post \n",
    "With source we mean the blog on which the post appeared. \n",
    "For example, myblog.blog.org would be the source of \n",
    "the post myblog.blog.org/post_2010_09_10 \n",
    "51: Total number of comments before basetime \n",
    "52: Number of comments in the last 24 hours before the \n",
    "basetime \n",
    "53: Let T1 denote the datetime 48 hours before basetime, \n",
    "Let T2 denote the datetime 24 hours before basetime. \n",
    "This attribute is the number of comments in the time period \n",
    "between T1 and T2 \n",
    "54: Number of comments in the first 24 hours after the \n",
    "publication of the blog post, but before basetime \n",
    "55: The difference of Attribute 52 and Attribute 53 \n",
    "56...60: \n",
    "The same features as the attributes 51...55, but \n",
    "features 56...60 refer to the number of links (trackbacks), \n",
    "while features 51...55 refer to the number of comments. \n",
    "61: The length of time between the publication of the blog post \n",
    "and basetime \n",
    "62: The length of the blog post \n",
    "63...262: \n",
    "The 200 bag of words features for 200 frequent words of the \n",
    "text of the blog post \n",
    "263...269: binary indicator features (0 or 1) for the weekday \n",
    "(Monday...Sunday) of the basetime \n",
    "270...276: binary indicator features (0 or 1) for the weekday \n",
    "(Monday...Sunday) of the date of publication of the blog \n",
    "post \n",
    "277: Number of parent pages: we consider a blog post P as a \n",
    "parent of blog post B, if B is a reply (trackback) to \n",
    "blog post P. \n",
    "278...280: \n",
    "Minimum, maximum, average number of comments that the \n",
    "parents received \n",
    "281: The target: the number of comments in the next 24 hours \n",
    "(relative to basetime)\n",
    "```\n",
    "\n",
    "Investigate - you can try both linear and ridge. You can also sample to smaller data size and see if that makes ridge more important. Don't forget to scale!\n",
    "\n",
    "Focus on the training data, but if you want to load and compare to any of the test data files you can also do that.\n",
    "\n",
    "Note - Ridge may not be that fundamentally superior in this case. That's OK! It's still good to practice both, and see if you can find parameters or sample sizes where ridge does generalize and perform better.\n",
    "\n",
    "When you've fit models to your satisfaction, answer the following question:\n",
    "\n",
    "```\n",
    "Did you find cases where Ridge performed better? If so, describe (alpha parameter, sample size, any other relevant info/processing). If not, what do you think that tells you about the data?\n",
    "```\n",
    "\n",
    "You can create whatever plots, tables, or other results support your argument. In this case, your target audience is a fellow data scientist, *not* a layperson, so feel free to dig in!"
   ]
  },
  {
   "cell_type": "code",
   "execution_count": 23,
   "metadata": {
    "colab": {},
    "colab_type": "code",
    "id": "HKKnNsttRpwI"
   },
   "outputs": [
    {
     "name": "stdout",
     "output_type": "stream",
     "text": [
      "https://archive.ics.uci.edu/ml/machine-learning-databases/00304/BlogFeedback.zip\n"
     ]
    }
   ],
   "source": [
    "# install and import personal library, extract data zip file from url\n",
    "# !pip install --upgrade git+https://github.com/chrisluedtke/clued.git\n",
    "# from clued.get_data import extract_zip_url, get_uci_data_urls\n",
    "\n",
    "# uci_url = 'https://archive.ics.uci.edu/ml/datasets/BlogFeedback'\n",
    "# data_url = get_uci_data_urls(uci_url)\n",
    "# extract_zip_url(data_url[0], write_path='datasets/blogfeedback')"
   ]
  },
  {
   "cell_type": "code",
   "execution_count": 24,
   "metadata": {},
   "outputs": [],
   "source": [
    "pd.options.display.max_columns = None\n",
    "df = pd.read_csv('datasets/blogfeedback/blogData_train.csv', header=None)"
   ]
  },
  {
   "cell_type": "code",
   "execution_count": 25,
   "metadata": {
    "scrolled": true
   },
   "outputs": [
    {
     "name": "stdout",
     "output_type": "stream",
     "text": [
      "(52397, 281)\n"
     ]
    }
   ],
   "source": [
    "print(df.shape)"
   ]
  },
  {
   "cell_type": "code",
   "execution_count": 26,
   "metadata": {},
   "outputs": [],
   "source": [
    "# 51: n_comments_cum_before\n",
    "# 52: n_comments_24h_before\n",
    "# 53: n_comments_24h72h_before\n",
    "# 54: n_comments_24h_after_post\n",
    "# 55: The difference of Attribute 52 and Attribute 53 \n",
    "# 56...60"
   ]
  },
  {
   "cell_type": "code",
   "execution_count": 27,
   "metadata": {},
   "outputs": [],
   "source": [
    "X = df.iloc[:, 0:280].values\n",
    "X = scale(X)\n",
    "y = df.iloc[:,   280].values\n",
    "\n",
    "X_train, X_test, y_train, y_test = \\\n",
    "    train_test_split(X, y, test_size=0.33, random_state=42)"
   ]
  },
  {
   "cell_type": "code",
   "execution_count": 28,
   "metadata": {},
   "outputs": [],
   "source": [
    "mses = {}\n",
    "for a in range(350, 450, 10):\n",
    "    model = Ridge(alpha=a).fit(X_train, y_train)\n",
    "    mses[a] = mean_squared_error(y_test, model.predict(X_test))"
   ]
  },
  {
   "cell_type": "code",
   "execution_count": 29,
   "metadata": {
    "scrolled": false
   },
   "outputs": [
    {
     "data": {
      "text/plain": [
       "{350: 918.2008943850715,\n",
       " 360: 918.2001599150349,\n",
       " 370: 918.199586155073,\n",
       " 380: 918.1991705593872,\n",
       " 390: 918.1989104588843,\n",
       " 400: 918.1988030859445,\n",
       " 410: 918.1988455963532,\n",
       " 420: 918.1990350886326,\n",
       " 430: 918.1993686210125,\n",
       " 440: 918.1998432262698}"
      ]
     },
     "execution_count": 29,
     "metadata": {},
     "output_type": "execute_result"
    }
   ],
   "source": [
    "mses\n",
    "# alpah ~ 400"
   ]
  },
  {
   "cell_type": "code",
   "execution_count": 31,
   "metadata": {},
   "outputs": [
    {
     "name": "stdout",
     "output_type": "stream",
     "text": [
      "902.3161003682391\n",
      "918.1988030859445\n"
     ]
    }
   ],
   "source": [
    "model = Ridge(alpha=400).fit(X_train, y_train)\n",
    "print(mean_squared_error(y_train, model.predict(X_train)))\n",
    "print(mean_squared_error(y_test, model.predict(X_test)))"
   ]
  },
  {
   "cell_type": "markdown",
   "metadata": {},
   "source": [
    "Still overfit!"
   ]
  },
  {
   "cell_type": "markdown",
   "metadata": {
    "colab_type": "text",
    "id": "o_ZIP6O0J435"
   },
   "source": [
    "**Stretch goals**\n",
    "- Revisit past data you've fit OLS models to, and see if there's an `alpha` such that ridge regression results in a model with lower MSE on a train/test split\n",
    "- Yes, Ridge can be applied to classification! Check out [sklearn.linear_model.RidgeClassifier](https://scikit-learn.org/stable/modules/generated/sklearn.linear_model.RidgeClassifier.html#sklearn.linear_model.RidgeClassifier), and try it on a problem you previous approached with a different classifier (note - scikit LogisticRegression also automatically penalizes based on the $L^2$ norm, so the difference won't be as dramatic)\n",
    "- Implement your own function to calculate the full cost that ridge regression is optimizing (the sum of squared residuals + `alpha` times the sum of squared coefficients) - this alone won't fit a model, but you can use it to verify cost of trained models and that the coefficients from the equivalent OLS (without regularization) may have a higher cost"
   ]
  }
 ],
 "metadata": {
  "kernelspec": {
   "display_name": "Python 3",
   "language": "python",
   "name": "python3"
  },
  "language_info": {
   "codemirror_mode": {
    "name": "ipython",
    "version": 3
   },
   "file_extension": ".py",
   "mimetype": "text/x-python",
   "name": "python",
   "nbconvert_exporter": "python",
   "pygments_lexer": "ipython3",
   "version": "3.6.8"
  }
 },
 "nbformat": 4,
 "nbformat_minor": 2
}
