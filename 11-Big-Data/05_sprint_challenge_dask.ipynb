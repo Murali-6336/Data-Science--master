{
 "cells": [
  {
   "cell_type": "code",
   "execution_count": 1,
   "metadata": {},
   "outputs": [],
   "source": [
    "import dask.dataframe as dd\n",
    "import pandas as pd"
   ]
  },
  {
   "cell_type": "code",
   "execution_count": 2,
   "metadata": {},
   "outputs": [
    {
     "data": {
      "text/plain": [
       "(1956, 5)"
      ]
     },
     "execution_count": 2,
     "metadata": {},
     "output_type": "execute_result"
    }
   ],
   "source": [
    "# Load the five csv files into one Dask Dataframe. It should have a \n",
    "# length of 1956 rows, and 5 columns\n",
    "ddf = dd.read_csv(\"*.csv\")\n",
    "\n",
    "shape = len(ddf), len(ddf.columns)\n",
    "shape"
   ]
  },
  {
   "cell_type": "code",
   "execution_count": 3,
   "metadata": {},
   "outputs": [
    {
     "data": {
      "text/plain": [
       "1    1005\n",
       "0     951\n",
       "Name: CLASS, dtype: int64"
      ]
     },
     "execution_count": 3,
     "metadata": {},
     "output_type": "execute_result"
    }
   ],
   "source": [
    "# Use the Dask Dataframe to compute the counts of spam (1005 comments) \n",
    "# versus the counts of legitimate comments (951).\n",
    "ddf['CLASS'].value_counts().compute()"
   ]
  },
  {
   "cell_type": "code",
   "execution_count": 4,
   "metadata": {},
   "outputs": [
    {
     "data": {
      "text/plain": [
       "1    461\n",
       "0     19\n",
       "Name: CLASS, dtype: int64"
      ]
     },
     "execution_count": 4,
     "metadata": {},
     "output_type": "execute_result"
    }
   ],
   "source": [
    "# Spammers often tell people to check out their stuff! When the comments \n",
    "# are converted to lowercase, then 461 spam comments contain the word \n",
    "# \"check\", versus only 19 legitimate comments which contain the word \n",
    "# \"check.\" Use the Dask Dataframe to compute these counts.\n",
    "\n",
    "condition = ddf['CONTENT'].str.lower().str.contains('check')\n",
    "\n",
    "ddf.loc[condition, 'CLASS'].value_counts().compute()"
   ]
  },
  {
   "cell_type": "code",
   "execution_count": 6,
   "metadata": {},
   "outputs": [],
   "source": [
    "ddf['DATE'] = ddf['DATE'].map_partitions(\n",
    "    pd.to_datetime,format='%Y-%m-%d', meta = ('datetime64[ns]')\n",
    ")"
   ]
  },
  {
   "cell_type": "code",
   "execution_count": 7,
   "metadata": {},
   "outputs": [],
   "source": [
    "# Create visualizations with this dataset.\n",
    "auth_counts = ddf.groupby('AUTHOR')['COMMENT_ID'].count()"
   ]
  },
  {
   "cell_type": "code",
   "execution_count": 8,
   "metadata": {},
   "outputs": [],
   "source": [
    "auth_counts = auth_counts.compute().sort_values(ascending=False).head(5)"
   ]
  },
  {
   "cell_type": "code",
   "execution_count": 11,
   "metadata": {},
   "outputs": [
    {
     "data": {
      "text/plain": [
       "Text(0.5,1,'Count of Comments by Top 5 Authors')"
      ]
     },
     "execution_count": 11,
     "metadata": {},
     "output_type": "execute_result"
    },
    {
     "data": {
      "image/png": "[encoded data removed]",
      "text/plain": [
       "<Figure size 432x288 with 1 Axes>"
      ]
     },
     "metadata": {},
     "output_type": "display_data"
    }
   ],
   "source": [
    "import matplotlib.pyplot as plt\n",
    "\n",
    "plt.bar(auth_counts.index, height=auth_counts.values)\n",
    "plt.title(\"Count of Comments by Top 5 Authors\")"
   ]
  },
  {
   "cell_type": "markdown",
   "metadata": {},
   "source": [
    "You've been introduced to a variety of platforms (AWS SageMaker, AWS EMR, Databricks), libraries (Numba, Dask, MapReduce, Spark), and languages (Python, SQL, Scala, Java) that can \"scale up\" or \"scale out\" for faster processing of big data.\n",
    "\n",
    "Write a paragraph comparing some of these technology options. For example, you could describe which technology you may personally prefer to use, in what circumstances, for what reasons."
   ]
  },
  {
   "cell_type": "markdown",
   "metadata": {},
   "source": [
    "**Answer**\n",
    "\n",
    "When data no longer fit within the storage or computational abilities of a single machine, data scientists need solutions to **scale out**. This decision involves tradeoffs that must be considered in context. If a sinlge machine may be viable with hardware upgrades ormore performant code (**scale up**, like by parallel processing), the data scientist should strongly consider doing so. This is because scaling out inherently introduces complexity and sources of error. Scaling up may be feasible with libraries like **Numba**, which reduce Python inefficiencies by converting to machine code.\n",
    "\n",
    "However, certain business cases demand the capabilities that only scaling out can provide. For example, MapReduce afforded Google an enormous competitve advantage through more performance and fault-resistant computation across many machines. Owners of \"big data\" have also benefitted greatly from noSQL and newSQL paradigms that enable the efficient querries previously limited to traditional single-server SQL systems.\n",
    "\n",
    "When scaling up is not viable, the data scientist may look to platforms like **Databricks** (founded by creators of Apache Spark) and **AWS EMR** for relatively low-cost access to distributed systems. **Scala** is the lingua franca of these systems - a statically typed language that compiles to **Java** bytecode.\n",
    "\n",
    "**Dask** is a library that nicely provides both performant local table operations while also scaling to distributed systems. For these reasons and its API similarities to Pandas, this would be my personal preference when weilding big data."
   ]
  }
 ],
 "metadata": {
  "kernelspec": {
   "display_name": "conda_python3",
   "language": "python",
   "name": "conda_python3"
  },
  "language_info": {
   "codemirror_mode": {
    "name": "ipython",
    "version": 3
   },
   "file_extension": ".py",
   "mimetype": "text/x-python",
   "name": "python",
   "nbconvert_exporter": "python",
   "pygments_lexer": "ipython3",
   "version": "3.6.5"
  }
 },
 "nbformat": 4,
 "nbformat_minor": 2
}
