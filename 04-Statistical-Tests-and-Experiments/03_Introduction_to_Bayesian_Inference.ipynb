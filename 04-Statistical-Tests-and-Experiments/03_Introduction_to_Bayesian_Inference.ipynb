{
  "nbformat": 4,
  "nbformat_minor": 0,
  "metadata": {
    "colab": {
      "name": "LS_DS_143_Introduction_to_Bayesian_Inference.ipynb",
      "version": "0.3.2",
      "provenance": [],
      "collapsed_sections": [],
      "include_colab_link": true
    },
    "kernelspec": {
      "name": "python3",
      "display_name": "Python 3"
    }
  },
  "cells": [
    {
      "cell_type": "markdown",
      "metadata": {
        "id": "view-in-github",
        "colab_type": "text"
      },
      "source": [
        "<a href=\"https://colab.research.google.com/github/chrisluedtke/DS-Unit-1-Sprint-4-Statistical-Tests-and-Experiments/blob/master/module3-introduction-to-bayesian-inference/LS_DS_143_Introduction_to_Bayesian_Inference.ipynb\" target=\"_parent\"><img src=\"https://colab.research.google.com/assets/colab-badge.svg\" alt=\"Open In Colab\"/></a>"
      ]
    },
    {
      "metadata": {
        "id": "H7OLbevlbd_Z",
        "colab_type": "text"
      },
      "cell_type": "markdown",
      "source": [
        "# Lambda School Data Science Module 143\n",
        "\n",
        "## Introduction to Bayesian Inference\n",
        "\n",
        "!['Detector! What would the Bayesian statistician say if I asked him whether the--' [roll] 'I AM A NEUTRINO DETECTOR, NOT A LABYRINTH GUARD. SERIOUSLY, DID YOUR BRAIN FALL OUT?' [roll] '... yes.'](https://imgs.xkcd.com/comics/frequentists_vs_bayesians.png)\n",
        "\n",
        "*[XKCD 1132](https://www.xkcd.com/1132/)*\n"
      ]
    },
    {
      "metadata": {
        "id": "3mz8p08BsN6p",
        "colab_type": "text"
      },
      "cell_type": "markdown",
      "source": [
        "## Prepare - Bayes' Theorem and the Bayesian mindset"
      ]
    },
    {
      "metadata": {
        "id": "GhycNr-Sbeie",
        "colab_type": "text"
      },
      "cell_type": "markdown",
      "source": [
        "Bayes' theorem possesses a near-mythical quality - a bit of math that somehow magically evaluates a situation. But this mythicalness has more to do with its reputation and advanced applications than the actual core of it - deriving it is actually remarkably straightforward.\n",
        "\n",
        "### The Law of Total Probability\n",
        "\n",
        "By definition, the total probability of all outcomes (events) of some variable (event space) $A$ is 1. That is:\n",
        "\n",
        "$$\\sum_n P(A_n) = 1$$\n",
        "\n",
        "The **law** of total probability takes this further, considering two variables ($A$ and $B$) and relating their marginal probabilities (their likelihoods considered independently, without reference to one another) and their conditional probabilities (their likelihoods considered jointly). A marginal probability is simply notated as e.g. $P(A)$, while a conditional probability is notated $P(A|B)$, which reads \"probability of $A$ *given* $B$\".\n",
        "\n",
        "The law of total probability states:\n",
        "\n",
        "$$P(A) = \\sum_n P(A | B_n) P(B_n)$$\n",
        "\n",
        "In words - the probability of event $A$ is equal to the sum of the conditional probability of $A$ on any given event $B_n$ times the probability of that event $B_n$, and summed over all possible events in $B$.\n",
        "\n",
        "\n",
        "*[Wikipedia](https://en.wikipedia.org/wiki/Law_of_total_probability) may be a better source.*"
      ]
    },
    {
      "metadata": {
        "id": "fp6oQU9FqO-q",
        "colab_type": "text"
      },
      "cell_type": "markdown",
      "source": [
        "\n",
        "\n",
        "### The Law of Conditional Probability\n",
        "\n",
        "What's the probability of something conditioned on something else? To determine this we have to go back to set theory and think about the intersection of sets:\n",
        "\n",
        "The formula for actual calculation:\n",
        "\n",
        "$$P(A|B) = \\frac{P(A \\cap B)}{P(B)}$$\n",
        "\n",
        "We can see how this relates back to the law of total probability - multiply both sides by $P(B)$ and you get $P(A|B)P(B) = P(A \\cap B)$ - replaced back into the law of total probability we get $P(A) = \\sum_n P(A \\cap B_n)$.\n"
      ]
    },
    {
      "metadata": {
        "id": "NGoagj3HqTtc",
        "colab_type": "text"
      },
      "cell_type": "markdown",
      "source": [
        "### Bayes Theorem\n",
        "\n",
        "Here it is, the seemingly magic tool:\n",
        "\n",
        "$$P(A|B) = \\frac{P(B|A)P(A)}{P(B)}$$\n",
        "\n",
        "In words - the probability of $A$ conditioned on $B$ is the probability of $B$ conditioned on $A$, times the probability of $A$ and divided by the probability of $B$. These unconditioned probabilities are referred to as \"prior beliefs\", and the conditioned probabilities as \"updated.\"\n",
        "\n",
        "Why is this important? Scroll back up to the XKCD example - the Bayesian statistician draws a less absurd conclusion because their prior belief in the likelihood that the sun will go nova is extremely low. So, even when updated based on evidence from a detector that is $35/36 = 0.972$ accurate, the prior belief doesn't shift enough to change their overall opinion.\n",
        "\n",
        "There's many examples of Bayes' theorem - one less absurd example is to apply to [breathalyzer tests](https://www.bayestheorem.net/breathalyzer-example/). You may think that a breathalyzer test that is 100% accurate for true positives (detecting somebody who is drunk) is pretty good, but what if it also has 8% false positives (indicating somebody is drunk when they're not)? And furthermore, the rate of drunk driving (and thus our prior belief)  is 1/1000.\n",
        "\n",
        "What is the likelihood somebody really is drunk if they test positive? Some may guess it's 92% - the difference between the true positives and the false positives. But we have a prior belief of the background/true rate of drunk driving. Sounds like a job for Bayes' theorem!\n",
        "\n",
        "$$\n",
        "\\begin{aligned}\n",
        "P(Drunk | Positive) &= \\frac{P(Positive | Drunk)P(Drunk)}{P(Positive)} \\\\\n",
        "&= \\frac{1 \\times 0.001}{0.08} \\\\\n",
        "&= 0.0125\n",
        "\\end{aligned}\n",
        "$$\n",
        "\n",
        "In other words, the likelihood that somebody is drunk given they tested positive with a breathalyzer in this situation is only 1.25% - probably much lower than you'd guess. This is why, in practice, it's important to have a repeated test to confirm (the probability of two false positives in a row is $0.08 * 0.08 = 0.0064$, much lower), and Bayes' theorem has been relevant in court cases where proper consideration of evidence was important.\n",
        "\n",
        "*Better example on [Wikipedia](https://en.wikipedia.org/wiki/Bayes%27_theorem#Examples)*"
      ]
    },
    {
      "metadata": {
        "id": "htI3DGvDsRJF",
        "colab_type": "text"
      },
      "cell_type": "markdown",
      "source": [
        "## Live Lecture - Deriving Bayes' Theorem, Calculating Bayesian Confidence"
      ]
    },
    {
      "metadata": {
        "id": "moIJNQ-nbfe_",
        "colab_type": "text"
      },
      "cell_type": "markdown",
      "source": [
        "Notice that $P(A|B)$ appears in the above laws - in Bayesian terms, this is the belief in $A$ updated for the evidence $B$. So all we need to do is solve for this term to derive Bayes' theorem. Let's do it together!\n",
        "\n",
        "$x = 2$ is an inline equation\n",
        "\n",
        "$$\n",
        "x = 2\n",
        "$$\n",
        "\n",
        "is a block equation.\n",
        "\n",
        "$$\n",
        "\\begin{aligned}\n",
        "x &= 2\\\\\n",
        "&= 1 + 1\n",
        "\\end{aligned}\n",
        "$$\n",
        "\n",
        "Now let's derive Bayes!\n",
        "\n",
        "$$\n",
        "\\begin{aligned}\n",
        "P(A|B) &= \\frac{P(A \\cap B)}{P(B)}\\\\\n",
        "\\Rightarrow P(A|B)P(B) &= P(A \\cap B)\\\\\n",
        "P(B|A) &= \\frac{P(B \\cap A)}{P(A)}\\\\\n",
        "\\Rightarrow P(B|A)P(A) &= P(B \\cap A)\\\\\n",
        "P(A \\cap B) &= P(B \\cap A)\\\\\n",
        "\\Rightarrow P(A|B)P(B) &= P(B|A)P(A)\n",
        "\\\\\n",
        "\\Rightarrow P(A|B) &=  \\frac{P(B|A) \\times P(A)}{P(B)}\n",
        "\\end{aligned}\n",
        "$$"
      ]
    },
    {
      "metadata": {
        "id": "ke-5EqJI0Tsn",
        "colab_type": "code",
        "outputId": "8bd89bcb-6ab4-46f0-c832-61f2745f5bbc",
        "colab": {
          "base_uri": "https://localhost:8080/",
          "height": 69
        }
      },
      "cell_type": "code",
      "source": [
        "# Activity 2 - Use SciPy to calculate Bayesian confidence intervals\n",
        "# https://docs.scipy.org/doc/scipy/reference/generated/scipy.stats.bayes_mvs.html#scipy.stats.bayes_mvs\n",
        "\n",
        "from scipy import stats\n",
        "import numpy as np\n",
        "\n",
        "coinflips = np.random.binomial(n=1, p=0.5, size=100)\n",
        "print(coinflips)"
      ],
      "execution_count": 0,
      "outputs": [
        {
          "output_type": "stream",
          "text": [
            "[0 0 0 0 0 0 1 0 1 0 0 1 1 1 0 0 0 0 0 0 0 1 1 0 1 0 0 1 0 1 1 1 1 1 0 1 1\n",
            " 1 0 0 1 0 1 1 0 0 0 0 1 0 0 0 0 0 1 0 1 0 1 0 1 0 0 0 0 0 0 0 0 1 0 0 1 0\n",
            " 1 1 1 1 1 0 1 1 0 0 0 0 0 0 1 0 0 1 1 0 1 0 1 0 0 1]\n"
          ],
          "name": "stdout"
        }
      ]
    },
    {
      "metadata": {
        "id": "_DAzwTC-9Uxu",
        "colab_type": "code",
        "colab": {}
      },
      "cell_type": "code",
      "source": [
        "def confidence_interval(data, confidence=0.95):\n",
        "  \"\"\"\n",
        "  Takes data, returns (mean, lower bound, upper bound)\n",
        "  \"\"\"\n",
        "  n = len(data)\n",
        "  mean = sum(data) / n\n",
        "  data = np.array(data)\n",
        "  stderr = stats.sem(data)\n",
        "  interval = stderr * stats.t.ppf((1 + confidence) / 2., n - 1)\n",
        "  return (mean, mean - interval, mean + interval)\n",
        "\n",
        "# Bad name: JavaCarFactoryFactoryDriverClassSubClass\n",
        "# Also a bad name: x\n",
        "# Try to find the balance!"
      ],
      "execution_count": 0,
      "outputs": []
    },
    {
      "metadata": {
        "id": "3u7bFz23_ax6",
        "colab_type": "code",
        "outputId": "d7683e6e-0137-4b77-e6f4-54509195b237",
        "colab": {
          "base_uri": "https://localhost:8080/",
          "height": 34
        }
      },
      "cell_type": "code",
      "source": [
        "confidence_interval(coinflips, confidence=0.99)"
      ],
      "execution_count": 0,
      "outputs": [
        {
          "output_type": "execute_result",
          "data": {
            "text/plain": [
              "(0.4, 0.2706847345829171, 0.529315265417083)"
            ]
          },
          "metadata": {
            "tags": []
          },
          "execution_count": 17
        }
      ]
    },
    {
      "metadata": {
        "id": "TN9R9lSjC155",
        "colab_type": "code",
        "outputId": "eaf5d56e-9650-42ab-eb59-77c52ada4f61",
        "colab": {
          "base_uri": "https://localhost:8080/",
          "height": 34
        }
      },
      "cell_type": "code",
      "source": [
        "confidence_interval(coinflips, confidence=1.1)"
      ],
      "execution_count": 0,
      "outputs": [
        {
          "output_type": "execute_result",
          "data": {
            "text/plain": [
              "(0.4, nan, nan)"
            ]
          },
          "metadata": {
            "tags": []
          },
          "execution_count": 25
        }
      ]
    },
    {
      "metadata": {
        "id": "-P0urhIpBc6r",
        "colab_type": "code",
        "colab": {}
      },
      "cell_type": "code",
      "source": [
        "help(stats.bayes_mvs)"
      ],
      "execution_count": 0,
      "outputs": []
    },
    {
      "metadata": {
        "id": "IQxW0Po4_kux",
        "colab_type": "code",
        "outputId": "2f5aaea7-5368-4520-ae3b-93fb4f192d84",
        "colab": {
          "base_uri": "https://localhost:8080/",
          "height": 89
        }
      },
      "cell_type": "code",
      "source": [
        "stats.bayes_mvs(coinflips, alpha=0.99)"
      ],
      "execution_count": 0,
      "outputs": [
        {
          "output_type": "execute_result",
          "data": {
            "text/plain": [
              "(Mean(statistic=0.4, minmax=(0.2706847345829171, 0.529315265417083)),\n",
              " Variance(statistic=0.24742268041237114, minmax=(0.17267828928836013, 0.36084742147255444)),\n",
              " Std_dev(statistic=0.4961356766559939, minmax=(0.41554577279568145, 0.6007057694683433)))"
            ]
          },
          "metadata": {
            "tags": []
          },
          "execution_count": 21
        }
      ]
    },
    {
      "metadata": {
        "id": "VnkdNSN1B0SL",
        "colab_type": "code",
        "colab": {}
      },
      "cell_type": "code",
      "source": [
        "help(stats.mvsdist)"
      ],
      "execution_count": 0,
      "outputs": []
    },
    {
      "metadata": {
        "id": "8RMg3djrD4tK",
        "colab_type": "code",
        "outputId": "98b0ef46-a482-495a-822c-61a489938ca5",
        "colab": {
          "base_uri": "https://localhost:8080/",
          "height": 34
        }
      },
      "cell_type": "code",
      "source": [
        "coinflips_mean_dist, _, _ = stats.mvsdist(coinflips)\n",
        "coinflips_mean_dist"
      ],
      "execution_count": 0,
      "outputs": [
        {
          "output_type": "execute_result",
          "data": {
            "text/plain": [
              "<scipy.stats._distn_infrastructure.rv_frozen at 0x7fc30846e160>"
            ]
          },
          "metadata": {
            "tags": []
          },
          "execution_count": 32
        }
      ]
    },
    {
      "metadata": {
        "id": "hg60QekWD9G8",
        "colab_type": "code",
        "outputId": "731b41ac-8474-4b3b-b121-3842a7f39bb5",
        "colab": {
          "base_uri": "https://localhost:8080/",
          "height": 106
        }
      },
      "cell_type": "code",
      "source": [
        "help(coinflips_mean_dist.rvs)"
      ],
      "execution_count": 0,
      "outputs": [
        {
          "output_type": "stream",
          "text": [
            "Help on method rvs in module scipy.stats._distn_infrastructure:\n",
            "\n",
            "rvs(size=None, random_state=None) method of scipy.stats._distn_infrastructure.rv_frozen instance\n",
            "\n"
          ],
          "name": "stdout"
        }
      ]
    },
    {
      "metadata": {
        "id": "yMrLBo6zEjnj",
        "colab_type": "code",
        "outputId": "de9467f7-bf11-40b0-c94d-90b0a4c8ef1d",
        "colab": {
          "base_uri": "https://localhost:8080/",
          "height": 34
        }
      },
      "cell_type": "code",
      "source": [
        "coinflips_mean_dist.mean()"
      ],
      "execution_count": 0,
      "outputs": [
        {
          "output_type": "execute_result",
          "data": {
            "text/plain": [
              "0.4"
            ]
          },
          "metadata": {
            "tags": []
          },
          "execution_count": 38
        }
      ]
    },
    {
      "metadata": {
        "id": "UtqvHgglElhp",
        "colab_type": "code",
        "outputId": "5350773d-736a-489a-e28d-cbc2c548d0b5",
        "colab": {
          "base_uri": "https://localhost:8080/",
          "height": 300
        }
      },
      "cell_type": "code",
      "source": [
        "import pandas as pd\n",
        "pd.DataFrame(coinflips).describe()"
      ],
      "execution_count": 0,
      "outputs": [
        {
          "output_type": "execute_result",
          "data": {
            "text/html": [
              "<div>\n",
              "<style scoped>\n",
              "    .dataframe tbody tr th:only-of-type {\n",
              "        vertical-align: middle;\n",
              "    }\n",
              "\n",
              "    .dataframe tbody tr th {\n",
              "        vertical-align: top;\n",
              "    }\n",
              "\n",
              "    .dataframe thead th {\n",
              "        text-align: right;\n",
              "    }\n",
              "</style>\n",
              "<table border=\"1\" class=\"dataframe\">\n",
              "  <thead>\n",
              "    <tr style=\"text-align: right;\">\n",
              "      <th></th>\n",
              "      <th>0</th>\n",
              "    </tr>\n",
              "  </thead>\n",
              "  <tbody>\n",
              "    <tr>\n",
              "      <th>count</th>\n",
              "      <td>100.000000</td>\n",
              "    </tr>\n",
              "    <tr>\n",
              "      <th>mean</th>\n",
              "      <td>0.400000</td>\n",
              "    </tr>\n",
              "    <tr>\n",
              "      <th>std</th>\n",
              "      <td>0.492366</td>\n",
              "    </tr>\n",
              "    <tr>\n",
              "      <th>min</th>\n",
              "      <td>0.000000</td>\n",
              "    </tr>\n",
              "    <tr>\n",
              "      <th>25%</th>\n",
              "      <td>0.000000</td>\n",
              "    </tr>\n",
              "    <tr>\n",
              "      <th>50%</th>\n",
              "      <td>0.000000</td>\n",
              "    </tr>\n",
              "    <tr>\n",
              "      <th>75%</th>\n",
              "      <td>1.000000</td>\n",
              "    </tr>\n",
              "    <tr>\n",
              "      <th>max</th>\n",
              "      <td>1.000000</td>\n",
              "    </tr>\n",
              "  </tbody>\n",
              "</table>\n",
              "</div>"
            ],
            "text/plain": [
              "                0\n",
              "count  100.000000\n",
              "mean     0.400000\n",
              "std      0.492366\n",
              "min      0.000000\n",
              "25%      0.000000\n",
              "50%      0.000000\n",
              "75%      1.000000\n",
              "max      1.000000"
            ]
          },
          "metadata": {
            "tags": []
          },
          "execution_count": 40
        }
      ]
    },
    {
      "metadata": {
        "id": "FomzetbgEZaB",
        "colab_type": "code",
        "outputId": "a4daea91-57ea-44f4-e7a8-11f7a33694cc",
        "colab": {
          "base_uri": "https://localhost:8080/",
          "height": 364
        }
      },
      "cell_type": "code",
      "source": [
        "coinflips_mean_dist.rvs(100)  # Bootstrapping! (or the atom of it)"
      ],
      "execution_count": 0,
      "outputs": [
        {
          "output_type": "execute_result",
          "data": {
            "text/plain": [
              "array([0.35943745, 0.37146884, 0.45569571, 0.42599565, 0.37608118,\n",
              "       0.46700873, 0.42640951, 0.34659443, 0.35380485, 0.45567888,\n",
              "       0.44532795, 0.49123792, 0.34953675, 0.34647169, 0.42006728,\n",
              "       0.41318424, 0.36547381, 0.41136929, 0.42656771, 0.41305304,\n",
              "       0.3554256 , 0.39315319, 0.27828892, 0.36235343, 0.41120708,\n",
              "       0.38046218, 0.38532577, 0.29947893, 0.33943933, 0.29424763,\n",
              "       0.37074188, 0.39900053, 0.43727812, 0.38550922, 0.43163546,\n",
              "       0.41689431, 0.40130138, 0.47489356, 0.4058945 , 0.36400607,\n",
              "       0.4375243 , 0.48032106, 0.39560034, 0.37488479, 0.41074598,\n",
              "       0.31578337, 0.3263916 , 0.37646216, 0.39705453, 0.46125903,\n",
              "       0.47670832, 0.3418216 , 0.40587084, 0.43573981, 0.39781115,\n",
              "       0.34527347, 0.42446375, 0.46084496, 0.40721963, 0.35931413,\n",
              "       0.38275184, 0.4846519 , 0.41340888, 0.36854448, 0.4253964 ,\n",
              "       0.42006874, 0.46307232, 0.38476352, 0.40280751, 0.43390148,\n",
              "       0.34031929, 0.3288314 , 0.41825436, 0.40062326, 0.41539025,\n",
              "       0.37840738, 0.3818169 , 0.40137234, 0.35986051, 0.37217409,\n",
              "       0.35239772, 0.3570933 , 0.37658667, 0.3676458 , 0.3794939 ,\n",
              "       0.44652907, 0.42688622, 0.39111051, 0.32396591, 0.3985595 ,\n",
              "       0.38096698, 0.37315817, 0.30986956, 0.35409955, 0.45044606,\n",
              "       0.40198593, 0.44638429, 0.33473039, 0.42261774, 0.33859197])"
            ]
          },
          "metadata": {
            "tags": []
          },
          "execution_count": 51
        }
      ]
    },
    {
      "metadata": {
        "id": "OIusfvcpH5FR",
        "colab_type": "text"
      },
      "cell_type": "markdown",
      "source": [
        "We must go deeper!\n",
        "\n",
        "https://github.com/scipy/scipy/blob/90534919e139d2a81c24bf08341734ff41a3db12/scipy/stats/morestats.py#L139"
      ]
    },
    {
      "metadata": {
        "id": "P-DzzRk5bf0z",
        "colab_type": "text"
      },
      "cell_type": "markdown",
      "source": [
        "## Assignment - Code it up!\n",
        "\n",
        "Most of the above was pure math - now write Python code to reproduce the results! This is purposefully open ended - you'll have to think about how you should represent probabilities and events. You can and should look things up, and as a stretch goal - refactor your code into helpful reusable functions!\n",
        "\n",
        "Specific goals/targets:\n",
        "\n",
        "1. Write a function `def prob_drunk_given_positive(prob_drunk_prior, prob_positive, prob_positive_drunk)` that reproduces the example from lecture, and use it to calculate and visualize a range of situations\n",
        "2. Explore `scipy.stats.bayes_mvs` - read its documentation, and experiment with it on data you've tested in other ways earlier this week\n",
        "3. Create a visualization comparing the results of a Bayesian approach to a traditional/frequentist approach\n",
        "4. In your own words, summarize the difference between Bayesian and Frequentist statistics\n",
        "\n",
        "If you're unsure where to start, check out [this blog post of Bayes theorem with Python](https://dataconomy.com/2015/02/introduction-to-bayes-theorem-with-python/) - you could and should create something similar!\n",
        "\n",
        "Stretch goals:\n",
        "\n",
        "- Apply a Bayesian technique to a problem you previously worked (in an assignment or project work) on from a frequentist (standard) perspective\n",
        "- Check out [PyMC3](https://docs.pymc.io/) (note this goes beyond hypothesis tests into modeling) - read the guides and work through some examples\n",
        "- Take PyMC3 further - see if you can build something with it!"
      ]
    },
    {
      "metadata": {
        "id": "xpVhZyUnbf7o",
        "colab_type": "code",
        "outputId": "55fef9a3-8ff1-42c4-ae80-93291c4e4438",
        "colab": {
          "base_uri": "https://localhost:8080/",
          "height": 34
        }
      },
      "cell_type": "code",
      "source": [
        "def prob_drunk_given_positive(prob_positive_given_drunk=1, # reliability of breathalyzer\n",
        "                              prob_positive_given_not_drunk=0.08, # reliability of breathalyzer\n",
        "                              prob_drunk=(1/1000), # population rate of being drunk\n",
        "                              consec_tests_failed=1\n",
        "                             ):\n",
        "  prob_drunk_given_positive = (\n",
        "      (prob_positive_given_drunk * prob_drunk) / \n",
        "      (prob_positive_given_drunk**consec_tests_failed * prob_drunk + \n",
        "       prob_positive_given_not_drunk**consec_tests_failed * (1-prob_drunk))\n",
        "  )\n",
        "  \n",
        "  return prob_drunk_given_positive\n",
        "\n",
        "prob_drunk_given_positive(prob_positive_given_drunk=1,\n",
        "                          prob_positive_given_not_drunk=0.08,\n",
        "                          prob_drunk=(1/1000)\n",
        "                         )"
      ],
      "execution_count": 7,
      "outputs": [
        {
          "output_type": "execute_result",
          "data": {
            "text/plain": [
              "0.012357884330202669"
            ]
          },
          "metadata": {
            "tags": []
          },
          "execution_count": 7
        }
      ]
    },
    {
      "metadata": {
        "id": "xzXFkt20LI4D",
        "colab_type": "code",
        "outputId": "06f0cec1-ef96-4082-adb3-88c00041ffc6",
        "colab": {
          "base_uri": "https://localhost:8080/",
          "height": 376
        }
      },
      "cell_type": "code",
      "source": [
        "import matplotlib.pyplot as plt\n",
        "\n",
        "fig, ax = plt.subplots()\n",
        "\n",
        "ax.plot([prob_drunk_given_positive(prob_drunk=x/100) for x in range(0,100,1)], label='bayesian')\n",
        "ax.plot([prob_drunk_given_positive(prob_drunk=x/100, consec_tests_failed=2) for x in range(0,100,1)], label='bayesian 2 consec tests')\n",
        "ax.plot([(1-0.08) for x in range(0,100,1)], label='frequentist')\n",
        "\n",
        "ax.set_title('Probability of Driver Being Drunk Given Positive Breathalyzer')\n",
        "ax.set_xlabel('prior certainty')\n",
        "ax.set_xticks([x for x in range(0, 101, 20)])\n",
        "ax.set_xticklabels([str(x)+'%' for x in range(0, 101, 20)])\n",
        "ax.set_ylabel('posterior certainty')\n",
        "ax.set_yticks([x/100 for x in range(0, 101, 20)])\n",
        "ax.set_yticklabels([str(x)+'%' for x in range(0, 101, 20)])\n",
        "ax.legend();"
      ],
      "execution_count": 9,
      "outputs": [
        {
          "output_type": "display_data",
          "data": {
            "image/png": "[encoded data removed]",
            "text/plain": [
              "<Figure size 576x396 with 1 Axes>"
            ]
          },
          "metadata": {
            "tags": []
          }
        }
      ]
    }
  ]
}