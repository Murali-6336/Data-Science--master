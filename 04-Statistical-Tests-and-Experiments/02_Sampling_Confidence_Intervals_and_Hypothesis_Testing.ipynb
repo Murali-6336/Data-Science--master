{
  "nbformat": 4,
  "nbformat_minor": 0,
  "metadata": {
    "colab": {
      "name": "LS_DS2_142_Sampling_Confidence_Intervals_and_Hypothesis_Testing.ipynb",
      "version": "0.3.2",
      "provenance": [],
      "collapsed_sections": [],
      "include_colab_link": true
    },
    "kernelspec": {
      "name": "python3",
      "display_name": "Python 3"
    }
  },
  "cells": [
    {
      "cell_type": "markdown",
      "metadata": {
        "id": "view-in-github",
        "colab_type": "text"
      },
      "source": [
        "<a href=\"https://colab.research.google.com/github/chrisluedtke/DS-Unit-1-Sprint-4-Statistical-Tests-and-Experiments/blob/master/module2-sampling-confidence-intervals-and-hypothesis-testing/LS_DS_142_Sampling_Confidence_Intervals_and_Hypothesis_Testing.ipynb\" target=\"_parent\"><img src=\"https://colab.research.google.com/assets/colab-badge.svg\" alt=\"Open In Colab\"/></a>"
      ]
    },
    {
      "metadata": {
        "id": "838Dmw1kM2LK",
        "colab_type": "text"
      },
      "cell_type": "markdown",
      "source": [
        "# Lambda School Data Science Module 142\n",
        "## Sampling, Confidence Intervals, and Hypothesis Testing"
      ]
    },
    {
      "metadata": {
        "id": "dbcPKIo5M6Ny",
        "colab_type": "text"
      },
      "cell_type": "markdown",
      "source": [
        "## Prepare - examine other available hypothesis tests\n",
        "\n",
        "If you had to pick a single hypothesis test in your toolbox, t-test would probably be the best choice - but the good news is you don't have to pick just one! Here's some of the others to be aware of:"
      ]
    },
    {
      "metadata": {
        "id": "tlBel8j9M6tB",
        "colab_type": "code",
        "outputId": "30eff61d-5b5e-4eba-a5b8-39fcac4cd60e",
        "colab": {
          "base_uri": "https://localhost:8080/",
          "height": 212
        }
      },
      "cell_type": "code",
      "source": [
        "import matplotlib.pyplot as plt\n",
        "import numpy as np\n",
        "from scipy.stats import chisquare  # One-way chi square test\n",
        "\n",
        "# Chi square can take any crosstab/table and test the independence of rows/cols\n",
        "# The null hypothesis is that the rows/cols are independent -> low chi square\n",
        "# The alternative is that there is a dependence -> high chi square\n",
        "# Be aware! Chi square does *not* tell you direction/causation\n",
        "\n",
        "ind_obs = np.array([[1, 1], [2, 2]]).T\n",
        "print(ind_obs)\n",
        "print(chisquare(ind_obs, axis=None))\n",
        "\n",
        "dep_obs = np.array([[16, 18, 16, 14, 12, 12], [32, 24, 16, 28, 20, 24]]).T\n",
        "print(dep_obs)\n",
        "print(chisquare(dep_obs, axis=None))\n",
        "\n",
        "# Alternative to first table\n",
        "'''\n",
        "       Ins Outs\n",
        "Male  [[2   1]\n",
        "Female [1   2]]\n",
        "\n",
        "'''"
      ],
      "execution_count": 0,
      "outputs": [
        {
          "output_type": "stream",
          "text": [
            "[[1 2]\n",
            " [1 2]]\n",
            "Power_divergenceResult(statistic=0.6666666666666666, pvalue=0.8810148425137847)\n",
            "[[16 32]\n",
            " [18 24]\n",
            " [16 16]\n",
            " [14 28]\n",
            " [12 20]\n",
            " [12 24]]\n",
            "Power_divergenceResult(statistic=23.31034482758621, pvalue=0.015975692534127565)\n"
          ],
          "name": "stdout"
        },
        {
          "output_type": "execute_result",
          "data": {
            "text/plain": [
              "'\\n       Ins Outs\\nMale  [[2   1]\\nFemale [1   2]]\\n\\n'"
            ]
          },
          "metadata": {
            "tags": []
          },
          "execution_count": 36
        }
      ]
    },
    {
      "metadata": {
        "id": "nN0BdNiDPxbk",
        "colab_type": "code",
        "outputId": "946237b5-d0f0-40c1-9bec-f7aab9d046c5",
        "colab": {
          "base_uri": "https://localhost:8080/",
          "height": 35
        }
      },
      "cell_type": "code",
      "source": [
        "# Distribution tests:\n",
        "# We often assume that something is normal, but it can be important to *check*\n",
        "\n",
        "# For example, later on with predictive modeling, a typical assumption is that\n",
        "# residuals (prediction errors) are normal - checking is a good diagnostic\n",
        "\n",
        "from scipy.stats import normaltest\n",
        "# Poisson models arrival times and is related to the binomial (coinflip)\n",
        "sample = np.random.poisson(5, 1000)\n",
        "print(normaltest(sample))  # Pretty clearly not normal"
      ],
      "execution_count": 0,
      "outputs": [
        {
          "output_type": "stream",
          "text": [
            "NormaltestResult(statistic=55.18474003051911, pvalue=1.0394077717026685e-12)\n"
          ],
          "name": "stdout"
        }
      ]
    },
    {
      "metadata": {
        "id": "P5t0WhkDReFO",
        "colab_type": "code",
        "outputId": "677e05ea-a6f5-474b-de08-9366b5dd4209",
        "colab": {
          "base_uri": "https://localhost:8080/",
          "height": 52
        }
      },
      "cell_type": "code",
      "source": [
        "# Kruskal-Wallis H-test - compare the median rank between 2+ groups\n",
        "# Can be applied to ranking decisions/outcomes/recommendations\n",
        "# The underlying math comes from chi-square distribution, and is best for n>5\n",
        "from scipy.stats import kruskal\n",
        "\n",
        "x1 = [1, 3, 5, 7, 9]\n",
        "y1 = [2, 4, 6, 8, 10]\n",
        "print(kruskal(x1, y1))  # x1 is a little better, but not \"significantly\" so\n",
        "\n",
        "x2 = [1, 1, 1]\n",
        "y2 = [2, 2, 2]\n",
        "z = [2, 2]  # Hey, a third group, and of different size!\n",
        "print(kruskal(x2, y2, z))  # x clearly dominates"
      ],
      "execution_count": 0,
      "outputs": [
        {
          "output_type": "stream",
          "text": [
            "KruskalResult(statistic=0.2727272727272734, pvalue=0.6015081344405895)\n",
            "KruskalResult(statistic=7.0, pvalue=0.0301973834223185)\n"
          ],
          "name": "stdout"
        }
      ]
    },
    {
      "metadata": {
        "id": "7pT3IP36Rh0b",
        "colab_type": "text"
      },
      "cell_type": "markdown",
      "source": [
        "And there's many more! `scipy.stats` is fairly comprehensive, though there are even more available if you delve into the extended world of statistics packages. As tests get increasingly obscure and specialized, the importance of knowing them by heart becomes small - but being able to look them up and figure them out when they *are* relevant is still important."
      ]
    },
    {
      "metadata": {
        "id": "L1_KRuHCM7BW",
        "colab_type": "text"
      },
      "cell_type": "markdown",
      "source": [
        "## Live Lecture - let's explore some more of scipy.stats"
      ]
    },
    {
      "metadata": {
        "id": "31BOV6ectO-M",
        "colab_type": "code",
        "outputId": "f84b9b7f-d0d9-4d4a-a8cd-9f88587d3a45",
        "colab": {
          "base_uri": "https://localhost:8080/",
          "height": 70
        }
      },
      "cell_type": "code",
      "source": [
        "# Playing with distributions\n",
        "from scipy.stats import chi2\n",
        "\n",
        "def describe(x):\n",
        "  print(f'mean: {x.mean()}')\n",
        "  print(f'std:  {x.std()}')\n",
        "  print(f'var:  {x.var()}')\n",
        "  \n",
        "describe(chi2(5))"
      ],
      "execution_count": 0,
      "outputs": [
        {
          "output_type": "stream",
          "text": [
            "mean: 5.0\n",
            "std:  3.1622776601683795\n",
            "var:  10.0\n"
          ],
          "name": "stdout"
        }
      ]
    },
    {
      "metadata": {
        "id": "Ev0A1XF7trRJ",
        "colab_type": "code",
        "outputId": "5db94b21-a1c4-4603-9ef0-af6bcb78b645",
        "colab": {
          "base_uri": "https://localhost:8080/",
          "height": 70
        }
      },
      "cell_type": "code",
      "source": [
        "describe(chi2(500))"
      ],
      "execution_count": 0,
      "outputs": [
        {
          "output_type": "stream",
          "text": [
            "mean: 500.0\n",
            "std:  31.622776601683793\n",
            "var:  1000.0\n"
          ],
          "name": "stdout"
        }
      ]
    },
    {
      "metadata": {
        "id": "C_e956pf_Hzj",
        "colab_type": "code",
        "outputId": "6fe8d6b0-6fbc-4113-b6f4-2224af29dfbd",
        "colab": {
          "base_uri": "https://localhost:8080/",
          "height": 347
        }
      },
      "cell_type": "code",
      "source": [
        "x = np.linspace(0, 10, 5000)\n",
        "for param in range(3, 10):\n",
        "  plt.plot(x, chi2(df=param).pdf(x), label=f'df={param}');\n",
        "  \n",
        "plt.legend();"
      ],
      "execution_count": 0,
      "outputs": [
        {
          "output_type": "display_data",
          "data": {
            "image/png": "[encoded data removed]",
            "text/plain": [
              "<Figure size 576x396 with 1 Axes>"
            ]
          },
          "metadata": {
            "tags": []
          }
        }
      ]
    },
    {
      "metadata": {
        "id": "5xbRAyhZu7CZ",
        "colab_type": "code",
        "outputId": "0d405505-3f35-4077-9341-bfe0aa5b1bf0",
        "colab": {
          "base_uri": "https://localhost:8080/",
          "height": 34
        }
      },
      "cell_type": "code",
      "source": [
        "# How do I test \"how normal\" a chisquare(500) is?\n",
        "from scipy.stats import normaltest\n",
        "\n",
        "normaltest(chi2_500.rvs(100000))"
      ],
      "execution_count": 0,
      "outputs": [
        {
          "output_type": "execute_result",
          "data": {
            "text/plain": [
              "NormaltestResult(statistic=299.1967689803537, pvalue=1.0721291749783167e-65)"
            ]
          },
          "metadata": {
            "tags": []
          },
          "execution_count": 25
        }
      ]
    },
    {
      "metadata": {
        "id": "JWWjSBYRvolI",
        "colab_type": "code",
        "outputId": "9a9d88ae-7157-47d7-995d-dc03639b880f",
        "colab": {
          "base_uri": "https://localhost:8080/",
          "height": 1007
        }
      },
      "cell_type": "code",
      "source": [
        "help(normaltest)"
      ],
      "execution_count": 0,
      "outputs": [
        {
          "output_type": "stream",
          "text": [
            "Help on function normaltest in module scipy.stats.stats:\n",
            "\n",
            "normaltest(a, axis=0, nan_policy='propagate')\n",
            "    Test whether a sample differs from a normal distribution.\n",
            "    \n",
            "    This function tests the null hypothesis that a sample comes\n",
            "    from a normal distribution.  It is based on D'Agostino and\n",
            "    Pearson's [1]_, [2]_ test that combines skew and kurtosis to\n",
            "    produce an omnibus test of normality.\n",
            "    \n",
            "    \n",
            "    Parameters\n",
            "    ----------\n",
            "    a : array_like\n",
            "        The array containing the sample to be tested.\n",
            "    axis : int or None, optional\n",
            "        Axis along which to compute test. Default is 0. If None,\n",
            "        compute over the whole array `a`.\n",
            "    nan_policy : {'propagate', 'raise', 'omit'}, optional\n",
            "        Defines how to handle when input contains nan. 'propagate' returns nan,\n",
            "        'raise' throws an error, 'omit' performs the calculations ignoring nan\n",
            "        values. Default is 'propagate'.\n",
            "    \n",
            "    Returns\n",
            "    -------\n",
            "    statistic : float or array\n",
            "        ``s^2 + k^2``, where ``s`` is the z-score returned by `skewtest` and\n",
            "        ``k`` is the z-score returned by `kurtosistest`.\n",
            "    pvalue : float or array\n",
            "       A 2-sided chi squared probability for the hypothesis test.\n",
            "    \n",
            "    References\n",
            "    ----------\n",
            "    .. [1] D'Agostino, R. B. (1971), \"An omnibus test of normality for\n",
            "           moderate and large sample size\", Biometrika, 58, 341-348\n",
            "    \n",
            "    .. [2] D'Agostino, R. and Pearson, E. S. (1973), \"Tests for departure from\n",
            "           normality\", Biometrika, 60, 613-622\n",
            "    \n",
            "    Examples\n",
            "    --------\n",
            "    >>> from scipy import stats\n",
            "    >>> pts = 1000\n",
            "    >>> np.random.seed(28041990)\n",
            "    >>> a = np.random.normal(0, 1, size=pts)\n",
            "    >>> b = np.random.normal(2, 1, size=pts)\n",
            "    >>> x = np.concatenate((a, b))\n",
            "    >>> k2, p = stats.normaltest(x)\n",
            "    >>> alpha = 1e-3\n",
            "    >>> print(\"p = {:g}\".format(p))\n",
            "    p = 3.27207e-11\n",
            "    >>> if p < alpha:  # null hypothesis: x comes from a normal distribution\n",
            "    ...     print(\"The null hypothesis can be rejected\")\n",
            "    ... else:\n",
            "    ...     print(\"The null hypothesis cannot be rejected\")\n",
            "    The null hypothesis can be rejected\n",
            "\n"
          ],
          "name": "stdout"
        }
      ]
    },
    {
      "metadata": {
        "id": "2_8hazseumXH",
        "colab_type": "code",
        "outputId": "71674620-1bec-4a5d-b43a-5c3f5deff286",
        "colab": {
          "base_uri": "https://localhost:8080/",
          "height": 106
        }
      },
      "cell_type": "code",
      "source": [
        "# Let's calculate chi square test statistic, first by hand\n",
        "\n",
        "# 1 male wants to eat outside, 2 inside\n",
        "# 2 females want to eat outside, 1 inside\n",
        "chi_data = [[1, 2], [2, 1]]\n",
        "\n",
        "import pandas as pd\n",
        "chi_data = pd.DataFrame(chi_data, columns=['Outside', 'Inside'])\n",
        "chi_data"
      ],
      "execution_count": 0,
      "outputs": [
        {
          "output_type": "execute_result",
          "data": {
            "text/html": [
              "<div>\n",
              "<style scoped>\n",
              "    .dataframe tbody tr th:only-of-type {\n",
              "        vertical-align: middle;\n",
              "    }\n",
              "\n",
              "    .dataframe tbody tr th {\n",
              "        vertical-align: top;\n",
              "    }\n",
              "\n",
              "    .dataframe thead th {\n",
              "        text-align: right;\n",
              "    }\n",
              "</style>\n",
              "<table border=\"1\" class=\"dataframe\">\n",
              "  <thead>\n",
              "    <tr style=\"text-align: right;\">\n",
              "      <th></th>\n",
              "      <th>Outside</th>\n",
              "      <th>Inside</th>\n",
              "    </tr>\n",
              "  </thead>\n",
              "  <tbody>\n",
              "    <tr>\n",
              "      <th>0</th>\n",
              "      <td>1</td>\n",
              "      <td>2</td>\n",
              "    </tr>\n",
              "    <tr>\n",
              "      <th>1</th>\n",
              "      <td>2</td>\n",
              "      <td>1</td>\n",
              "    </tr>\n",
              "  </tbody>\n",
              "</table>\n",
              "</div>"
            ],
            "text/plain": [
              "   Outside  Inside\n",
              "0        1       2\n",
              "1        2       1"
            ]
          },
          "metadata": {
            "tags": []
          },
          "execution_count": 56
        }
      ]
    },
    {
      "metadata": {
        "id": "AeNDtKi4zVck",
        "colab_type": "code",
        "outputId": "4ef6b63a-1103-4822-c7a3-fa80ae57b8df",
        "colab": {
          "base_uri": "https://localhost:8080/",
          "height": 34
        }
      },
      "cell_type": "code",
      "source": [
        "# Let's just type out/explain the margin counts\n",
        "# Total number of males (first row) = 3\n",
        "# Total number of females (second row) = 3\n",
        "# Total number of people who prefer outside = 3\n",
        "# Total number of people who prefer inside = 3\n",
        "\n",
        "# Now let's think about margin *proportions*\n",
        "# Proportion of first row = obs / total = (3 males) / (3 males + 3 females)\n",
        "# = 3/6 = 0.5\n",
        "# All the other rows/cols also have 0.5 proportion margins\n",
        "\n",
        "# Expected value for top left cell (males who want to eat outside)\n",
        "# (0.5 (proportion of males) * 0.5 (proportion of outside-eaters)) * 6 = 1.5\n",
        "\n",
        "# Because of symmetry of this little example, we know the expected value of\n",
        "# *all* cells is 1.5 (i.e. the same, because margins are all the same)\n",
        "\n",
        "# chi-square test statistic is the sum of square deviation from these E.V.\n",
        "expected_values = [[1.5, 1.5], [1.5, 1.5]]\n",
        "deviation = (((0.5)**2) / 1.5) * 4  # 0.5^2 deviation per cell, scaled and added\n",
        "print(deviation)"
      ],
      "execution_count": 0,
      "outputs": [
        {
          "output_type": "stream",
          "text": [
            "0.6666666666666666\n"
          ],
          "name": "stdout"
        }
      ]
    },
    {
      "metadata": {
        "id": "OvMYOmoX2G10",
        "colab_type": "code",
        "colab": {}
      },
      "cell_type": "code",
      "source": [
        "# Close but not all the way\n",
        "# https://en.wikipedia.org/wiki/Pearson%27s_chi-squared_test"
      ],
      "execution_count": 0,
      "outputs": []
    },
    {
      "metadata": {
        "id": "CRRDSifm2cvC",
        "colab_type": "code",
        "outputId": "4ffca420-fefd-49f4-f5ce-9a96bdfe46ec",
        "colab": {
          "base_uri": "https://localhost:8080/",
          "height": 34
        }
      },
      "cell_type": "code",
      "source": [
        "# A little bit more properly, but not fully from scratch\n",
        "\n",
        "def lazy_chisquare(observed, expected):\n",
        "  chisquare = 0\n",
        "  for row_obs, row_exp in zip(observed, expected):\n",
        "    for obs, exp in zip(row_obs, row_exp):\n",
        "      chisquare += (obs - exp)**2 / exp\n",
        "  return chisquare\n",
        "\n",
        "chi_data = [[1, 2], [2, 1]]\n",
        "expected_values = [[1.5, 1.5], [1.5, 1.5]]\n",
        "lazy_chisquare(chi_data, expected_values)"
      ],
      "execution_count": 0,
      "outputs": [
        {
          "output_type": "execute_result",
          "data": {
            "text/plain": [
              "0.6666666666666666"
            ]
          },
          "metadata": {
            "tags": []
          },
          "execution_count": 41
        }
      ]
    },
    {
      "metadata": {
        "id": "EdvyX9Xt3wQP",
        "colab_type": "code",
        "colab": {}
      },
      "cell_type": "code",
      "source": [
        "# How do we interpret?\n",
        "# https://homepage.divms.uiowa.edu/~mbognar/applets/chisq.html\n",
        "# n-1 degrees of freedom! (where n=number of *cells* in table)"
      ],
      "execution_count": 0,
      "outputs": []
    },
    {
      "metadata": {
        "id": "XVwZ3BqH1dbN",
        "colab_type": "code",
        "outputId": "a04c825f-c358-408b-803e-c873ee778451",
        "colab": {
          "base_uri": "https://localhost:8080/",
          "height": 34
        }
      },
      "cell_type": "code",
      "source": [
        "# Let's run it with scipy so we have a target\n",
        "from scipy.stats import chisquare  # One-way chi square test\n",
        "\n",
        "chisquare(chi_data, axis=None)"
      ],
      "execution_count": 0,
      "outputs": [
        {
          "output_type": "execute_result",
          "data": {
            "text/plain": [
              "Power_divergenceResult(statistic=0.6666666666666666, pvalue=0.8810148425137847)"
            ]
          },
          "metadata": {
            "tags": []
          },
          "execution_count": 38
        }
      ]
    },
    {
      "metadata": {
        "id": "8Ok9AOYR7aBK",
        "colab_type": "code",
        "outputId": "f4b84e48-e89f-4819-b353-624203371032",
        "colab": {
          "base_uri": "https://localhost:8080/",
          "height": 399
        }
      },
      "cell_type": "code",
      "source": [
        "help(stats.t.ppf)"
      ],
      "execution_count": 0,
      "outputs": [
        {
          "output_type": "stream",
          "text": [
            "Help on method ppf in module scipy.stats._distn_infrastructure:\n",
            "\n",
            "ppf(q, *args, **kwds) method of scipy.stats._continuous_distns.t_gen instance\n",
            "    Percent point function (inverse of `cdf`) at q of the given RV.\n",
            "    \n",
            "    Parameters\n",
            "    ----------\n",
            "    q : array_like\n",
            "        lower tail probability\n",
            "    arg1, arg2, arg3,... : array_like\n",
            "        The shape parameter(s) for the distribution (see docstring of the\n",
            "        instance object for more information)\n",
            "    loc : array_like, optional\n",
            "        location parameter (default=0)\n",
            "    scale : array_like, optional\n",
            "        scale parameter (default=1)\n",
            "    \n",
            "    Returns\n",
            "    -------\n",
            "    x : array_like\n",
            "        quantile corresponding to the lower tail probability q.\n",
            "\n"
          ],
          "name": "stdout"
        }
      ]
    },
    {
      "metadata": {
        "id": "qW6k0dorM7Lz",
        "colab_type": "code",
        "colab": {}
      },
      "cell_type": "code",
      "source": [
        "# Confidence intervals!\n",
        "# Similar to hypothesis testing, but centered at sample mean\n",
        "# Generally better than reporting the \"point estimate\" (sample mean)\n",
        "# Why? Because point estimates aren't always perfect\n",
        "\n",
        "import numpy as np\n",
        "from scipy import stats\n",
        "\n",
        "def confidence_interval(data, confidence=0.95):\n",
        "  \"\"\"\n",
        "  Calculate a confidence interval around a sample mean for given data.\n",
        "  Using t-distribution and two-tailed test, default 95% confidence. \n",
        "  \n",
        "  Arguments:\n",
        "    data - iterable (list or numpy array) of sample observations\n",
        "    confidence - level of confidence for the interval\n",
        "  \n",
        "  Returns:\n",
        "    tuple of (mean, lower bound, upper bound)\n",
        "  \"\"\"\n",
        "  data = np.array(data)\n",
        "  mean = np.mean(data)\n",
        "  n = len(data)\n",
        "  stderr = stats.sem(data)\n",
        "  interval = stderr * stats.t.ppf((1 + confidence) / 2., n - 1)\n",
        "  return (mean, mean - interval, mean + interval)\n",
        "\n",
        "def report_confidence_interval(confidence_interval):\n",
        "  \"\"\"\n",
        "  Return a string with a pretty report of a confidence interval.\n",
        "  \n",
        "  Arguments:\n",
        "    confidence_interval - tuple of (mean, lower bound, upper bound)\n",
        "  \n",
        "  Returns:\n",
        "    None, but prints to screen the report\n",
        "  \"\"\"\n",
        "  #print('Mean: {}'.format(confidence_interval[0]))\n",
        "  #print('Lower bound: {}'.format(confidence_interval[1]))\n",
        "  #print('Upper bound: {}'.format(confidence_interval[2]))\n",
        "  s = \"our mean lies in the interval [{:.2}, {:.2}]\".format(\n",
        "      confidence_interval[1], confidence_interval[2])\n",
        "  return s"
      ],
      "execution_count": 0,
      "outputs": []
    },
    {
      "metadata": {
        "id": "prOAm9iy73tz",
        "colab_type": "code",
        "outputId": "53294014-b330-46f6-ca1a-0f5ea18b10e0",
        "colab": {
          "base_uri": "https://localhost:8080/",
          "height": 70
        }
      },
      "cell_type": "code",
      "source": [
        "# unfair coin\n",
        "coinflips = np.random.binomial(n=1, p=0.7, size=100)\n",
        "print(coinflips)"
      ],
      "execution_count": 0,
      "outputs": [
        {
          "output_type": "stream",
          "text": [
            "[1 1 1 1 1 0 0 1 1 1 0 1 0 1 1 1 1 0 1 1 0 1 0 0 1 0 1 1 0 1 0 1 1 1 0 1 1\n",
            " 1 1 1 0 1 1 1 0 0 1 1 1 0 1 1 0 1 1 0 1 1 1 1 1 1 0 0 1 0 1 1 1 0 1 0 1 1\n",
            " 1 0 1 0 1 1 1 1 1 0 0 0 1 1 0 1 1 1 0 1 0 1 0 1 0 1]\n"
          ],
          "name": "stdout"
        }
      ]
    },
    {
      "metadata": {
        "id": "7gFCN5Nz7-aJ",
        "colab_type": "code",
        "outputId": "6273c6a8-0f41-42ec-dfea-1ff37adbc169",
        "colab": {
          "base_uri": "https://localhost:8080/",
          "height": 35
        }
      },
      "cell_type": "code",
      "source": [
        "stats.ttest_1samp(coinflips, 0.5)"
      ],
      "execution_count": 0,
      "outputs": [
        {
          "output_type": "execute_result",
          "data": {
            "text/plain": [
              "Ttest_1sampResult(statistic=3.5972626408788524, pvalue=0.0005039211866510652)"
            ]
          },
          "metadata": {
            "tags": []
          },
          "execution_count": 54
        }
      ]
    },
    {
      "metadata": {
        "id": "BxnZUMca8Srh",
        "colab_type": "code",
        "outputId": "475afffa-0e32-4cf6-c4e2-db048a7b0bcc",
        "colab": {
          "base_uri": "https://localhost:8080/",
          "height": 282
        }
      },
      "cell_type": "code",
      "source": [
        "df = pd.DataFrame(coinflips)\n",
        "df.describe()"
      ],
      "execution_count": 0,
      "outputs": [
        {
          "output_type": "execute_result",
          "data": {
            "text/html": [
              "<div>\n",
              "<style scoped>\n",
              "    .dataframe tbody tr th:only-of-type {\n",
              "        vertical-align: middle;\n",
              "    }\n",
              "\n",
              "    .dataframe tbody tr th {\n",
              "        vertical-align: top;\n",
              "    }\n",
              "\n",
              "    .dataframe thead th {\n",
              "        text-align: right;\n",
              "    }\n",
              "</style>\n",
              "<table border=\"1\" class=\"dataframe\">\n",
              "  <thead>\n",
              "    <tr style=\"text-align: right;\">\n",
              "      <th></th>\n",
              "      <th>0</th>\n",
              "    </tr>\n",
              "  </thead>\n",
              "  <tbody>\n",
              "    <tr>\n",
              "      <th>count</th>\n",
              "      <td>100.000000</td>\n",
              "    </tr>\n",
              "    <tr>\n",
              "      <th>mean</th>\n",
              "      <td>0.670000</td>\n",
              "    </tr>\n",
              "    <tr>\n",
              "      <th>std</th>\n",
              "      <td>0.472582</td>\n",
              "    </tr>\n",
              "    <tr>\n",
              "      <th>min</th>\n",
              "      <td>0.000000</td>\n",
              "    </tr>\n",
              "    <tr>\n",
              "      <th>25%</th>\n",
              "      <td>0.000000</td>\n",
              "    </tr>\n",
              "    <tr>\n",
              "      <th>50%</th>\n",
              "      <td>1.000000</td>\n",
              "    </tr>\n",
              "    <tr>\n",
              "      <th>75%</th>\n",
              "      <td>1.000000</td>\n",
              "    </tr>\n",
              "    <tr>\n",
              "      <th>max</th>\n",
              "      <td>1.000000</td>\n",
              "    </tr>\n",
              "  </tbody>\n",
              "</table>\n",
              "</div>"
            ],
            "text/plain": [
              "                0\n",
              "count  100.000000\n",
              "mean     0.670000\n",
              "std      0.472582\n",
              "min      0.000000\n",
              "25%      0.000000\n",
              "50%      1.000000\n",
              "75%      1.000000\n",
              "max      1.000000"
            ]
          },
          "metadata": {
            "tags": []
          },
          "execution_count": 57
        }
      ]
    },
    {
      "metadata": {
        "id": "R96w1a1d8XgC",
        "colab_type": "code",
        "outputId": "495ae62d-8194-4640-9e90-2cd8a7ceb011",
        "colab": {
          "base_uri": "https://localhost:8080/",
          "height": 35
        }
      },
      "cell_type": "code",
      "source": [
        "coinflip_interval = confidence_interval(coinflips)  # Default 95% conf\n",
        "coinflip_interval"
      ],
      "execution_count": 0,
      "outputs": [
        {
          "output_type": "execute_result",
          "data": {
            "text/plain": [
              "(0.67, 0.5762295652468495, 0.7637704347531505)"
            ]
          },
          "metadata": {
            "tags": []
          },
          "execution_count": 58
        }
      ]
    },
    {
      "metadata": {
        "id": "qIAJVwqi8vPL",
        "colab_type": "code",
        "outputId": "a4d0490d-f389-424f-caa0-5c8edfb85f65",
        "colab": {
          "base_uri": "https://localhost:8080/",
          "height": 35
        }
      },
      "cell_type": "code",
      "source": [
        "report_confidence_interval(coinflip_interval)"
      ],
      "execution_count": 0,
      "outputs": [
        {
          "output_type": "execute_result",
          "data": {
            "text/plain": [
              "'our mean lies in the interval [0.58, 0.76]'"
            ]
          },
          "metadata": {
            "tags": []
          },
          "execution_count": 59
        }
      ]
    },
    {
      "metadata": {
        "id": "11OzdxWTM7UR",
        "colab_type": "text"
      },
      "cell_type": "markdown",
      "source": [
        "## Assignment - Build a confidence interval\n",
        "\n",
        "A confidence interval refers to a neighborhood around some point estimate, the size of which is determined by the desired p-value. For instance, we might say that 52% of Americans prefer tacos to burritos, with a 95% confidence interval of +/- 5%.\n",
        "\n",
        "52% (0.52) is the point estimate, and +/- 5% (the interval $[0.47, 0.57]$) is the confidence interval. \"95% confidence\" means a p-value $\\leq 1 - 0.95 = 0.05$.\n",
        "\n",
        "In this case, the confidence interval includes $0.5$ - which is the natural null hypothesis (that half of Americans prefer tacos and half burritos, thus there is no clear favorite). So in this case, we could use the confidence interval to report that we've failed to reject the null hypothesis.\n",
        "\n",
        "But providing the full analysis with a confidence interval, including a graphical representation of it, can be a helpful and powerful way to tell your story. Done well, it is also more intuitive to a layperson than simply saying \"fail to reject the null hypothesis\" - it shows that in fact the data does *not* give a single clear result (the point estimate) but a whole range of possibilities.\n",
        "\n",
        "How is a confidence interval built, and how should it be interpreted? It does *not* mean that 95% of the data lies in that interval - instead, the frequentist interpretation is \"if we were to repeat this experiment 100 times, we would expect the average result to lie in this interval ~95 times.\"\n",
        "\n",
        "For a 95% confidence interval and a normal(-ish) distribution, you can simply remember that +/-2 standard deviations contains 95% of the probability mass, and so the 95% confidence interval based on a given sample is centered at the mean (point estimate) and has a range of +/- 2 (or technically 1.96) standard deviations.\n",
        "\n",
        "Different distributions/assumptions (90% confidence, 99% confidence) will require different math, but the overall process and interpretation (with a frequentist approach) will be the same.\n",
        "\n",
        "Your assignment - using the data from the prior module ([congressional voting records](https://archive.ics.uci.edu/ml/datasets/Congressional+Voting+Records)):\n",
        "\n",
        "1. Generate and numerically represent a confidence interval\n",
        "2. Graphically (with a plot) represent the confidence interval\n",
        "3. Interpret the confidence interval - what does it tell you about the data and its distribution?\n",
        "\n",
        "Stretch goals:\n",
        "\n",
        "1. Write a summary of your findings, mixing prose and math/code/results. *Note* - yes, this is by definition a political topic. It is challenging but important to keep your writing voice *neutral* and stick to the facts of the data. Data science often involves considering controversial issues, so it's important to be sensitive about them (especially if you want to publish).\n",
        "2. Apply the techniques you learned today to your project data or other data of your choice, and write/discuss your findings here.\n",
        "3. Refactor your code so it is elegant, readable, and can be easily run for all issues"
      ]
    },
    {
      "metadata": {
        "id": "Ckcr4A4FM7cs",
        "colab_type": "code",
        "colab": {}
      },
      "cell_type": "code",
      "source": [
        "import re\n",
        "import requests\n",
        "from typing import Tuple\n",
        "\n",
        "from bs4 import BeautifulSoup\n",
        "\n",
        "\n",
        "def get_uci_data_urls(url: str) -> Tuple[str]:\n",
        "  r = requests.get(url)\n",
        "  soup = BeautifulSoup(r.text, 'html.parser')\n",
        "\n",
        "  match = soup.find('a', string='Data Folder', href=True)\n",
        "  \n",
        "  if not match:\n",
        "    return '', ''\n",
        "\n",
        "  db_url = match['href']\n",
        "  url = url.split('/')[:-2]\n",
        "  db_url = '/'.join(url) + db_url[2:]\n",
        "\n",
        "  r = requests.get(db_url)\n",
        "  soup = BeautifulSoup(r.text, 'html.parser')\n",
        "\n",
        "  data_url = soup.find(string=re.compile(\".data\"), href=True)\n",
        "  if data_url:\n",
        "    data_url = db_url + data_url['href']\n",
        "\n",
        "  names_url = soup.find(string=re.compile(\".names\"), href=True)\n",
        "  if names_url:\n",
        "    names_url = db_url + names_url['href']\n",
        "\n",
        "  return data_url or '', names_url or ''"
      ],
      "execution_count": 0,
      "outputs": []
    },
    {
      "metadata": {
        "id": "BAByOicCB0sY",
        "colab_type": "code",
        "colab": {}
      },
      "cell_type": "code",
      "source": [
        "import pandas as pd\n",
        "import numpy as np\n",
        "import scipy\n",
        "\n",
        "uci_url = 'https://archive.ics.uci.edu/ml/datasets/Congressional+Voting+Records'\n",
        "data_url, names_url = get_uci_data_urls(uci_url)\n",
        "\n",
        "cols = [\n",
        "  'Class Name',\n",
        "  'handicapped-infants',\n",
        "  'water-project-cost-sharing',\n",
        "  'adoption-of-the-budget-resolution',\n",
        "  'physician-fee-freeze',\n",
        "  'el-salvador-aid',\n",
        "  'religious-groups-in-schools',\n",
        "  'anti-satellite-test-ban',\n",
        "  'aid-to-nicaraguan-contras',\n",
        "  'mx-missile',\n",
        "  'immigration',\n",
        "  'synfuels-corporation-cutback',\n",
        "  'education-spending',\n",
        "  'superfund-right-to-sue',\n",
        "  'crime',\n",
        "  'duty-free-exports',\n",
        "  'export-administration-act-south-africa'\n",
        "]\n",
        "\n",
        "df = pd.read_csv(data_url, names=cols)\n",
        "df = df.replace({'?':np.nan, 'n':0, 'y':1})"
      ],
      "execution_count": 0,
      "outputs": []
    },
    {
      "metadata": {
        "id": "YjA7yZsuEBzT",
        "colab_type": "code",
        "colab": {}
      },
      "cell_type": "code",
      "source": [
        "def confidence_interval(data, confidence=0.95):\n",
        "  \"\"\"\n",
        "  Calculate a confidence interval around a sample mean for given data.\n",
        "  Using t-distribution and two-tailed test, default 95% confidence. \n",
        "  \n",
        "  Arguments:\n",
        "    data - iterable (list or numpy array) of sample observations\n",
        "    confidence - level of confidence for the interval\n",
        "  \n",
        "  Returns:\n",
        "    tuple of (mean, lower bound, upper bound)\n",
        "  \"\"\"\n",
        "  data = np.array(data)\n",
        "  mean = np.mean(data)\n",
        "  n = len(data)\n",
        "  stderr = stats.sem(data)\n",
        "  interval = stderr * stats.t.ppf((1 + confidence) / 2., n - 1)\n",
        "  return (mean - interval, mean, mean + interval)"
      ],
      "execution_count": 0,
      "outputs": []
    },
    {
      "metadata": {
        "id": "ytYkCaekEF6s",
        "colab_type": "code",
        "outputId": "da07bb16-1ef7-48c4-c29c-03df1bc0a4a7",
        "colab": {
          "base_uri": "https://localhost:8080/",
          "height": 194
        }
      },
      "cell_type": "code",
      "source": [
        "results = []\n",
        "for col in df.select_dtypes(include=np.number):\n",
        "  d = {}\n",
        "  d['issue'] = col\n",
        "  \n",
        "  for party in ['democrat', 'republican']:\n",
        "    reult= confidence_interval(\n",
        "        df.loc[(df['Class Name']==party) & ~df[col].isnull(), col]\n",
        "    )\n",
        "    d[f'{party}_lower'], d[f'{party}_mean'], d[f'{party}_upper'] = reult\n",
        "    \n",
        "  results.append(d)\n",
        "  \n",
        "results_df = pd.DataFrame(results)\n",
        "\n",
        "results_df.head()"
      ],
      "execution_count": 0,
      "outputs": [
        {
          "output_type": "execute_result",
          "data": {
            "text/html": [
              "<div>\n",
              "<style scoped>\n",
              "    .dataframe tbody tr th:only-of-type {\n",
              "        vertical-align: middle;\n",
              "    }\n",
              "\n",
              "    .dataframe tbody tr th {\n",
              "        vertical-align: top;\n",
              "    }\n",
              "\n",
              "    .dataframe thead th {\n",
              "        text-align: right;\n",
              "    }\n",
              "</style>\n",
              "<table border=\"1\" class=\"dataframe\">\n",
              "  <thead>\n",
              "    <tr style=\"text-align: right;\">\n",
              "      <th></th>\n",
              "      <th>democrat_lower</th>\n",
              "      <th>democrat_mean</th>\n",
              "      <th>democrat_upper</th>\n",
              "      <th>issue</th>\n",
              "      <th>republican_lower</th>\n",
              "      <th>republican_mean</th>\n",
              "      <th>republican_upper</th>\n",
              "    </tr>\n",
              "  </thead>\n",
              "  <tbody>\n",
              "    <tr>\n",
              "      <th>0</th>\n",
              "      <td>0.544593</td>\n",
              "      <td>0.604651</td>\n",
              "      <td>0.664710</td>\n",
              "      <td>handicapped-infants</td>\n",
              "      <td>0.127652</td>\n",
              "      <td>0.187879</td>\n",
              "      <td>0.248106</td>\n",
              "    </tr>\n",
              "    <tr>\n",
              "      <th>1</th>\n",
              "      <td>0.438245</td>\n",
              "      <td>0.502092</td>\n",
              "      <td>0.565939</td>\n",
              "      <td>water-project-cost-sharing</td>\n",
              "      <td>0.425266</td>\n",
              "      <td>0.506757</td>\n",
              "      <td>0.588248</td>\n",
              "    </tr>\n",
              "    <tr>\n",
              "      <th>2</th>\n",
              "      <td>0.849944</td>\n",
              "      <td>0.888462</td>\n",
              "      <td>0.926980</td>\n",
              "      <td>adoption-of-the-budget-resolution</td>\n",
              "      <td>0.081435</td>\n",
              "      <td>0.134146</td>\n",
              "      <td>0.186857</td>\n",
              "    </tr>\n",
              "    <tr>\n",
              "      <th>3</th>\n",
              "      <td>0.026332</td>\n",
              "      <td>0.054054</td>\n",
              "      <td>0.081776</td>\n",
              "      <td>physician-fee-freeze</td>\n",
              "      <td>0.971007</td>\n",
              "      <td>0.987879</td>\n",
              "      <td>1.004751</td>\n",
              "    </tr>\n",
              "    <tr>\n",
              "      <th>4</th>\n",
              "      <td>0.164863</td>\n",
              "      <td>0.215686</td>\n",
              "      <td>0.266509</td>\n",
              "      <td>el-salvador-aid</td>\n",
              "      <td>0.918398</td>\n",
              "      <td>0.951515</td>\n",
              "      <td>0.984632</td>\n",
              "    </tr>\n",
              "  </tbody>\n",
              "</table>\n",
              "</div>"
            ],
            "text/plain": [
              "   democrat_lower  democrat_mean  democrat_upper  \\\n",
              "0        0.544593       0.604651        0.664710   \n",
              "1        0.438245       0.502092        0.565939   \n",
              "2        0.849944       0.888462        0.926980   \n",
              "3        0.026332       0.054054        0.081776   \n",
              "4        0.164863       0.215686        0.266509   \n",
              "\n",
              "                               issue  republican_lower  republican_mean  \\\n",
              "0                handicapped-infants          0.127652         0.187879   \n",
              "1         water-project-cost-sharing          0.425266         0.506757   \n",
              "2  adoption-of-the-budget-resolution          0.081435         0.134146   \n",
              "3               physician-fee-freeze          0.971007         0.987879   \n",
              "4                    el-salvador-aid          0.918398         0.951515   \n",
              "\n",
              "   republican_upper  \n",
              "0          0.248106  \n",
              "1          0.588248  \n",
              "2          0.186857  \n",
              "3          1.004751  \n",
              "4          0.984632  "
            ]
          },
          "metadata": {
            "tags": []
          },
          "execution_count": 144
        }
      ]
    },
    {
      "metadata": {
        "id": "4NCDHApkINii",
        "colab_type": "code",
        "outputId": "7685404b-7814-4f88-bd05-69f539ff38bc",
        "colab": {
          "base_uri": "https://localhost:8080/",
          "height": 656
        }
      },
      "cell_type": "code",
      "source": [
        "fig, ax = plt.subplots(figsize=(15,10))\n",
        "\n",
        "# Setting the positions for the bars\n",
        "pos = list(range(len(results_df)))\n",
        "\n",
        "ax.barh(y=pos, \n",
        "        width=(results_df.republican_upper - results_df.republican_lower), \n",
        "        left=results_df.republican_lower,\n",
        "        alpha=0.5, \n",
        "        color='#FF0000')\n",
        "\n",
        "ax.barh(y=pos, \n",
        "        width=(results_df.democrat_upper - results_df.democrat_lower), \n",
        "        left=results_df.democrat_lower,\n",
        "        alpha=0.5, \n",
        "        color='#0000FF')\n",
        "\n",
        "ax.set_title('Politcal Party Support for Issues in 1984', \n",
        "             fontsize=25, pad=20)\n",
        "\n",
        "ax.set_xlabel('Percent In Favor (bars cover 95% confidence interval)', \n",
        "              fontsize=18)\n",
        "ax.set_xlim(0,1)\n",
        "ax.set_xticklabels([str(_) + '%' for _ in range(0,120,20)],\n",
        "                   fontsize=15)\n",
        "\n",
        "ax.set_yticks(pos)\n",
        "ax.set_yticklabels([_.replace('-', ' ').title() for _ in results_df.issue], \n",
        "                   fontsize=15)\n",
        "ax.legend(labels=['Republican', 'Democrat'], loc='lower right', edgecolor='b', \n",
        "          fontsize=20);\n",
        "\n",
        "for y_pos, value in zip(pos, results_df.democrat_mean):\n",
        "  ax.text(s=str(round(value*100))+'%', x=value-0.01, y=y_pos-0.13)\n",
        "  \n",
        "for y_pos, value in zip(pos, results_df.republican_mean):\n",
        "  ax.text(s=str(round(value*100))+'%', x=value-0.01, y=y_pos-0.13)"
      ],
      "execution_count": 0,
      "outputs": [
        {
          "output_type": "display_data",
          "data": {
            "image/png": "[encoded data removed]",
            "text/plain": [
              "<Figure size 1080x720 with 1 Axes>"
            ]
          },
          "metadata": {
            "tags": []
          }
        }
      ]
    }
  ]
}