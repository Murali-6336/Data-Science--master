{
 "cells": [
  {
   "cell_type": "markdown",
   "metadata": {},
   "source": [
    "# Convolutional Neural Networks (CNNs) Assignment\n",
    "\n",
    "#### 1) Load a pretrained network from TensorFlow Hub\n",
    "[ResNet50](https://tfhub.dev/google/imagenet/resnet_v1_50/classification/1) is a 50 layer deep network trained to recognize [1000 objects](https://storage.googleapis.com/download.tensorflow.org/data/ImageNetLabels.txt)."
   ]
  },
  {
   "cell_type": "code",
   "execution_count": null,
   "metadata": {},
   "outputs": [],
   "source": [
    "from PIL import Image, ImageOps\n",
    "import tensorflow as tf\n",
    "import tensorflow_hub as hub"
   ]
  },
  {
   "cell_type": "code",
   "execution_count": null,
   "metadata": {
    "scrolled": true
   },
   "outputs": [],
   "source": [
    "module = hub.Module(\"https://tfhub.dev/google/imagenet/\"\n",
    "                    \"resnet_v1_50/classification/1\")"
   ]
  },
  {
   "cell_type": "code",
   "execution_count": null,
   "metadata": {},
   "outputs": [],
   "source": [
    "height, width = hub.get_expected_image_size(module)\n",
    "print(height, width)"
   ]
  },
  {
   "cell_type": "markdown",
   "metadata": {},
   "source": [
    "#### 2) Apply it to classify the images downloaded below (images from a search for animals in national parks)."
   ]
  },
  {
   "cell_type": "code",
   "execution_count": null,
   "metadata": {},
   "outputs": [],
   "source": [
    "# !pip install google_images_download"
   ]
  },
  {
   "cell_type": "code",
   "execution_count": null,
   "metadata": {},
   "outputs": [],
   "source": [
    "from typing import List\n",
    "from google_images_download import google_images_download\n",
    "\n",
    "\n",
    "def resize_image(filename, new_width=224, new_height=224):\n",
    "    pil_image = Image.open(filename)\n",
    "    pil_image = ImageOps.fit(pil_image, (new_width, new_height), Image.ANTIALIAS)\n",
    "    pil_image_rgb = pil_image.convert('RGB')\n",
    "    pil_image_rgb.save(filename, format='JPEG', quality=90)\n",
    "\n",
    "\n",
    "def image_input_fn(image_paths: List[str]):\n",
    "    filename_queue = tf.train.string_input_producer(\n",
    "        image_paths, shuffle=False)\n",
    "    _, value = tf.WholeFileReader().read(filename_queue)\n",
    "    image_tf = tf.image.decode_jpeg(value, channels=3)\n",
    "\n",
    "    return tf.image.convert_image_dtype(image_tf, tf.float32)\n",
    "\n",
    "\n",
    "def download_images(keywords=\"animal national park\", limit=20, print_urls=False):\n",
    "    response = google_images_download.googleimagesdownload()\n",
    "    arguments = dict(keywords=keywords,\n",
    "                     limit=limit,\n",
    "                     print_urls=print_urls)\n",
    "    response.download(arguments)\n",
    "\n",
    "\n",
    "def process_img_path(img_path):\n",
    "    return image.load_img(img_path)"
   ]
  },
  {
   "cell_type": "code",
   "execution_count": null,
   "metadata": {},
   "outputs": [],
   "source": [
    "download_images(keywords=\"animal national park\", limit=20, print_urls=False)"
   ]
  },
  {
   "cell_type": "code",
   "execution_count": null,
   "metadata": {},
   "outputs": [],
   "source": [
    "str(path)"
   ]
  },
  {
   "cell_type": "code",
   "execution_count": null,
   "metadata": {},
   "outputs": [],
   "source": [
    "from pathlib import Path\n",
    "\n",
    "image_paths = []\n",
    "p = Path('downloads/animal national park')\n",
    "for path in p.iterdir():\n",
    "    if image_path.endswith(('.jpg', '.jpeg')):\n",
    "        try:\n",
    "            resize_image(str(path))\n",
    "            image_paths.append(str(path))\n",
    "        except OSError:\n",
    "            pass"
   ]
  },
  {
   "cell_type": "code",
   "execution_count": null,
   "metadata": {
    "scrolled": true
   },
   "outputs": [],
   "source": [
    "image_paths"
   ]
  },
  {
   "cell_type": "code",
   "execution_count": null,
   "metadata": {},
   "outputs": [],
   "source": [
    "for img in image_paths:\n",
    "    x = image.img_to_array(process_img_path(image_paths[0]))\n",
    "    print(x.shape)"
   ]
  },
  {
   "cell_type": "code",
   "execution_count": null,
   "metadata": {},
   "outputs": [],
   "source": [
    "y = tf.data.Dataset.from_tensor_slices(x)"
   ]
  },
  {
   "cell_type": "code",
   "execution_count": null,
   "metadata": {},
   "outputs": [],
   "source": [
    "x = image_input_fn(image_paths) # -> to batch?"
   ]
  },
  {
   "cell_type": "code",
   "execution_count": null,
   "metadata": {},
   "outputs": [],
   "source": [
    "x.shape"
   ]
  },
  {
   "cell_type": "code",
   "execution_count": null,
   "metadata": {},
   "outputs": [],
   "source": [
    "x.set_shape([len(image_paths), 224, 224, 3])"
   ]
  },
  {
   "cell_type": "code",
   "execution_count": null,
   "metadata": {},
   "outputs": [],
   "source": [
    "x.shape"
   ]
  },
  {
   "cell_type": "code",
   "execution_count": null,
   "metadata": {},
   "outputs": [],
   "source": [
    "module(y)"
   ]
  },
  {
   "cell_type": "markdown",
   "metadata": {},
   "source": [
    "### Could not get `tensorflow_hub` module to work, let's try to the built-in model in `keras`"
   ]
  },
  {
   "cell_type": "code",
   "execution_count": null,
   "metadata": {},
   "outputs": [],
   "source": [
    "from keras.applications.resnet50 import ResNet50\n",
    "from keras.preprocessing import image\n",
    "from keras.applications.resnet50 import preprocess_input, decode_predictions\n",
    "import numpy as np\n",
    "\n",
    "# Pre-trained model\n",
    "\n",
    "PTModel = ResNet50(weights='imagenet')\n",
    "\n",
    "# Take an image instance, turn into an np array with float32,\n",
    "# match the shape of the image to the shape of the pretrained model\n",
    "# preprocess the data\n",
    "# use pre trained model to classify image\n",
    "# use decode_predictions to eval perfomance\n",
    "\n",
    "for path in paths:\n",
    "    ImgPath = path\n",
    "    Img = image.load_img(ImgPath, target_size=(224, 224))\n",
    "    InputIMG = image.img_to_array(Img)\n",
    "    InputIMG = np.expand_dims(InputIMG, axis=0)\n",
    "    InputIMG = preprocess_input(InputIMG)\n",
    "    PredData = PTModel.predict(InputIMG)\n",
    "    print('Predicted:', decode_predictions(PredData, top=2)[0])"
   ]
  },
  {
   "cell_type": "markdown",
   "metadata": {},
   "source": [
    "#### Report both the most likely estimated class for any image, and also investigate (a) images where the classifier isn't that certain (the best estimate is low), and (b) images where the classifier fails."
   ]
  },
  {
   "cell_type": "markdown",
   "metadata": {},
   "source": [
    "#### Answer (in writing in the notebook) the following - \"What sorts of images do CNN classifiers do well with? What sorts do they not do so well? And what are your hypotheses for why?\""
   ]
  },
  {
   "cell_type": "markdown",
   "metadata": {},
   "source": [
    "### Stretch goals\n",
    "- Enhance your code to use classes/functions and accept terms to search and classes to look for in recognizing the downloaded images (e.g. download images of parties, recognize all that contain balloons)\n",
    "- Check out [other available pretrained networks](https://tfhub.dev), try some and compare\n",
    "- Image recognition/classification is somewhat solved, but *relationships* between entities and describing an image is not - check out some of the extended resources (e.g. [Visual Genome](https://visualgenome.org/)) on the topic\n",
    "- Transfer learning - using images you source yourself, [retrain a classifier](https://www.tensorflow.org/hub/tutorials/image_retraining) with a new category\n",
    "- (Not CNN related) Use [piexif](https://pypi.org/project/piexif/) to check out the metadata of images passed in to your system - see if they're from a national park! (Note - many images lack GPS metadata, so this won't work in most cases, but still cool)"
   ]
  }
 ],
 "metadata": {
  "kernelspec": {
   "display_name": "Python 3",
   "language": "python",
   "name": "python3"
  },
  "language_info": {
   "codemirror_mode": {
    "name": "ipython",
    "version": 3
   },
   "file_extension": ".py",
   "mimetype": "text/x-python",
   "name": "python",
   "nbconvert_exporter": "python",
   "pygments_lexer": "ipython3",
   "version": "3.6.4"
  }
 },
 "nbformat": 4,
 "nbformat_minor": 2
}
