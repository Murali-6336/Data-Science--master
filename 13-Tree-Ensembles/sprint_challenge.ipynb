{
 "cells": [
  {
   "cell_type": "markdown",
   "metadata": {},
   "source": [
    "# Data Science Unit 4 Sprint Challenge 1 — Tree Ensembles\n",
    "\n",
    "### Chicago Food Inspections\n",
    "\n",
    "For this Sprint Challenge, you'll use a dataset with information from inspections of restaurants and other food establishments in Chicago from January 2010 to March 2019. \n",
    "\n",
    "[See this PDF](https://data.cityofchicago.org/api/assets/BAD5301B-681A-4202-9D25-51B2CAE672FF) for descriptions of the data elements included in this dataset.\n",
    "\n",
    "> Chicago is home to 16,000 food establishments like restaurants, grocery stores, bakeries, wholesalers, lunchrooms, mobile food vendors and more. Our business is food safety and sanitation with one goal, to prevent the spread of food-borne disease. We do this by inspecting food businesses, responding to complaints and food recalls. - [Chicago Department of Public Health — Food Protection Services](https://www.chicago.gov/city/en/depts/cdph/provdrs/healthy_restaurants/svcs/food-protection-services.html)\n",
    "\n",
    "#### Your challenge: Predict whether inspections failed\n",
    "\n",
    "The target is the `Fail` column.\n",
    "\n",
    "- When the food establishment failed the inspection, the target is `1`.\n",
    "- When the establishment passed, the target is `0`.\n",
    "\n",
    "#### Load the data:"
   ]
  },
  {
   "cell_type": "code",
   "execution_count": 1,
   "metadata": {},
   "outputs": [],
   "source": [
    "import pandas as pd\n",
    "\n",
    "train_url = 'https://drive.google.com/uc?export=download&id=13_tP9JpLcZHSPVpWcua4t2rY44K_s4H5'\n",
    "test_url  = 'https://drive.google.com/uc?export=download&id=1GkDHjsiGrzOXoF_xcYjdzBTSjOIi3g5a'\n",
    "\n",
    "# train = pd.read_csv(train_url)\n",
    "# test  = pd.read_csv(test_url)\n",
    "train = pd.read_csv('datasets/food-inspections-train.csv')\n",
    "test  = pd.read_csv('datasets/food-inspections-test.csv')\n",
    "\n",
    "assert train.shape == (51916, 17)\n",
    "assert test.shape  == (17306, 17)"
   ]
  },
  {
   "cell_type": "markdown",
   "metadata": {},
   "source": [
    "### Part 1: Preprocessing\n",
    "\n",
    "You may choose which features you want to use, and whether/how you will preprocess them. If you use categorical features, you may use any tools and techniques for encoding. (Pandas, category_encoders, sklearn.preprocessing, or any other library.)\n",
    "\n",
    "_To earn a score of 3 for this part, find and explain leakage. The dataset has a feature that will give you an ROC AUC score > 0.90 if you process and use the feature. Find the leakage and explain why the feature shouldn't be used in a real-world model to predict the results of future inspections._"
   ]
  },
  {
   "cell_type": "code",
   "execution_count": 5,
   "metadata": {},
   "outputs": [],
   "source": [
    "# Shallow tree\n",
    "import category_encoders as ce\n",
    "from sklearn.ensemble import GradientBoostingClassifier\n",
    "from sklearn.metrics import roc_auc_score\n",
    "from sklearn.model_selection import cross_val_score\n",
    "from sklearn.pipeline import make_pipeline\n",
    "from sklearn.tree import DecisionTreeClassifier\n",
    "\n",
    "\n",
    "def wrangle(df, clean_violations=True):\n",
    "    df = df.copy()\n",
    "    df = df.set_index('Inspection ID')\n",
    "    df = df.drop(columns=[\n",
    "        'Location', # redundant with 'Latitude', 'Longitude'\n",
    "        'DBA Name', #  captures fewer unique values\n",
    "        'AKA Name',\n",
    "        'State', # homogenous\n",
    "        'Facility Type', # too messy\n",
    "        'Address',\n",
    "        'License #',\n",
    "        'Inspection Date'\n",
    "    ])\n",
    "    \n",
    "    # fix city names\n",
    "    df['City'] = df['City']\n",
    "    chicago_names = ['chicagochicago', 'chicagohicago', \n",
    "                     'chchicago', 'cchicago', 'chicagoi']\n",
    "    repl_dict = {chi:'chicago' for chi in chicago_names}\n",
    "    df['City'] = (df['City'].str.lower()\n",
    "                            .replace(repl_dict))\n",
    "    \n",
    "    # violations\n",
    "    if clean_violations:\n",
    "        df = handle_violations(df)\n",
    "    else:\n",
    "        df = df.drop(columns=['Violations'])\n",
    "    \n",
    "    df.loc[df['Latitude'].isna(), 'Latitude'] = df['Latitude'].mean()\n",
    "    df.loc[df['Longitude'].isna(), 'Longitude'] = df['Longitude'].mean()\n",
    "    df.loc[df['Zip'].isna(), 'Zip'] = df['Zip'].median()\n",
    "    df = df.fillna('nan')\n",
    "\n",
    "    return df\n",
    "\n",
    "\n",
    "def handle_violations(df):\n",
    "    df = df.copy()\n",
    "    violations = df['Violations'].str.extractall(r'^([0-9]+)|(\\| [0-9]+)')\n",
    "    violations = (violations[0].fillna('') + \n",
    "                  violations[1].str.strip('| ').fillna(''))\n",
    "    violations = violations.astype(int)\n",
    "    all_violations = sorted(violations.unique())\n",
    "\n",
    "    violations = pd.DataFrame(\n",
    "        violations.reset_index().groupby('Inspection ID')[0].unique()\n",
    "    )\n",
    "\n",
    "    for x in all_violations:\n",
    "        violations[f'violation_{x}'] = violations[0].apply(\n",
    "            lambda row: x in row\n",
    "        ).astype(int)\n",
    "\n",
    "    violations = violations.drop(columns=[0])\n",
    "    violations['n_violations'] = violations.sum(axis=1)\n",
    "    df = df.drop(columns=['Violations'])\n",
    "    df = df.merge(violations, how='left', left_index=True, \n",
    "                  right_index=True)\n",
    "    # fill nans\n",
    "    viol_cols = [col for col in df if 'violation' in col]\n",
    "    df[viol_cols] = df[viol_cols].fillna(0)\n",
    "\n",
    "    return df"
   ]
  },
  {
   "cell_type": "code",
   "execution_count": 6,
   "metadata": {},
   "outputs": [
    {
     "data": {
      "text/plain": [
       "array([0.7972313 , 0.78613708, 0.79528628, 0.78966841, 0.7901201 ])"
      ]
     },
     "execution_count": 6,
     "metadata": {},
     "output_type": "execute_result"
    }
   ],
   "source": [
    "train_clean = wrangle(train)\n",
    "\n",
    "target_col = 'Fail'\n",
    "# keep only violation features\n",
    "X_train = train_clean[[col for col in train_clean if 'violation' in col]]\n",
    "y_train = train_clean[target_col]\n",
    "\n",
    "model = DecisionTreeClassifier(max_depth=2)\n",
    "\n",
    "cross_val_score(model, X_train, y_train, cv=5, \n",
    "                scoring='roc_auc', n_jobs=-1)"
   ]
  },
  {
   "cell_type": "markdown",
   "metadata": {},
   "source": [
    "The **violations** feature contains a data leak. We don't know what violations exist until we inspect the business."
   ]
  },
  {
   "cell_type": "markdown",
   "metadata": {},
   "source": [
    "### Part 2: Modeling\n",
    "\n",
    "Fit a Random Forest or Gradient Boosting model with the train set. (You may use scikit-learn, xgboost, or any other library.) Use cross-validation to estimate an ROC AUC validation score.\n",
    "\n",
    "Use your model to predict probabilities for the test set. Get an ROC AUC test score >= 0.60.\n",
    "\n",
    "_To earn a score of 3 for this part, get an ROC AUC test score >= 0.70 (without using the feature with leakage)._"
   ]
  },
  {
   "cell_type": "code",
   "execution_count": 7,
   "metadata": {},
   "outputs": [],
   "source": [
    "target_col = 'Fail'\n",
    "\n",
    "train_clean = wrangle(train, clean_violations=False)\n",
    "X_train = train_clean.drop(columns=[target_col])\n",
    "y_train = train_clean[target_col]\n",
    "\n",
    "test_clean = wrangle(test, clean_violations=False)\n",
    "X_test  = test_clean.drop(columns=[target_col])\n",
    "y_test  = test_clean[target_col]"
   ]
  },
  {
   "cell_type": "code",
   "execution_count": 8,
   "metadata": {},
   "outputs": [
    {
     "data": {
      "text/plain": [
       "array([0.69131489, 0.69150376, 0.69610725])"
      ]
     },
     "execution_count": 8,
     "metadata": {},
     "output_type": "execute_result"
    }
   ],
   "source": [
    "pipe = make_pipeline(\n",
    "    ce.OrdinalEncoder(), \n",
    "    GradientBoostingClassifier()\n",
    ")\n",
    "\n",
    "cross_val_score(pipe, X_train, y_train, cv=3, scoring='roc_auc')"
   ]
  },
  {
   "cell_type": "code",
   "execution_count": 9,
   "metadata": {},
   "outputs": [
    {
     "data": {
      "text/plain": [
       "Pipeline(memory=None,\n",
       "     steps=[('ordinalencoder', OrdinalEncoder(cols=['Risk', 'City', 'Inspection Type'], drop_invariant=False,\n",
       "        handle_unknown='impute', impute_missing=True,\n",
       "        mapping=[{'col': 'Risk', 'mapping': [('Risk 1 (High)', 1), ('Risk 3 (Low)', 2), ('Risk 2 (Medium)', 3), ('nan', 4)]}, {'col': 'City',...    subsample=1.0, tol=0.0001, validation_fraction=0.1,\n",
       "              verbose=0, warm_start=False))])"
      ]
     },
     "execution_count": 9,
     "metadata": {},
     "output_type": "execute_result"
    }
   ],
   "source": [
    "pipe.fit(X_train, y_train)"
   ]
  },
  {
   "cell_type": "code",
   "execution_count": 10,
   "metadata": {},
   "outputs": [
    {
     "data": {
      "text/plain": [
       "0.6996897701925635"
      ]
     },
     "execution_count": 10,
     "metadata": {},
     "output_type": "execute_result"
    }
   ],
   "source": [
    "y_predict = pipe.predict_proba(X_test)\n",
    "roc_auc_score(y_test, [t[1] for t in y_predict])"
   ]
  },
  {
   "cell_type": "markdown",
   "metadata": {},
   "source": [
    "### Part 3: Visualization\n",
    "\n",
    "Make one visualization for model interpretation. (You may use any libraries.) Choose one of these types:\n",
    "- Feature Importances\n",
    "- Permutation Importances\n",
    "- Partial Dependence Plot\n",
    "- Shapley Values\n",
    "\n",
    "_To earn a score of 3 for this part, make at least two of these visualization types._"
   ]
  },
  {
   "cell_type": "code",
   "execution_count": 13,
   "metadata": {},
   "outputs": [
    {
     "data": {
      "image/png": "[encoded data removed]",
      "text/plain": [
       "<Figure size 432x288 with 1 Axes>"
      ]
     },
     "metadata": {},
     "output_type": "display_data"
    }
   ],
   "source": [
    "# feature importance\n",
    "encoder = pipe.named_steps['ordinalencoder']\n",
    "model = pipe.named_steps['gradientboostingclassifier']\n",
    "\n",
    "X_train_transformed = encoder.transform(X_train)\n",
    "\n",
    "pd.Series(model.feature_importances_,\n",
    "          X_train_transformed.columns).plot.barh();"
   ]
  },
  {
   "cell_type": "code",
   "execution_count": 14,
   "metadata": {},
   "outputs": [
    {
     "data": {
      "text/html": [
       "\n",
       "    <style>\n",
       "    table.eli5-weights tr:hover {\n",
       "        filter: brightness(85%);\n",
       "    }\n",
       "</style>\n",
       "\n",
       "\n",
       "\n",
       "    \n",
       "\n",
       "    \n",
       "\n",
       "    \n",
       "\n",
       "    \n",
       "\n",
       "    \n",
       "\n",
       "    \n",
       "\n",
       "\n",
       "    \n",
       "\n",
       "    \n",
       "\n",
       "    \n",
       "\n",
       "    \n",
       "\n",
       "    \n",
       "\n",
       "    \n",
       "\n",
       "\n",
       "    \n",
       "\n",
       "    \n",
       "\n",
       "    \n",
       "\n",
       "    \n",
       "\n",
       "    \n",
       "        <table class=\"eli5-weights eli5-feature-importances\" style=\"border-collapse: collapse; border: none; margin-top: 0em; table-layout: auto;\">\n",
       "    <thead>\n",
       "    <tr style=\"border: none;\">\n",
       "        <th style=\"padding: 0 1em 0 0.5em; text-align: right; border: none;\">Weight</th>\n",
       "        <th style=\"padding: 0 0.5em 0 0.5em; text-align: left; border: none;\">Feature</th>\n",
       "    </tr>\n",
       "    </thead>\n",
       "    <tbody>\n",
       "    \n",
       "        <tr style=\"background-color: hsl(120, 100.00%, 80.00%); border: none;\">\n",
       "            <td style=\"padding: 0 1em 0 0.5em; text-align: right; border: none;\">\n",
       "                0.1630\n",
       "                \n",
       "                    &plusmn; 0.0000\n",
       "                \n",
       "            </td>\n",
       "            <td style=\"padding: 0 0.5em 0 0.5em; text-align: left; border: none;\">\n",
       "                Inspection Type\n",
       "            </td>\n",
       "        </tr>\n",
       "    \n",
       "        <tr style=\"background-color: hsl(120, 100.00%, 95.76%); border: none;\">\n",
       "            <td style=\"padding: 0 1em 0 0.5em; text-align: right; border: none;\">\n",
       "                0.0178\n",
       "                \n",
       "                    &plusmn; 0.0000\n",
       "                \n",
       "            </td>\n",
       "            <td style=\"padding: 0 0.5em 0 0.5em; text-align: left; border: none;\">\n",
       "                Latitude\n",
       "            </td>\n",
       "        </tr>\n",
       "    \n",
       "        <tr style=\"background-color: hsl(120, 100.00%, 95.90%); border: none;\">\n",
       "            <td style=\"padding: 0 1em 0 0.5em; text-align: right; border: none;\">\n",
       "                0.0169\n",
       "                \n",
       "                    &plusmn; 0.0000\n",
       "                \n",
       "            </td>\n",
       "            <td style=\"padding: 0 0.5em 0 0.5em; text-align: left; border: none;\">\n",
       "                Longitude\n",
       "            </td>\n",
       "        </tr>\n",
       "    \n",
       "        <tr style=\"background-color: hsl(120, 100.00%, 96.55%); border: none;\">\n",
       "            <td style=\"padding: 0 1em 0 0.5em; text-align: right; border: none;\">\n",
       "                0.0132\n",
       "                \n",
       "                    &plusmn; 0.0000\n",
       "                \n",
       "            </td>\n",
       "            <td style=\"padding: 0 0.5em 0 0.5em; text-align: left; border: none;\">\n",
       "                Zip\n",
       "            </td>\n",
       "        </tr>\n",
       "    \n",
       "        <tr style=\"background-color: hsl(120, 100.00%, 98.68%); border: none;\">\n",
       "            <td style=\"padding: 0 1em 0 0.5em; text-align: right; border: none;\">\n",
       "                0.0033\n",
       "                \n",
       "                    &plusmn; 0.0000\n",
       "                \n",
       "            </td>\n",
       "            <td style=\"padding: 0 0.5em 0 0.5em; text-align: left; border: none;\">\n",
       "                Risk\n",
       "            </td>\n",
       "        </tr>\n",
       "    \n",
       "        <tr style=\"background-color: hsl(120, 100.00%, 99.75%); border: none;\">\n",
       "            <td style=\"padding: 0 1em 0 0.5em; text-align: right; border: none;\">\n",
       "                0.0003\n",
       "                \n",
       "                    &plusmn; 0.0000\n",
       "                \n",
       "            </td>\n",
       "            <td style=\"padding: 0 0.5em 0 0.5em; text-align: left; border: none;\">\n",
       "                City\n",
       "            </td>\n",
       "        </tr>\n",
       "    \n",
       "    \n",
       "    </tbody>\n",
       "</table>\n",
       "    \n",
       "\n",
       "    \n",
       "\n",
       "\n",
       "    \n",
       "\n",
       "    \n",
       "\n",
       "    \n",
       "\n",
       "    \n",
       "\n",
       "    \n",
       "\n",
       "    \n",
       "\n",
       "\n",
       "\n"
      ],
      "text/plain": [
       "<IPython.core.display.HTML object>"
      ]
     },
     "execution_count": 14,
     "metadata": {},
     "output_type": "execute_result"
    }
   ],
   "source": [
    "# permutation importance\n",
    "import eli5\n",
    "from eli5.sklearn import PermutationImportance\n",
    "\n",
    "encoder = pipe.named_steps['ordinalencoder']\n",
    "model = pipe.named_steps['gradientboostingclassifier']\n",
    "\n",
    "X_train_transformed = encoder.transform(X_train)\n",
    "permuter = PermutationImportance(model, scoring='roc_auc', n_iter=1, cv='prefit')\n",
    "permuter.fit(X_train_transformed, y_train)\n",
    "\n",
    "eli5.show_weights(permuter, top=None, \n",
    "                  feature_names=X_train_transformed.columns.tolist())"
   ]
  }
 ],
 "metadata": {
  "kernelspec": {
   "display_name": "Python 3",
   "language": "python",
   "name": "python3"
  },
  "language_info": {
   "codemirror_mode": {
    "name": "ipython",
    "version": 3
   },
   "file_extension": ".py",
   "mimetype": "text/x-python",
   "name": "python",
   "nbconvert_exporter": "python",
   "pygments_lexer": "ipython3",
   "version": "3.6.4"
  }
 },
 "nbformat": 4,
 "nbformat_minor": 2
}
