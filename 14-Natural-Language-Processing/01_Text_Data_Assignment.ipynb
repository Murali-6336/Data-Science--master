{
 "cells": [
  {
   "cell_type": "code",
   "execution_count": 1,
   "metadata": {},
   "outputs": [],
   "source": [
    "import re\n",
    "from collections import Counter\n",
    "\n",
    "from bs4 import BeautifulSoup\n",
    "import pandas as pd\n",
    "import requests"
   ]
  },
  {
   "cell_type": "markdown",
   "metadata": {},
   "source": [
    "# Text Data Assignment\n",
    "\n",
    "# 1. String Basics\n",
    "\n",
    "## Count Characters\n",
    "\n",
    "Write a function to count the character frequency of any string, and return the counts as a dictionary.\n",
    "\n",
    "\"google.com\" -> {'o': 3, 'g': 2, '.': 1, 'e': 1, 'l': 1, 'm': 1, 'c': 1}"
   ]
  },
  {
   "cell_type": "code",
   "execution_count": 2,
   "metadata": {
    "colab": {},
    "colab_type": "code",
    "id": "9Kk5bS5ujbwH"
   },
   "outputs": [
    {
     "data": {
      "text/plain": [
       "{'.': 1, 'c': 1, 'e': 1, 'g': 2, 'l': 1, 'm': 1, 'o': 3}"
      ]
     },
     "execution_count": 2,
     "metadata": {},
     "output_type": "execute_result"
    }
   ],
   "source": [
    "def count_letters(string):\n",
    "    d = {}\n",
    "    for letter in set(string):\n",
    "        d[letter] = string.count(letter)\n",
    "\n",
    "    return d\n",
    "\n",
    "count_letters('google.com')"
   ]
  },
  {
   "cell_type": "markdown",
   "metadata": {
    "colab_type": "text",
    "id": "mq2yhAciqH6w"
   },
   "source": [
    "## Replace Characters\n",
    "\n",
    "Write a function that takes in two parameters:\n",
    "1. a string of text\n",
    "2. individual character.\n",
    "\n",
    "This function should return a new string of text where any of the specified character have been replaced with dollar signs: `$` "
   ]
  },
  {
   "cell_type": "code",
   "execution_count": 3,
   "metadata": {},
   "outputs": [
    {
     "data": {
      "text/plain": [
       "'g$$gle'"
      ]
     },
     "execution_count": 3,
     "metadata": {},
     "output_type": "execute_result"
    }
   ],
   "source": [
    "def redact(document, redaction_char=\"$\"):\n",
    "    return document.replace(redaction_char, '$')\n",
    "\n",
    "redact('google', 'o')"
   ]
  },
  {
   "cell_type": "markdown",
   "metadata": {
    "colab_type": "text",
    "id": "v8iy3BKuq--f"
   },
   "source": [
    "## Slice Suffixes\n",
    "\n",
    "Write a function that removes common suffixes from the ends of words. As a minimum this function should remove the suffixes: \"ed\",  \"ing\", \"es\", \"tion\", \"ly\"\n",
    "\n",
    "\"The daring fox leaped through the air gracefully, his eyes fixated on the capitulation of his prey.\" -> \n",
    "\n",
    "\"The dar fox leap through the air graceful, his ey fixat on the capitula of his prey.\""
   ]
  },
  {
   "cell_type": "code",
   "execution_count": 4,
   "metadata": {},
   "outputs": [
    {
     "data": {
      "text/plain": [
       "'The dar fox leap through the air graceful, his ey fixat on the capitula of his prey.'"
      ]
     },
     "execution_count": 4,
     "metadata": {},
     "output_type": "execute_result"
    }
   ],
   "source": [
    "def bad_suffix_cleaner(document, suffixes):\n",
    "    for suffix in suffixes:\n",
    "        document = document.replace(suffix, '')\n",
    "    return document\n",
    "\n",
    "suffixes = [\"ed\", \"ing\", \"es\", \"tion\", \"ly\"]\n",
    "document = \"The daring fox leaped through the air gracefully, his eyes fixated on the capitulation of his prey.\"\n",
    "bad_suffix_cleaner(document, suffixes)"
   ]
  },
  {
   "cell_type": "markdown",
   "metadata": {
    "colab_type": "text",
    "id": "hAAJTIN_trH3"
   },
   "source": [
    "## Remove Stopwords\n",
    "\n",
    "Write a function that removes common \"stopwords\" from text. "
   ]
  },
  {
   "cell_type": "code",
   "execution_count": 5,
   "metadata": {
    "colab": {},
    "colab_type": "code",
    "id": "QbHQkte9t_gK"
   },
   "outputs": [],
   "source": [
    "stopwords = [\n",
    "    'i','me','my','myself','we''our','ours','ourselves',\n",
    "    'you','your','yours','yourself','yourselves','he','him','his','himself',\n",
    "    'she','her','hers','herself','it','its','itself','they','them','their',\n",
    "    'theirs','themselves','what','which','who','whom','this','that','these',\n",
    "    'those','am','is','are','was','were','be','been','being','have','has',\n",
    "    'had','having','do','does','did','doing','a','an','the','and','but',\n",
    "    'if','or','because','as','until','while','of','at','by','for','with',\n",
    "    'about','against','between','into','through','during','before','after',\n",
    "    'above','below','to','from','up','down','in','out','on','off','over',\n",
    "    'under','again','further','then','once','here','there','when','where',\n",
    "    'why','how','all','any','both','each','few','more','most','other','some',\n",
    "    'such','no','nor','not','only','own','same','so','than','too','very',\n",
    "    's','t','can','will','just','don','should','now'\n",
    "]"
   ]
  },
  {
   "cell_type": "code",
   "execution_count": 6,
   "metadata": {},
   "outputs": [
    {
     "data": {
      "text/plain": [
       "['daring',\n",
       " 'fox',\n",
       " 'leaped',\n",
       " 'air',\n",
       " 'gracefully',\n",
       " 'eyes',\n",
       " 'fixated',\n",
       " 'capitulation',\n",
       " 'prey']"
      ]
     },
     "execution_count": 6,
     "metadata": {},
     "output_type": "execute_result"
    }
   ],
   "source": [
    "def stopwords_cleaner(document, stopwords):\n",
    "    words = re.findall('[a-zA-Z]+', document.lower())\n",
    "    words = [word for word in words if word not in stopwords]\n",
    "    return words\n",
    "\n",
    "stopwords_cleaner(document, stopwords)"
   ]
  },
  {
   "cell_type": "markdown",
   "metadata": {
    "colab_type": "text",
    "id": "EKEER1R3vyDM"
   },
   "source": [
    "## 1.5 Vectorize Words\n",
    "\n",
    "Below is a list of three strings. Each string is a job listing with the job title of \"data scientist\" from indeed.com. Write a function that does two things:\n",
    "\n",
    "1) Removes stopwords from each listing (uses above function)\n",
    "\n",
    "2) Creates a dataframe where the header of each column is a particular word and each cell of the dataframe should be a 1 or 0 denoting whether that word is present or not in the job listing a body of text. The final dataframe should only have 3 rows, one for each of the three job listings.\n",
    "\n",
    "Your final dataframe should not include any of the stopwords."
   ]
  },
  {
   "cell_type": "code",
   "execution_count": 7,
   "metadata": {
    "colab": {},
    "colab_type": "code",
    "id": "BmEykH6byT5n"
   },
   "outputs": [],
   "source": [
    "job_listings = [\n",
    "    'Part-time, Contract, Internship\\nSr. Machine Learning/Data Scientist\\n\\ndata245, Bannockburn, IL seeks data scientists.\\n\\nWe are open to all levels of experience (down to an intern) as we are building a team around new initiatives.\\n\\nYou will be developing state of the art algorithms to power various aspects of highly complex business models\\nYou can articulate and understand a business problem, identify challenges, formulate the machine learning problem or NLP problems and provide/prototype solutions\\nYou will provide technical leadership, identify and understand key business challenges and opportunities, and develop end-to-end software solutions using machine learning/NLP and optimization methods.\\n\\nYou will collaborate extensively with internal and external partners, program management, and, at a senior level, the engineering team to ensure that solution meet business needs, permit valid inferences and have functional feasibility\\nYou will collect and manipulate large volumes of data; build new and improved techniques and/or solutions for data collection, management, and usage\\nYou will communicate results in a comprehensible manner to all levels of the company (field teams up to Snr. Management) - this will require client facing in the future - but not initially\\nYou will brainstorm with other team members and leadership - who has 30 plus years experience in the industry that requires the solution.\\nRequirements:\\n\\nPHD or MS in Statistics, Machine Learning, or Computer Science (or technical degree with commensurate industry experience)\\nIdeally the Senior position will possess at least 3 years of relevant work - or academic academic experience, as a Data Scientist / Machine Learning professional.\\nExpertise in NLP a bonus\\nStrong algorithmic design skills\\nOther positions require less tenure, but the same relevant ML understanding.\\nPrevious hands on experience, or thesis dedicated to the same\\nDeep understanding of classic machine learning and deep learning theory, and extensive hands-on experience putting it into practice\\nExcellent understanding of machine learning algorithms, processes, tools and platforms including CNN, RNN, NLP, tensorflow, keras, etc.\\nPython proficiency is must\\nApplied experience with machine learning on large datasets\\\\sparse data with structured and unstructured data.\\nExperience with deep learning, and their optimizations for efficient implementation.\\nGreat communication skills, ability to explain predictive analytics to non-technical audience (not client facing yet, and no sales)\\nExperienced in predictive modelling.\\nExecute analytical experiments methodically while outputting reproducible research.\\nExcited to change an industry struggling to control costs.\\nGood to have – Familiar with one or more programming languages e.g. C++ / Java / Android / iOS\".\\nJob Types: Full-time, Part-time, Internship, Contract\\n\\nSalary: $75,000.00 to $125,000.00 /year\\n\\nEducation:\\n\\nMaster\\'s (Preferred)\\nWork authorization:\\n\\nUnited States (Preferred)\\nHours per week:\\n\\n30-39\\nOvertime often available:\\n\\nNo\\nContract Length:\\n\\nMore than 1 year\\nTypical end time:\\n\\n5PM', \n",
    "    \"$96,970 - $148,967 a year\\nThe professionals at the National Security Agency (NSA) have one common goal: to protect our nation. The mission requires a strong offense and a steadfast defense. The offense collects, processes, and disseminates intelligence information derived from foreign signals for intelligence and counterintelligence purposes. The defense prevents adversaries from gaining access to sensitive classified national security information. NSA is the nation's leader in providing foreign signals intelligence while also protecting U.S. government information systems, forging the frontier of communications, and data analysis. We serve the American people by applying technical skills to meaningful work, keeping our friends and families safe for generations to come. You will make a lasting impact serving your country as a Data Scientist at the National Security Agency, using your curiosity to analyze large data sets to inform decision-making against foreign threats. We are looking for critical thinkers, problem solvers, and motivated individuals who are enthusiastic about data and believe that answers to hard questions lie in the yet-to-be-told story of diverse, complicated data sets. You will employ your mathematical science, computer science, and quantitative analysis skills to ensure solutions to complex data problems and take full advantage of the NSA's software and hardware capabilities in all areas of our enterprise, including analytic capabilities, research, and foreign intelligence operations. Data Scientists are hired into positions directly supporting a technical mission office or the Data Scientist Development Program (DSDP). The NSA/CSS Data Scientist Development Program is a three-year opportunity to build your data science talent, experience the breadth of data science at NSA through six- to nine-month assignments in a variety of diverse organizations, and collaborate with NSA's experts in the field of data science. You will have opportunities to attend technical conferences with experts from industry and academia. You will routinely discuss and share NSA's challenges and successes at weekly technical roundtables. We foster an environment where you will develop your data science skills, allowing you to quickly contribute to NSA's mission. As a member of a technical mission office or the DSDP, Data Scientists tackle challenging real-world problems leveraging big data, high-performance computing, machine learning, and a breadth of other methodologies. As a Data Scientist at NSA, responsibilities may include: - Collecting and combining data from multiple sources - Uncovering and exploring anomalous data (including metadata) - Applying the scientific process to data evaluation, performing statistical inference, and data mining - Developing analytic plans, engineer supporting algorithms, and design and implement solutions which execute analytic plans. - Designing and developing tools and techniques for analysis - Analyzing data using mathematical/statistical methods - Evaluating, documenting, and communicating research processes, analyses, and results to customers, peers, and leadership - Creating interpretable visualizations\\n\\nSkills\\n\\nThe ideal candidate is someone with a desire for continual learning and strong problem-solving, analytic and interpersonal skills. You might be a great fit for our team if any of the following describe you: - Completed a degree program in the fields of mathematics, statistics, computer science, computational sciences, or a passion for rigorous analysis of data - Tenacity, integrity, persistence, and willingness to learn - Ability to solve complex problems - Use critical thinking and reasoning to make analytic determinations - Works effectively in a collaborative environment - Strong communications skills to both technical and non-technical audiences - The desire to serve over 300 million fellow Americans and make a difference in world events\\n\\nPay, Benefits, & Work Schedule\\n\\nOn the job training, internal NSA courses, and external training will be made available based on the need and experience of the selectee. Monday - Friday, with basic 8 hr/day requirements between 0800 to 1800 (flexible)\\n\\nPosition Summary\\n\\nNSA is in search of Computer Science professionals to solve complex problems, test innovative approaches and research new solutions to storing, manipulating, and presenting information. We are looking for you to apply your computer science expertise to projects that seek to create new standards for the transformation of information. If you want to develop technologies and tools and be a part of cutting edge innovations ' join our team of experts! Help protect national security interests as part of the world's most advanced team of computer science professionals!\\n\\nMandatory Qualification Reqs\\n\\nCandidates for the NSA's Data Scientist roles are asked to complete a data science examination evaluating their knowledge of statistics, mathematics, and computer science topics that pertain to data science work. Passing this examination is a requirement in order to be considered for selection into a data scientist position. Salary Range: $69,545 - $86,659 (Entry Level/Developmental) *The qualifications listed are the minimum acceptable to be considered for the position. Salary offers are based on candidates' education level and years of experience relevant to the position and also take into account information provided by the hiring manager/organization regarding the work level for the position. Entry is with a Bachelor's degree and no experience. An Associate's degree plus 2 years of relevant experience may be considered for individuals with in-depth experience that is clearly related to the position. Degree must be in Mathematics, Applied Mathematics, Statistics, Applied Statistics, Machine Learning, Data Science, Operations Research, or Computer Science. A degree in a related field (e.g., Computer Information Systems, Engineering), a degree in the physical/hard sciences (e.g. physics, chemistry, biology, astronomy), or other science disciplines (i.e., behavioral, social, and life) may be considered if it includes a concentration of coursework (typically 5 or more courses) in advanced mathematics (typically 200 level or higher; such as calculus, differential equations, discrete mathematics) and/or computer science (e.g., algorithms, programming, data structures, data mining, artificial intelligence). College-level Algebra or other math courses intended to meet a basic college level requirement, or upper level math courses designated as elementary or basic do not count. Note: A broader range of degrees will be considered if accompanied by a Certificate in Data Science from an accredited college/university.\\n\\nRelevant experience must be in designing/implementing machine learning, data mining, advanced analytical algorithms, programming, data science, advanced statistical analysis, artificial intelligence, and/or software engineering. Experience in more than one area is strongly preferred. Salary Range: $80,445 - $107,140 (Full Performance) *The qualifications listed are the minimum acceptable to be considered for the position. Salary offers are based on candidates' education level and years of experience relevant to the position and also take into account information provided by the hiring manager/organization regarding the work level for the position. Entry is with a Bachelor's degree plus 3 years of relevant experience or a Master's degree plus 1 year of relevant experience or a Doctoral degree and no experience. An Associate's degree plus 5 years of relevant experience may be considered for individuals with in-depth experience that is clearly related to the position.\\nDegree must be in Mathematics, Applied Mathematics, Statistics, Applied Statistics, Machine Learning, Data Science, Operations Research, or Computer Science. A degree in a related field (e.g., Computer Information Systems, Engineering), a degree in the physical/hard sciences (e.g. physics, chemistry, biology, astronomy), or other science disciplines (i.e., behavioral, social, and life) may be considered if it includes a concentration of coursework (typically 5 or more courses) in advanced mathematics (typically 200 level or higher; such as calculus, differential equations, discrete mathematics) and/or computer science (e.g., algorithms, programming, data structures, data mining, artificial intelligence). College-level Algebra or other math courses intended to meet a basic college level requirement, or upper level math courses designated as elementary or basic do not count. Note: A broader range of degrees will be considered if accompanied by a Certificate in Data Science from an accredited college/university. Relevant experience must be in two or more of the following: designing/implementing machine learning, data mining, advanced analytical algorithms, programming, data science, advanced statistical analysis, artificial intelligence, or software engineering. Salary Range: $96,970 - $148,967 (Senior) *The qualifications listed are the minimum acceptable to be considered for the position. Salary offers are based on candidates' education level and years of experience relevant to the position and also take into account information provided by the hiring manager/organization regarding the work level for the position. Entry is with a Bachelor's degree plus 6 years of relevant experience or a Master's degree plus 4 years of relevant experience or a Doctoral degree plus 2 years of relevant experience. An Associate's degree plus 8 years of relevant experience may be considered for individuals with in-depth experience that is clearly related to the position. Degree must be in Mathematics, Applied Mathematics, Statistics, Applied Statistics, Machine Learning, Data Science, Operations Research, or Computer Science. A degree in a related field (e.g., Computer Information Systems, Engineering), a degree in the physical/hard sciences (e.g., physics, chemistry, biology, astronomy), or other science disciplines (i.e., behavioral, social, life) may be considered if it includes a concentration of coursework (typically 5 or more courses) in advanced mathematics (typically 200 level or higher; such as calculus, differential equations, discrete mathematics) and/or computer science (e.g., algorithms, programming, data structures, data mining, artificial intelligence). College-level Algebra or other math courses intended to meet a basic college level requirement, or upper level math courses designated as elementary or basic do not count. Note: A broader range of degrees will be considered if accompanied by a Certificate in Data Science from an accredited college/university. Relevant experience must be in two or more of the following: designing/implementing machine learning, data mining, advanced analytical algorithms, programming, data science, advanced statistical analysis, artificial intelligence, or software engineering. Salary Range: $134,789- $164,200 (Expert) *The qualifications listed are the minimum acceptable to be considered for the position. Salary offers are based on candidates' education level and years of experience relevant to the position and also take into account information provided by the hiring manager/organization regarding the work level for the position. Entry is with a Bachelor's degree plus 9 years of relevant experience or a Master's degree plus 7 years of relevant experience or a Doctoral degree plus 5 years of relevant experience. An Associate's degree plus 11 years of relevant experience may be considered for individuals with in-depth experience that is clearly related to the position. Degree must be in Mathematics, Applied Mathematics, Statistics, Applied Statistics, Machine Learning, Data Science, Operations Research, or Computer Science. A degree in a related field (e.g., Computer Information Systems, Engineering), a degree in the physical/hard sciences (e.g., physics, chemistry, biology, astronomy), or other science disciplines (i.e., behavioral, social, life) may be considered if it includes a concentration of coursework (typically 5 or more courses) in advanced mathematics (typically 200 level or higher; such as calculus, differential equations, discrete mathematics) and/or computer science (e.g., algorithms, programming, data structures, data mining, artificial intelligence). College-level Algebra or other math courses intended to meet a basic college level requirement, or upper level math courses designated as elementary or basic do not count. Note: A broader range of degrees will be considered if accompanied by a Certificate in Data Science from an accredited college/university. Relevant experience must be in two or more of the following: designing/implementing machine learning, data mining, advanced analytical algorithms, programming, data science, advanced statistical analysis, artificial intelligence, or software engineering.\\n\\nHow To Apply - External\\n\\nTo apply for this position, please click the 'Apply' button located at the top right of this posting. After completing the application for the first time, or reviewing previously entered information, and clicking the 'Submit' button, you will receive a confirmation email. Please ensure your spam filters are configured to accept emails from noreply@intelligencecareers.gov. ***PLEASE NOTE: U.S. Citizenship is required for all applicants. Reasonable accommodations provided to applicants with disabilities during the application and hiring process where appropriate. NSA is an equal opportunity employer and abides by applicable employment laws and regulations. All applicants and employees are subject to random drug testing in accordance with Executive Order 12564. Employment is contingent upon successful completion of a security background investigation and polygraph. This position is a Defense Civilian Intelligence Personnel System (DCIPS) position in the Excepted Service under 10 U.S.C. 1601. DoD Components with DCIPS positions apply Veterans' Preference to eligible candidates as defined by Section 2108 of Title 5 USC, in accordance with the procedures provided in DoD Instruction 1400.25, Volume 2005, DCIPS Employment and Placement. If you are a veteran claiming veterans' preference, as defined by Section 2108 of Title 5 U.S.C., you may be asked to submit documents verifying your eligibility. Please note that you may be asked a series of questions depending on the position you apply for. Your responses will be used as part of the screening process of your application and will assist in determining your eligibility for the position. Be sure to elaborate on experiences in your resume. Failure to provide the required information or providing inaccurate information will result in your application not being considered for this position. Only those applicants who meet the qualifications for the position will be contacted to begin employment processing. Please Note: Job Posting could close earlier than the closing date due to sufficient number of applicants or position no longer available. We encourage you to apply as soon as possible.\\n\\nDCIPS Disclaimer\\n\\nThe National Security Agency (NSA) is part of the DoD Intelligence Community Defense Civilian Intelligence Personnel System (DCIPS). All positions in the NSA are in the Excepted Services under 10 United States Codes (USC) 1601 appointment authority.\", \n",
    "    '\\nMinneapolis, Providence or Framingham\\n\\nWho is Virgin Pulse?\\nVirgin Pulse, founded as part of Sir Richard Branson’s famed Virgin Group, helps organizations build employee health and wellbeing into the DNA of their corporate cultures. As the only company to deliver a powerful, mobile-first digital platform infused with live services, including coaching and biometric screenings, Virgin Pulse’s takes a high-tech-meets-high-touch-approach to engage employees in improving across all aspects of their health and wellbeing, every day – from prevention and building a healthy lifestyle to condition and disease management to condition reversal, all while engaging users daily in building and sustaining healthy habits and behaviors. A global leader in health and wellbeing, Virgin Pulse is committed to helping change lives and businesses around the world for good so that people and organizations can thrive, together. Today, more than 3100 organizations across the globe are using Virgin Pulse’s solutions to improve health, employee wellbeing and engagement, reduce costs and create strong workplace cultures.\\n\\nWho are our employees?\\nAt Virgin Pulse we’re passionate about changing lives for good. We want to make a difference in the world by helping people be healthy so they can perform at their best, every day, at work and home. Our award-winning solutions support leading employers in improving and simplifying the employee health and wellbeing journey and engaging people in all aspects of their health. But our world-class products and programs are nothing without our people – the employees who design, build, promote, sell, test and perfect the latest innovations in workplace health and wellbeing. Our people are our top priority and we invest in their health and happiness. At Virgin Pulse, we have so much more than a strong, supportive company culture – have a shared vision for a healthier, happier world.\\nWho you are.\\nYou are an experienced Data Scientist who is capable of providing support to our organization’s efforts to maintain an innovative leadership position in the employee engagement SaaS industry. The Data Scientist accesses datasets from various sources, conducts analysis, and presents the findings of each analytic and reporting project. The incumbent will be able to interpret the findings and clearly communicate results and recommendations to internal and external customers. Moreover, you are a professional who is self-directed and thrives working in a fast-paced, collaborative environment, in which expectations are high both for the quality and speed of work.\\nIn the role of a Data Scientist you will wear many hats and your skills will be crucial in the following:\\nWrite SQL, R, Python programs to access, clean, and transform required data prior to analysis and reporting\\nConsult to and collaborate with analytics and client reporting team members to ensure appropriate data is analyzed and that results are provided in a format consistent with standard and customized client reporting services\\nTroubleshoot and perform data audits to ensure and improve data integrity; investigate and resolve data discrepancies\\nPlan and manage data analytic and reporting process to ensure the projects remain on schedule\\nConduct ad hoc analysis as required using varied analytical tools and techniques\\nSupport Client Success, sales and Marketing staff with direct communication with Virgin Pulse clients and prospects regarding the results of the analysis\\nAchieve annual Key Performance Indicator objectives, which can include report volumes and scope, internal and external client satisfaction, introducing new areas of data and analysis, and influencing company product and process decisions\\n\\nWhat you bring to the team.\\nIn order to represent the best of what we have to offer, you come to us with a multitude of positive attributes including:\\nA bachelor’s degree in statistics, computer science, economics, or related field; Master’s degree is a plus\\nA minimum of four years of work experience in a similar position\\nExperience with data and analytic programming languages such as SQL, R, Python\\nExperience with data visualization tools and techniques preferred\\nExperience with producing and delivering results using varied media (i.e., multiple MS office formats, dashboards/visualization tools, and potentially other formats)\\nExperience in employee health management/health engagement industry preferred\\n\\nIn addition, you possess the following additional competencies and characteristics:\\nStrong analytical skills, with an emphasis on quantitative analysis, descriptive and inferential statistics\\nExpertise in statistical analytical software, or the ability to learn through prior experience tools such as SAS, Stata, R, SPSS or similar statistical software\\nStrong consulting, communication and presentation skills\\nAdvanced R, SQL and database programming skills, experience with MS SQL Server, RedShift, Postgres, and Cassandra/NOSQL databases\\nExperience working with large-scale datasets and multiple projects simultaneously\\nCreative energy, self-starter, works equally well independently and collaboratively'\n",
    "]"
   ]
  },
  {
   "cell_type": "code",
   "execution_count": 8,
   "metadata": {},
   "outputs": [],
   "source": [
    "def vectorize_words(document, stopwords):\n",
    "    words = stopwords_cleaner(document, stopwords)\n",
    "    word_counts = Counter(words)\n",
    "    \n",
    "    return word_counts"
   ]
  },
  {
   "cell_type": "code",
   "execution_count": 9,
   "metadata": {},
   "outputs": [
    {
     "data": {
      "text/html": [
       "<div>\n",
       "<style scoped>\n",
       "    .dataframe tbody tr th:only-of-type {\n",
       "        vertical-align: middle;\n",
       "    }\n",
       "\n",
       "    .dataframe tbody tr th {\n",
       "        vertical-align: top;\n",
       "    }\n",
       "\n",
       "    .dataframe thead th {\n",
       "        text-align: right;\n",
       "    }\n",
       "</style>\n",
       "<table border=\"1\" class=\"dataframe\">\n",
       "  <thead>\n",
       "    <tr style=\"text-align: right;\">\n",
       "      <th></th>\n",
       "      <th>abides</th>\n",
       "      <th>ability</th>\n",
       "      <th>able</th>\n",
       "      <th>academia</th>\n",
       "      <th>academic</th>\n",
       "      <th>accept</th>\n",
       "      <th>acceptable</th>\n",
       "      <th>access</th>\n",
       "      <th>accesses</th>\n",
       "      <th>accommodations</th>\n",
       "      <th>...</th>\n",
       "      <th>without</th>\n",
       "      <th>work</th>\n",
       "      <th>working</th>\n",
       "      <th>workplace</th>\n",
       "      <th>works</th>\n",
       "      <th>world</th>\n",
       "      <th>write</th>\n",
       "      <th>year</th>\n",
       "      <th>years</th>\n",
       "      <th>yet</th>\n",
       "    </tr>\n",
       "    <tr>\n",
       "      <th>listing_id</th>\n",
       "      <th></th>\n",
       "      <th></th>\n",
       "      <th></th>\n",
       "      <th></th>\n",
       "      <th></th>\n",
       "      <th></th>\n",
       "      <th></th>\n",
       "      <th></th>\n",
       "      <th></th>\n",
       "      <th></th>\n",
       "      <th></th>\n",
       "      <th></th>\n",
       "      <th></th>\n",
       "      <th></th>\n",
       "      <th></th>\n",
       "      <th></th>\n",
       "      <th></th>\n",
       "      <th></th>\n",
       "      <th></th>\n",
       "      <th></th>\n",
       "      <th></th>\n",
       "    </tr>\n",
       "  </thead>\n",
       "  <tbody>\n",
       "    <tr>\n",
       "      <th>0</th>\n",
       "      <td>0</td>\n",
       "      <td>1</td>\n",
       "      <td>0</td>\n",
       "      <td>0</td>\n",
       "      <td>2</td>\n",
       "      <td>0</td>\n",
       "      <td>0</td>\n",
       "      <td>0</td>\n",
       "      <td>0</td>\n",
       "      <td>0</td>\n",
       "      <td>...</td>\n",
       "      <td>0</td>\n",
       "      <td>2</td>\n",
       "      <td>0</td>\n",
       "      <td>0</td>\n",
       "      <td>0</td>\n",
       "      <td>0</td>\n",
       "      <td>0</td>\n",
       "      <td>2</td>\n",
       "      <td>2</td>\n",
       "      <td>1</td>\n",
       "    </tr>\n",
       "    <tr>\n",
       "      <th>1</th>\n",
       "      <td>1</td>\n",
       "      <td>1</td>\n",
       "      <td>0</td>\n",
       "      <td>1</td>\n",
       "      <td>0</td>\n",
       "      <td>1</td>\n",
       "      <td>4</td>\n",
       "      <td>1</td>\n",
       "      <td>0</td>\n",
       "      <td>1</td>\n",
       "      <td>...</td>\n",
       "      <td>0</td>\n",
       "      <td>7</td>\n",
       "      <td>0</td>\n",
       "      <td>0</td>\n",
       "      <td>1</td>\n",
       "      <td>3</td>\n",
       "      <td>0</td>\n",
       "      <td>3</td>\n",
       "      <td>15</td>\n",
       "      <td>1</td>\n",
       "    </tr>\n",
       "    <tr>\n",
       "      <th>2</th>\n",
       "      <td>0</td>\n",
       "      <td>1</td>\n",
       "      <td>1</td>\n",
       "      <td>0</td>\n",
       "      <td>0</td>\n",
       "      <td>0</td>\n",
       "      <td>0</td>\n",
       "      <td>1</td>\n",
       "      <td>1</td>\n",
       "      <td>0</td>\n",
       "      <td>...</td>\n",
       "      <td>1</td>\n",
       "      <td>3</td>\n",
       "      <td>2</td>\n",
       "      <td>2</td>\n",
       "      <td>1</td>\n",
       "      <td>4</td>\n",
       "      <td>1</td>\n",
       "      <td>0</td>\n",
       "      <td>1</td>\n",
       "      <td>0</td>\n",
       "    </tr>\n",
       "  </tbody>\n",
       "</table>\n",
       "<p>3 rows × 853 columns</p>\n",
       "</div>"
      ],
      "text/plain": [
       "            abides  ability  able  academia  academic  accept  acceptable  \\\n",
       "listing_id                                                                  \n",
       "0                0        1     0         0         2       0           0   \n",
       "1                1        1     0         1         0       1           4   \n",
       "2                0        1     1         0         0       0           0   \n",
       "\n",
       "            access  accesses  accommodations  ...  without  work  working  \\\n",
       "listing_id                                    ...                           \n",
       "0                0         0               0  ...        0     2        0   \n",
       "1                1         0               1  ...        0     7        0   \n",
       "2                1         1               0  ...        1     3        2   \n",
       "\n",
       "            workplace  works  world  write  year  years  yet  \n",
       "listing_id                                                    \n",
       "0                   0      0      0      0     2      2    1  \n",
       "1                   0      1      3      0     3     15    1  \n",
       "2                   2      1      4      1     0      1    0  \n",
       "\n",
       "[3 rows x 853 columns]"
      ]
     },
     "execution_count": 9,
     "metadata": {},
     "output_type": "execute_result"
    }
   ],
   "source": [
    "dfs = []\n",
    "for i, listing in enumerate(job_listings):\n",
    "    df = pd.DataFrame([vectorize_words(listing, stopwords)])\n",
    "    df['listing_id'] = i\n",
    "    df = df.set_index('listing_id')\n",
    "    dfs.append(df)\n",
    "\n",
    "df = pd.concat(dfs, sort=True)\n",
    "df = df.fillna(0)\n",
    "df = df.apply(lambda x: x.astype(int))\n",
    "\n",
    "df.head()"
   ]
  },
  {
   "cell_type": "markdown",
   "metadata": {
    "colab_type": "text",
    "id": "Ij27L9cPizzB"
   },
   "source": [
    "# 2. Regex + Pandas Practice\n",
    "\n",
    "Load the contents of the following text file into your notebook: https://raw.githubusercontent.com/CoreyMSchafer/code_snippets/master/Python-Regular-Expressions/data.txt\n",
    "\n",
    "## Turn the \"unstructured\" .txt file into a \"structured\" dataframe\n",
    "Once you have read in the file's contents your task is to get this unstructured text data into a dataframe with the following headers:\n",
    "\n",
    "- First Name\n",
    "- Last Name\n",
    "- Email\n",
    "- Phone Number\n",
    "- Street Address\n",
    "- City\n",
    "- State\n",
    "- Zipcode"
   ]
  },
  {
   "cell_type": "code",
   "execution_count": 17,
   "metadata": {},
   "outputs": [
    {
     "data": {
      "text/html": [
       "<div>\n",
       "<style scoped>\n",
       "    .dataframe tbody tr th:only-of-type {\n",
       "        vertical-align: middle;\n",
       "    }\n",
       "\n",
       "    .dataframe tbody tr th {\n",
       "        vertical-align: top;\n",
       "    }\n",
       "\n",
       "    .dataframe thead th {\n",
       "        text-align: right;\n",
       "    }\n",
       "</style>\n",
       "<table border=\"1\" class=\"dataframe\">\n",
       "  <thead>\n",
       "    <tr style=\"text-align: right;\">\n",
       "      <th></th>\n",
       "      <th>First Name</th>\n",
       "      <th>Last Name</th>\n",
       "      <th>Email</th>\n",
       "      <th>Phone Number</th>\n",
       "      <th>Street Address</th>\n",
       "      <th>City</th>\n",
       "      <th>State</th>\n",
       "      <th>Zipcode</th>\n",
       "    </tr>\n",
       "  </thead>\n",
       "  <tbody>\n",
       "    <tr>\n",
       "      <th>0</th>\n",
       "      <td>Dave</td>\n",
       "      <td>Martin</td>\n",
       "      <td>davemartin@bogusemail.com</td>\n",
       "      <td>615-555-7164</td>\n",
       "      <td>173 Main St.</td>\n",
       "      <td>Springfield</td>\n",
       "      <td>RI</td>\n",
       "      <td>55924</td>\n",
       "    </tr>\n",
       "    <tr>\n",
       "      <th>1</th>\n",
       "      <td>Charles</td>\n",
       "      <td>Harris</td>\n",
       "      <td>charlesharris@bogusemail.com</td>\n",
       "      <td>800-555-5669</td>\n",
       "      <td>969 High St.</td>\n",
       "      <td>Atlantis</td>\n",
       "      <td>VA</td>\n",
       "      <td>34075</td>\n",
       "    </tr>\n",
       "    <tr>\n",
       "      <th>2</th>\n",
       "      <td>Eric</td>\n",
       "      <td>Williams</td>\n",
       "      <td>laurawilliams@bogusemail.com</td>\n",
       "      <td>560-555-5153</td>\n",
       "      <td>806 1st St.</td>\n",
       "      <td>Faketown</td>\n",
       "      <td>AK</td>\n",
       "      <td>86847</td>\n",
       "    </tr>\n",
       "    <tr>\n",
       "      <th>3</th>\n",
       "      <td>Corey</td>\n",
       "      <td>Jefferson</td>\n",
       "      <td>coreyjefferson@bogusemail.com</td>\n",
       "      <td>900-555-9340</td>\n",
       "      <td>826 Elm St.</td>\n",
       "      <td>Epicburg</td>\n",
       "      <td>NE</td>\n",
       "      <td>10671</td>\n",
       "    </tr>\n",
       "    <tr>\n",
       "      <th>4</th>\n",
       "      <td>Jennifer</td>\n",
       "      <td>Martin-White</td>\n",
       "      <td>jenniferwhite@bogusemail.com</td>\n",
       "      <td>714-555-7405</td>\n",
       "      <td>212 Cedar St.</td>\n",
       "      <td>Sunnydale</td>\n",
       "      <td>CT</td>\n",
       "      <td>74983</td>\n",
       "    </tr>\n",
       "  </tbody>\n",
       "</table>\n",
       "</div>"
      ],
      "text/plain": [
       "  First Name     Last Name                          Email  Phone Number  \\\n",
       "0       Dave        Martin      davemartin@bogusemail.com  615-555-7164   \n",
       "1    Charles        Harris   charlesharris@bogusemail.com  800-555-5669   \n",
       "2       Eric      Williams   laurawilliams@bogusemail.com  560-555-5153   \n",
       "3      Corey     Jefferson  coreyjefferson@bogusemail.com  900-555-9340   \n",
       "4   Jennifer  Martin-White   jenniferwhite@bogusemail.com  714-555-7405   \n",
       "\n",
       "  Street Address         City State Zipcode  \n",
       "0   173 Main St.  Springfield    RI   55924  \n",
       "1   969 High St.     Atlantis    VA   34075  \n",
       "2    806 1st St.     Faketown    AK   86847  \n",
       "3    826 Elm St.     Epicburg    NE   10671  \n",
       "4  212 Cedar St.    Sunnydale    CT   74983  "
      ]
     },
     "execution_count": 17,
     "metadata": {},
     "output_type": "execute_result"
    }
   ],
   "source": [
    "r = requests.get('https://raw.githubusercontent.com/'\n",
    "                 'CoreyMSchafer/code_snippets/master/'\n",
    "                 'Python-Regular-Expressions/data.txt')\n",
    "contents = r.text\n",
    "\n",
    "df = pd.DataFrame(contents.split('\\n\\n'))\n",
    "df[['Name', 'Phone Number', 'Address', 'Email']] = \\\n",
    "    df[0].str.split('\\n', expand=True).iloc[:, 0:4]\n",
    "\n",
    "df[['First Name', 'Last Name']] = df['Name'].str.split(' ', expand=True)\n",
    "\n",
    "df[['Street Address', 'City', 'State', 'Zipcode']] = \\\n",
    "    df['Address'].str.extract(r'(.+), ([a-zA-Z ]+) ([A-Z]+) ([0-9]+)', expand=True)\n",
    "\n",
    "df = df[['First Name', 'Last Name', 'Email', 'Phone Number',\n",
    "         'Street Address', 'City', 'State', 'Zipcode']]\n",
    "\n",
    "df.head()"
   ]
  },
  {
   "cell_type": "markdown",
   "metadata": {
    "colab_type": "text",
    "id": "udWbMfZdimhT"
   },
   "source": [
    "# 3. Web Scraping + Pandas\n",
    "\n",
    "Scrape the unordered list of information about Ohio University Presidents' salaries from this article: \n",
    "[Ohio Private University President's Salaries](https://www.cleveland.com/metro/2017/12/case_western_reserve_university_president_barbara_snyders_base_salary_and_bonus_pay_tops_among_private_colleges_in_ohio.html)\n",
    "\n",
    "Get the data from this webpage into a dataframe with the following headers:\n",
    "\n",
    "- First Name\n",
    "- Last Name\n",
    "- School\n",
    "- Salary\n",
    "\n",
    "Salary information should be stored as an integer and not have \"$\" or commas \",\"\n"
   ]
  },
  {
   "cell_type": "code",
   "execution_count": 12,
   "metadata": {
    "colab": {},
    "colab_type": "code",
    "id": "cRq2bzEfjdLY"
   },
   "outputs": [
    {
     "data": {
      "text/html": [
       "<div>\n",
       "<style scoped>\n",
       "    .dataframe tbody tr th:only-of-type {\n",
       "        vertical-align: middle;\n",
       "    }\n",
       "\n",
       "    .dataframe tbody tr th {\n",
       "        vertical-align: top;\n",
       "    }\n",
       "\n",
       "    .dataframe thead th {\n",
       "        text-align: right;\n",
       "    }\n",
       "</style>\n",
       "<table border=\"1\" class=\"dataframe\">\n",
       "  <thead>\n",
       "    <tr style=\"text-align: right;\">\n",
       "      <th></th>\n",
       "      <th>Name</th>\n",
       "      <th>School</th>\n",
       "      <th>Salary</th>\n",
       "    </tr>\n",
       "  </thead>\n",
       "  <tbody>\n",
       "    <tr>\n",
       "      <th>0</th>\n",
       "      <td>Grant Cornwell</td>\n",
       "      <td>College of Wooster</td>\n",
       "      <td>911,651</td>\n",
       "    </tr>\n",
       "    <tr>\n",
       "      <th>1</th>\n",
       "      <td>Marvin Krislov</td>\n",
       "      <td>Oberlin College</td>\n",
       "      <td>829,913</td>\n",
       "    </tr>\n",
       "    <tr>\n",
       "      <th>2</th>\n",
       "      <td>Mark Roosevelt</td>\n",
       "      <td>Antioch College</td>\n",
       "      <td>507,672</td>\n",
       "    </tr>\n",
       "    <tr>\n",
       "      <th>3</th>\n",
       "      <td>Laurie Joyner</td>\n",
       "      <td>Wittenberg University</td>\n",
       "      <td>463,504</td>\n",
       "    </tr>\n",
       "    <tr>\n",
       "      <th>4</th>\n",
       "      <td>Richard Giese</td>\n",
       "      <td>University of Mount Union</td>\n",
       "      <td>453,800</td>\n",
       "    </tr>\n",
       "  </tbody>\n",
       "</table>\n",
       "</div>"
      ],
      "text/plain": [
       "             Name                      School   Salary\n",
       "0  Grant Cornwell         College of Wooster   911,651\n",
       "1  Marvin Krislov            Oberlin College   829,913\n",
       "2  Mark Roosevelt             Antioch College  507,672\n",
       "3   Laurie Joyner      Wittenberg University   463,504\n",
       "4   Richard Giese  University of Mount Union   453,800"
      ]
     },
     "execution_count": 12,
     "metadata": {},
     "output_type": "execute_result"
    }
   ],
   "source": [
    "url = ('https://www.cleveland.com/metro/2017/12/'\n",
    "       'case_western_reserve_university_president'\n",
    "       '_barbara_snyders_base_salary_and_bonus_'\n",
    "       'pay_tops_among_private_colleges_in_ohio.html')\n",
    "\n",
    "r = requests.get(url)\n",
    "\n",
    "soup = BeautifulSoup(r.text, 'html.parser')\n",
    "# print(soup.prettify())\n",
    "\n",
    "items = soup.find_all(class_=\"article__unordered-list-item\")\n",
    "df = pd.DataFrame([item.text for item in items])\n",
    "\n",
    "df[['Name', 'School', 'Salary']] = \\\n",
    "    df[0].str.extract(r'([a-zA-Z ]+), *([a-zA-Z ]+).+\\$([0-9,]+)', expand=True)\n",
    "\n",
    "df = df.drop(columns=[0])\n",
    "\n",
    "df.head()"
   ]
  },
  {
   "cell_type": "markdown",
   "metadata": {
    "colab_type": "text",
    "id": "1dCb1q8XphcP",
    "toc-hr-collapsed": true
   },
   "source": [
    "# 4. Stretch Goals\n",
    "\n",
    "* Write a web scraper that can scrape \"Data Scientist\" job listings from indeed.com.\n",
    "* Look ahead to some of the topics from later this week:\n",
    " - Tokenization\n",
    " - Stemming\n",
    " - Lemmatization\n",
    " - Chunking\n",
    " - Part of Speech Tagging\n",
    " - Named Entity Recognition\n",
    " - Document Classification"
   ]
  }
 ],
 "metadata": {
  "colab": {
   "collapsed_sections": [],
   "name": "LS_DS_421_Text_Data_Assignment.ipynb",
   "provenance": [],
   "version": "0.3.2"
  },
  "kernelspec": {
   "display_name": "Python 3",
   "language": "python",
   "name": "python3"
  },
  "language_info": {
   "codemirror_mode": {
    "name": "ipython",
    "version": 3
   },
   "file_extension": ".py",
   "mimetype": "text/x-python",
   "name": "python",
   "nbconvert_exporter": "python",
   "pygments_lexer": "ipython3",
   "version": "3.6.4"
  }
 },
 "nbformat": 4,
 "nbformat_minor": 2
}
