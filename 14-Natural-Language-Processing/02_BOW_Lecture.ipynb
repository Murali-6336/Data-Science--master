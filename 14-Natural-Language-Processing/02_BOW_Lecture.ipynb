{
 "cells": [
  {
   "cell_type": "markdown",
   "metadata": {
    "colab_type": "text",
    "id": "fp0GTcJ7ilpu"
   },
   "source": [
    "# Document Representations: Bag-Of-Words\n",
    "\n",
    "In the previous notebook, we converted \"unstructured\" text data to give it more structure. Some estimate that over 80% of the world's data is unstructured and that less than 1% of existing data has ever been analyzed. In this notebooke we use libraries that are built for NLP to further preprocess our data and perform some of the most common yet basic NLP analysis on documents of text.\n",
    "\n",
    "## Learning Objectives\n",
    "* [Part 1](#Tokenization): Tokenization\n",
    "* [Part 2](#Tokenization-using-NLTK): Tokenization using NLTK\n",
    "* [Part 3](#Lexicon-Normalization): Lexicon Normalization\n",
    "  * Stemming\n",
    "  * Lemmatization\n",
    "  * Bag-of-Words\n",
    "* [Part 4](#Bag-of-Words): Bag-of-Words\n",
    "* [Additional Resources](#Additional-Resouces)\n",
    "\n",
    "# Tokenization\n",
    "\n",
    "As we start out analyzing large chunks of text -whole documents for example- it soon becomes obvious that it's hard to make sense of the text data at the document or even the paragraph level without considering the individual words or sentences of the text. This is where tokenization comes in. Tokenization is a preprocessing step that takes our text and splits it into smaller strings either by sentence or by word. \n",
    "\n",
    "Lets practice this on the three job listings\\."
   ]
  },
  {
   "cell_type": "markdown",
   "metadata": {
    "colab_type": "text",
    "id": "L8oVG-eSKhIX"
   },
   "source": [
    "## Manual Tokenization\n",
    "\n",
    "\n",
    "\n",
    "### `.split()` vanilla method\n",
    "\n",
    "https://docs.python.org/3/library/stdtypes.html\n",
    "\n",
    "Note that if the `sep` argument is absent (or `None`), the string is separated by arbitrary whitespace characters (space, tab, newline, return, formfeed)."
   ]
  },
  {
   "cell_type": "code",
   "execution_count": 11,
   "metadata": {
    "colab": {},
    "colab_type": "code",
    "id": "gTRulO8IKoYp"
   },
   "outputs": [
    {
     "name": "stdout",
     "output_type": "stream",
     "text": [
      "----------------------------------------\n",
      "['Part-time,', 'Contract,', 'Internship', 'Sr.', 'Machine', 'Learning/Data', 'Scientist', 'data245,', 'Bannockburn,', 'IL', 'seeks', 'data', 'scientists.', 'We', 'are', 'open', 'to', 'all', 'levels', 'of']\n",
      "----------------------------------------\n",
      "['$96,970', '-', '$148,967', 'a', 'year', 'The', 'professionals', 'at', 'the', 'National', 'Security', 'Agency', '(NSA)', 'have', 'one', 'common', 'goal:', 'to', 'protect', 'our']\n",
      "----------------------------------------\n",
      "['Minneapolis,', 'Providence', 'or', 'Framingham', 'Who', 'is', 'Virgin', 'Pulse?', 'Virgin', 'Pulse,', 'founded', 'as', 'part', 'of', 'Sir', 'Richard', 'Branson’s', 'famed', 'Virgin', 'Group,']\n"
     ]
    }
   ],
   "source": [
    "job_listings = [\n",
    "    'Part-time, Contract, Internship\\nSr. Machine Learning/Data Scientist\\n\\ndata245, Bannockburn, IL seeks data scientists.\\n\\nWe are open to all levels of experience (down to an intern) as we are building a team around new initiatives.\\n\\nYou will be developing state of the art algorithms to power various aspects of highly complex business models\\nYou can articulate and understand a business problem, identify challenges, formulate the machine learning problem or NLP problems and provide/prototype solutions\\nYou will provide technical leadership, identify and understand key business challenges and opportunities, and develop end-to-end software solutions using machine learning/NLP and optimization methods.\\n\\nYou will collaborate extensively with internal and external partners, program management, and, at a senior level, the engineering team to ensure that solution meet business needs, permit valid inferences and have functional feasibility\\nYou will collect and manipulate large volumes of data; build new and improved techniques and/or solutions for data collection, management, and usage\\nYou will communicate results in a comprehensible manner to all levels of the company (field teams up to Snr. Management) - this will require client facing in the future - but not initially\\nYou will brainstorm with other team members and leadership - who has 30 plus years experience in the industry that requires the solution.\\nRequirements:\\n\\nPHD or MS in Statistics, Machine Learning, or Computer Science (or technical degree with commensurate industry experience)\\nIdeally the Senior position will possess at least 3 years of relevant work - or academic academic experience, as a Data Scientist / Machine Learning professional.\\nExpertise in NLP a bonus\\nStrong algorithmic design skills\\nOther positions require less tenure, but the same relevant ML understanding.\\nPrevious hands on experience, or thesis dedicated to the same\\nDeep understanding of classic machine learning and deep learning theory, and extensive hands-on experience putting it into practice\\nExcellent understanding of machine learning algorithms, processes, tools and platforms including CNN, RNN, NLP, tensorflow, keras, etc.\\nPython proficiency is must\\nApplied experience with machine learning on large datasets\\\\sparse data with structured and unstructured data.\\nExperience with deep learning, and their optimizations for efficient implementation.\\nGreat communication skills, ability to explain predictive analytics to non-technical audience (not client facing yet, and no sales)\\nExperienced in predictive modelling.\\nExecute analytical experiments methodically while outputting reproducible research.\\nExcited to change an industry struggling to control costs.\\nGood to have – Familiar with one or more programming languages e.g. C++ / Java / Android / iOS\".\\nJob Types: Full-time, Part-time, Internship, Contract\\n\\nSalary: $75,000.00 to $125,000.00 /year\\n\\nEducation:\\n\\nMaster\\'s (Preferred)\\nWork authorization:\\n\\nUnited States (Preferred)\\nHours per week:\\n\\n30-39\\nOvertime often available:\\n\\nNo\\nContract Length:\\n\\nMore than 1 year\\nTypical end time:\\n\\n5PM', \"$96,970 - $148,967 a year\\nThe professionals at the National Security Agency (NSA) have one common goal: to protect our nation. The mission requires a strong offense and a steadfast defense. The offense collects, processes, and disseminates intelligence information derived from foreign signals for intelligence and counterintelligence purposes. The defense prevents adversaries from gaining access to sensitive classified national security information. NSA is the nation's leader in providing foreign signals intelligence while also protecting U.S. government information systems, forging the frontier of communications, and data analysis. We serve the American people by applying technical skills to meaningful work, keeping our friends and families safe for generations to come. You will make a lasting impact serving your country as a Data Scientist at the National Security Agency, using your curiosity to analyze large data sets to inform decision-making against foreign threats. We are looking for critical thinkers, problem solvers, and motivated individuals who are enthusiastic about data and believe that answers to hard questions lie in the yet-to-be-told story of diverse, complicated data sets. You will employ your mathematical science, computer science, and quantitative analysis skills to ensure solutions to complex data problems and take full advantage of the NSA's software and hardware capabilities in all areas of our enterprise, including analytic capabilities, research, and foreign intelligence operations. Data Scientists are hired into positions directly supporting a technical mission office or the Data Scientist Development Program (DSDP). The NSA/CSS Data Scientist Development Program is a three-year opportunity to build your data science talent, experience the breadth of data science at NSA through six- to nine-month assignments in a variety of diverse organizations, and collaborate with NSA's experts in the field of data science. You will have opportunities to attend technical conferences with experts from industry and academia. You will routinely discuss and share NSA's challenges and successes at weekly technical roundtables. We foster an environment where you will develop your data science skills, allowing you to quickly contribute to NSA's mission. As a member of a technical mission office or the DSDP, Data Scientists tackle challenging real-world problems leveraging big data, high-performance computing, machine learning, and a breadth of other methodologies. As a Data Scientist at NSA, responsibilities may include: - Collecting and combining data from multiple sources - Uncovering and exploring anomalous data (including metadata) - Applying the scientific process to data evaluation, performing statistical inference, and data mining - Developing analytic plans, engineer supporting algorithms, and design and implement solutions which execute analytic plans. - Designing and developing tools and techniques for analysis - Analyzing data using mathematical/statistical methods - Evaluating, documenting, and communicating research processes, analyses, and results to customers, peers, and leadership - Creating interpretable visualizations\\n\\nSkills\\n\\nThe ideal candidate is someone with a desire for continual learning and strong problem-solving, analytic and interpersonal skills. You might be a great fit for our team if any of the following describe you: - Completed a degree program in the fields of mathematics, statistics, computer science, computational sciences, or a passion for rigorous analysis of data - Tenacity, integrity, persistence, and willingness to learn - Ability to solve complex problems - Use critical thinking and reasoning to make analytic determinations - Works effectively in a collaborative environment - Strong communications skills to both technical and non-technical audiences - The desire to serve over 300 million fellow Americans and make a difference in world events\\n\\nPay, Benefits, & Work Schedule\\n\\nOn the job training, internal NSA courses, and external training will be made available based on the need and experience of the selectee. Monday - Friday, with basic 8 hr/day requirements between 0800 to 1800 (flexible)\\n\\nPosition Summary\\n\\nNSA is in search of Computer Science professionals to solve complex problems, test innovative approaches and research new solutions to storing, manipulating, and presenting information. We are looking for you to apply your computer science expertise to projects that seek to create new standards for the transformation of information. If you want to develop technologies and tools and be a part of cutting edge innovations ' join our team of experts! Help protect national security interests as part of the world's most advanced team of computer science professionals!\\n\\nMandatory Qualification Reqs\\n\\nCandidates for the NSA's Data Scientist roles are asked to complete a data science examination evaluating their knowledge of statistics, mathematics, and computer science topics that pertain to data science work. Passing this examination is a requirement in order to be considered for selection into a data scientist position. Salary Range: $69,545 - $86,659 (Entry Level/Developmental) *The qualifications listed are the minimum acceptable to be considered for the position. Salary offers are based on candidates' education level and years of experience relevant to the position and also take into account information provided by the hiring manager/organization regarding the work level for the position. Entry is with a Bachelor's degree and no experience. An Associate's degree plus 2 years of relevant experience may be considered for individuals with in-depth experience that is clearly related to the position. Degree must be in Mathematics, Applied Mathematics, Statistics, Applied Statistics, Machine Learning, Data Science, Operations Research, or Computer Science. A degree in a related field (e.g., Computer Information Systems, Engineering), a degree in the physical/hard sciences (e.g. physics, chemistry, biology, astronomy), or other science disciplines (i.e., behavioral, social, and life) may be considered if it includes a concentration of coursework (typically 5 or more courses) in advanced mathematics (typically 200 level or higher; such as calculus, differential equations, discrete mathematics) and/or computer science (e.g., algorithms, programming, data structures, data mining, artificial intelligence). College-level Algebra or other math courses intended to meet a basic college level requirement, or upper level math courses designated as elementary or basic do not count. Note: A broader range of degrees will be considered if accompanied by a Certificate in Data Science from an accredited college/university.\\n\\nRelevant experience must be in designing/implementing machine learning, data mining, advanced analytical algorithms, programming, data science, advanced statistical analysis, artificial intelligence, and/or software engineering. Experience in more than one area is strongly preferred. Salary Range: $80,445 - $107,140 (Full Performance) *The qualifications listed are the minimum acceptable to be considered for the position. Salary offers are based on candidates' education level and years of experience relevant to the position and also take into account information provided by the hiring manager/organization regarding the work level for the position. Entry is with a Bachelor's degree plus 3 years of relevant experience or a Master's degree plus 1 year of relevant experience or a Doctoral degree and no experience. An Associate's degree plus 5 years of relevant experience may be considered for individuals with in-depth experience that is clearly related to the position.\\nDegree must be in Mathematics, Applied Mathematics, Statistics, Applied Statistics, Machine Learning, Data Science, Operations Research, or Computer Science. A degree in a related field (e.g., Computer Information Systems, Engineering), a degree in the physical/hard sciences (e.g. physics, chemistry, biology, astronomy), or other science disciplines (i.e., behavioral, social, and life) may be considered if it includes a concentration of coursework (typically 5 or more courses) in advanced mathematics (typically 200 level or higher; such as calculus, differential equations, discrete mathematics) and/or computer science (e.g., algorithms, programming, data structures, data mining, artificial intelligence). College-level Algebra or other math courses intended to meet a basic college level requirement, or upper level math courses designated as elementary or basic do not count. Note: A broader range of degrees will be considered if accompanied by a Certificate in Data Science from an accredited college/university. Relevant experience must be in two or more of the following: designing/implementing machine learning, data mining, advanced analytical algorithms, programming, data science, advanced statistical analysis, artificial intelligence, or software engineering. Salary Range: $96,970 - $148,967 (Senior) *The qualifications listed are the minimum acceptable to be considered for the position. Salary offers are based on candidates' education level and years of experience relevant to the position and also take into account information provided by the hiring manager/organization regarding the work level for the position. Entry is with a Bachelor's degree plus 6 years of relevant experience or a Master's degree plus 4 years of relevant experience or a Doctoral degree plus 2 years of relevant experience. An Associate's degree plus 8 years of relevant experience may be considered for individuals with in-depth experience that is clearly related to the position. Degree must be in Mathematics, Applied Mathematics, Statistics, Applied Statistics, Machine Learning, Data Science, Operations Research, or Computer Science. A degree in a related field (e.g., Computer Information Systems, Engineering), a degree in the physical/hard sciences (e.g., physics, chemistry, biology, astronomy), or other science disciplines (i.e., behavioral, social, life) may be considered if it includes a concentration of coursework (typically 5 or more courses) in advanced mathematics (typically 200 level or higher; such as calculus, differential equations, discrete mathematics) and/or computer science (e.g., algorithms, programming, data structures, data mining, artificial intelligence). College-level Algebra or other math courses intended to meet a basic college level requirement, or upper level math courses designated as elementary or basic do not count. Note: A broader range of degrees will be considered if accompanied by a Certificate in Data Science from an accredited college/university. Relevant experience must be in two or more of the following: designing/implementing machine learning, data mining, advanced analytical algorithms, programming, data science, advanced statistical analysis, artificial intelligence, or software engineering. Salary Range: $134,789- $164,200 (Expert) *The qualifications listed are the minimum acceptable to be considered for the position. Salary offers are based on candidates' education level and years of experience relevant to the position and also take into account information provided by the hiring manager/organization regarding the work level for the position. Entry is with a Bachelor's degree plus 9 years of relevant experience or a Master's degree plus 7 years of relevant experience or a Doctoral degree plus 5 years of relevant experience. An Associate's degree plus 11 years of relevant experience may be considered for individuals with in-depth experience that is clearly related to the position. Degree must be in Mathematics, Applied Mathematics, Statistics, Applied Statistics, Machine Learning, Data Science, Operations Research, or Computer Science. A degree in a related field (e.g., Computer Information Systems, Engineering), a degree in the physical/hard sciences (e.g., physics, chemistry, biology, astronomy), or other science disciplines (i.e., behavioral, social, life) may be considered if it includes a concentration of coursework (typically 5 or more courses) in advanced mathematics (typically 200 level or higher; such as calculus, differential equations, discrete mathematics) and/or computer science (e.g., algorithms, programming, data structures, data mining, artificial intelligence). College-level Algebra or other math courses intended to meet a basic college level requirement, or upper level math courses designated as elementary or basic do not count. Note: A broader range of degrees will be considered if accompanied by a Certificate in Data Science from an accredited college/university. Relevant experience must be in two or more of the following: designing/implementing machine learning, data mining, advanced analytical algorithms, programming, data science, advanced statistical analysis, artificial intelligence, or software engineering.\\n\\nHow To Apply - External\\n\\nTo apply for this position, please click the 'Apply' button located at the top right of this posting. After completing the application for the first time, or reviewing previously entered information, and clicking the 'Submit' button, you will receive a confirmation email. Please ensure your spam filters are configured to accept emails from noreply@intelligencecareers.gov. ***PLEASE NOTE: U.S. Citizenship is required for all applicants. Reasonable accommodations provided to applicants with disabilities during the application and hiring process where appropriate. NSA is an equal opportunity employer and abides by applicable employment laws and regulations. All applicants and employees are subject to random drug testing in accordance with Executive Order 12564. Employment is contingent upon successful completion of a security background investigation and polygraph. This position is a Defense Civilian Intelligence Personnel System (DCIPS) position in the Excepted Service under 10 U.S.C. 1601. DoD Components with DCIPS positions apply Veterans' Preference to eligible candidates as defined by Section 2108 of Title 5 USC, in accordance with the procedures provided in DoD Instruction 1400.25, Volume 2005, DCIPS Employment and Placement. If you are a veteran claiming veterans' preference, as defined by Section 2108 of Title 5 U.S.C., you may be asked to submit documents verifying your eligibility. Please note that you may be asked a series of questions depending on the position you apply for. Your responses will be used as part of the screening process of your application and will assist in determining your eligibility for the position. Be sure to elaborate on experiences in your resume. Failure to provide the required information or providing inaccurate information will result in your application not being considered for this position. Only those applicants who meet the qualifications for the position will be contacted to begin employment processing. Please Note: Job Posting could close earlier than the closing date due to sufficient number of applicants or position no longer available. We encourage you to apply as soon as possible.\\n\\nDCIPS Disclaimer\\n\\nThe National Security Agency (NSA) is part of the DoD Intelligence Community Defense Civilian Intelligence Personnel System (DCIPS). All positions in the NSA are in the Excepted Services under 10 United States Codes (USC) 1601 appointment authority.\",\n",
    "    '\\nMinneapolis, Providence or Framingham\\n\\nWho is Virgin Pulse?\\nVirgin Pulse, founded as part of Sir Richard Branson’s famed Virgin Group, helps organizations build employee health and wellbeing into the DNA of their corporate cultures. As the only company to deliver a powerful, mobile-first digital platform infused with live services, including coaching and biometric screenings, Virgin Pulse’s takes a high-tech-meets-high-touch-approach to engage employees in improving across all aspects of their health and wellbeing, every day – from prevention and building a healthy lifestyle to condition and disease management to condition reversal, all while engaging users daily in building and sustaining healthy habits and behaviors. A global leader in health and wellbeing, Virgin Pulse is committed to helping change lives and businesses around the world for good so that people and organizations can thrive, together. Today, more than 3100 organizations across the globe are using Virgin Pulse’s solutions to improve health, employee wellbeing and engagement, reduce costs and create strong workplace cultures.\\n\\nWho are our employees?\\nAt Virgin Pulse we’re passionate about changing lives for good. We want to make a difference in the world by helping people be healthy so they can perform at their best, every day, at work and home. Our award-winning solutions support leading employers in improving and simplifying the employee health and wellbeing journey and engaging people in all aspects of their health. But our world-class products and programs are nothing without our people – the employees who design, build, promote, sell, test and perfect the latest innovations in workplace health and wellbeing. Our people are our top priority and we invest in their health and happiness. At Virgin Pulse, we have so much more than a strong, supportive company culture – have a shared vision for a healthier, happier world.\\nWho you are.\\nYou are an experienced Data Scientist who is capable of providing support to our organization’s efforts to maintain an innovative leadership position in the employee engagement SaaS industry. The Data Scientist accesses datasets from various sources, conducts analysis, and presents the findings of each analytic and reporting project. The incumbent will be able to interpret the findings and clearly communicate results and recommendations to internal and external customers. Moreover, you are a professional who is self-directed and thrives working in a fast-paced, collaborative environment, in which expectations are high both for the quality and speed of work.\\nIn the role of a Data Scientist you will wear many hats and your skills will be crucial in the following:\\nWrite SQL, R, Python programs to access, clean, and transform required data prior to analysis and reporting\\nConsult to and collaborate with analytics and client reporting team members to ensure appropriate data is analyzed and that results are provided in a format consistent with standard and customized client reporting services\\nTroubleshoot and perform data audits to ensure and improve data integrity; investigate and resolve data discrepancies\\nPlan and manage data analytic and reporting process to ensure the projects remain on schedule\\nConduct ad hoc analysis as required using varied analytical tools and techniques\\nSupport Client Success, sales and Marketing staff with direct communication with Virgin Pulse clients and prospects regarding the results of the analysis\\nAchieve annual Key Performance Indicator objectives, which can include report volumes and scope, internal and external client satisfaction, introducing new areas of data and analysis, and influencing company product and process decisions\\n\\nWhat you bring to the team.\\nIn order to represent the best of what we have to offer, you come to us with a multitude of positive attributes including:\\nA bachelor’s degree in statistics, computer science, economics, or related field; Master’s degree is a plus\\nA minimum of four years of work experience in a similar position\\nExperience with data and analytic programming languages such as SQL, R, Python\\nExperience with data visualization tools and techniques preferred\\nExperience with producing and delivering results using varied media (i.e., multiple MS office formats, dashboards/visualization tools, and potentially other formats)\\nExperience in employee health management/health engagement industry preferred\\n\\nIn addition, you possess the following additional competencies and characteristics:\\nStrong analytical skills, with an emphasis on quantitative analysis, descriptive and inferential statistics\\nExpertise in statistical analytical software, or the ability to learn through prior experience tools such as SAS, Stata, R, SPSS or similar statistical software\\nStrong consulting, communication and presentation skills\\nAdvanced R, SQL and database programming skills, experience with MS SQL Server, RedShift, Postgres, and Cassandra/NOSQL databases\\nExperience working with large-scale datasets and multiple projects simultaneously\\nCreative energy, self-starter, works equally well independently and collaboratively'\n",
    "]\n",
    "\n",
    "tokenized_listings = []\n",
    "\n",
    "for listing in job_listings:\n",
    "    split_listing = listing.split()\n",
    "    tokenized_listings.append(split_listing)\n",
    "\n",
    "for listing in tokenized_listings: \n",
    "    print(\"----\"*10)\n",
    "    print(listing[:20])"
   ]
  },
  {
   "cell_type": "markdown",
   "metadata": {
    "colab_type": "text",
    "id": "NugkUsSnLQmQ"
   },
   "source": [
    "### RegEx Method\n",
    "\n",
    "Remember that we can use regex to select only alpha-numeric clusters of words. This helps to clean up a lot of punctuation, but also can cause problems because contractions will be treated as separate words, and hyphenated words will be treated as separate words. Not ideal, but likely better than the .split() method.\n",
    "\n",
    "\"don't\" -> \"don\", \"t\"\n",
    "\n",
    "\"part-time\" -> \"part\" \"time\""
   ]
  },
  {
   "cell_type": "code",
   "execution_count": 4,
   "metadata": {
    "colab": {
     "base_uri": "https://localhost:8080/",
     "height": 72
    },
    "colab_type": "code",
    "id": "eg0UVCbYLSVE",
    "outputId": "0f1c0aa7-571d-47c3-db2c-d71e1a2e168d"
   },
   "outputs": [
    {
     "name": "stdout",
     "output_type": "stream",
     "text": [
      "----------------------------------------\n",
      "['part', 'time', 'contract', 'internship', 'sr', 'machine', 'learning', 'data', 'scientist', 'data245', 'bannockburn', 'il', 'seeks', 'data', 'scientists', 'we', 'are', 'open', 'to', 'all']\n",
      "----------------------------------------\n",
      "['', '96', '970', '148', '967', 'a', 'year', 'the', 'professionals', 'at', 'the', 'national', 'security', 'agency', 'nsa', 'have', 'one', 'common', 'goal', 'to']\n",
      "----------------------------------------\n",
      "['', 'minneapolis', 'providence', 'or', 'framingham', 'who', 'is', 'virgin', 'pulse', 'virgin', 'pulse', 'founded', 'as', 'part', 'of', 'sir', 'richard', 'branson', 's', 'famed']\n"
     ]
    }
   ],
   "source": [
    "import re\n",
    "\n",
    "tokenized_listings = []\n",
    "for listing in job_listings:\n",
    "    words = re.split(r'\\W+', listing)\n",
    "    words = [w.lower() for w in words]\n",
    "    tokenized_listings.append(words)\n",
    "\n",
    "for listing in tokenized_listings: \n",
    "    print(\"----\"*10)\n",
    "    print(listing[:20])"
   ]
  },
  {
   "cell_type": "markdown",
   "metadata": {
    "colab_type": "text",
    "id": "mgPQnm-eM0HY"
   },
   "source": [
    "### `.split()` and remove punctuation"
   ]
  },
  {
   "cell_type": "code",
   "execution_count": 12,
   "metadata": {
    "colab": {
     "base_uri": "https://localhost:8080/",
     "height": 35
    },
    "colab_type": "code",
    "id": "NyR3nwk5M7lB",
    "outputId": "00563d0c-10b2-465f-c207-fec20ea4667a"
   },
   "outputs": [
    {
     "data": {
      "text/plain": [
       "'!\"#$%&\\'()*+,-./:;<=>?@[\\\\]^_`{|}~'"
      ]
     },
     "execution_count": 12,
     "metadata": {},
     "output_type": "execute_result"
    }
   ],
   "source": [
    "import string\n",
    "string.punctuation"
   ]
  },
  {
   "cell_type": "code",
   "execution_count": 17,
   "metadata": {
    "colab": {
     "base_uri": "https://localhost:8080/",
     "height": 55
    },
    "colab_type": "code",
    "id": "BMgiaZSSNP1n",
    "outputId": "d9f97f54-7bd5-456e-e651-a5e3443bcd39"
   },
   "outputs": [
    {
     "name": "stdout",
     "output_type": "stream",
     "text": [
      "----------------------------------------\n",
      "['parttime', 'contract', 'internship', 'sr', 'machine', 'learningdata', 'scientist', 'data245', 'bannockburn', 'il', 'seeks', 'data', 'scientists', 'we', 'are', 'open', 'to', 'all', 'levels', 'of']\n",
      "----------------------------------------\n",
      "['96970', '', '148967', 'a', 'year', 'the', 'professionals', 'at', 'the', 'national', 'security', 'agency', 'nsa', 'have', 'one', 'common', 'goal', 'to', 'protect', 'our']\n",
      "----------------------------------------\n",
      "['minneapolis', 'providence', 'or', 'framingham', 'who', 'is', 'virgin', 'pulse', 'virgin', 'pulse', 'founded', 'as', 'part', 'of', 'sir', 'richard', 'branson’s', 'famed', 'virgin', 'group']\n"
     ]
    }
   ],
   "source": [
    "# create a replacement lookup table\n",
    "table = str.maketrans('', '', string.punctuation)\n",
    "\n",
    "tokenized_listings = []\n",
    "for listing in job_listings:\n",
    "    # split by whitespace\n",
    "    words = listing.split()\n",
    "    # remove punctuation from words and normalize case\n",
    "    stripped = [w.translate(table).lower() for w in words]\n",
    "    tokenized_listings.append(stripped)\n",
    "    \n",
    "for listing in tokenized_listings: \n",
    "    print(\"----\"*10)\n",
    "    print(listing[:20])"
   ]
  },
  {
   "cell_type": "markdown",
   "metadata": {
    "colab_type": "text",
    "id": "YenWBs_PRxgu"
   },
   "source": [
    "\"Part-time\" -> \"Parttime\"\n",
    "\n",
    "\"don't\" -> \"dont\""
   ]
  },
  {
   "cell_type": "markdown",
   "metadata": {
    "colab_type": "text",
    "id": "iJj2IoCNUNXe"
   },
   "source": [
    "# Tokenization using NLTK\n",
    "`pip install -U nltk`"
   ]
  },
  {
   "cell_type": "code",
   "execution_count": 18,
   "metadata": {
    "colab": {
     "base_uri": "https://localhost:8080/",
     "height": 176
    },
    "colab_type": "code",
    "id": "nAA3wgTvcH5M",
    "outputId": "c9ed23d6-9ee3-44ef-acc0-9ac3104d255a"
   },
   "outputs": [
    {
     "name": "stdout",
     "output_type": "stream",
     "text": [
      "[nltk_data] Downloading package punkt to\n",
      "[nltk_data]     C:\\Users\\City_Year\\AppData\\Roaming\\nltk_data...\n",
      "[nltk_data]   Unzipping tokenizers\\punkt.zip.\n",
      "[nltk_data] Downloading package stopwords to\n",
      "[nltk_data]     C:\\Users\\City_Year\\AppData\\Roaming\\nltk_data...\n",
      "[nltk_data]   Unzipping corpora\\stopwords.zip.\n"
     ]
    },
    {
     "data": {
      "text/plain": [
       "True"
      ]
     },
     "execution_count": 18,
     "metadata": {},
     "output_type": "execute_result"
    }
   ],
   "source": [
    "import nltk\n",
    "nltk.download('punkt')\n",
    "nltk.download('stopwords')"
   ]
  },
  {
   "cell_type": "markdown",
   "metadata": {
    "colab_type": "text",
    "id": "ygQeii7kXBTd"
   },
   "source": [
    "### Tokenize by sentence or by word\n",
    "\n",
    "How is NLTK's method better than .split()? Well, it handles some corner cases in some advantageous ways. Commas and periods are seen as separate tokens, contractions get split apart, quotes are kept, etc. It's a little more sophisticated than just splitting based on white space."
   ]
  },
  {
   "cell_type": "code",
   "execution_count": 20,
   "metadata": {
    "colab": {
     "base_uri": "https://localhost:8080/",
     "height": 72
    },
    "colab_type": "code",
    "id": "xMwVAX3vGE2c",
    "outputId": "d1278705-42f3-4dcd-cacf-f14b14e48562",
    "scrolled": false
   },
   "outputs": [
    {
     "name": "stdout",
     "output_type": "stream",
     "text": [
      "Job Listing #1\n",
      "----------------------------------------\n",
      "This listings has 16 sentences\n",
      "['Part-time, Contract, Internship\\nSr. Machine Learning/Data Scientist\\n\\ndata245, Bannockburn, IL seeks data scientists.', 'We are open to all levels of experience (down to an intern) as we are building a team around new initiatives.', 'You will be developing state of the art algorithms to power various aspects of highly complex business models\\nYou can articulate and understand a business problem, identify challenges, formulate the machine learning problem or NLP problems and provide/prototype solutions\\nYou will provide technical leadership, identify and understand key business challenges and opportunities, and develop end-to-end software solutions using machine learning/NLP and optimization methods.']\n",
      "Job Listing #2\n",
      "----------------------------------------\n",
      "This listings has 85 sentences\n",
      "['$96,970 - $148,967 a year\\nThe professionals at the National Security Agency (NSA) have one common goal: to protect our nation.', 'The mission requires a strong offense and a steadfast defense.', 'The offense collects, processes, and disseminates intelligence information derived from foreign signals for intelligence and counterintelligence purposes.']\n",
      "Job Listing #3\n",
      "----------------------------------------\n",
      "This listings has 19 sentences\n",
      "['\\nMinneapolis, Providence or Framingham\\n\\nWho is Virgin Pulse?', 'Virgin Pulse, founded as part of Sir Richard Branson’s famed Virgin Group, helps organizations build employee health and wellbeing into the DNA of their corporate cultures.', 'As the only company to deliver a powerful, mobile-first digital platform infused with live services, including coaching and biometric screenings, Virgin Pulse’s takes a high-tech-meets-high-touch-approach to engage employees in improving across all aspects of their health and wellbeing, every day – from prevention and building a healthy lifestyle to condition and disease management to condition reversal, all while engaging users daily in building and sustaining healthy habits and behaviors.']\n"
     ]
    }
   ],
   "source": [
    "from nltk.tokenize import sent_tokenize # Sentence Tokenizer\n",
    "\n",
    "job_listings = [\n",
    "    'Part-time, Contract, Internship\\nSr. Machine Learning/Data Scientist\\n\\ndata245, Bannockburn, IL seeks data scientists.\\n\\nWe are open to all levels of experience (down to an intern) as we are building a team around new initiatives.\\n\\nYou will be developing state of the art algorithms to power various aspects of highly complex business models\\nYou can articulate and understand a business problem, identify challenges, formulate the machine learning problem or NLP problems and provide/prototype solutions\\nYou will provide technical leadership, identify and understand key business challenges and opportunities, and develop end-to-end software solutions using machine learning/NLP and optimization methods.\\n\\nYou will collaborate extensively with internal and external partners, program management, and, at a senior level, the engineering team to ensure that solution meet business needs, permit valid inferences and have functional feasibility\\nYou will collect and manipulate large volumes of data; build new and improved techniques and/or solutions for data collection, management, and usage\\nYou will communicate results in a comprehensible manner to all levels of the company (field teams up to Snr. Management) - this will require client facing in the future - but not initially\\nYou will brainstorm with other team members and leadership - who has 30 plus years experience in the industry that requires the solution.\\nRequirements:\\n\\nPHD or MS in Statistics, Machine Learning, or Computer Science (or technical degree with commensurate industry experience)\\nIdeally the Senior position will possess at least 3 years of relevant work - or academic academic experience, as a Data Scientist / Machine Learning professional.\\nExpertise in NLP a bonus\\nStrong algorithmic design skills\\nOther positions require less tenure, but the same relevant ML understanding.\\nPrevious hands on experience, or thesis dedicated to the same\\nDeep understanding of classic machine learning and deep learning theory, and extensive hands-on experience putting it into practice\\nExcellent understanding of machine learning algorithms, processes, tools and platforms including CNN, RNN, NLP, tensorflow, keras, etc.\\nPython proficiency is must\\nApplied experience with machine learning on large datasets\\\\sparse data with structured and unstructured data.\\nExperience with deep learning, and their optimizations for efficient implementation.\\nGreat communication skills, ability to explain predictive analytics to non-technical audience (not client facing yet, and no sales)\\nExperienced in predictive modelling.\\nExecute analytical experiments methodically while outputting reproducible research.\\nExcited to change an industry struggling to control costs.\\nGood to have – Familiar with one or more programming languages e.g. C++ / Java / Android / iOS\".\\nJob Types: Full-time, Part-time, Internship, Contract\\n\\nSalary: $75,000.00 to $125,000.00 /year\\n\\nEducation:\\n\\nMaster\\'s (Preferred)\\nWork authorization:\\n\\nUnited States (Preferred)\\nHours per week:\\n\\n30-39\\nOvertime often available:\\n\\nNo\\nContract Length:\\n\\nMore than 1 year\\nTypical end time:\\n\\n5PM', \"$96,970 - $148,967 a year\\nThe professionals at the National Security Agency (NSA) have one common goal: to protect our nation. The mission requires a strong offense and a steadfast defense. The offense collects, processes, and disseminates intelligence information derived from foreign signals for intelligence and counterintelligence purposes. The defense prevents adversaries from gaining access to sensitive classified national security information. NSA is the nation's leader in providing foreign signals intelligence while also protecting U.S. government information systems, forging the frontier of communications, and data analysis. We serve the American people by applying technical skills to meaningful work, keeping our friends and families safe for generations to come. You will make a lasting impact serving your country as a Data Scientist at the National Security Agency, using your curiosity to analyze large data sets to inform decision-making against foreign threats. We are looking for critical thinkers, problem solvers, and motivated individuals who are enthusiastic about data and believe that answers to hard questions lie in the yet-to-be-told story of diverse, complicated data sets. You will employ your mathematical science, computer science, and quantitative analysis skills to ensure solutions to complex data problems and take full advantage of the NSA's software and hardware capabilities in all areas of our enterprise, including analytic capabilities, research, and foreign intelligence operations. Data Scientists are hired into positions directly supporting a technical mission office or the Data Scientist Development Program (DSDP). The NSA/CSS Data Scientist Development Program is a three-year opportunity to build your data science talent, experience the breadth of data science at NSA through six- to nine-month assignments in a variety of diverse organizations, and collaborate with NSA's experts in the field of data science. You will have opportunities to attend technical conferences with experts from industry and academia. You will routinely discuss and share NSA's challenges and successes at weekly technical roundtables. We foster an environment where you will develop your data science skills, allowing you to quickly contribute to NSA's mission. As a member of a technical mission office or the DSDP, Data Scientists tackle challenging real-world problems leveraging big data, high-performance computing, machine learning, and a breadth of other methodologies. As a Data Scientist at NSA, responsibilities may include: - Collecting and combining data from multiple sources - Uncovering and exploring anomalous data (including metadata) - Applying the scientific process to data evaluation, performing statistical inference, and data mining - Developing analytic plans, engineer supporting algorithms, and design and implement solutions which execute analytic plans. - Designing and developing tools and techniques for analysis - Analyzing data using mathematical/statistical methods - Evaluating, documenting, and communicating research processes, analyses, and results to customers, peers, and leadership - Creating interpretable visualizations\\n\\nSkills\\n\\nThe ideal candidate is someone with a desire for continual learning and strong problem-solving, analytic and interpersonal skills. You might be a great fit for our team if any of the following describe you: - Completed a degree program in the fields of mathematics, statistics, computer science, computational sciences, or a passion for rigorous analysis of data - Tenacity, integrity, persistence, and willingness to learn - Ability to solve complex problems - Use critical thinking and reasoning to make analytic determinations - Works effectively in a collaborative environment - Strong communications skills to both technical and non-technical audiences - The desire to serve over 300 million fellow Americans and make a difference in world events\\n\\nPay, Benefits, & Work Schedule\\n\\nOn the job training, internal NSA courses, and external training will be made available based on the need and experience of the selectee. Monday - Friday, with basic 8 hr/day requirements between 0800 to 1800 (flexible)\\n\\nPosition Summary\\n\\nNSA is in search of Computer Science professionals to solve complex problems, test innovative approaches and research new solutions to storing, manipulating, and presenting information. We are looking for you to apply your computer science expertise to projects that seek to create new standards for the transformation of information. If you want to develop technologies and tools and be a part of cutting edge innovations ' join our team of experts! Help protect national security interests as part of the world's most advanced team of computer science professionals!\\n\\nMandatory Qualification Reqs\\n\\nCandidates for the NSA's Data Scientist roles are asked to complete a data science examination evaluating their knowledge of statistics, mathematics, and computer science topics that pertain to data science work. Passing this examination is a requirement in order to be considered for selection into a data scientist position. Salary Range: $69,545 - $86,659 (Entry Level/Developmental) *The qualifications listed are the minimum acceptable to be considered for the position. Salary offers are based on candidates' education level and years of experience relevant to the position and also take into account information provided by the hiring manager/organization regarding the work level for the position. Entry is with a Bachelor's degree and no experience. An Associate's degree plus 2 years of relevant experience may be considered for individuals with in-depth experience that is clearly related to the position. Degree must be in Mathematics, Applied Mathematics, Statistics, Applied Statistics, Machine Learning, Data Science, Operations Research, or Computer Science. A degree in a related field (e.g., Computer Information Systems, Engineering), a degree in the physical/hard sciences (e.g. physics, chemistry, biology, astronomy), or other science disciplines (i.e., behavioral, social, and life) may be considered if it includes a concentration of coursework (typically 5 or more courses) in advanced mathematics (typically 200 level or higher; such as calculus, differential equations, discrete mathematics) and/or computer science (e.g., algorithms, programming, data structures, data mining, artificial intelligence). College-level Algebra or other math courses intended to meet a basic college level requirement, or upper level math courses designated as elementary or basic do not count. Note: A broader range of degrees will be considered if accompanied by a Certificate in Data Science from an accredited college/university.\\n\\nRelevant experience must be in designing/implementing machine learning, data mining, advanced analytical algorithms, programming, data science, advanced statistical analysis, artificial intelligence, and/or software engineering. Experience in more than one area is strongly preferred. Salary Range: $80,445 - $107,140 (Full Performance) *The qualifications listed are the minimum acceptable to be considered for the position. Salary offers are based on candidates' education level and years of experience relevant to the position and also take into account information provided by the hiring manager/organization regarding the work level for the position. Entry is with a Bachelor's degree plus 3 years of relevant experience or a Master's degree plus 1 year of relevant experience or a Doctoral degree and no experience. An Associate's degree plus 5 years of relevant experience may be considered for individuals with in-depth experience that is clearly related to the position.\\nDegree must be in Mathematics, Applied Mathematics, Statistics, Applied Statistics, Machine Learning, Data Science, Operations Research, or Computer Science. A degree in a related field (e.g., Computer Information Systems, Engineering), a degree in the physical/hard sciences (e.g. physics, chemistry, biology, astronomy), or other science disciplines (i.e., behavioral, social, and life) may be considered if it includes a concentration of coursework (typically 5 or more courses) in advanced mathematics (typically 200 level or higher; such as calculus, differential equations, discrete mathematics) and/or computer science (e.g., algorithms, programming, data structures, data mining, artificial intelligence). College-level Algebra or other math courses intended to meet a basic college level requirement, or upper level math courses designated as elementary or basic do not count. Note: A broader range of degrees will be considered if accompanied by a Certificate in Data Science from an accredited college/university. Relevant experience must be in two or more of the following: designing/implementing machine learning, data mining, advanced analytical algorithms, programming, data science, advanced statistical analysis, artificial intelligence, or software engineering. Salary Range: $96,970 - $148,967 (Senior) *The qualifications listed are the minimum acceptable to be considered for the position. Salary offers are based on candidates' education level and years of experience relevant to the position and also take into account information provided by the hiring manager/organization regarding the work level for the position. Entry is with a Bachelor's degree plus 6 years of relevant experience or a Master's degree plus 4 years of relevant experience or a Doctoral degree plus 2 years of relevant experience. An Associate's degree plus 8 years of relevant experience may be considered for individuals with in-depth experience that is clearly related to the position. Degree must be in Mathematics, Applied Mathematics, Statistics, Applied Statistics, Machine Learning, Data Science, Operations Research, or Computer Science. A degree in a related field (e.g., Computer Information Systems, Engineering), a degree in the physical/hard sciences (e.g., physics, chemistry, biology, astronomy), or other science disciplines (i.e., behavioral, social, life) may be considered if it includes a concentration of coursework (typically 5 or more courses) in advanced mathematics (typically 200 level or higher; such as calculus, differential equations, discrete mathematics) and/or computer science (e.g., algorithms, programming, data structures, data mining, artificial intelligence). College-level Algebra or other math courses intended to meet a basic college level requirement, or upper level math courses designated as elementary or basic do not count. Note: A broader range of degrees will be considered if accompanied by a Certificate in Data Science from an accredited college/university. Relevant experience must be in two or more of the following: designing/implementing machine learning, data mining, advanced analytical algorithms, programming, data science, advanced statistical analysis, artificial intelligence, or software engineering. Salary Range: $134,789- $164,200 (Expert) *The qualifications listed are the minimum acceptable to be considered for the position. Salary offers are based on candidates' education level and years of experience relevant to the position and also take into account information provided by the hiring manager/organization regarding the work level for the position. Entry is with a Bachelor's degree plus 9 years of relevant experience or a Master's degree plus 7 years of relevant experience or a Doctoral degree plus 5 years of relevant experience. An Associate's degree plus 11 years of relevant experience may be considered for individuals with in-depth experience that is clearly related to the position. Degree must be in Mathematics, Applied Mathematics, Statistics, Applied Statistics, Machine Learning, Data Science, Operations Research, or Computer Science. A degree in a related field (e.g., Computer Information Systems, Engineering), a degree in the physical/hard sciences (e.g., physics, chemistry, biology, astronomy), or other science disciplines (i.e., behavioral, social, life) may be considered if it includes a concentration of coursework (typically 5 or more courses) in advanced mathematics (typically 200 level or higher; such as calculus, differential equations, discrete mathematics) and/or computer science (e.g., algorithms, programming, data structures, data mining, artificial intelligence). College-level Algebra or other math courses intended to meet a basic college level requirement, or upper level math courses designated as elementary or basic do not count. Note: A broader range of degrees will be considered if accompanied by a Certificate in Data Science from an accredited college/university. Relevant experience must be in two or more of the following: designing/implementing machine learning, data mining, advanced analytical algorithms, programming, data science, advanced statistical analysis, artificial intelligence, or software engineering.\\n\\nHow To Apply - External\\n\\nTo apply for this position, please click the 'Apply' button located at the top right of this posting. After completing the application for the first time, or reviewing previously entered information, and clicking the 'Submit' button, you will receive a confirmation email. Please ensure your spam filters are configured to accept emails from noreply@intelligencecareers.gov. ***PLEASE NOTE: U.S. Citizenship is required for all applicants. Reasonable accommodations provided to applicants with disabilities during the application and hiring process where appropriate. NSA is an equal opportunity employer and abides by applicable employment laws and regulations. All applicants and employees are subject to random drug testing in accordance with Executive Order 12564. Employment is contingent upon successful completion of a security background investigation and polygraph. This position is a Defense Civilian Intelligence Personnel System (DCIPS) position in the Excepted Service under 10 U.S.C. 1601. DoD Components with DCIPS positions apply Veterans' Preference to eligible candidates as defined by Section 2108 of Title 5 USC, in accordance with the procedures provided in DoD Instruction 1400.25, Volume 2005, DCIPS Employment and Placement. If you are a veteran claiming veterans' preference, as defined by Section 2108 of Title 5 U.S.C., you may be asked to submit documents verifying your eligibility. Please note that you may be asked a series of questions depending on the position you apply for. Your responses will be used as part of the screening process of your application and will assist in determining your eligibility for the position. Be sure to elaborate on experiences in your resume. Failure to provide the required information or providing inaccurate information will result in your application not being considered for this position. Only those applicants who meet the qualifications for the position will be contacted to begin employment processing. Please Note: Job Posting could close earlier than the closing date due to sufficient number of applicants or position no longer available. We encourage you to apply as soon as possible.\\n\\nDCIPS Disclaimer\\n\\nThe National Security Agency (NSA) is part of the DoD Intelligence Community Defense Civilian Intelligence Personnel System (DCIPS). All positions in the NSA are in the Excepted Services under 10 United States Codes (USC) 1601 appointment authority.\", \n",
    "    '\\nMinneapolis, Providence or Framingham\\n\\nWho is Virgin Pulse?\\nVirgin Pulse, founded as part of Sir Richard Branson’s famed Virgin Group, helps organizations build employee health and wellbeing into the DNA of their corporate cultures. As the only company to deliver a powerful, mobile-first digital platform infused with live services, including coaching and biometric screenings, Virgin Pulse’s takes a high-tech-meets-high-touch-approach to engage employees in improving across all aspects of their health and wellbeing, every day – from prevention and building a healthy lifestyle to condition and disease management to condition reversal, all while engaging users daily in building and sustaining healthy habits and behaviors. A global leader in health and wellbeing, Virgin Pulse is committed to helping change lives and businesses around the world for good so that people and organizations can thrive, together. Today, more than 3100 organizations across the globe are using Virgin Pulse’s solutions to improve health, employee wellbeing and engagement, reduce costs and create strong workplace cultures.\\n\\nWho are our employees?\\nAt Virgin Pulse we’re passionate about changing lives for good. We want to make a difference in the world by helping people be healthy so they can perform at their best, every day, at work and home. Our award-winning solutions support leading employers in improving and simplifying the employee health and wellbeing journey and engaging people in all aspects of their health. But our world-class products and programs are nothing without our people – the employees who design, build, promote, sell, test and perfect the latest innovations in workplace health and wellbeing. Our people are our top priority and we invest in their health and happiness. At Virgin Pulse, we have so much more than a strong, supportive company culture – have a shared vision for a healthier, happier world.\\nWho you are.\\nYou are an experienced Data Scientist who is capable of providing support to our organization’s efforts to maintain an innovative leadership position in the employee engagement SaaS industry. The Data Scientist accesses datasets from various sources, conducts analysis, and presents the findings of each analytic and reporting project. The incumbent will be able to interpret the findings and clearly communicate results and recommendations to internal and external customers. Moreover, you are a professional who is self-directed and thrives working in a fast-paced, collaborative environment, in which expectations are high both for the quality and speed of work.\\nIn the role of a Data Scientist you will wear many hats and your skills will be crucial in the following:\\nWrite SQL, R, Python programs to access, clean, and transform required data prior to analysis and reporting\\nConsult to and collaborate with analytics and client reporting team members to ensure appropriate data is analyzed and that results are provided in a format consistent with standard and customized client reporting services\\nTroubleshoot and perform data audits to ensure and improve data integrity; investigate and resolve data discrepancies\\nPlan and manage data analytic and reporting process to ensure the projects remain on schedule\\nConduct ad hoc analysis as required using varied analytical tools and techniques\\nSupport Client Success, sales and Marketing staff with direct communication with Virgin Pulse clients and prospects regarding the results of the analysis\\nAchieve annual Key Performance Indicator objectives, which can include report volumes and scope, internal and external client satisfaction, introducing new areas of data and analysis, and influencing company product and process decisions\\n\\nWhat you bring to the team.\\nIn order to represent the best of what we have to offer, you come to us with a multitude of positive attributes including:\\nA bachelor’s degree in statistics, computer science, economics, or related field; Master’s degree is a plus\\nA minimum of four years of work experience in a similar position\\nExperience with data and analytic programming languages such as SQL, R, Python\\nExperience with data visualization tools and techniques preferred\\nExperience with producing and delivering results using varied media (i.e., multiple MS office formats, dashboards/visualization tools, and potentially other formats)\\nExperience in employee health management/health engagement industry preferred\\n\\nIn addition, you possess the following additional competencies and characteristics:\\nStrong analytical skills, with an emphasis on quantitative analysis, descriptive and inferential statistics\\nExpertise in statistical analytical software, or the ability to learn through prior experience tools such as SAS, Stata, R, SPSS or similar statistical software\\nStrong consulting, communication and presentation skills\\nAdvanced R, SQL and database programming skills, experience with MS SQL Server, RedShift, Postgres, and Cassandra/NOSQL databases\\nExperience working with large-scale datasets and multiple projects simultaneously\\nCreative energy, self-starter, works equally well independently and collaboratively']\n",
    "\n",
    "sentence_tokens = [sent_tokenize(listing) for listing in job_listings]\n",
    "\n",
    "for id_, doc in enumerate(sentence_tokens): \n",
    "    print(f\"Job Listing #{id_+1}\",\n",
    "          \"----\"*10,\n",
    "          f\"This listings has {len(doc)} sentences\",\n",
    "          doc[:3], sep=\"\\n\")"
   ]
  },
  {
   "cell_type": "code",
   "execution_count": 23,
   "metadata": {},
   "outputs": [
    {
     "name": "stdout",
     "output_type": "stream",
     "text": [
      "Words of Job Listing 1\n",
      "------------------------------\n",
      "['Part-time', ',', 'Contract', ',', 'Internship', 'Sr.', 'Machine', 'Learning/Data', 'Scientist', 'data245', ',', 'Bannockburn', ',', 'IL', 'seeks', 'data', 'scientists', '.', 'We', 'are']\n"
     ]
    }
   ],
   "source": [
    "from nltk.tokenize import word_tokenize # Word Tokenizer\n",
    "\n",
    "word_tokens = word_tokenize(job_listings[0])\n",
    "print(\"Words of Job Listing 1\",\n",
    "      \"---\"*10,\n",
    "      word_tokens[:20], sep=\"\\n\")"
   ]
  },
  {
   "cell_type": "markdown",
   "metadata": {},
   "source": [
    "Note the period kept in `'Sr.'` while `','` is split to its own token"
   ]
  },
  {
   "cell_type": "markdown",
   "metadata": {
    "colab_type": "text",
    "id": "AcSj8-KeXlum"
   },
   "source": [
    "### Remove words with non alphabetic characters"
   ]
  },
  {
   "cell_type": "code",
   "execution_count": 24,
   "metadata": {
    "colab": {
     "base_uri": "https://localhost:8080/",
     "height": 55
    },
    "colab_type": "code",
    "id": "ItvgN3hfVNRQ",
    "outputId": "ebc6600b-d15c-4169-b488-efc9f9657b4a"
   },
   "outputs": [
    {
     "name": "stdout",
     "output_type": "stream",
     "text": [
      "Alphabetic Words of Job Listing 2\n",
      "------------------------------\n",
      "['Minneapolis', 'Providence', 'or', 'Framingham', 'Who', 'is', 'Virgin', 'Pulse', 'Virgin', 'Pulse', 'founded', 'as', 'part', 'of', 'Sir', 'Richard', 'Branson', 's', 'famed', 'Virgin']\n"
     ]
    }
   ],
   "source": [
    "tokens = word_tokenize(job_listings[2])\n",
    "words = [word for word in tokens if word.isalpha()]\n",
    "print(\"Alphabetic Words of Job Listing 2\",\n",
    "      \"---\"*10, words[:20], sep=\"\\n\")"
   ]
  },
  {
   "cell_type": "markdown",
   "metadata": {
    "colab_type": "text",
    "id": "GoVEJg79VfHI"
   },
   "source": [
    "### Removing Stopwords"
   ]
  },
  {
   "cell_type": "code",
   "execution_count": 31,
   "metadata": {
    "colab": {
     "base_uri": "https://localhost:8080/",
     "height": 89
    },
    "colab_type": "code",
    "id": "MFfPoloEVjBX",
    "outputId": "2c504e2a-4506-4d21-d506-d472c1fe09fe"
   },
   "outputs": [
    {
     "data": {
      "text/plain": [
       "['i', 'me', 'my', 'myself', 'we', 'our', 'ours', 'ourselves', 'you', \"you're\"]"
      ]
     },
     "execution_count": 31,
     "metadata": {},
     "output_type": "execute_result"
    }
   ],
   "source": [
    "from nltk.corpus import stopwords\n",
    "\n",
    "stop_words = stopwords.words('english')\n",
    "\n",
    "stop_words[0:10]"
   ]
  },
  {
   "cell_type": "code",
   "execution_count": 32,
   "metadata": {
    "colab": {
     "base_uri": "https://localhost:8080/",
     "height": 89
    },
    "colab_type": "code",
    "id": "MFfPoloEVjBX",
    "outputId": "2c504e2a-4506-4d21-d506-d472c1fe09fe",
    "scrolled": true
   },
   "outputs": [
    {
     "name": "stdout",
     "output_type": "stream",
     "text": [
      "Job Listing without Stopwords\n",
      "------------------------------\n",
      "['Minneapolis', 'Providence', 'Framingham', 'Who', 'Virgin', 'Pulse', 'Virgin', 'Pulse', 'founded', 'part', 'Sir', 'Richard', 'Branson', 'famed', 'Virgin', 'Group', 'helps', 'organizations', 'build', 'employee']\n"
     ]
    }
   ],
   "source": [
    "stop_words = set(stop_words)\n",
    "\n",
    "words = [w for w in words if not w in stop_words]\n",
    "print(\"Job Listing without Stopwords\",\n",
    "      \"---\"*10, words[:20], sep=\"\\n\")"
   ]
  },
  {
   "cell_type": "markdown",
   "metadata": {
    "colab_type": "text",
    "id": "-RsL6LpiVxRh"
   },
   "source": [
    "### Putting it all together "
   ]
  },
  {
   "cell_type": "code",
   "execution_count": 34,
   "metadata": {
    "colab": {
     "base_uri": "https://localhost:8080/",
     "height": 349
    },
    "colab_type": "code",
    "id": "TROTHo_8VvLi",
    "outputId": "012d2dea-228a-4204-93d9-8b5b3acb9a95"
   },
   "outputs": [
    {
     "name": "stdout",
     "output_type": "stream",
     "text": [
      "Job Listing 1\n",
      "Tokens: ['Part-time', ',', 'Contract', ',', 'Internship', 'Sr.', 'Machine', 'Learning/Data', 'Scientist', 'data245']\n",
      "No Punctuation: ['parttime', '', 'contract', '', 'internship', 'sr', 'machine', 'learningdata', 'scientist', 'data245']\n",
      "Alphabetic: ['parttime', 'contract', 'internship', 'sr', 'machine', 'learningdata', 'scientist', 'bannockburn', 'il', 'seeks']\n",
      "Cleaned Words: ['parttime', 'contract', 'internship', 'sr', 'machine', 'learningdata', 'scientist', 'bannockburn', 'il', 'seeks']\n",
      "--------------------------------\n",
      "Job Listing 2\n",
      "Tokens: ['$', '96,970', '-', '$', '148,967', 'a', 'year', 'The', 'professionals', 'at']\n",
      "No Punctuation: ['', '96970', '', '', '148967', 'a', 'year', 'the', 'professionals', 'at']\n",
      "Alphabetic: ['a', 'year', 'the', 'professionals', 'at', 'the', 'national', 'security', 'agency', 'nsa']\n",
      "Cleaned Words: ['year', 'professionals', 'national', 'security', 'agency', 'nsa', 'one', 'common', 'goal', 'protect']\n",
      "--------------------------------\n",
      "Job Listing 3\n",
      "Tokens: ['Minneapolis', ',', 'Providence', 'or', 'Framingham', 'Who', 'is', 'Virgin', 'Pulse', '?']\n",
      "No Punctuation: ['minneapolis', '', 'providence', 'or', 'framingham', 'who', 'is', 'virgin', 'pulse', '']\n",
      "Alphabetic: ['minneapolis', 'providence', 'or', 'framingham', 'who', 'is', 'virgin', 'pulse', 'virgin', 'pulse']\n",
      "Cleaned Words: ['minneapolis', 'providence', 'framingham', 'virgin', 'pulse', 'virgin', 'pulse', 'founded', 'part', 'sir']\n",
      "--------------------------------\n"
     ]
    }
   ],
   "source": [
    "import string\n",
    "table = str.maketrans('','', string.punctuation)\n",
    "stop_words = set(stopwords.words('english'))\n",
    "\n",
    "cleaned_listings = []\n",
    "\n",
    "for i, listing in enumerate(job_listings):\n",
    "    print(f\"Job Listing {i+1}\")\n",
    "    # Tokenize by word\n",
    "    tokens = word_tokenize(listing)\n",
    "    print(\"Tokens:\", tokens[:10])\n",
    "    # Make all words lowercase\n",
    "    lowercase_tokens = [w.lower() for w in tokens]\n",
    "    # Strip punctuation from within words\n",
    "    no_punctuation = [x.translate(table) for x in lowercase_tokens]\n",
    "    print(\"No Punctuation:\", no_punctuation[:10])\n",
    "    # Remove words that aren't alphabetic\n",
    "    alphabetic = [word for word in no_punctuation if word.isalpha()]\n",
    "    print(\"Alphabetic:\", alphabetic[:10])\n",
    "    # Remove stopwords\n",
    "    words = [w for w in alphabetic if not w in stop_words]\n",
    "    print(\"Cleaned Words:\", words[:10])\n",
    "    print(\"--------------------------------\")\n",
    "    # Append to list\n",
    "    cleaned_listings.append(words)"
   ]
  },
  {
   "cell_type": "markdown",
   "metadata": {
    "colab_type": "text",
    "id": "fDEsAs7qcg_U"
   },
   "source": [
    "# Lexicon Normalization\n",
    "\n",
    "## Stemming\n",
    "\n",
    "Stemming reduces words down to their root word or chops off letters corresponding to certain derivations (prefixes and suffixes).\n",
    "\n",
    "\"connection\", \"connected\", \"connecting\" -> \"connect\"\n",
    "\n",
    "but also\n",
    "\n",
    "\"machine\" -> \"machin\" ... it's not perfect"
   ]
  },
  {
   "cell_type": "code",
   "execution_count": 35,
   "metadata": {
    "colab": {
     "base_uri": "https://localhost:8080/",
     "height": 55
    },
    "colab_type": "code",
    "id": "bttr9DCFcvSn",
    "outputId": "ee1f9fec-1d61-46f6-ec0f-4033a4cf131b"
   },
   "outputs": [
    {
     "name": "stdout",
     "output_type": "stream",
     "text": [
      "['parttim', 'contract', 'internship', 'sr', 'machin', 'learningdata', 'scientist', 'bannockburn', 'il', 'seek', 'data', 'scientist', 'open', 'level', 'experi', 'intern', 'build', 'team', 'around', 'new', 'initi', 'develop', 'state', 'art', 'algorithm', 'power', 'variou', 'aspect', 'highli', 'complex', 'busi', 'model', 'articul', 'understand', 'busi', 'problem', 'identifi', 'challeng', 'formul', 'machin', 'learn', 'problem', 'nlp', 'problem', 'provideprototyp', 'solut', 'provid', 'technic', 'leadership', 'identifi', 'understand', 'key', 'busi', 'challeng', 'opportun', 'develop', 'endtoend', 'softwar', 'solut', 'use', 'machin', 'learningnlp', 'optim', 'method', 'collabor', 'extens', 'intern', 'extern', 'partner', 'program', 'manag', 'senior', 'level', 'engin', 'team', 'ensur', 'solut', 'meet', 'busi', 'need', 'permit', 'valid', 'infer', 'function', 'feasibl', 'collect', 'manipul', 'larg', 'volum', 'data', 'build', 'new', 'improv', 'techniqu', 'andor', 'solut', 'data', 'collect', 'manag', 'usag']\n"
     ]
    }
   ],
   "source": [
    "from nltk.stem.porter import PorterStemmer\n",
    "stemmer = PorterStemmer()\n",
    "\n",
    "stemmed_listings = []\n",
    "\n",
    "for listing in cleaned_listings:\n",
    "    stemmed = [stemmer.stem(word) for word in listing]\n",
    "    stemmed_listings.append(stemmed)\n",
    "  \n",
    "print(stemmed_listings[0][:100])"
   ]
  },
  {
   "cell_type": "markdown",
   "metadata": {
    "colab_type": "text",
    "id": "KLQKCrHhcarp"
   },
   "source": [
    "## Lemmatization\n",
    "\n",
    "Lemmatization reduces words to their base word or **lemma**. This does not happen by simply scanning for prefixes and suffixes and overwriting with the base derivation, but by taking whole sets of words and mapping them to some base concept (via a dictionary).\n",
    "\n",
    "This can be considerably slower than stemming."
   ]
  },
  {
   "cell_type": "code",
   "execution_count": 39,
   "metadata": {
    "colab": {
     "base_uri": "https://localhost:8080/",
     "height": 52
    },
    "colab_type": "code",
    "id": "bCv620SJfUgD",
    "outputId": "f2edd255-9a18-4f72-e9a4-0242b59416db"
   },
   "outputs": [
    {
     "name": "stdout",
     "output_type": "stream",
     "text": [
      "[nltk_data] Downloading package wordnet to\n",
      "[nltk_data]     C:\\Users\\City_Year\\AppData\\Roaming\\nltk_data...\n",
      "[nltk_data]   Unzipping corpora\\wordnet.zip.\n"
     ]
    }
   ],
   "source": [
    "nltk.download('wordnet')\n",
    "from nltk.stem.wordnet import WordNetLemmatizer"
   ]
  },
  {
   "cell_type": "code",
   "execution_count": 41,
   "metadata": {
    "colab": {
     "base_uri": "https://localhost:8080/",
     "height": 55
    },
    "colab_type": "code",
    "id": "FYDranMwdYrL",
    "outputId": "9fc20a44-196e-46b8-91ac-e6ee71e2da0f"
   },
   "outputs": [
    {
     "name": "stdout",
     "output_type": "stream",
     "text": [
      "3\n",
      "['parttime', 'contract', 'internship', 'sr', 'machine', 'learningdata', 'scientist', 'bannockburn', 'il', 'seek', 'data', 'scientist', 'open', 'level', 'experience', 'intern', 'building', 'team', 'around', 'new', 'initiative', 'developing', 'state', 'art', 'algorithm', 'power', 'various', 'aspect', 'highly', 'complex', 'business', 'model', 'articulate', 'understand', 'business', 'problem', 'identify', 'challenge', 'formulate', 'machine', 'learning', 'problem', 'nlp', 'problem', 'provideprototype', 'solution', 'provide', 'technical', 'leadership', 'identify', 'understand', 'key', 'business', 'challenge', 'opportunity', 'develop', 'endtoend', 'software', 'solution', 'using', 'machine', 'learningnlp', 'optimization', 'method', 'collaborate', 'extensively', 'internal', 'external', 'partner', 'program', 'management', 'senior', 'level', 'engineering', 'team', 'ensure', 'solution', 'meet', 'business', 'need', 'permit', 'valid', 'inference', 'functional', 'feasibility', 'collect', 'manipulate', 'large', 'volume', 'data', 'build', 'new', 'improved', 'technique', 'andor', 'solution', 'data', 'collection', 'management', 'usage']\n"
     ]
    }
   ],
   "source": [
    "lemmatizer = WordNetLemmatizer()\n",
    "\n",
    "lemmatized_listings = []\n",
    "\n",
    "for listing in cleaned_listings:\n",
    "    lemmas = [lemmatizer.lemmatize(word) for word in listing]\n",
    "    lemmatized_listings.append(lemmas)\n",
    "  \n",
    "print(len(lemmatized_listings), \n",
    "      lemmatized_listings[0][:100], sep=\"\\n\")"
   ]
  },
  {
   "cell_type": "markdown",
   "metadata": {
    "colab_type": "text",
    "id": "Dd65F3WSeYwr"
   },
   "source": [
    "# Bag-of-Words\n",
    "\n",
    "When preparing text for a machine learning model we can't just pass the algorithm a list of cleaned tokens, we need to do a little bit more with them to prepare them for use by algorithms. Bag-of-Words is a method that describes the occurence of words within a document. \n",
    "\n",
    "The name \"Bag-of-Words\" comes from the fact that through this processing method any information about the order or structure of the words is discarded and only word frequency within a document is retained. Imagine putting a bunch of these refridgerator magnets in a bag and shaking it up: That's BoW.\n",
    "\n",
    "<image src=\"https://www.badgerdesign.com/wp-content/uploads/2016/05/magnet_word_set.jpg\"></image>"
   ]
  },
  {
   "cell_type": "markdown",
   "metadata": {
    "colab_type": "text",
    "id": "MSS1O74erCEc"
   },
   "source": [
    "## Visualizing Word Counts"
   ]
  },
  {
   "cell_type": "code",
   "execution_count": 44,
   "metadata": {
    "colab": {
     "base_uri": "https://localhost:8080/",
     "height": 381
    },
    "colab_type": "code",
    "id": "L6f542WvrIsS",
    "outputId": "b568ec70-4d87-4036-d913-6d2d991e2531"
   },
   "outputs": [
    {
     "name": "stdout",
     "output_type": "stream",
     "text": [
      "<FreqDist with 207 samples and 287 outcomes>\n"
     ]
    },
    {
     "data": {
      "text/plain": [
       "[('machine', 8),\n",
       " ('experience', 8),\n",
       " ('learning', 8),\n",
       " ('data', 6),\n",
       " ('solution', 5),\n",
       " ('team', 4),\n",
       " ('business', 4),\n",
       " ('year', 4),\n",
       " ('contract', 3),\n",
       " ('scientist', 3),\n",
       " ('level', 3),\n",
       " ('problem', 3),\n",
       " ('nlp', 3),\n",
       " ('management', 3),\n",
       " ('industry', 3),\n",
       " ('understanding', 3),\n",
       " ('deep', 3),\n",
       " ('parttime', 2),\n",
       " ('internship', 2),\n",
       " ('new', 2)]"
      ]
     },
     "execution_count": 44,
     "metadata": {},
     "output_type": "execute_result"
    }
   ],
   "source": [
    "from nltk.probability import FreqDist\n",
    "\n",
    "fdist = FreqDist(lemmatized_listings[0])\n",
    "print(fdist)\n",
    "\n",
    "fdist.most_common(20)"
   ]
  },
  {
   "cell_type": "code",
   "execution_count": 46,
   "metadata": {
    "colab": {
     "base_uri": "https://localhost:8080/",
     "height": 415
    },
    "colab_type": "code",
    "id": "XR83qeFhriBx",
    "outputId": "aa6b728f-7975-4d97-8876-9394c6254070"
   },
   "outputs": [
    {
     "data": {
      "image/png": "[encoded data removed]",
      "text/plain": [
       "<Figure size 432x288 with 1 Axes>"
      ]
     },
     "metadata": {
      "needs_background": "light"
     },
     "output_type": "display_data"
    }
   ],
   "source": [
    "import matplotlib.pyplot as plt\n",
    "fdist.plot(30, cumulative=False)\n",
    "plt.show()"
   ]
  },
  {
   "cell_type": "markdown",
   "metadata": {
    "colab_type": "text",
    "id": "FAiRgblWru3w"
   },
   "source": [
    "### What if I wanted to look at term frequency for multiple documents?"
   ]
  },
  {
   "cell_type": "code",
   "execution_count": 47,
   "metadata": {
    "colab": {
     "base_uri": "https://localhost:8080/",
     "height": 55
    },
    "colab_type": "code",
    "id": "IaPpEMc8ruNz",
    "outputId": "c2aa45ae-5e98-4de5-a8df-e2341f5755b1"
   },
   "outputs": [
    {
     "name": "stdout",
     "output_type": "stream",
     "text": [
      "2157 ['parttime', 'contract', 'internship', 'sr', 'machine', 'learningdata', 'scientist', 'bannockburn', 'il', 'seek', 'data', 'scientist', 'open', 'level', 'experience', 'intern', 'building', 'team', 'around', 'new', 'initiative', 'developing', 'state', 'art', 'algorithm', 'power', 'various', 'aspect', 'highly', 'complex', 'business', 'model', 'articulate', 'understand', 'business', 'problem', 'identify', 'challenge', 'formulate', 'machine', 'learning', 'problem', 'nlp', 'problem', 'provideprototype', 'solution', 'provide', 'technical', 'leadership', 'identify', 'understand', 'key', 'business', 'challenge', 'opportunity', 'develop', 'endtoend', 'software', 'solution', 'using', 'machine', 'learningnlp', 'optimization', 'method', 'collaborate', 'extensively', 'internal', 'external', 'partner', 'program', 'management', 'senior', 'level', 'engineering', 'team', 'ensure', 'solution', 'meet', 'business', 'need', 'permit', 'valid', 'inference', 'functional', 'feasibility', 'collect', 'manipulate', 'large', 'volume', 'data', 'build', 'new', 'improved', 'technique', 'andor', 'solution', 'data', 'collection', 'management', 'usage', 'communicate', 'result', 'comprehensible', 'manner', 'level', 'company', 'field', 'team', 'snr', 'management', 'require', 'client', 'facing', 'future', 'initially', 'brainstorm', 'team', 'member', 'leadership', 'plus', 'year', 'experience', 'industry', 'requires', 'solution', 'requirement', 'phd', 'm', 'statistic', 'machine', 'learning', 'computer', 'science', 'technical', 'degree', 'commensurate', 'industry', 'experience', 'ideally', 'senior', 'position', 'posse', 'least', 'year', 'relevant', 'work', 'academic', 'academic', 'experience', 'data', 'scientist', 'machine', 'learning', 'professional', 'expertise', 'nlp', 'bonus', 'strong', 'algorithmic', 'design', 'skill', 'position', 'require', 'le', 'tenure', 'relevant', 'ml', 'understanding', 'previous', 'hand', 'experience', 'thesis', 'dedicated', 'deep', 'understanding', 'classic', 'machine', 'learning', 'deep', 'learning', 'theory', 'extensive', 'handson', 'experience', 'putting', 'practice', 'excellent', 'understanding', 'machine', 'learning', 'algorithm', 'process', 'tool', 'platform', 'including', 'cnn', 'rnn', 'nlp', 'tensorflow', 'kera', 'etc', 'python', 'proficiency', 'must', 'applied', 'experience', 'machine', 'learning', 'large', 'datasetssparse', 'data', 'structured', 'unstructured', 'data', 'experience', 'deep', 'learning', 'optimization', 'efficient', 'implementation', 'great', 'communication', 'skill', 'ability', 'explain', 'predictive', 'analytics', 'nontechnical', 'audience', 'client', 'facing', 'yet', 'sale', 'experienced', 'predictive', 'modelling', 'execute', 'analytical', 'experiment', 'methodically', 'outputting', 'reproducible', 'research', 'excited', 'change', 'industry', 'struggling', 'control', 'cost', 'good', 'familiar', 'one', 'programming', 'language', 'eg', 'c', 'java', 'android', 'io', 'job', 'type', 'fulltime', 'parttime', 'internship', 'contract', 'salary', 'year', 'education', 'master', 'preferred', 'work', 'authorization', 'united', 'state', 'preferred', 'hour', 'per', 'week', 'overtime', 'often', 'available', 'contract', 'length', 'year', 'typical', 'end', 'time', 'year', 'professional', 'national', 'security', 'agency', 'nsa', 'one', 'common', 'goal', 'protect', 'nation', 'mission', 'requires', 'strong', 'offense', 'steadfast', 'defense', 'offense', 'collect', 'process', 'disseminates', 'intelligence', 'information', 'derived', 'foreign', 'signal', 'intelligence', 'counterintelligence', 'purpose', 'defense', 'prevents', 'adversary', 'gaining', 'access', 'sensitive', 'classified', 'national', 'security', 'information', 'nsa', 'nation', 'leader', 'providing', 'foreign', 'signal', 'intelligence', 'also', 'protecting', 'u', 'government', 'information', 'system', 'forging', 'frontier', 'communication', 'data', 'analysis', 'serve', 'american', 'people', 'applying', 'technical', 'skill', 'meaningful', 'work', 'keeping', 'friend', 'family', 'safe', 'generation', 'come', 'make', 'lasting', 'impact', 'serving', 'country', 'data', 'scientist', 'national', 'security', 'agency', 'using', 'curiosity', 'analyze', 'large', 'data', 'set', 'inform', 'decisionmaking', 'foreign', 'threat', 'looking', 'critical', 'thinker', 'problem', 'solver', 'motivated', 'individual', 'enthusiastic', 'data', 'believe', 'answer', 'hard', 'question', 'lie', 'yettobetold', 'story', 'diverse', 'complicated', 'data', 'set', 'employ', 'mathematical', 'science', 'computer', 'science', 'quantitative', 'analysis', 'skill', 'ensure', 'solution', 'complex', 'data', 'problem', 'take', 'full', 'advantage', 'nsa', 'software', 'hardware', 'capability', 'area', 'enterprise', 'including', 'analytic', 'capability', 'research', 'foreign', 'intelligence', 'operation', 'data', 'scientist', 'hired', 'position', 'directly', 'supporting', 'technical', 'mission', 'office', 'data', 'scientist', 'development', 'program', 'dsdp', 'nsacss', 'data', 'scientist', 'development', 'program', 'threeyear', 'opportunity', 'build', 'data', 'science', 'talent', 'experience', 'breadth', 'data', 'science', 'nsa', 'six', 'ninemonth', 'assignment', 'variety', 'diverse', 'organization', 'collaborate', 'nsa', 'expert', 'field', 'data', 'science', 'opportunity', 'attend', 'technical', 'conference', 'expert', 'industry', 'academia', 'routinely', 'discus', 'share', 'nsa', 'challenge', 'success', 'weekly', 'technical', 'roundtable', 'foster', 'environment', 'develop', 'data', 'science', 'skill', 'allowing', 'quickly', 'contribute', 'nsa', 'mission', 'member', 'technical', 'mission', 'office', 'dsdp', 'data', 'scientist', 'tackle', 'challenging', 'realworld', 'problem', 'leveraging', 'big', 'data', 'highperformance', 'computing', 'machine', 'learning', 'breadth', 'methodology', 'data', 'scientist', 'nsa', 'responsibility', 'may', 'include', 'collecting', 'combining', 'data', 'multiple', 'source', 'uncovering', 'exploring', 'anomalous', 'data', 'including', 'metadata', 'applying', 'scientific', 'process', 'data', 'evaluation', 'performing', 'statistical', 'inference', 'data', 'mining', 'developing', 'analytic', 'plan', 'engineer', 'supporting', 'algorithm', 'design', 'implement', 'solution', 'execute', 'analytic', 'plan', 'designing', 'developing', 'tool', 'technique', 'analysis', 'analyzing', 'data', 'using', 'mathematicalstatistical', 'method', 'evaluating', 'documenting', 'communicating', 'research', 'process', 'analysis', 'result', 'customer', 'peer', 'leadership', 'creating', 'interpretable', 'visualization', 'skill', 'ideal', 'candidate', 'someone', 'desire', 'continual', 'learning', 'strong', 'problemsolving', 'analytic', 'interpersonal', 'skill', 'might', 'great', 'fit', 'team', 'following', 'describe', 'completed', 'degree', 'program', 'field', 'mathematics', 'statistic', 'computer', 'science', 'computational', 'science', 'passion', 'rigorous', 'analysis', 'data', 'tenacity', 'integrity', 'persistence', 'willingness', 'learn', 'ability', 'solve', 'complex', 'problem', 'use', 'critical', 'thinking', 'reasoning', 'make', 'analytic', 'determination', 'work', 'effectively', 'collaborative', 'environment', 'strong', 'communication', 'skill', 'technical', 'nontechnical', 'audience', 'desire', 'serve', 'million', 'fellow', 'american', 'make', 'difference', 'world', 'event', 'pay', 'benefit', 'work', 'schedule', 'job', 'training', 'internal', 'nsa', 'course', 'external', 'training', 'made', 'available', 'based', 'need', 'experience', 'selectee', 'monday', 'friday', 'basic', 'hrday', 'requirement', 'flexible', 'position', 'summary', 'nsa', 'search', 'computer', 'science', 'professional', 'solve', 'complex', 'problem', 'test', 'innovative', 'approach', 'research', 'new', 'solution', 'storing', 'manipulating', 'presenting', 'information', 'looking', 'apply', 'computer', 'science', 'expertise', 'project', 'seek', 'create', 'new', 'standard', 'transformation', 'information', 'want', 'develop', 'technology', 'tool', 'part', 'cutting', 'edge', 'innovation', 'join', 'team', 'expert', 'help', 'protect', 'national', 'security', 'interest', 'part', 'world', 'advanced', 'team', 'computer', 'science', 'professional', 'mandatory', 'qualification', 'reqs', 'candidate', 'nsa', 'data', 'scientist', 'role', 'asked', 'complete', 'data', 'science', 'examination', 'evaluating', 'knowledge', 'statistic', 'mathematics', 'computer', 'science', 'topic', 'pertain', 'data', 'science', 'work', 'passing', 'examination', 'requirement', 'order', 'considered', 'selection', 'data', 'scientist', 'position', 'salary', 'range', 'entry', 'leveldevelopmental', 'qualification', 'listed', 'minimum', 'acceptable', 'considered', 'position', 'salary', 'offer', 'based', 'candidate', 'education', 'level', 'year', 'experience', 'relevant', 'position', 'also', 'take', 'account', 'information', 'provided', 'hiring', 'managerorganization', 'regarding', 'work', 'level', 'position', 'entry', 'bachelor', 'degree', 'experience', 'associate', 'degree', 'plus', 'year', 'relevant', 'experience', 'may', 'considered', 'individual', 'indepth', 'experience', 'clearly', 'related', 'position', 'degree', 'must', 'mathematics', 'applied', 'mathematics', 'statistic', 'applied', 'statistic', 'machine', 'learning', 'data', 'science', 'operation', 'research', 'computer', 'science', 'degree', 'related', 'field', 'eg', 'computer', 'information', 'system', 'engineering', 'degree', 'physicalhard', 'science', 'eg', 'physic', 'chemistry', 'biology', 'astronomy', 'science', 'discipline', 'ie', 'behavioral', 'social', 'life', 'may', 'considered', 'includes', 'concentration', 'coursework', 'typically', 'course', 'advanced', 'mathematics', 'typically', 'level', 'higher', 'calculus', 'differential', 'equation', 'discrete', 'mathematics', 'andor', 'computer', 'science', 'eg', 'algorithm', 'programming', 'data', 'structure', 'data', 'mining', 'artificial', 'intelligence', 'collegelevel', 'algebra', 'math', 'course', 'intended', 'meet', 'basic', 'college', 'level', 'requirement', 'upper', 'level', 'math', 'course', 'designated', 'elementary', 'basic', 'count', 'note', 'broader', 'range', 'degree', 'considered', 'accompanied', 'certificate', 'data', 'science', 'accredited', 'collegeuniversity', 'relevant', 'experience', 'must', 'designingimplementing', 'machine', 'learning', 'data', 'mining', 'advanced', 'analytical', 'algorithm', 'programming', 'data', 'science', 'advanced', 'statistical', 'analysis', 'artificial', 'intelligence', 'andor', 'software', 'engineering', 'experience', 'one', 'area', 'strongly', 'preferred', 'salary', 'range', 'full', 'performance', 'qualification', 'listed', 'minimum', 'acceptable', 'considered', 'position', 'salary', 'offer', 'based', 'candidate', 'education', 'level', 'year', 'experience', 'relevant', 'position', 'also', 'take', 'account', 'information', 'provided', 'hiring', 'managerorganization', 'regarding', 'work', 'level', 'position', 'entry', 'bachelor', 'degree', 'plus', 'year', 'relevant', 'experience', 'master', 'degree', 'plus', 'year', 'relevant', 'experience', 'doctoral', 'degree', 'experience', 'associate', 'degree', 'plus', 'year', 'relevant', 'experience', 'may', 'considered', 'individual', 'indepth', 'experience', 'clearly', 'related', 'position', 'degree', 'must', 'mathematics', 'applied', 'mathematics', 'statistic', 'applied', 'statistic', 'machine', 'learning', 'data', 'science', 'operation', 'research', 'computer', 'science', 'degree', 'related', 'field', 'eg', 'computer', 'information', 'system', 'engineering', 'degree', 'physicalhard', 'science', 'eg', 'physic', 'chemistry', 'biology', 'astronomy', 'science', 'discipline', 'ie', 'behavioral', 'social', 'life', 'may', 'considered', 'includes', 'concentration', 'coursework', 'typically', 'course', 'advanced', 'mathematics', 'typically', 'level', 'higher', 'calculus', 'differential', 'equation', 'discrete', 'mathematics', 'andor', 'computer', 'science', 'eg', 'algorithm', 'programming', 'data', 'structure', 'data', 'mining', 'artificial', 'intelligence', 'collegelevel', 'algebra', 'math', 'course', 'intended', 'meet', 'basic', 'college', 'level', 'requirement', 'upper', 'level', 'math', 'course', 'designated', 'elementary', 'basic', 'count', 'note', 'broader', 'range', 'degree', 'considered', 'accompanied', 'certificate', 'data', 'science', 'accredited', 'collegeuniversity', 'relevant', 'experience', 'must', 'two', 'following', 'designingimplementing', 'machine', 'learning', 'data', 'mining', 'advanced', 'analytical', 'algorithm', 'programming', 'data', 'science', 'advanced', 'statistical', 'analysis', 'artificial', 'intelligence', 'software', 'engineering', 'salary', 'range', 'senior', 'qualification', 'listed', 'minimum', 'acceptable', 'considered', 'position', 'salary', 'offer', 'based', 'candidate', 'education', 'level', 'year', 'experience', 'relevant', 'position', 'also', 'take', 'account', 'information', 'provided', 'hiring', 'managerorganization', 'regarding', 'work', 'level', 'position', 'entry', 'bachelor', 'degree', 'plus', 'year', 'relevant', 'experience', 'master', 'degree', 'plus', 'year', 'relevant', 'experience', 'doctoral', 'degree', 'plus', 'year', 'relevant', 'experience', 'associate', 'degree', 'plus', 'year', 'relevant', 'experience', 'may', 'considered', 'individual', 'indepth', 'experience', 'clearly', 'related', 'position', 'degree', 'must', 'mathematics', 'applied', 'mathematics', 'statistic', 'applied', 'statistic', 'machine', 'learning', 'data', 'science', 'operation', 'research', 'computer', 'science', 'degree', 'related', 'field', 'eg', 'computer', 'information', 'system', 'engineering', 'degree', 'physicalhard', 'science', 'eg', 'physic', 'chemistry', 'biology', 'astronomy', 'science', 'discipline', 'ie', 'behavioral', 'social', 'life', 'may', 'considered', 'includes', 'concentration', 'coursework', 'typically', 'course', 'advanced', 'mathematics', 'typically', 'level', 'higher', 'calculus', 'differential', 'equation', 'discrete', 'mathematics', 'andor', 'computer', 'science', 'eg', 'algorithm', 'programming', 'data', 'structure', 'data', 'mining', 'artificial', 'intelligence', 'collegelevel', 'algebra', 'math', 'course', 'intended', 'meet', 'basic', 'college', 'level', 'requirement', 'upper', 'level', 'math', 'course', 'designated', 'elementary', 'basic', 'count', 'note', 'broader', 'range', 'degree', 'considered', 'accompanied', 'certificate', 'data', 'science', 'accredited', 'collegeuniversity', 'relevant', 'experience', 'must', 'two', 'following', 'designingimplementing', 'machine', 'learning', 'data', 'mining', 'advanced', 'analytical', 'algorithm', 'programming', 'data', 'science', 'advanced', 'statistical', 'analysis', 'artificial', 'intelligence', 'software', 'engineering', 'salary', 'range', 'expert', 'qualification', 'listed', 'minimum', 'acceptable', 'considered', 'position', 'salary', 'offer', 'based', 'candidate', 'education', 'level', 'year', 'experience', 'relevant', 'position', 'also', 'take', 'account', 'information', 'provided', 'hiring', 'managerorganization', 'regarding', 'work', 'level', 'position', 'entry', 'bachelor', 'degree', 'plus', 'year', 'relevant', 'experience', 'master', 'degree', 'plus', 'year', 'relevant', 'experience', 'doctoral', 'degree', 'plus', 'year', 'relevant', 'experience', 'associate', 'degree', 'plus', 'year', 'relevant', 'experience', 'may', 'considered', 'individual', 'indepth', 'experience', 'clearly', 'related', 'position', 'degree', 'must', 'mathematics', 'applied', 'mathematics', 'statistic', 'applied', 'statistic', 'machine', 'learning', 'data', 'science', 'operation', 'research', 'computer', 'science', 'degree', 'related', 'field', 'eg', 'computer', 'information', 'system', 'engineering', 'degree', 'physicalhard', 'science', 'eg', 'physic', 'chemistry', 'biology', 'astronomy', 'science', 'discipline', 'ie', 'behavioral', 'social', 'life', 'may', 'considered', 'includes', 'concentration', 'coursework', 'typically', 'course', 'advanced', 'mathematics', 'typically', 'level', 'higher', 'calculus', 'differential', 'equation', 'discrete', 'mathematics', 'andor', 'computer', 'science', 'eg', 'algorithm', 'programming', 'data', 'structure', 'data', 'mining', 'artificial', 'intelligence', 'collegelevel', 'algebra', 'math', 'course', 'intended', 'meet', 'basic', 'college', 'level', 'requirement', 'upper', 'level', 'math', 'course', 'designated', 'elementary', 'basic', 'count', 'note', 'broader', 'range', 'degree', 'considered', 'accompanied', 'certificate', 'data', 'science', 'accredited', 'collegeuniversity', 'relevant', 'experience', 'must', 'two', 'following', 'designingimplementing', 'machine', 'learning', 'data', 'mining', 'advanced', 'analytical', 'algorithm', 'programming', 'data', 'science', 'advanced', 'statistical', 'analysis', 'artificial', 'intelligence', 'software', 'engineering', 'apply', 'external', 'apply', 'position', 'please', 'click', 'apply', 'button', 'located', 'top', 'right', 'posting', 'completing', 'application', 'first', 'time', 'reviewing', 'previously', 'entered', 'information', 'clicking', 'submit', 'button', 'receive', 'confirmation', 'email', 'please', 'ensure', 'spam', 'filter', 'configured', 'accept', 'email', 'noreply', 'intelligencecareersgov', 'please', 'note', 'u', 'citizenship', 'required', 'applicant', 'reasonable', 'accommodation', 'provided', 'applicant', 'disability', 'application', 'hiring', 'process', 'appropriate', 'nsa', 'equal', 'opportunity', 'employer', 'abides', 'applicable', 'employment', 'law', 'regulation', 'applicant', 'employee', 'subject', 'random', 'drug', 'testing', 'accordance', 'executive', 'order', 'employment', 'contingent', 'upon', 'successful', 'completion', 'security', 'background', 'investigation', 'polygraph', 'position', 'defense', 'civilian', 'intelligence', 'personnel', 'system', 'dcips', 'position', 'excepted', 'service', 'usc', 'dod', 'component', 'dcips', 'position', 'apply', 'veteran', 'preference', 'eligible', 'candidate', 'defined', 'section', 'title', 'usc', 'accordance', 'procedure', 'provided', 'dod', 'instruction', 'volume', 'dcips', 'employment', 'placement', 'veteran', 'claiming', 'veteran', 'preference', 'defined', 'section', 'title', 'usc', 'may', 'asked', 'submit', 'document', 'verifying', 'eligibility', 'please', 'note', 'may', 'asked', 'series', 'question', 'depending', 'position', 'apply', 'response', 'used', 'part', 'screening', 'process', 'application', 'assist', 'determining', 'eligibility', 'position', 'sure', 'elaborate', 'experience', 'resume', 'failure', 'provide', 'required', 'information', 'providing', 'inaccurate', 'information', 'result', 'application', 'considered', 'position', 'applicant', 'meet', 'qualification', 'position', 'contacted', 'begin', 'employment', 'processing', 'please', 'note', 'job', 'posting', 'could', 'close', 'earlier', 'closing', 'date', 'due', 'sufficient', 'number', 'applicant', 'position', 'longer', 'available', 'encourage', 'apply', 'soon', 'possible', 'dcips', 'disclaimer', 'national', 'security', 'agency', 'nsa', 'part', 'dod', 'intelligence', 'community', 'defense', 'civilian', 'intelligence', 'personnel', 'system', 'dcips', 'position', 'nsa', 'excepted', 'service', 'united', 'state', 'code', 'usc', 'appointment', 'authority', 'minneapolis', 'providence', 'framingham', 'virgin', 'pulse', 'virgin', 'pulse', 'founded', 'part', 'sir', 'richard', 'branson', 'famed', 'virgin', 'group', 'help', 'organization', 'build', 'employee', 'health', 'wellbeing', 'dna', 'corporate', 'culture', 'company', 'deliver', 'powerful', 'mobilefirst', 'digital', 'platform', 'infused', 'live', 'service', 'including', 'coaching', 'biometric', 'screening', 'virgin', 'pulse', 'take', 'hightechmeetshightouchapproach', 'engage', 'employee', 'improving', 'across', 'aspect', 'health', 'wellbeing', 'every', 'day', 'prevention', 'building', 'healthy', 'lifestyle', 'condition', 'disease', 'management', 'condition', 'reversal', 'engaging', 'user', 'daily', 'building', 'sustaining', 'healthy', 'habit', 'behavior', 'global', 'leader', 'health', 'wellbeing', 'virgin', 'pulse', 'committed', 'helping', 'change', 'life', 'business', 'around', 'world', 'good', 'people', 'organization', 'thrive', 'together', 'today', 'organization', 'across', 'globe', 'using', 'virgin', 'pulse', 'solution', 'improve', 'health', 'employee', 'wellbeing', 'engagement', 'reduce', 'cost', 'create', 'strong', 'workplace', 'culture', 'employee', 'virgin', 'pulse', 'passionate', 'changing', 'life', 'good', 'want', 'make', 'difference', 'world', 'helping', 'people', 'healthy', 'perform', 'best', 'every', 'day', 'work', 'home', 'awardwinning', 'solution', 'support', 'leading', 'employer', 'improving', 'simplifying', 'employee', 'health', 'wellbeing', 'journey', 'engaging', 'people', 'aspect', 'health', 'worldclass', 'product', 'program', 'nothing', 'without', 'people', 'employee', 'design', 'build', 'promote', 'sell', 'test', 'perfect', 'latest', 'innovation', 'workplace', 'health', 'wellbeing', 'people', 'top', 'priority', 'invest', 'health', 'happiness', 'virgin', 'pulse', 'much', 'strong', 'supportive', 'company', 'culture', 'shared', 'vision', 'healthier', 'happier', 'world', 'experienced', 'data', 'scientist', 'capable', 'providing', 'support', 'organization', 'effort', 'maintain', 'innovative', 'leadership', 'position', 'employee', 'engagement', 'saas', 'industry', 'data', 'scientist', 'access', 'datasets', 'various', 'source', 'conduct', 'analysis', 'present', 'finding', 'analytic', 'reporting', 'project', 'incumbent', 'able', 'interpret', 'finding', 'clearly', 'communicate', 'result', 'recommendation', 'internal', 'external', 'customer', 'moreover', 'professional', 'selfdirected', 'thrives', 'working', 'fastpaced', 'collaborative', 'environment', 'expectation', 'high', 'quality', 'speed', 'work', 'role', 'data', 'scientist', 'wear', 'many', 'hat', 'skill', 'crucial', 'following', 'write', 'sql', 'r', 'python', 'program', 'access', 'clean', 'transform', 'required', 'data', 'prior', 'analysis', 'reporting', 'consult', 'collaborate', 'analytics', 'client', 'reporting', 'team', 'member', 'ensure', 'appropriate', 'data', 'analyzed', 'result', 'provided', 'format', 'consistent', 'standard', 'customized', 'client', 'reporting', 'service', 'troubleshoot', 'perform', 'data', 'audit', 'ensure', 'improve', 'data', 'integrity', 'investigate', 'resolve', 'data', 'discrepancy', 'plan', 'manage', 'data', 'analytic', 'reporting', 'process', 'ensure', 'project', 'remain', 'schedule', 'conduct', 'ad', 'hoc', 'analysis', 'required', 'using', 'varied', 'analytical', 'tool', 'technique', 'support', 'client', 'success', 'sale', 'marketing', 'staff', 'direct', 'communication', 'virgin', 'pulse', 'client', 'prospect', 'regarding', 'result', 'analysis', 'achieve', 'annual', 'key', 'performance', 'indicator', 'objective', 'include', 'report', 'volume', 'scope', 'internal', 'external', 'client', 'satisfaction', 'introducing', 'new', 'area', 'data', 'analysis', 'influencing', 'company', 'product', 'process', 'decision', 'bring', 'team', 'order', 'represent', 'best', 'offer', 'come', 'u', 'multitude', 'positive', 'attribute', 'including', 'bachelor', 'degree', 'statistic', 'computer', 'science', 'economics', 'related', 'field', 'master', 'degree', 'plus', 'minimum', 'four', 'year', 'work', 'experience', 'similar', 'position', 'experience', 'data', 'analytic', 'programming', 'language', 'sql', 'r', 'python', 'experience', 'data', 'visualization', 'tool', 'technique', 'preferred', 'experience', 'producing', 'delivering', 'result', 'using', 'varied', 'medium', 'ie', 'multiple', 'm', 'office', 'format', 'dashboardsvisualization', 'tool', 'potentially', 'format', 'experience', 'employee', 'health', 'managementhealth', 'engagement', 'industry', 'preferred', 'addition', 'posse', 'following', 'additional', 'competency', 'characteristic', 'strong', 'analytical', 'skill', 'emphasis', 'quantitative', 'analysis', 'descriptive', 'inferential', 'statistic', 'expertise', 'statistical', 'analytical', 'software', 'ability', 'learn', 'prior', 'experience', 'tool', 'sa', 'stata', 'r', 'spss', 'similar', 'statistical', 'software', 'strong', 'consulting', 'communication', 'presentation', 'skill', 'advanced', 'r', 'sql', 'database', 'programming', 'skill', 'experience', 'm', 'sql', 'server', 'redshift', 'postgres', 'cassandranosql', 'database', 'experience', 'working', 'largescale', 'datasets', 'multiple', 'project', 'simultaneously', 'creative', 'energy', 'selfstarter', 'work', 'equally', 'well', 'independently', 'collaboratively']\n"
     ]
    }
   ],
   "source": [
    "all_the_words = []\n",
    "for listing in lemmatized_listings:\n",
    "    for word in listing:\n",
    "        all_the_words.append(word)\n",
    "    \n",
    "print(len(all_the_words), all_the_words)"
   ]
  },
  {
   "cell_type": "code",
   "execution_count": 48,
   "metadata": {
    "colab": {
     "base_uri": "https://localhost:8080/",
     "height": 901
    },
    "colab_type": "code",
    "id": "FjFFjhIzr4g-",
    "outputId": "7e1bf523-5697-4fd8-f421-e9ddc90268ce",
    "scrolled": true
   },
   "outputs": [
    {
     "name": "stdout",
     "output_type": "stream",
     "text": [
      "<FreqDist with 788 samples and 2157 outcomes>\n"
     ]
    },
    {
     "data": {
      "text/plain": [
       "[('data', 68),\n",
       " ('experience', 46),\n",
       " ('science', 44),\n",
       " ('degree', 34),\n",
       " ('position', 33),\n",
       " ('level', 23),\n",
       " ('year', 22),\n",
       " ('relevant', 22),\n",
       " ('computer', 20),\n",
       " ('learning', 18),\n",
       " ('mathematics', 18),\n",
       " ('considered', 18),\n",
       " ('machine', 17),\n",
       " ('information', 16),\n",
       " ('intelligence', 15),\n",
       " ('analysis', 15),\n",
       " ('scientist', 14),\n",
       " ('plus', 14),\n",
       " ('work', 14),\n",
       " ('nsa', 14),\n",
       " ('advanced', 14),\n",
       " ('statistic', 13),\n",
       " ('eg', 13),\n",
       " ('course', 13),\n",
       " ('skill', 12),\n",
       " ('algorithm', 11),\n",
       " ('programming', 11),\n",
       " ('may', 11),\n",
       " ('solution', 10),\n",
       " ('team', 9),\n",
       " ('engineering', 9),\n",
       " ('must', 9),\n",
       " ('applied', 9),\n",
       " ('salary', 9),\n",
       " ('mining', 9),\n",
       " ('basic', 9),\n",
       " ('related', 9),\n",
       " ('employee', 9),\n",
       " ('virgin', 9),\n",
       " ('health', 9),\n",
       " ('problem', 8),\n",
       " ('technical', 8),\n",
       " ('software', 8),\n",
       " ('field', 8),\n",
       " ('strong', 8),\n",
       " ('process', 8),\n",
       " ('analytical', 8),\n",
       " ('research', 8),\n",
       " ('analytic', 8),\n",
       " ('range', 8)]"
      ]
     },
     "execution_count": 48,
     "metadata": {},
     "output_type": "execute_result"
    }
   ],
   "source": [
    "fdist = FreqDist(all_the_words)\n",
    "print(fdist)\n",
    "\n",
    "fdist.most_common(50)"
   ]
  },
  {
   "cell_type": "code",
   "execution_count": 46,
   "metadata": {
    "colab": {
     "base_uri": "https://localhost:8080/",
     "height": 409
    },
    "colab_type": "code",
    "id": "0UH2JqzhsDLh",
    "outputId": "e1891a22-5db5-4247-cef8-0f147397dad9"
   },
   "outputs": [
    {
     "data": {
      "image/png": "[encoded data removed]",
      "text/plain": [
       "<Figure size 576x396 with 1 Axes>"
      ]
     },
     "metadata": {
      "tags": []
     },
     "output_type": "display_data"
    }
   ],
   "source": [
    "import matplotlib.pyplot as plt\n",
    "fdist.plot(50,cumulative=False)\n",
    "plt.show()"
   ]
  },
  {
   "cell_type": "markdown",
   "metadata": {
    "colab_type": "text",
    "id": "bSLYK9Avfuiu"
   },
   "source": [
    "## Scikit-Learn CountVectorizer() - Get Document Word Counts \n",
    "\n",
    "### Establish a Vocabulary (single sentence)\n",
    "\n",
    "<https://scikit-learn.org/stable/modules/generated/sklearn.feature_extraction.text.CountVectorizer.html>"
   ]
  },
  {
   "cell_type": "code",
   "execution_count": 47,
   "metadata": {
    "colab": {
     "base_uri": "https://localhost:8080/",
     "height": 55
    },
    "colab_type": "code",
    "id": "wtfjCqCKfxM4",
    "outputId": "3ac26801-c0d6-4ee7-c408-09e253c14d37"
   },
   "outputs": [
    {
     "name": "stdout",
     "output_type": "stream",
     "text": [
      "{'quick': 6, 'brown': 0, 'fox': 3, 'jumped': 4, 'lazy': 5, 'dog': 2, 'second': 7, 'document': 1}\n"
     ]
    }
   ],
   "source": [
    "from sklearn.feature_extraction.text import CountVectorizer\n",
    "\n",
    "# list of text documents\n",
    "text = [\"The quick brown fox jumped over the lazy dog.\", \"second dog document\"]\n",
    "# create the transform\n",
    "vectorizer = CountVectorizer(lowercase=True, stop_words='english')\n",
    "# tokenize and build vocab\n",
    "vectorizer.fit(text)\n",
    "# Create a Vocabulary\n",
    "# The vocabulary establishes all of the possible words that we might use.\n",
    "print(vectorizer.vocabulary_)\n",
    "\n",
    "# The vocabulary dictionary does not represent the counts of words!!"
   ]
  },
  {
   "cell_type": "code",
   "execution_count": 48,
   "metadata": {
    "colab": {
     "base_uri": "https://localhost:8080/",
     "height": 87
    },
    "colab_type": "code",
    "id": "KHcjWP_B3dUh",
    "outputId": "3d49a716-7ed4-4940-efd2-2323b6be8b95",
    "scrolled": true
   },
   "outputs": [
    {
     "name": "stdout",
     "output_type": "stream",
     "text": [
      "(2, 8)\n",
      "<class 'scipy.sparse.csr.csr_matrix'>\n",
      "[[1 0 1 1 1 1 1 0]\n",
      " [0 1 1 0 0 0 0 1]]\n"
     ]
    }
   ],
   "source": [
    "# Get Word Counts for each document\n",
    "vector = vectorizer.transform(text)\n",
    "# summarize encoded vector\n",
    "print(vector.shape)\n",
    "print(type(vector))\n",
    "print(vector.toarray())"
   ]
  },
  {
   "cell_type": "markdown",
   "metadata": {
    "colab_type": "text",
    "id": "Tb7wnAJ6wMwR"
   },
   "source": [
    "### Our data is currently not in the shape that CountVectorizer expects"
   ]
  },
  {
   "cell_type": "code",
   "execution_count": null,
   "metadata": {
    "colab": {},
    "colab_type": "code",
    "id": "Wf8yXw1MlfbX"
   },
   "outputs": [],
   "source": [
    "# We started with\n",
    "job_listings_start = [\"a big, dirty string.\", \"a big, string.\", \"a big, string.\"]\n",
    "\n",
    "# Now we have after NLTK tokenizing and cleaning\n",
    "lemmatized_listings_cleaned = [[\"word\",\"word\",\"word\"],[\"word\",\"word\",\"word\"],[\"word\",\"word\",\"word\"]]\n",
    "\n",
    "# Count Vectorizer Expects something like this:\n",
    "# It doesn't think that we've done the data cleaning already\n",
    "# In fact it will tokenize the words for us a second time by default\n",
    "lemmatized_documents = [\"word word word\", \"word word word\", \"word word word\"]"
   ]
  },
  {
   "cell_type": "markdown",
   "metadata": {
    "colab_type": "text",
    "id": "R9NOSzrU4q2J"
   },
   "source": [
    "### Lets get it into the right shape"
   ]
  },
  {
   "cell_type": "code",
   "execution_count": 50,
   "metadata": {
    "colab": {
     "base_uri": "https://localhost:8080/",
     "height": 55
    },
    "colab_type": "code",
    "collapsed": true,
    "id": "kvktMgZgnLJZ",
    "outputId": "3fafec84-f045-4536-8a5d-0e681603c52c"
   },
   "outputs": [
    {
     "name": "stdout",
     "output_type": "stream",
     "text": [
      "['parttime contract internship sr machine learningdata scientist bannockburn il seek data scientist open level experience intern building team around new initiative developing state art algorithm power various aspect highly complex business model articulate understand business problem identify challenge formulate machine learning problem nlp problem provideprototype solution provide technical leadership identify understand key business challenge opportunity develop endtoend software solution using machine learningnlp optimization method collaborate extensively internal external partner program management senior level engineering team ensure solution meet business need permit valid inference functional feasibility collect manipulate large volume data build new improved technique andor solution data collection management usage communicate result comprehensible manner level company field team snr management require client facing future initially brainstorm team member leadership plus year experience industry requires solution requirement phd m statistic machine learning computer science technical degree commensurate industry experience ideally senior position posse least year relevant work academic academic experience data scientist machine learning professional expertise nlp bonus strong algorithmic design skill position require le tenure relevant ml understanding previous hand experience thesis dedicated deep understanding classic machine learning deep learning theory extensive handson experience putting practice excellent understanding machine learning algorithm process tool platform including cnn rnn nlp tensorflow kera etc python proficiency must applied experience machine learning large datasetssparse data structured unstructured data experience deep learning optimization efficient implementation great communication skill ability explain predictive analytics nontechnical audience client facing yet sale experienced predictive modelling execute analytical experiment methodically outputting reproducible research excited change industry struggling control cost good familiar one programming language eg c java android io job type fulltime parttime internship contract salary year education master preferred work authorization united state preferred hour per week overtime often available contract length year typical end time', 'year professional national security agency nsa one common goal protect nation mission requires strong offense steadfast defense offense collect process disseminates intelligence information derived foreign signal intelligence counterintelligence purpose defense prevents adversary gaining access sensitive classified national security information nsa nation leader providing foreign signal intelligence also protecting u government information system forging frontier communication data analysis serve american people applying technical skill meaningful work keeping friend family safe generation come make lasting impact serving country data scientist national security agency using curiosity analyze large data set inform decisionmaking foreign threat looking critical thinker problem solver motivated individual enthusiastic data believe answer hard question lie yettobetold story diverse complicated data set employ mathematical science computer science quantitative analysis skill ensure solution complex data problem take full advantage nsa software hardware capability area enterprise including analytic capability research foreign intelligence operation data scientist hired position directly supporting technical mission office data scientist development program dsdp nsacss data scientist development program threeyear opportunity build data science talent experience breadth data science nsa six ninemonth assignment variety diverse organization collaborate nsa expert field data science opportunity attend technical conference expert industry academia routinely discus share nsa challenge success weekly technical roundtable foster environment develop data science skill allowing quickly contribute nsa mission member technical mission office dsdp data scientist tackle challenging realworld problem leveraging big data highperformance computing machine learning breadth methodology data scientist nsa responsibility may include collecting combining data multiple source uncovering exploring anomalous data including metadata applying scientific process data evaluation performing statistical inference data mining developing analytic plan engineer supporting algorithm design implement solution execute analytic plan designing developing tool technique analysis analyzing data using mathematicalstatistical method evaluating documenting communicating research process analysis result customer peer leadership creating interpretable visualization skill ideal candidate someone desire continual learning strong problemsolving analytic interpersonal skill might great fit team following describe completed degree program field mathematics statistic computer science computational science passion rigorous analysis data tenacity integrity persistence willingness learn ability solve complex problem use critical thinking reasoning make analytic determination work effectively collaborative environment strong communication skill technical nontechnical audience desire serve million fellow american make difference world event pay benefit work schedule job training internal nsa course external training made available based need experience selectee monday friday basic hrday requirement flexible position summary nsa search computer science professional solve complex problem test innovative approach research new solution storing manipulating presenting information looking apply computer science expertise project seek create new standard transformation information want develop technology tool part cutting edge innovation join team expert help protect national security interest part world advanced team computer science professional mandatory qualification reqs candidate nsa data scientist role asked complete data science examination evaluating knowledge statistic mathematics computer science topic pertain data science work passing examination requirement order considered selection data scientist position salary range entry leveldevelopmental qualification listed minimum acceptable considered position salary offer based candidate education level year experience relevant position also take account information provided hiring managerorganization regarding work level position entry bachelor degree experience associate degree plus year relevant experience may considered individual indepth experience clearly related position degree must mathematics applied mathematics statistic applied statistic machine learning data science operation research computer science degree related field eg computer information system engineering degree physicalhard science eg physic chemistry biology astronomy science discipline ie behavioral social life may considered includes concentration coursework typically course advanced mathematics typically level higher calculus differential equation discrete mathematics andor computer science eg algorithm programming data structure data mining artificial intelligence collegelevel algebra math course intended meet basic college level requirement upper level math course designated elementary basic count note broader range degree considered accompanied certificate data science accredited collegeuniversity relevant experience must designingimplementing machine learning data mining advanced analytical algorithm programming data science advanced statistical analysis artificial intelligence andor software engineering experience one area strongly preferred salary range full performance qualification listed minimum acceptable considered position salary offer based candidate education level year experience relevant position also take account information provided hiring managerorganization regarding work level position entry bachelor degree plus year relevant experience master degree plus year relevant experience doctoral degree experience associate degree plus year relevant experience may considered individual indepth experience clearly related position degree must mathematics applied mathematics statistic applied statistic machine learning data science operation research computer science degree related field eg computer information system engineering degree physicalhard science eg physic chemistry biology astronomy science discipline ie behavioral social life may considered includes concentration coursework typically course advanced mathematics typically level higher calculus differential equation discrete mathematics andor computer science eg algorithm programming data structure data mining artificial intelligence collegelevel algebra math course intended meet basic college level requirement upper level math course designated elementary basic count note broader range degree considered accompanied certificate data science accredited collegeuniversity relevant experience must two following designingimplementing machine learning data mining advanced analytical algorithm programming data science advanced statistical analysis artificial intelligence software engineering salary range senior qualification listed minimum acceptable considered position salary offer based candidate education level year experience relevant position also take account information provided hiring managerorganization regarding work level position entry bachelor degree plus year relevant experience master degree plus year relevant experience doctoral degree plus year relevant experience associate degree plus year relevant experience may considered individual indepth experience clearly related position degree must mathematics applied mathematics statistic applied statistic machine learning data science operation research computer science degree related field eg computer information system engineering degree physicalhard science eg physic chemistry biology astronomy science discipline ie behavioral social life may considered includes concentration coursework typically course advanced mathematics typically level higher calculus differential equation discrete mathematics andor computer science eg algorithm programming data structure data mining artificial intelligence collegelevel algebra math course intended meet basic college level requirement upper level math course designated elementary basic count note broader range degree considered accompanied certificate data science accredited collegeuniversity relevant experience must two following designingimplementing machine learning data mining advanced analytical algorithm programming data science advanced statistical analysis artificial intelligence software engineering salary range expert qualification listed minimum acceptable considered position salary offer based candidate education level year experience relevant position also take account information provided hiring managerorganization regarding work level position entry bachelor degree plus year relevant experience master degree plus year relevant experience doctoral degree plus year relevant experience associate degree plus year relevant experience may considered individual indepth experience clearly related position degree must mathematics applied mathematics statistic applied statistic machine learning data science operation research computer science degree related field eg computer information system engineering degree physicalhard science eg physic chemistry biology astronomy science discipline ie behavioral social life may considered includes concentration coursework typically course advanced mathematics typically level higher calculus differential equation discrete mathematics andor computer science eg algorithm programming data structure data mining artificial intelligence collegelevel algebra math course intended meet basic college level requirement upper level math course designated elementary basic count note broader range degree considered accompanied certificate data science accredited collegeuniversity relevant experience must two following designingimplementing machine learning data mining advanced analytical algorithm programming data science advanced statistical analysis artificial intelligence software engineering apply external apply position please click apply button located top right posting completing application first time reviewing previously entered information clicking submit button receive confirmation email please ensure spam filter configured accept email noreply intelligencecareersgov please note u citizenship required applicant reasonable accommodation provided applicant disability application hiring process appropriate nsa equal opportunity employer abides applicable employment law regulation applicant employee subject random drug testing accordance executive order employment contingent upon successful completion security background investigation polygraph position defense civilian intelligence personnel system dcips position excepted service usc dod component dcips position apply veteran preference eligible candidate defined section title usc accordance procedure provided dod instruction volume dcips employment placement veteran claiming veteran preference defined section title usc may asked submit document verifying eligibility please note may asked series question depending position apply response used part screening process application assist determining eligibility position sure elaborate experience resume failure provide required information providing inaccurate information result application considered position applicant meet qualification position contacted begin employment processing please note job posting could close earlier closing date due sufficient number applicant position longer available encourage apply soon possible dcips disclaimer national security agency nsa part dod intelligence community defense civilian intelligence personnel system dcips position nsa excepted service united state code usc appointment authority', 'minneapolis providence framingham virgin pulse virgin pulse founded part sir richard branson famed virgin group help organization build employee health wellbeing dna corporate culture company deliver powerful mobilefirst digital platform infused live service including coaching biometric screening virgin pulse take hightechmeetshightouchapproach engage employee improving across aspect health wellbeing every day prevention building healthy lifestyle condition disease management condition reversal engaging user daily building sustaining healthy habit behavior global leader health wellbeing virgin pulse committed helping change life business around world good people organization thrive together today organization across globe using virgin pulse solution improve health employee wellbeing engagement reduce cost create strong workplace culture employee virgin pulse passionate changing life good want make difference world helping people healthy perform best every day work home awardwinning solution support leading employer improving simplifying employee health wellbeing journey engaging people aspect health worldclass product program nothing without people employee design build promote sell test perfect latest innovation workplace health wellbeing people top priority invest health happiness virgin pulse much strong supportive company culture shared vision healthier happier world experienced data scientist capable providing support organization effort maintain innovative leadership position employee engagement saas industry data scientist access datasets various source conduct analysis present finding analytic reporting project incumbent able interpret finding clearly communicate result recommendation internal external customer moreover professional selfdirected thrives working fastpaced collaborative environment expectation high quality speed work role data scientist wear many hat skill crucial following write sql r python program access clean transform required data prior analysis reporting consult collaborate analytics client reporting team member ensure appropriate data analyzed result provided format consistent standard customized client reporting service troubleshoot perform data audit ensure improve data integrity investigate resolve data discrepancy plan manage data analytic reporting process ensure project remain schedule conduct ad hoc analysis required using varied analytical tool technique support client success sale marketing staff direct communication virgin pulse client prospect regarding result analysis achieve annual key performance indicator objective include report volume scope internal external client satisfaction introducing new area data analysis influencing company product process decision bring team order represent best offer come u multitude positive attribute including bachelor degree statistic computer science economics related field master degree plus minimum four year work experience similar position experience data analytic programming language sql r python experience data visualization tool technique preferred experience producing delivering result using varied medium ie multiple m office format dashboardsvisualization tool potentially format experience employee health managementhealth engagement industry preferred addition posse following additional competency characteristic strong analytical skill emphasis quantitative analysis descriptive inferential statistic expertise statistical analytical software ability learn prior experience tool sa stata r spss similar statistical software strong consulting communication presentation skill advanced r sql database programming skill experience m sql server redshift postgres cassandranosql database experience working largescale datasets multiple project simultaneously creative energy selfstarter work equally well independently collaboratively']\n"
     ]
    }
   ],
   "source": [
    "lemmatized_job_listings = []\n",
    "for listing in lemmatized_listings:\n",
    "    new_listing = \" \".join(listing)\n",
    "    lemmatized_job_listings.append(new_listing)\n",
    "\n",
    "print(lemmatized_job_listings)"
   ]
  },
  {
   "cell_type": "markdown",
   "metadata": {
    "colab_type": "text",
    "id": "6FrQr6sWxGfJ"
   },
   "source": [
    "### Get Word Counts Per Document"
   ]
  },
  {
   "cell_type": "code",
   "execution_count": 51,
   "metadata": {
    "colab": {
     "base_uri": "https://localhost:8080/",
     "height": 69
    },
    "colab_type": "code",
    "id": "5vAp0MGwkgCq",
    "outputId": "17a368aa-680b-4db0-b9da-9adf798e634e"
   },
   "outputs": [
    {
     "name": "stdout",
     "output_type": "stream",
     "text": [
      "[[ 0  1  0 ...  4  1  0]\n",
      " [ 1  1  0 ... 17  0  1]\n",
      " [ 0  1  1 ...  1  0  0]]\n"
     ]
    }
   ],
   "source": [
    "# List of document strings as text\n",
    "text = lemmatized_job_listings\n",
    "# Instantiate vectorizer object\n",
    "vectorizer = CountVectorizer()\n",
    "# Create a vocabulary and get word counts per document\n",
    "bag_of_words = vectorizer.fit_transform(lemmatized_job_listings)\n",
    "# Print word counts\n",
    "print(bag_of_words.toarray())\n",
    "\n",
    "# Get feature names to use as dataframe column headers\n",
    "feature_names = vectorizer.get_feature_names()"
   ]
  },
  {
   "cell_type": "markdown",
   "metadata": {
    "colab_type": "text",
    "id": "cOoxL8aI2OcV"
   },
   "source": [
    "### Add Word Counts to Dataframe"
   ]
  },
  {
   "cell_type": "code",
   "execution_count": 52,
   "metadata": {
    "colab": {
     "base_uri": "https://localhost:8080/",
     "height": 190
    },
    "colab_type": "code",
    "id": "QJxU-vWq2MlF",
    "outputId": "4f00af15-c923-47cb-97cf-c75956b724ad"
   },
   "outputs": [
    {
     "data": {
      "text/html": [
       "<div>\n",
       "<style scoped>\n",
       "    .dataframe tbody tr th:only-of-type {\n",
       "        vertical-align: middle;\n",
       "    }\n",
       "\n",
       "    .dataframe tbody tr th {\n",
       "        vertical-align: top;\n",
       "    }\n",
       "\n",
       "    .dataframe thead th {\n",
       "        text-align: right;\n",
       "    }\n",
       "</style>\n",
       "<table border=\"1\" class=\"dataframe\">\n",
       "  <thead>\n",
       "    <tr style=\"text-align: right;\">\n",
       "      <th></th>\n",
       "      <th>abides</th>\n",
       "      <th>ability</th>\n",
       "      <th>able</th>\n",
       "      <th>academia</th>\n",
       "      <th>academic</th>\n",
       "      <th>accept</th>\n",
       "      <th>acceptable</th>\n",
       "      <th>access</th>\n",
       "      <th>accommodation</th>\n",
       "      <th>accompanied</th>\n",
       "      <th>...</th>\n",
       "      <th>without</th>\n",
       "      <th>work</th>\n",
       "      <th>working</th>\n",
       "      <th>workplace</th>\n",
       "      <th>world</th>\n",
       "      <th>worldclass</th>\n",
       "      <th>write</th>\n",
       "      <th>year</th>\n",
       "      <th>yet</th>\n",
       "      <th>yettobetold</th>\n",
       "    </tr>\n",
       "  </thead>\n",
       "  <tbody>\n",
       "    <tr>\n",
       "      <th>0</th>\n",
       "      <td>0</td>\n",
       "      <td>1</td>\n",
       "      <td>0</td>\n",
       "      <td>0</td>\n",
       "      <td>2</td>\n",
       "      <td>0</td>\n",
       "      <td>0</td>\n",
       "      <td>0</td>\n",
       "      <td>0</td>\n",
       "      <td>0</td>\n",
       "      <td>...</td>\n",
       "      <td>0</td>\n",
       "      <td>2</td>\n",
       "      <td>0</td>\n",
       "      <td>0</td>\n",
       "      <td>0</td>\n",
       "      <td>0</td>\n",
       "      <td>0</td>\n",
       "      <td>4</td>\n",
       "      <td>1</td>\n",
       "      <td>0</td>\n",
       "    </tr>\n",
       "    <tr>\n",
       "      <th>1</th>\n",
       "      <td>1</td>\n",
       "      <td>1</td>\n",
       "      <td>0</td>\n",
       "      <td>1</td>\n",
       "      <td>0</td>\n",
       "      <td>1</td>\n",
       "      <td>4</td>\n",
       "      <td>1</td>\n",
       "      <td>1</td>\n",
       "      <td>4</td>\n",
       "      <td>...</td>\n",
       "      <td>0</td>\n",
       "      <td>8</td>\n",
       "      <td>0</td>\n",
       "      <td>0</td>\n",
       "      <td>2</td>\n",
       "      <td>0</td>\n",
       "      <td>0</td>\n",
       "      <td>17</td>\n",
       "      <td>0</td>\n",
       "      <td>1</td>\n",
       "    </tr>\n",
       "    <tr>\n",
       "      <th>2</th>\n",
       "      <td>0</td>\n",
       "      <td>1</td>\n",
       "      <td>1</td>\n",
       "      <td>0</td>\n",
       "      <td>0</td>\n",
       "      <td>0</td>\n",
       "      <td>0</td>\n",
       "      <td>2</td>\n",
       "      <td>0</td>\n",
       "      <td>0</td>\n",
       "      <td>...</td>\n",
       "      <td>1</td>\n",
       "      <td>4</td>\n",
       "      <td>2</td>\n",
       "      <td>2</td>\n",
       "      <td>3</td>\n",
       "      <td>1</td>\n",
       "      <td>1</td>\n",
       "      <td>1</td>\n",
       "      <td>0</td>\n",
       "      <td>0</td>\n",
       "    </tr>\n",
       "  </tbody>\n",
       "</table>\n",
       "<p>3 rows × 784 columns</p>\n",
       "</div>"
      ],
      "text/plain": [
       "   abides  ability  able  academia  academic  accept  acceptable  access  \\\n",
       "0       0        1     0         0         2       0           0       0   \n",
       "1       1        1     0         1         0       1           4       1   \n",
       "2       0        1     1         0         0       0           0       2   \n",
       "\n",
       "   accommodation  accompanied     ...       without  work  working  workplace  \\\n",
       "0              0            0     ...             0     2        0          0   \n",
       "1              1            4     ...             0     8        0          0   \n",
       "2              0            0     ...             1     4        2          2   \n",
       "\n",
       "   world  worldclass  write  year  yet  yettobetold  \n",
       "0      0           0      0     4    1            0  \n",
       "1      2           0      0    17    0            1  \n",
       "2      3           1      1     1    0            0  \n",
       "\n",
       "[3 rows x 784 columns]"
      ]
     },
     "execution_count": 52,
     "metadata": {
      "tags": []
     },
     "output_type": "execute_result"
    }
   ],
   "source": [
    "import pandas as pd\n",
    "df = pd.DataFrame(bag_of_words.toarray(), columns=feature_names)\n",
    "df.head()"
   ]
  },
  {
   "cell_type": "markdown",
   "metadata": {
    "colab_type": "text",
    "id": "qJHIcZQBGhZb"
   },
   "source": [
    "## Term Frequency - Inverse Document Frequency (TF-IDF)\n",
    "\n",
    "<center><img src=\"https://mungingdata.files.wordpress.com/2017/11/equation.png?w=430&h=336\" width=\"300\"></center>\n",
    "\n",
    "[Wikipedia](https://en.wikipedia.org/wiki/Tf%E2%80%93idf)\n",
    "\n",
    "**Term Frequency**: Percentage of words in document for each word\n",
    "\n",
    "**Document Frequency**: A penalty for the word existing in a high number of documents.\n",
    "\n",
    "The purpose of TF-IDF is to find what is **unique** to each document. Because of this we will penalize the term frequencies of words that are common across all documents which will allow for each document's most different topics to rise to the top."
   ]
  },
  {
   "cell_type": "code",
   "execution_count": 56,
   "metadata": {
    "colab": {
     "base_uri": "https://localhost:8080/",
     "height": 369
    },
    "colab_type": "code",
    "id": "Zi9NzKlDZ3uj",
    "outputId": "5021e0db-a645-4c8f-d4af-491837b69b3a"
   },
   "outputs": [
    {
     "name": "stdout",
     "output_type": "stream",
     "text": [
      "[[0.         0.         0.05221411 0.         0.31328469 0.05221411\n",
      "  0.41771292 0.         0.         0.53788143 0.20170554 0.53788143\n",
      "  0.         0.         0.05221411 0.10442823 0.13447036 0.05221411\n",
      "  0.15664234 0.20885646]\n",
      " [0.14340304 0.09927903 0.15419805 0.26107999 0.42832791 0.2655633\n",
      "  0.25699675 0.2320711  0.21756666 0.11031003 0.22062007 0.09927903\n",
      "  0.26107999 0.20306221 0.1027987  0.24843019 0.22062007 0.35979544\n",
      "  0.06853247 0.14563149]\n",
      " [0.07556962 0.45341775 0.05868655 0.         0.70423866 0.11737311\n",
      "  0.46949244 0.         0.         0.         0.         0.\n",
      "  0.         0.         0.05868655 0.11737311 0.         0.05868655\n",
      "  0.17605966 0.05868655]]\n"
     ]
    },
    {
     "data": {
      "text/html": [
       "<div>\n",
       "<style scoped>\n",
       "    .dataframe tbody tr th:only-of-type {\n",
       "        vertical-align: middle;\n",
       "    }\n",
       "\n",
       "    .dataframe tbody tr th {\n",
       "        vertical-align: top;\n",
       "    }\n",
       "\n",
       "    .dataframe thead th {\n",
       "        text-align: right;\n",
       "    }\n",
       "</style>\n",
       "<table border=\"1\" class=\"dataframe\">\n",
       "  <thead>\n",
       "    <tr style=\"text-align: right;\">\n",
       "      <th></th>\n",
       "      <th>advanced</th>\n",
       "      <th>analysis</th>\n",
       "      <th>computer</th>\n",
       "      <th>considered</th>\n",
       "      <th>data</th>\n",
       "      <th>degree</th>\n",
       "      <th>experience</th>\n",
       "      <th>information</th>\n",
       "      <th>intelligence</th>\n",
       "      <th>learning</th>\n",
       "      <th>level</th>\n",
       "      <th>machine</th>\n",
       "      <th>mathematics</th>\n",
       "      <th>nsa</th>\n",
       "      <th>plus</th>\n",
       "      <th>position</th>\n",
       "      <th>relevant</th>\n",
       "      <th>science</th>\n",
       "      <th>scientist</th>\n",
       "      <th>year</th>\n",
       "    </tr>\n",
       "  </thead>\n",
       "  <tbody>\n",
       "    <tr>\n",
       "      <th>0</th>\n",
       "      <td>0.000000</td>\n",
       "      <td>0.000000</td>\n",
       "      <td>0.052214</td>\n",
       "      <td>0.00000</td>\n",
       "      <td>0.313285</td>\n",
       "      <td>0.052214</td>\n",
       "      <td>0.417713</td>\n",
       "      <td>0.000000</td>\n",
       "      <td>0.000000</td>\n",
       "      <td>0.537881</td>\n",
       "      <td>0.201706</td>\n",
       "      <td>0.537881</td>\n",
       "      <td>0.00000</td>\n",
       "      <td>0.000000</td>\n",
       "      <td>0.052214</td>\n",
       "      <td>0.104428</td>\n",
       "      <td>0.13447</td>\n",
       "      <td>0.052214</td>\n",
       "      <td>0.156642</td>\n",
       "      <td>0.208856</td>\n",
       "    </tr>\n",
       "    <tr>\n",
       "      <th>1</th>\n",
       "      <td>0.143403</td>\n",
       "      <td>0.099279</td>\n",
       "      <td>0.154198</td>\n",
       "      <td>0.26108</td>\n",
       "      <td>0.428328</td>\n",
       "      <td>0.265563</td>\n",
       "      <td>0.256997</td>\n",
       "      <td>0.232071</td>\n",
       "      <td>0.217567</td>\n",
       "      <td>0.110310</td>\n",
       "      <td>0.220620</td>\n",
       "      <td>0.099279</td>\n",
       "      <td>0.26108</td>\n",
       "      <td>0.203062</td>\n",
       "      <td>0.102799</td>\n",
       "      <td>0.248430</td>\n",
       "      <td>0.22062</td>\n",
       "      <td>0.359795</td>\n",
       "      <td>0.068532</td>\n",
       "      <td>0.145631</td>\n",
       "    </tr>\n",
       "    <tr>\n",
       "      <th>2</th>\n",
       "      <td>0.075570</td>\n",
       "      <td>0.453418</td>\n",
       "      <td>0.058687</td>\n",
       "      <td>0.00000</td>\n",
       "      <td>0.704239</td>\n",
       "      <td>0.117373</td>\n",
       "      <td>0.469492</td>\n",
       "      <td>0.000000</td>\n",
       "      <td>0.000000</td>\n",
       "      <td>0.000000</td>\n",
       "      <td>0.000000</td>\n",
       "      <td>0.000000</td>\n",
       "      <td>0.00000</td>\n",
       "      <td>0.000000</td>\n",
       "      <td>0.058687</td>\n",
       "      <td>0.117373</td>\n",
       "      <td>0.00000</td>\n",
       "      <td>0.058687</td>\n",
       "      <td>0.176060</td>\n",
       "      <td>0.058687</td>\n",
       "    </tr>\n",
       "  </tbody>\n",
       "</table>\n",
       "</div>"
      ],
      "text/plain": [
       "   advanced  analysis  computer  considered      data    degree  experience  \\\n",
       "0  0.000000  0.000000  0.052214     0.00000  0.313285  0.052214    0.417713   \n",
       "1  0.143403  0.099279  0.154198     0.26108  0.428328  0.265563    0.256997   \n",
       "2  0.075570  0.453418  0.058687     0.00000  0.704239  0.117373    0.469492   \n",
       "\n",
       "   information  intelligence  learning     level   machine  mathematics  \\\n",
       "0     0.000000      0.000000  0.537881  0.201706  0.537881      0.00000   \n",
       "1     0.232071      0.217567  0.110310  0.220620  0.099279      0.26108   \n",
       "2     0.000000      0.000000  0.000000  0.000000  0.000000      0.00000   \n",
       "\n",
       "        nsa      plus  position  relevant   science  scientist      year  \n",
       "0  0.000000  0.052214  0.104428   0.13447  0.052214   0.156642  0.208856  \n",
       "1  0.203062  0.102799  0.248430   0.22062  0.359795   0.068532  0.145631  \n",
       "2  0.000000  0.058687  0.117373   0.00000  0.058687   0.176060  0.058687  "
      ]
     },
     "execution_count": 56,
     "metadata": {
      "tags": []
     },
     "output_type": "execute_result"
    }
   ],
   "source": [
    "from sklearn.feature_extraction.text import TfidfVectorizer\n",
    "\n",
    "# List of document strings as text\n",
    "text = lemmatized_job_listings\n",
    "# Instantiate vectorizer object\n",
    "tfidf = TfidfVectorizer(max_features = 20)\n",
    "# Create a vocabulary and get word counts per document\n",
    "feature_matrix = tfidf.fit_transform(text)\n",
    "# Print word counts\n",
    "print(feature_matrix.toarray())\n",
    "\n",
    "# Get feature names to use as dataframe column headers\n",
    "feature_names = tfidf.get_feature_names()\n",
    "\n",
    "# View Feature Matrix as DataFrame\n",
    "df = pd.DataFrame(feature_matrix.toarray(), columns=feature_names)\n",
    "df.head()"
   ]
  },
  {
   "cell_type": "markdown",
   "metadata": {
    "colab_type": "text",
    "id": "o4BTAwBpznI3"
   },
   "source": [
    "# Scraping Job Listings from Indeed.com\n",
    "\n",
    "- Identify URL Pattern\n",
    "- Make Seed URLs\n",
    "- Grab Listing Urls\n",
    "- Filter out /company and /pagead urls\n",
    "- Scrape individual job listing pages"
   ]
  },
  {
   "cell_type": "code",
   "execution_count": null,
   "metadata": {
    "colab": {},
    "colab_type": "code",
    "id": "04-PKAWCgTd4"
   },
   "outputs": [],
   "source": [
    "### To Do During Lecture"
   ]
  },
  {
   "cell_type": "markdown",
   "metadata": {
    "colab_type": "text",
    "id": "Kl7HC73R5wob"
   },
   "source": [
    "# Additional Resouces\n",
    "\n",
    "* Jason Brownlee on Text Preparation with NLTK: <https://machinelearningmastery.com/clean-text-machine-learning-python/>\n",
    "* Jason Brownlee on Vectorization: <https://machinelearningmastery.com/prepare-text-data-machine-learning-scikit-learn/>\n",
    "* Chris Albon Bag of Words / CountVectorizer: <https://chrisalbon.com/machine_learning/preprocessing_text/bag_of_words/>\n",
    "* Chris Albon TF-IDF: <https://chrisalbon.com/machine_learning/preprocessing_text/tf-idf/>\n",
    "* DataCampe text Analytics for Beginners using NLTK: <https://www.datacamp.com/community/tutorials/text-analytics-beginners-nltk#comments>"
   ]
  }
 ],
 "metadata": {
  "colab": {
   "collapsed_sections": [
    "fp0GTcJ7ilpu"
   ],
   "name": "LS_DS_422_BOW_Lecture.ipynb",
   "provenance": [],
   "version": "0.3.2"
  },
  "kernelspec": {
   "display_name": "Python 3",
   "language": "python",
   "name": "python3"
  },
  "language_info": {
   "codemirror_mode": {
    "name": "ipython",
    "version": 3
   },
   "file_extension": ".py",
   "mimetype": "text/x-python",
   "name": "python",
   "nbconvert_exporter": "python",
   "pygments_lexer": "ipython3",
   "version": "3.6.4"
  }
 },
 "nbformat": 4,
 "nbformat_minor": 2
}
